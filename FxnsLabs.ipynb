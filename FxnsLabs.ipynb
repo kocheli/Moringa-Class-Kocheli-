{
 "cells": [
  {
   "cell_type": "markdown",
   "id": "30296462-d908-4c95-825a-207e36c30711",
   "metadata": {},
   "source": [
    "# Functions, and Statistics - Introduction"
   ]
  },
  {
   "cell_type": "markdown",
   "id": "6048ad71-4e33-40f7-90a3-43ee4cfe99d3",
   "metadata": {},
   "source": [
    "## Built-in Python Operators, Functions and Methods\n",
    "### Objectives\n",
    "* Use built-in Python functions and methods\n",
    "* Describe the difference between a function and a method\n",
    "* Use comparison operators to compare objects\n",
    "* Use logical operators to incorporate multiple conditions\n",
    "* Use identity operators to confirm the identity of an object"
   ]
  },
  {
   "cell_type": "markdown",
   "id": "45ee74cf-3ac8-4a47-b35c-fc49276b8b67",
   "metadata": {},
   "source": [
    "### Python Methods"
   ]
  },
  {
   "cell_type": "code",
   "execution_count": 6,
   "id": "9286dd0e-af68-4895-a76e-e156a7e43d3a",
   "metadata": {
    "tags": []
   },
   "outputs": [
    {
     "data": {
      "text/plain": [
       "'Hello, I Am A String.'"
      ]
     },
     "execution_count": 6,
     "metadata": {},
     "output_type": "execute_result"
    }
   ],
   "source": [
    "\"hello, i am a string.\".title() "
   ]
  },
  {
   "cell_type": "code",
   "execution_count": 7,
   "id": "7e6dd6cf-c433-40bd-9b02-d1ec537bfb7c",
   "metadata": {
    "tags": []
   },
   "outputs": [
    {
     "data": {
      "text/plain": [
       "str"
      ]
     },
     "execution_count": 7,
     "metadata": {},
     "output_type": "execute_result"
    }
   ],
   "source": [
    "type(\"hello, i am a string.\") # str"
   ]
  },
  {
   "cell_type": "code",
   "execution_count": 3,
   "id": "2ad31bdb-2f13-411f-b16f-ba7da2a059de",
   "metadata": {
    "tags": []
   },
   "outputs": [
    {
     "name": "stdout",
     "output_type": "stream",
     "text": [
      "HELLO, IM UPPERCASED\n",
      "hello, im lowercased\n",
      "Hello, im capitalized\n"
     ]
    }
   ],
   "source": [
    "print(\"hello, im uppercased\".upper())\n",
    "\n",
    "print(\"HELLO, IM LOWERCASED\".lower())\n",
    "\n",
    "print(\"hello, im capitalized\".capitalize())\n",
    "\n",
    "print(\"hello, im capitalized\".title())"
   ]
  },
  {
   "cell_type": "code",
   "execution_count": 4,
   "id": "10e4c4c2-24e6-4b22-8742-e44aada3d731",
   "metadata": {
    "tags": []
   },
   "outputs": [
    {
     "name": "stdout",
     "output_type": "stream",
     "text": [
      "Hello, Im Capitalized\n"
     ]
    }
   ],
   "source": []
  },
  {
   "cell_type": "code",
   "execution_count": 5,
   "id": "1361ba5f-80d4-42ee-92aa-bd06cfcc0efa",
   "metadata": {
    "tags": []
   },
   "outputs": [
    {
     "name": "stdout",
     "output_type": "stream",
     "text": [
      "[1, 2, 3, 4, 5, 6]\n"
     ]
    }
   ],
   "source": [
    "list_one = [1,2,3]\n",
    "\n",
    "list_two = [4,5,6]\n",
    "\n",
    "list_one.extend(list_two)\n",
    "\n",
    "print(list_one)"
   ]
  },
  {
   "cell_type": "markdown",
   "id": "ecb899ec-a0b1-4ef3-ac44-82c0bcc7d481",
   "metadata": {},
   "source": [
    "### Python Functions\n",
    "##### Python's built-in functions\n",
    "Print, type, sum, len, min and max"
   ]
  },
  {
   "cell_type": "code",
   "execution_count": 9,
   "id": "f906ef3b-b266-46f9-b274-88c56bfff5b4",
   "metadata": {
    "tags": []
   },
   "outputs": [
    {
     "name": "stdout",
     "output_type": "stream",
     "text": [
      "['this', 'is', 'a', 'list'] {'this-is': 'a-dictionary'} this is a string and third argument\n"
     ]
    }
   ],
   "source": [
    "print([\"this\", \"is\", \"a\", \"list\"], {\"this-is\": 'a-dictionary'}, \"this is a string and third argument\")"
   ]
  },
  {
   "cell_type": "code",
   "execution_count": 10,
   "id": "05ebfc89-8c79-4c3c-9721-8d43face4e5b",
   "metadata": {
    "tags": []
   },
   "outputs": [
    {
     "data": {
      "text/plain": [
       "71.5"
      ]
     },
     "execution_count": 10,
     "metadata": {},
     "output_type": "execute_result"
    }
   ],
   "source": [
    "sum([10, 11, 13, 14, 9, 14.5])"
   ]
  },
  {
   "cell_type": "code",
   "execution_count": 11,
   "id": "70e0183e-9485-4377-a843-9ac6940a66d9",
   "metadata": {
    "tags": []
   },
   "outputs": [
    {
     "data": {
      "text/plain": [
       "9"
      ]
     },
     "execution_count": 11,
     "metadata": {},
     "output_type": "execute_result"
    }
   ],
   "source": [
    "min([10, 11, 13, 14, 9, 14.5])"
   ]
  },
  {
   "cell_type": "code",
   "execution_count": 12,
   "id": "f4ac84f2-8719-425c-99a4-7e85b2e212ad",
   "metadata": {
    "tags": []
   },
   "outputs": [
    {
     "data": {
      "text/plain": [
       "14.5"
      ]
     },
     "execution_count": 12,
     "metadata": {},
     "output_type": "execute_result"
    }
   ],
   "source": [
    "max([10, 11, 13, 14, 9, 14.5])"
   ]
  },
  {
   "cell_type": "code",
   "execution_count": 14,
   "id": "8b2c0ef0-a325-427f-8c05-f4294edd41e7",
   "metadata": {
    "tags": []
   },
   "outputs": [
    {
     "name": "stdout",
     "output_type": "stream",
     "text": [
      "11.916666666666666\n"
     ]
    }
   ],
   "source": [
    "numbers = [10, 11, 13, 14, 9, 14.5]\n",
    "\n",
    "mean = sum(numbers) / len(numbers)\n",
    "\n",
    "print(mean)"
   ]
  },
  {
   "cell_type": "code",
   "execution_count": 16,
   "id": "e74d66ab-885e-4307-967d-0abfbf845003",
   "metadata": {
    "tags": []
   },
   "outputs": [
    {
     "name": "stdout",
     "output_type": "stream",
     "text": [
      "12.0\n"
     ]
    }
   ],
   "source": [
    "import statistics\n",
    "\n",
    "numbers = [10, 11, 13, 14, 9, 14.5]\n",
    "\n",
    "median = statistics.median(numbers)\n",
    "\n",
    "print(median)"
   ]
  },
  {
   "cell_type": "code",
   "execution_count": 17,
   "id": "6d8184aa-abaf-48b3-883c-a215c29d4e52",
   "metadata": {
    "tags": []
   },
   "outputs": [
    {
     "name": "stdout",
     "output_type": "stream",
     "text": [
      "10\n"
     ]
    }
   ],
   "source": [
    "import statistics\n",
    "\n",
    "numbers = [10, 11, 13, 14, 9, 14.5]\n",
    "\n",
    "mode = statistics.mode(numbers)\n",
    "\n",
    "print(mode)"
   ]
  },
  {
   "cell_type": "markdown",
   "id": "a543159c-471a-46ef-b7b4-2944cdbb667d",
   "metadata": {},
   "source": [
    "#### Python Operators\n",
    "###### What Are Comparison Operators?"
   ]
  },
  {
   "cell_type": "code",
   "execution_count": 19,
   "id": "8b702f3a-e0d4-4a2b-8eed-a7ff1d5c74dc",
   "metadata": {
    "tags": []
   },
   "outputs": [
    {
     "name": "stdout",
     "output_type": "stream",
     "text": [
      "1. False\n",
      "2. False\n",
      "3. False\n",
      "4. True\n",
      "5. True\n",
      "6. True\n",
      "7. True\n"
     ]
    }
   ],
   "source": [
    "print('1.', True != True) # False\n",
    "\n",
    "print('2.', False == True) # False\n",
    "\n",
    "print('3.', 10 == \"10\") # False\n",
    "\n",
    "print('4.', \"hi\" != \"HI\") # True\n",
    "\n",
    "print('5.', type(0) == int) # True\n",
    "\n",
    "print('6.', [\"hi\"] == ['hi']) # True\n",
    "\n",
    "print('7.', \"Thomas\" != \"Samantha\") # True"
   ]
  },
  {
   "cell_type": "code",
   "execution_count": 20,
   "id": "336a8c47-1d5e-4457-a690-3d2155993acb",
   "metadata": {
    "tags": []
   },
   "outputs": [
    {
     "name": "stdout",
     "output_type": "stream",
     "text": [
      "1. False\n",
      "2. True\n",
      "3. True\n",
      "4. False\n",
      "5. True\n",
      "6. False\n",
      "7. True\n",
      "8. False\n",
      "9. True\n"
     ]
    }
   ],
   "source": [
    "print('1.', True > True) # False\n",
    "\n",
    "print('2.', True >= True) # True\n",
    "\n",
    "print('3.', 10 <= 10) # True\n",
    "\n",
    "print('4.', 7 < 7) # False\n",
    "\n",
    "print('5.', 10 < 100) # True\n",
    "\n",
    "print('6.', 100 > 101) # False\n",
    "\n",
    "print('7.', \"APPLE\" < \"apple\") # True\n",
    "\n",
    "print('8.', \"aaron\" > \"alexa\") # False\n",
    "\n",
    "print('9.', \"Terrance\" > \"Teresa\") # True"
   ]
  },
  {
   "cell_type": "code",
   "execution_count": 21,
   "id": "997eb775-2f57-4812-9ae5-bf9d55757867",
   "metadata": {
    "tags": []
   },
   "outputs": [
    {
     "name": "stdout",
     "output_type": "stream",
     "text": [
      "1. 0\n",
      "2. False\n",
      "3. 2\n",
      "4. 3\n",
      "5. 2\n",
      "6. []\n",
      "7. True\n",
      "8. False\n",
      "9. True\n",
      "10. True\n",
      "11. False\n"
     ]
    }
   ],
   "source": [
    "print(\"1.\", 2 and 0) #\n",
    "\n",
    "print(\"2.\", False and 2) #\n",
    "\n",
    "print(\"3.\", True and 2) #\n",
    "\n",
    "print(\"4.\", 2 and 3) #\n",
    "\n",
    "print(\"5.\", 2 or []) #\n",
    "\n",
    "print(\"6.\", 0 or []) #\n",
    "\n",
    "print(\"7.\", not False) #\n",
    "\n",
    "print(\"8.\", not True) #\n",
    "\n",
    "print(\"9.\", not []) #\n",
    "\n",
    "print(\"10.\", not 0) #\n",
    "\n",
    "print(\"11.\", not 100) #"
   ]
  },
  {
   "cell_type": "code",
   "execution_count": 22,
   "id": "b8ec9975-40dd-4924-95be-5e0b34c62c74",
   "metadata": {
    "tags": []
   },
   "outputs": [
    {
     "name": "stdout",
     "output_type": "stream",
     "text": [
      "1. False\n",
      "1A. True\n",
      "2. False\n",
      "3. True\n",
      "4. False\n",
      "4A. True\n",
      "5. True\n",
      "6. True\n",
      "7. False\n",
      "7A. True\n",
      "8. True\n"
     ]
    },
    {
     "name": "stderr",
     "output_type": "stream",
     "text": [
      "<>:13: SyntaxWarning: \"is\" with a literal. Did you mean \"==\"?\n",
      "<>:19: SyntaxWarning: \"is not\" with a literal. Did you mean \"!=\"?\n",
      "<>:13: SyntaxWarning: \"is\" with a literal. Did you mean \"==\"?\n",
      "<>:19: SyntaxWarning: \"is not\" with a literal. Did you mean \"!=\"?\n",
      "C:\\Users\\Eric Kocheli\\AppData\\Local\\Temp\\ipykernel_812\\3263794034.py:13: SyntaxWarning: \"is\" with a literal. Did you mean \"==\"?\n",
      "  print(\"3.\", \"Hi\" is \"Hi\") #\n",
      "C:\\Users\\Eric Kocheli\\AppData\\Local\\Temp\\ipykernel_812\\3263794034.py:19: SyntaxWarning: \"is not\" with a literal. Did you mean \"!=\"?\n",
      "  print(\"5.\", 9 is not 10) #\n"
     ]
    }
   ],
   "source": [
    "x = {'name': \"example\"}\n",
    "\n",
    "b = x\n",
    "\n",
    "c = {'name': \"example\"}\n",
    "\n",
    "print(\"1.\", {} is {}) #\n",
    "\n",
    "print(\"1A.\", {} == {}) #\n",
    "\n",
    "print(\"2.\", [] is []) #\n",
    "\n",
    "print(\"3.\", \"Hi\" is \"Hi\") #\n",
    "\n",
    "print(\"4.\", [\"same\"] is [\"same\"]) #\n",
    "\n",
    "print(\"4A.\", [\"same\"] == [\"same\"]) #\n",
    "\n",
    "print(\"5.\", 9 is not 10) #\n",
    "\n",
    "print(\"6.\", x is b) #\n",
    "\n",
    "print(\"7.\", b is c) #\n",
    "\n",
    "print(\"7A.\", b == c) #\n",
    "\n",
    "print(\"8.\", x is not c) "
   ]
  },
  {
   "cell_type": "code",
   "execution_count": 35,
   "id": "4adb7b72-a872-4438-b580-aa95634a1333",
   "metadata": {
    "tags": []
   },
   "outputs": [
    {
     "name": "stdout",
     "output_type": "stream",
     "text": [
      "10\n",
      "34\n"
     ]
    }
   ],
   "source": [
    "my_condition = True\n",
    "\n",
    "value = 10 if my_condition else 1000\n",
    "\n",
    "print(value)\n",
    "\n",
    "new_variable = [ ]\n",
    "\n",
    "# let's say we are receiving two variables with different\n",
    "\n",
    "# values and we want to assign the higher value to a new variable\n",
    "\n",
    "x = 12\n",
    "\n",
    "y = 34\n",
    "\n",
    "new_variable = x if x > y else y\n",
    "\n",
    "# here we are saying, take the value of x if it is greater than the value of y. else take the value of y\n",
    "\n",
    "# since x > y evaluates to false, the ternary returns the value of the variable after the else statement or y\n",
    "\n",
    "print(new_variable)"
   ]
  },
  {
   "cell_type": "markdown",
   "id": "70affecf-772d-470e-a2da-d3dc5cd28e76",
   "metadata": {},
   "source": [
    "## Labs"
   ]
  },
  {
   "cell_type": "code",
   "execution_count": 36,
   "id": "c4b917f9-7e27-4125-ac53-74bc88e37a9b",
   "metadata": {
    "tags": []
   },
   "outputs": [],
   "source": [
    "yell_hello = 'hello, there'"
   ]
  },
  {
   "cell_type": "code",
   "execution_count": 37,
   "id": "076b7f0b-db31-4362-9c4d-6a9930b925c7",
   "metadata": {
    "tags": []
   },
   "outputs": [
    {
     "name": "stdout",
     "output_type": "stream",
     "text": [
      "HELLO, THERE\n"
     ]
    }
   ],
   "source": [
    "print(yell_hello.upper())"
   ]
  },
  {
   "cell_type": "code",
   "execution_count": 39,
   "id": "fb870afa-de5d-44b3-9c2f-3ecf2480de26",
   "metadata": {
    "tags": []
   },
   "outputs": [
    {
     "data": {
      "text/markdown": [
       "*psst, hey*"
      ],
      "text/plain": [
       "<IPython.core.display.Markdown object>"
      ]
     },
     "metadata": {},
     "output_type": "display_data"
    }
   ],
   "source": [
    "from IPython.display import Markdown\n",
    "\n",
    "whisper_hey = \"PSST, HEY\"\n",
    "\n",
    "output = f\"*{whisper_hey.lower()}*\"\n",
    "\n",
    "display(Markdown(output))"
   ]
  },
  {
   "cell_type": "code",
   "execution_count": 40,
   "id": "3d53eeb0-4aa2-4fa6-9c30-ed592a2e7ae0",
   "metadata": {
    "tags": []
   },
   "outputs": [
    {
     "data": {
      "text/markdown": [
       "*psst, hey*"
      ],
      "text/plain": [
       "<IPython.core.display.Markdown object>"
      ]
     },
     "execution_count": 40,
     "metadata": {},
     "output_type": "execute_result"
    }
   ],
   "source": [
    "Markdown(output)"
   ]
  },
  {
   "cell_type": "code",
   "execution_count": 42,
   "id": "5cb304de-c437-4a50-af55-8ee4f52863b0",
   "metadata": {
    "tags": []
   },
   "outputs": [
    {
     "name": "stdout",
     "output_type": "stream",
     "text": [
      "Learn. Love. Code.\n"
     ]
    }
   ],
   "source": [
    "flatiron_mantra = \"LEARN. LOVE. CODE.\"\n",
    "\n",
    "print(flatiron_mantra.title())"
   ]
  },
  {
   "cell_type": "code",
   "execution_count": 48,
   "id": "04b3e39d-252d-49d8-ab9b-b84777c13ecf",
   "metadata": {
    "tags": []
   },
   "outputs": [
    {
     "name": "stdout",
     "output_type": "stream",
     "text": [
      "list\n"
     ]
    }
   ],
   "source": [
    "# Desired output: list\n",
    "\n",
    "type_list = [\"i'm\", \"a\", \"list\"]\n",
    "\n",
    "print(type_list[2])"
   ]
  },
  {
   "cell_type": "code",
   "execution_count": 49,
   "id": "1557555f-e52d-49c4-bd1a-62ff7205cc0c",
   "metadata": {
    "tags": []
   },
   "outputs": [
    {
     "data": {
      "text/plain": [
       "3"
      ]
     },
     "execution_count": 49,
     "metadata": {},
     "output_type": "execute_result"
    }
   ],
   "source": [
    "# Desired output: 3\n",
    "\n",
    "length_of_list = [\"i'm\", \"a\", \"list\"]\n",
    "\n",
    "len(length_of_list)"
   ]
  },
  {
   "cell_type": "code",
   "execution_count": 53,
   "id": "4920b05a-2ed7-4f7b-8cac-1766924d512b",
   "metadata": {
    "tags": []
   },
   "outputs": [],
   "source": [
    "# Desired output: \"list\"\n",
    "\n",
    "longest_word_in_list = [\"i'm\", \"a\", \"list\", \"Tissue\", \"Baraka Farm\"]\n",
    "\n",
    "longest_word = \" \"\n",
    "for word in longest_word_in_list:\n",
    "    if len(word) > len(longest_word):\n",
    "        longest_word = word"
   ]
  },
  {
   "cell_type": "code",
   "execution_count": 54,
   "id": "7cf136b5-27f1-4b2f-a81f-57e9df2f055a",
   "metadata": {
    "tags": []
   },
   "outputs": [
    {
     "name": "stdout",
     "output_type": "stream",
     "text": [
      "Baraka Farm\n"
     ]
    }
   ],
   "source": [
    "print(longest_word)"
   ]
  },
  {
   "cell_type": "code",
   "execution_count": 55,
   "id": "63804750-6572-4a7b-b62a-05e451fe6f78",
   "metadata": {
    "tags": []
   },
   "outputs": [
    {
     "data": {
      "text/plain": [
       "1"
      ]
     },
     "execution_count": 55,
     "metadata": {},
     "output_type": "execute_result"
    }
   ],
   "source": [
    "# Desired output: 1\n",
    "\n",
    "smallest_number = [1, 3, 4, 78]\n",
    "\n",
    "min(smallest_number)"
   ]
  },
  {
   "cell_type": "code",
   "execution_count": 56,
   "id": "45264f5e-8084-4db7-bc86-4248d9a9946f",
   "metadata": {
    "tags": []
   },
   "outputs": [
    {
     "data": {
      "text/plain": [
       "11"
      ]
     },
     "execution_count": 56,
     "metadata": {},
     "output_type": "execute_result"
    }
   ],
   "source": [
    "# Desired output: 11\n",
    "\n",
    "sum_of_numbers = [1, 2, 3, 5]\n",
    "\n",
    "sum(sum_of_numbers)"
   ]
  },
  {
   "cell_type": "code",
   "execution_count": 66,
   "id": "78218ba0-e138-40f6-9b3d-42c2cbb9c16e",
   "metadata": {
    "tags": []
   },
   "outputs": [
    {
     "name": "stdout",
     "output_type": "stream",
     "text": [
      "1. True\n",
      "2. True\n"
     ]
    }
   ],
   "source": [
    "boolean_compare = False == True # True \n",
    "\n",
    "print('1.', False != True) # True\n",
    "\n",
    "print('2.', False != True)"
   ]
  },
  {
   "cell_type": "code",
   "execution_count": 69,
   "id": "a3668016-ebde-40ff-840d-7978d47e0001",
   "metadata": {
    "tags": []
   },
   "outputs": [
    {
     "name": "stdout",
     "output_type": "stream",
     "text": [
      "True True False\n"
     ]
    }
   ],
   "source": [
    "number_compare = 10 == 10 # True\n",
    "\n",
    "number_compare2 = -20 < 30 # True\n",
    "\n",
    "number_compare3 = 4 == 5 # False\n",
    "\n",
    "print(number_compare, number_compare2, number_compare3)"
   ]
  },
  {
   "cell_type": "code",
   "execution_count": 73,
   "id": "cb0d217e-084d-4173-82a4-409eff321e20",
   "metadata": {
    "tags": []
   },
   "outputs": [
    {
     "name": "stdout",
     "output_type": "stream",
     "text": [
      "True False True\n"
     ]
    }
   ],
   "source": [
    "string_compare = \"stacy\" != \"STACY\" # True\n",
    "\n",
    "string_compare2 = \"hey i love python!\" > \"hi love python\" # False\n",
    "\n",
    "string_compare3 = \"this string is bigger than the other\" >= \"that is true\" # True\n",
    "\n",
    "print(string_compare, string_compare2, string_compare3)"
   ]
  },
  {
   "cell_type": "markdown",
   "id": "649aa7b1-f7df-4b36-869f-63e77200f3a9",
   "metadata": {},
   "source": [
    "* list_compare = [0, 0, 0, 0] [COMPARISON] [0, 0, 0] # True\n",
    "\n",
    "* list_compare2 = [1, 0, 0] [COMPARISON] [0, 0, 0] # True\n",
    "\n",
    "* list_compare3 = [0, 0, 0] [COMPARISON] [0, 0, 3] # False\n",
    "\n",
    "* list_compare4 = [0, 0, 3, 0] [COMPARISON] [0, 0, 3] # True\n",
    "\n",
    "* list_compare5 = [0, 0, 4, 0] [COMPARISON] [0, 0, 3] # False\n",
    "\n",
    "* print(list_compare, list_compare2, list_compare3, list_compare4, list_compare5)"
   ]
  },
  {
   "cell_type": "code",
   "execution_count": 86,
   "id": "793e6052-4b00-456e-bd74-b1e6e9c69c65",
   "metadata": {
    "tags": []
   },
   "outputs": [
    {
     "name": "stdout",
     "output_type": "stream",
     "text": [
      "True True False True False\n"
     ]
    }
   ],
   "source": [
    "\n",
    "list_compare = [0, 0, 0, 0] != [0, 0, 0] # True\n",
    "\n",
    "list_compare2 = [1, 0, 0] >= [0, 0, 0] # True\n",
    "\n",
    "list_compare3 = [0, 0, 0] >= [0, 0, 3] # False\n",
    "\n",
    "list_compare4 = [0, 0, 3, 0] >= [0, 0, 3] # True\n",
    "\n",
    "list_compare5 = [0, 0, 4, 0] == [0, 0, 3] # False\n",
    "\n",
    "print(list_compare, list_compare2, list_compare3, list_compare4, list_compare5)"
   ]
  },
  {
   "cell_type": "markdown",
   "id": "f855f7db-58b1-4c41-b596-b01935a222c9",
   "metadata": {},
   "source": [
    "* Remember the logical operators are and, or, & not; and the identity operators are is & is not"
   ]
  },
  {
   "cell_type": "code",
   "execution_count": 97,
   "id": "2414ce20-a58a-4c8b-9941-13aa578a00c8",
   "metadata": {
    "tags": []
   },
   "outputs": [
    {
     "name": "stdout",
     "output_type": "stream",
     "text": [
      "1. []\n",
      "2. True\n",
      "3. 0\n",
      "4. 2\n",
      "5. 2\n",
      "6. False\n",
      "7. False\n"
     ]
    }
   ],
   "source": [
    "logical_compare = 2 and [] # []\n",
    "\n",
    "logical_compare2 = not [] # True\n",
    "\n",
    "logical_compare3 = 0 and [] # 0\n",
    "\n",
    "logical_compare4 = True and 2 # 2\n",
    "\n",
    "logical_compare5 = 2 or 3 # 2\n",
    "\n",
    "logical_compare6 = not True # False\n",
    "\n",
    "logical_compare7 = False and 2 # False\n",
    "\n",
    "print(F'1. {logical_compare}\\n2. {logical_compare2}\\n3. {logical_compare3}\\n4. {logical_compare4}\\n5. {logical_compare5}\\n6. {logical_compare6}\\n7. {logical_compare7}')"
   ]
  },
  {
   "cell_type": "code",
   "execution_count": 102,
   "id": "b4712fc1-040c-4f6d-9abf-0139abbe1942",
   "metadata": {
    "tags": []
   },
   "outputs": [
    {
     "name": "stdout",
     "output_type": "stream",
     "text": [
      "False True True True False False\n"
     ]
    }
   ],
   "source": [
    "a = []\n",
    "\n",
    "b = a\n",
    "\n",
    "identity_compare = {} is  {} # False\n",
    "\n",
    "identity_compare2 = a is b # True\n",
    "\n",
    "identity_compare3 = b is not [] # True\n",
    "\n",
    "identity_compare4 = 9 != 10 # True\n",
    "\n",
    "identity_compare5 = \"Same\" != \"Same\" # False\n",
    "\n",
    "identity_compare6 = [1,3,4] == [1,2,3] # False\n",
    "\n",
    "print(identity_compare, identity_compare2, identity_compare3, identity_compare4, identity_compare5, identity_compare6)"
   ]
  },
  {
   "cell_type": "markdown",
   "id": "60efeae3-a2b2-48ef-a14a-c17d7a0e5aa0",
   "metadata": {},
   "source": [
    "## Creating Functions"
   ]
  },
  {
   "cell_type": "code",
   "execution_count": 116,
   "id": "f7039b93-8c6d-48a9-93a6-793dcf301ef8",
   "metadata": {
    "tags": []
   },
   "outputs": [],
   "source": [
    "new_employees = ['jim', 'tracy', 'lisa']"
   ]
  },
  {
   "cell_type": "code",
   "execution_count": 117,
   "id": "e88a69d6-7d62-4ad9-b78b-b809d7e582b1",
   "metadata": {
    "tags": []
   },
   "outputs": [
    {
     "data": {
      "text/plain": [
       "[\"Hi Jim, I'm so glad to be working with you!\",\n",
       " \"Hi Tracy, I'm so glad to be working with you!\",\n",
       " \"Hi Lisa, I'm so glad to be working with you!\"]"
      ]
     },
     "execution_count": 117,
     "metadata": {},
     "output_type": "execute_result"
    }
   ],
   "source": [
    "welcome_messages = []\n",
    "\n",
    "for new_employee in new_employees:\n",
    "\n",
    "   welcome_messages.append(\"Hi \" + new_employee.title() + \", I'm so glad to be working with you!\" )\n",
    "\n",
    "welcome_messages"
   ]
  },
  {
   "cell_type": "code",
   "execution_count": 118,
   "id": "fae86139-b308-4be5-a875-a06776e7180a",
   "metadata": {
    "tags": []
   },
   "outputs": [],
   "source": [
    "for employee in new_employees:\n",
    "    message = f\"Hi {employee}, I'm glad to be working with you.\""
   ]
  },
  {
   "cell_type": "code",
   "execution_count": 119,
   "id": "32fe76ce-4a45-4ae0-94dd-c9becf9c4202",
   "metadata": {
    "tags": []
   },
   "outputs": [
    {
     "data": {
      "text/plain": [
       "\"Hi lisa, I'm glad to be working with you.\""
      ]
     },
     "execution_count": 119,
     "metadata": {},
     "output_type": "execute_result"
    }
   ],
   "source": [
    "message"
   ]
  },
  {
   "cell_type": "code",
   "execution_count": null,
   "id": "4ccb44cd-412f-47a5-b0d4-416bc2a9b2b8",
   "metadata": {},
   "outputs": [],
   "source": []
  }
 ],
 "metadata": {
  "kernelspec": {
   "display_name": "Python 3 (ipykernel)",
   "language": "python",
   "name": "python3"
  },
  "language_info": {
   "codemirror_mode": {
    "name": "ipython",
    "version": 3
   },
   "file_extension": ".py",
   "mimetype": "text/x-python",
   "name": "python",
   "nbconvert_exporter": "python",
   "pygments_lexer": "ipython3",
   "version": "3.11.3"
  }
 },
 "nbformat": 4,
 "nbformat_minor": 5
}
