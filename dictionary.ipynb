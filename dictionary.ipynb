{
 "cells": [
  {
   "cell_type": "markdown",
   "id": "85fb4be2-980a-43f7-88ba-3d007f81a1c5",
   "metadata": {},
   "source": [
    "# Dictionary\n",
    "* Data type that stroes data using ***Key value*** pairs.\n",
    "* Use curly brackets (***{}***) to define dictionaries in python\n",
    "\n",
    "* Syntax\n",
    "\n",
    "{key: value}"
   ]
  },
  {
   "cell_type": "code",
   "execution_count": 1,
   "id": "694f5bab-314c-483d-be00-5f8ff312b8c3",
   "metadata": {
    "tags": []
   },
   "outputs": [],
   "source": [
    "# example\n",
    "\n",
    "student = {\n",
    "    \"Name\" : \"Eric Kocheli\", \n",
    "    \"ID\" : 21164676, \n",
    "    \"Gender\" : \"Male\"    \n",
    "}"
   ]
  },
  {
   "cell_type": "code",
   "execution_count": 2,
   "id": "d247ab32-c433-4ab4-9022-eab1b3abf376",
   "metadata": {
    "tags": []
   },
   "outputs": [
    {
     "name": "stdout",
     "output_type": "stream",
     "text": [
      "{'Name': 'Eric Kocheli', 'ID': 21164676, 'Gender': 'Male'}\n"
     ]
    }
   ],
   "source": [
    "print(student)"
   ]
  },
  {
   "cell_type": "code",
   "execution_count": 12,
   "id": "4a23a57e-ee13-4405-a395-01716232b6d8",
   "metadata": {
    "tags": []
   },
   "outputs": [],
   "source": [
    "# Example 2\n",
    "\n",
    "government = {\n",
    "    \"Executive\" : [\"Ruto\", \"Gachagua\", \"Mudavadi\"],\n",
    "    \"Ministers\" : [\"Kindiki\", \"Kuria\", \"Ndungu\"],\n",
    "    \"CAS\" : [\"Omanga\", \"Mwaura\", \"Wamalwa\"],\n",
    "    \"Speakers\" : [\"Roma\", \"Kingi\", \"Koome\"]\n",
    "}"
   ]
  },
  {
   "cell_type": "code",
   "execution_count": 13,
   "id": "0d88fae6-d9ad-43e6-9d43-c55e3935e679",
   "metadata": {
    "tags": []
   },
   "outputs": [
    {
     "name": "stdout",
     "output_type": "stream",
     "text": [
      "{'Executive': ['Ruto', 'Gachagua', 'Mudavadi'], 'Ministers': ['Kindiki', 'Kuria', 'Ndungu'], 'CAS': ['Omanga', 'Mwaura', 'Wamalwa'], 'Speakers': ['Roma', 'Kingi', 'Koome']}\n"
     ]
    }
   ],
   "source": [
    "print(government)"
   ]
  },
  {
   "cell_type": "code",
   "execution_count": 14,
   "id": "34d1cfdb-0bac-4a02-a628-49fc98711efa",
   "metadata": {
    "tags": []
   },
   "outputs": [
    {
     "data": {
      "text/plain": [
       "dict_keys(['Executive', 'Ministers', 'CAS', 'Speakers'])"
      ]
     },
     "execution_count": 14,
     "metadata": {},
     "output_type": "execute_result"
    }
   ],
   "source": [
    "# Keys of the dictionary\n",
    "government.keys()"
   ]
  },
  {
   "cell_type": "code",
   "execution_count": 15,
   "id": "c7211aa4-454c-4c14-846f-32741aa81358",
   "metadata": {
    "tags": []
   },
   "outputs": [
    {
     "name": "stdout",
     "output_type": "stream",
     "text": [
      "['Omanga', 'Mwaura', 'Wamalwa']\n"
     ]
    }
   ],
   "source": [
    "# access values in a dictionary using keys\n",
    "# syntax dictionary_name[keys]\n",
    "\n",
    "print(government[\"CAS\"])"
   ]
  },
  {
   "cell_type": "code",
   "execution_count": 16,
   "id": "a34aad54-8194-4530-bf7a-ae14e100e046",
   "metadata": {
    "tags": []
   },
   "outputs": [
    {
     "name": "stdout",
     "output_type": "stream",
     "text": [
      "['Ruto', 'Gachagua', 'Mudavadi']\n"
     ]
    }
   ],
   "source": [
    "print(government[\"Executive\"])"
   ]
  },
  {
   "cell_type": "code",
   "execution_count": 19,
   "id": "f6e41a79-3033-41ca-b469-4c3288c27d08",
   "metadata": {
    "tags": []
   },
   "outputs": [],
   "source": [
    "# Remember lists append?\n",
    "government[\"CAS\"].insert(0, \"Itumbi\")"
   ]
  },
  {
   "cell_type": "code",
   "execution_count": 22,
   "id": "9936aaee-026a-45c3-ab46-4f8b24a684c3",
   "metadata": {
    "tags": []
   },
   "outputs": [
    {
     "name": "stdout",
     "output_type": "stream",
     "text": [
      "['Itumbi', 'Omanga', 'Mwaura', 'Wamalwa']\n"
     ]
    }
   ],
   "source": [
    "print(government[\"CAS\"])"
   ]
  },
  {
   "cell_type": "code",
   "execution_count": 23,
   "id": "6e693093-d254-4d97-b057-541769f1645f",
   "metadata": {
    "tags": []
   },
   "outputs": [
    {
     "name": "stdout",
     "output_type": "stream",
     "text": [
      "Omanga\n"
     ]
    }
   ],
   "source": [
    "print(government[\"CAS\"][1])"
   ]
  },
  {
   "cell_type": "code",
   "execution_count": 25,
   "id": "0c55b5aa-c467-4ab4-86ba-451ae1e045e8",
   "metadata": {
    "tags": []
   },
   "outputs": [],
   "source": [
    "menu = {\n",
    "    \"Breakfast\" : { \n",
    "        \"Beverages\" : {\n",
    "            \"Tea\": [\"Lemon Tea\", \"Masala Tea\", \"Caramel Tea\"],\n",
    "            \"Coffee\" : [\"Black\", \"Capuccino\", \"White\"],\n",
    "            \"Cocoa\" : [\"Hot choco\", \"free ranage\"]},\n",
    "        \"Accompaniment\" : { \n",
    "            \"wings\" : [\"hot wings\", \"spicy\", \"lemon and herbs\"],\n",
    "            \"kienyeji\" : [\"nduma\", \"nguashe\", \"cassava\"]},\n",
    "    },\n",
    "    \"Lunch\" : {\"Carbohydrates\" : [\"Ugali\", \"Mokimo\", \"Rice\"],\n",
    "               \"Veges\" : [\"Sukuma\", \"Cabbage\", \"Waru\"],\n",
    "               \"Proteins\" : [\"Chicken\", \"Fish\", \"Mutton\"]}\n",
    "}\n",
    "                   "
   ]
  },
  {
   "cell_type": "code",
   "execution_count": 35,
   "id": "939da8e8-9c96-4bfe-a8f3-05ade50d05c9",
   "metadata": {
    "tags": []
   },
   "outputs": [
    {
     "data": {
      "text/plain": [
       "dict_keys(['Breakfast', 'Lunch'])"
      ]
     },
     "execution_count": 35,
     "metadata": {},
     "output_type": "execute_result"
    }
   ],
   "source": [
    "menu.keys()"
   ]
  },
  {
   "cell_type": "code",
   "execution_count": 29,
   "id": "47f1705f-eb02-4864-9c6b-b320581eac10",
   "metadata": {
    "tags": []
   },
   "outputs": [
    {
     "name": "stdout",
     "output_type": "stream",
     "text": [
      "{'Breakfast': {'Beverages': {'Tea': ['Lemon Tea', 'Masala Tea', 'Caramel Tea'], 'Coffee': ['Black', 'Capuccino', 'White'], 'Cocoa': ['Hot choco', 'free ranage']}, 'Accompaniment': {'wings': ['hot wings', 'spicy', 'lemon and herbs'], 'kienyeji': ['nduma', 'nguashe', 'cassava']}}, 'Lunch': {'Carbohydrates': ['Ugali', 'Mokimo', 'Rice'], 'Veges': ['Sukuma', 'Cabbage', 'Waru'], 'Proteins': ['Chicken', 'Fish', 'Mutton']}}\n"
     ]
    }
   ],
   "source": [
    "print(menu)"
   ]
  },
  {
   "cell_type": "code",
   "execution_count": 30,
   "id": "8b03fc2d-fce0-4254-a7c7-4d75f931a667",
   "metadata": {
    "tags": []
   },
   "outputs": [
    {
     "name": "stdout",
     "output_type": "stream",
     "text": [
      "{'Beverages': {'Tea': ['Lemon Tea', 'Masala Tea', 'Caramel Tea'], 'Coffee': ['Black', 'Capuccino', 'White'], 'Cocoa': ['Hot choco', 'free ranage']}, 'Accompaniment': {'wings': ['hot wings', 'spicy', 'lemon and herbs'], 'kienyeji': ['nduma', 'nguashe', 'cassava']}}\n"
     ]
    }
   ],
   "source": [
    "print(menu[\"Breakfast\"])"
   ]
  },
  {
   "cell_type": "code",
   "execution_count": 36,
   "id": "2a326a9d-0af6-4bef-b6d8-e5792ed9352e",
   "metadata": {
    "tags": []
   },
   "outputs": [
    {
     "data": {
      "text/plain": [
       "dict"
      ]
     },
     "execution_count": 36,
     "metadata": {},
     "output_type": "execute_result"
    }
   ],
   "source": [
    "type(menu[\"Breakfast\"])"
   ]
  },
  {
   "cell_type": "code",
   "execution_count": 39,
   "id": "24c47bf3-f470-485e-8c24-646d93bb8b2b",
   "metadata": {
    "tags": []
   },
   "outputs": [
    {
     "data": {
      "text/plain": [
       "dict_keys(['Beverages', 'Accompaniment'])"
      ]
     },
     "execution_count": 39,
     "metadata": {},
     "output_type": "execute_result"
    }
   ],
   "source": [
    "menu[\"Breakfast\"].keys()"
   ]
  },
  {
   "cell_type": "code",
   "execution_count": 34,
   "id": "11fedc98-7798-4879-b73a-0732c19e41cb",
   "metadata": {
    "tags": []
   },
   "outputs": [
    {
     "name": "stdout",
     "output_type": "stream",
     "text": [
      "{'Tea': ['Lemon Tea', 'Masala Tea', 'Caramel Tea'], 'Coffee': ['Black', 'Capuccino', 'White'], 'Cocoa': ['Hot choco', 'free ranage']}\n"
     ]
    }
   ],
   "source": [
    "print(menu[\"Breakfast\"][\"Beverages\"])"
   ]
  },
  {
   "cell_type": "code",
   "execution_count": 40,
   "id": "7db6540b-e690-4d19-8980-a51797bdc684",
   "metadata": {
    "tags": []
   },
   "outputs": [
    {
     "data": {
      "text/plain": [
       "dict_keys(['Tea', 'Coffee', 'Cocoa'])"
      ]
     },
     "execution_count": 40,
     "metadata": {},
     "output_type": "execute_result"
    }
   ],
   "source": [
    "menu[\"Breakfast\"][\"Beverages\"].keys()"
   ]
  },
  {
   "cell_type": "code",
   "execution_count": 37,
   "id": "0600b9f7-f249-4e74-969b-13d8040d8a51",
   "metadata": {
    "tags": []
   },
   "outputs": [
    {
     "name": "stdout",
     "output_type": "stream",
     "text": [
      "['Lemon Tea', 'Masala Tea', 'Caramel Tea']\n"
     ]
    }
   ],
   "source": [
    "print(menu[\"Breakfast\"][\"Beverages\"][\"Tea\"])"
   ]
  },
  {
   "cell_type": "code",
   "execution_count": 46,
   "id": "031968d3-63eb-4f74-b91c-26b6f7375ccb",
   "metadata": {
    "tags": []
   },
   "outputs": [
    {
     "name": "stdout",
     "output_type": "stream",
     "text": [
      "Masala Tea\n"
     ]
    }
   ],
   "source": [
    "print(menu[\"Breakfast\"][\"Beverages\"][\"Tea\"][1])"
   ]
  },
  {
   "cell_type": "code",
   "execution_count": 49,
   "id": "68a611ba-0200-4413-b8e7-bba4bec13644",
   "metadata": {
    "tags": []
   },
   "outputs": [
    {
     "name": "stdout",
     "output_type": "stream",
     "text": [
      "Kocheli had the following for breakfast:\n",
      "\t* Masala Tea\n"
     ]
    }
   ],
   "source": [
    "print(f'Kocheli had the following for breakfast:\\n\\t* {menu[\"Breakfast\"][\"Beverages\"][\"Tea\"][1]}')"
   ]
  },
  {
   "cell_type": "code",
   "execution_count": 58,
   "id": "1994aa7a-2554-441d-85a8-a91e62ea34da",
   "metadata": {
    "tags": []
   },
   "outputs": [
    {
     "name": "stdout",
     "output_type": "stream",
     "text": [
      "Kocheli had the following for breakfast:\n",
      "\t* Masala Tea\n",
      "\t* spicy\n",
      "\t* nguashe\n"
     ]
    }
   ],
   "source": [
    "print(f'Kocheli had the following for breakfast:\\n\\t* {menu[\"Breakfast\"][\"Beverages\"][\"Tea\"][1]}\\n\\t* {menu[\"Breakfast\"][\"Accompaniment\"][\"wings\"][1]}\\n\\t* {menu[\"Breakfast\"][\"Accompaniment\"][\"kienyeji\"][1]}')"
   ]
  },
  {
   "cell_type": "code",
   "execution_count": 61,
   "id": "c12d711d-c913-4bbb-b240-1af29aaf3ee5",
   "metadata": {
    "tags": []
   },
   "outputs": [
    {
     "name": "stdout",
     "output_type": "stream",
     "text": [
      "Kocheli had the following for breakfast:\n",
      "\t* Masala Tea\n",
      "\t* spicy\n",
      "\t* nguashe\n",
      " and for lunch he had\n",
      "\t* Ugali and Fish\n"
     ]
    }
   ],
   "source": [
    "print(f'Kocheli had the following for breakfast:\\n\\t* {menu[\"Breakfast\"][\"Beverages\"][\"Tea\"][1]}\\n\\t* {menu[\"Breakfast\"][\"Accompaniment\"][\"wings\"][1]}\\n\\t* {menu[\"Breakfast\"][\"Accompaniment\"][\"kienyeji\"][1]}\\n and for lunch he had\\n\\t* {menu[\"Lunch\"][\"Carbohydrates\"][0]}, {menu[\"Lunch\"][\"Veges\"][1]} and {menu[\"Lunch\"][\"Proteins\"][1]}')"
   ]
  },
  {
   "cell_type": "code",
   "execution_count": null,
   "id": "4c26e3dd-d2f5-42da-9d8b-395c6335f25f",
   "metadata": {},
   "outputs": [],
   "source": []
  }
 ],
 "metadata": {
  "kernelspec": {
   "display_name": "Python 3 (ipykernel)",
   "language": "python",
   "name": "python3"
  },
  "language_info": {
   "codemirror_mode": {
    "name": "ipython",
    "version": 3
   },
   "file_extension": ".py",
   "mimetype": "text/x-python",
   "name": "python",
   "nbconvert_exporter": "python",
   "pygments_lexer": "ipython3",
   "version": "3.11.3"
  }
 },
 "nbformat": 4,
 "nbformat_minor": 5
}
