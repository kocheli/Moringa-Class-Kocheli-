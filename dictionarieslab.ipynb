{
 "cells": [
  {
   "cell_type": "markdown",
   "id": "cd0d3bb9-32bb-429a-88b2-2b7e5f644704",
   "metadata": {
    "tags": []
   },
   "source": [
    "## Dictionaries with lists"
   ]
  },
  {
   "cell_type": "code",
   "execution_count": 3,
   "id": "914904f9-acb3-4a96-9809-fd6b365b202e",
   "metadata": {
    "tags": []
   },
   "outputs": [],
   "source": [
    "friends = {'name': 'Friends', 'genre': 'sitcom', 'no_of_seasons': 10}"
   ]
  },
  {
   "cell_type": "code",
   "execution_count": 1,
   "id": "83375a96-78a2-4a12-99e3-4f9857be582a",
   "metadata": {},
   "outputs": [],
   "source": [
    "creators = ['David Crane', 'Marta Kauffman']"
   ]
  },
  {
   "cell_type": "code",
   "execution_count": 4,
   "id": "a3ac60d2-ac50-4051-bd07-b6eeb81b1ebd",
   "metadata": {
    "tags": []
   },
   "outputs": [],
   "source": [
    "friends['creators'] = ['David Crane', 'Marta Kauffman']"
   ]
  },
  {
   "cell_type": "code",
   "execution_count": 5,
   "id": "3b62fc53-b786-4202-8a07-f3e1865b024d",
   "metadata": {
    "tags": []
   },
   "outputs": [
    {
     "data": {
      "text/plain": [
       "{'name': 'Friends',\n",
       " 'genre': 'sitcom',\n",
       " 'no_of_seasons': 10,\n",
       " 'creators': ['David Crane', 'Marta Kauffman']}"
      ]
     },
     "execution_count": 5,
     "metadata": {},
     "output_type": "execute_result"
    }
   ],
   "source": [
    "friends"
   ]
  },
  {
   "cell_type": "code",
   "execution_count": 7,
   "id": "5067e29f-082e-4ddf-b981-faf23d5f001b",
   "metadata": {
    "tags": []
   },
   "outputs": [
    {
     "data": {
      "text/plain": [
       "10"
      ]
     },
     "execution_count": 7,
     "metadata": {},
     "output_type": "execute_result"
    }
   ],
   "source": [
    "friends['no_of_seasons']"
   ]
  },
  {
   "cell_type": "code",
   "execution_count": 8,
   "id": "130ee4d3-2c9e-4cbc-a0a7-1de773fdc791",
   "metadata": {
    "tags": []
   },
   "outputs": [],
   "source": [
    "friends[14] = 'same value'"
   ]
  },
  {
   "cell_type": "code",
   "execution_count": 10,
   "id": "34a15711-9c66-42c2-8e90-69c5d4cb0bfa",
   "metadata": {
    "tags": []
   },
   "outputs": [
    {
     "data": {
      "text/plain": [
       "'same value'"
      ]
     },
     "execution_count": 10,
     "metadata": {},
     "output_type": "execute_result"
    }
   ],
   "source": [
    "friends[14]"
   ]
  },
  {
   "cell_type": "code",
   "execution_count": 11,
   "id": "80a8f8e8-45d2-4746-b286-4fff1fc63ded",
   "metadata": {
    "tags": []
   },
   "outputs": [],
   "source": [
    "del friends[14]"
   ]
  },
  {
   "cell_type": "code",
   "execution_count": 12,
   "id": "8c376e89-d478-4a3a-ba51-e2e61a6c3725",
   "metadata": {
    "tags": []
   },
   "outputs": [
    {
     "data": {
      "text/plain": [
       "{'name': 'Friends',\n",
       " 'genre': 'sitcom',\n",
       " 'no_of_seasons': 10,\n",
       " 'creators': ['David Crane', 'Marta Kauffman']}"
      ]
     },
     "execution_count": 12,
     "metadata": {},
     "output_type": "execute_result"
    }
   ],
   "source": [
    "friends"
   ]
  },
  {
   "cell_type": "code",
   "execution_count": 13,
   "id": "03a7f1fd-4c3d-45e8-9c33-dc736728f897",
   "metadata": {
    "tags": []
   },
   "outputs": [],
   "source": [
    "friends[\"no_of_episodes\"] = 236"
   ]
  },
  {
   "cell_type": "code",
   "execution_count": 14,
   "id": "9e4240c8-1f96-4d6e-bad5-c2532e6bc461",
   "metadata": {
    "tags": []
   },
   "outputs": [
    {
     "data": {
      "text/plain": [
       "{'name': 'Friends',\n",
       " 'genre': 'sitcom',\n",
       " 'no_of_seasons': 10,\n",
       " 'creators': ['David Crane', 'Marta Kauffman'],\n",
       " 'no_of_episodes': 236}"
      ]
     },
     "execution_count": 14,
     "metadata": {},
     "output_type": "execute_result"
    }
   ],
   "source": [
    "friends"
   ]
  },
  {
   "cell_type": "code",
   "execution_count": 15,
   "id": "a58774d0-3d29-4ebe-ab6f-5f2c22843395",
   "metadata": {
    "tags": []
   },
   "outputs": [
    {
     "data": {
      "text/plain": [
       "['David Crane', 'Marta Kauffman']"
      ]
     },
     "execution_count": 15,
     "metadata": {},
     "output_type": "execute_result"
    }
   ],
   "source": [
    "creators"
   ]
  },
  {
   "cell_type": "code",
   "execution_count": 16,
   "id": "68789ece-58e2-4307-8cb5-1ce76d63fcb1",
   "metadata": {
    "tags": []
   },
   "outputs": [
    {
     "data": {
      "text/plain": [
       "'David Crane'"
      ]
     },
     "execution_count": 16,
     "metadata": {},
     "output_type": "execute_result"
    }
   ],
   "source": [
    "friends['creators'][0]"
   ]
  },
  {
   "cell_type": "code",
   "execution_count": 25,
   "id": "6ff557b1-5b80-419a-8766-0ea43e027c23",
   "metadata": {
    "tags": []
   },
   "outputs": [],
   "source": [
    "seinfeld = {'name': 'seinfeld', 'genre': 'sitcom', 'no_of_seasons': 10, 'creators': ['Larry David', 'Jerry Seinfeld'], 'no_of_episodes': 180}"
   ]
  },
  {
   "cell_type": "code",
   "execution_count": 26,
   "id": "d2cc556c-193e-4764-bc37-476b984b27f3",
   "metadata": {
    "tags": []
   },
   "outputs": [
    {
     "data": {
      "text/plain": [
       "{'name': 'seinfeld',\n",
       " 'genre': 'sitcom',\n",
       " 'no_of_seasons': 10,\n",
       " 'creators': ['Larry David', 'Jerry Seinfeld'],\n",
       " 'no_of_episodes': 180}"
      ]
     },
     "execution_count": 26,
     "metadata": {},
     "output_type": "execute_result"
    }
   ],
   "source": [
    "seinfeld"
   ]
  },
  {
   "cell_type": "code",
   "execution_count": 27,
   "id": "2f9be648-ea10-408f-8e72-82f9a2791555",
   "metadata": {
    "tags": []
   },
   "outputs": [],
   "source": [
    "tv_shows = [friends, seinfeld]"
   ]
  },
  {
   "cell_type": "code",
   "execution_count": 28,
   "id": "dd3299d1-5454-4e68-83f9-757e23f8fdc7",
   "metadata": {
    "tags": []
   },
   "outputs": [
    {
     "data": {
      "text/plain": [
       "[{'name': 'Friends',\n",
       "  'genre': 'sitcom',\n",
       "  'no_of_seasons': 10,\n",
       "  'creators': ['David Crane', 'Marta Kauffman'],\n",
       "  'no_of_episodes': 236},\n",
       " {'name': 'seinfeld',\n",
       "  'genre': 'sitcom',\n",
       "  'no_of_seasons': 10,\n",
       "  'creators': ['Larry David', 'Jerry Seinfeld'],\n",
       "  'no_of_episodes': 180}]"
      ]
     },
     "execution_count": 28,
     "metadata": {},
     "output_type": "execute_result"
    }
   ],
   "source": [
    "tv_shows"
   ]
  },
  {
   "cell_type": "code",
   "execution_count": 29,
   "id": "0a4dfde2-cfaf-4dea-96f1-6e40539984e7",
   "metadata": {
    "tags": []
   },
   "outputs": [
    {
     "data": {
      "text/plain": [
       "['Larry David', 'Jerry Seinfeld']"
      ]
     },
     "execution_count": 29,
     "metadata": {},
     "output_type": "execute_result"
    }
   ],
   "source": [
    "tv_shows[1]['creators']"
   ]
  },
  {
   "cell_type": "code",
   "execution_count": 30,
   "id": "f63de961-69e4-4e7f-b22d-6b9e4725f775",
   "metadata": {
    "tags": []
   },
   "outputs": [
    {
     "data": {
      "text/plain": [
       "'Jerry Seinfeld'"
      ]
     },
     "execution_count": 30,
     "metadata": {},
     "output_type": "execute_result"
    }
   ],
   "source": [
    "tv_shows[1]['creators'][1]"
   ]
  },
  {
   "cell_type": "code",
   "execution_count": 31,
   "id": "38a3d809-52ee-49f5-a296-c36a1b664700",
   "metadata": {
    "tags": []
   },
   "outputs": [],
   "source": [
    "jerry = tv_shows[1]['creators'][1]"
   ]
  },
  {
   "cell_type": "code",
   "execution_count": 32,
   "id": "c039b7de-9d14-4d14-bfe0-a690b10c24d7",
   "metadata": {
    "tags": []
   },
   "outputs": [
    {
     "data": {
      "text/plain": [
       "'Jerry Seinfeld'"
      ]
     },
     "execution_count": 32,
     "metadata": {},
     "output_type": "execute_result"
    }
   ],
   "source": [
    "jerry"
   ]
  },
  {
   "cell_type": "markdown",
   "id": "f20aa9dd-abe7-4829-b38f-d72dd6fc6fd1",
   "metadata": {},
   "source": [
    "## Working with Dictionaries - Lab"
   ]
  },
  {
   "cell_type": "markdown",
   "id": "8a7fbbb7-d6d6-4360-b3db-98e2398e1ed4",
   "metadata": {},
   "source": [
    "### Introduction\n",
    "Using knowledge of dictionaries to retrieve and assign data about various cities.\n",
    "\n",
    "#### Objectives\n",
    "* To assign values in a dictionary\n",
    "* To access keys and values in a dictionary"
   ]
  },
  {
   "cell_type": "code",
   "execution_count": 33,
   "id": "cae7d062-453b-41f3-ba28-4053fbfc2363",
   "metadata": {
    "tags": []
   },
   "outputs": [],
   "source": [
    "# Greenville, North Carolina\n",
    "greenville = {'Area': 68, 'City': 'Greenville', 'Country': 'USA', 'Population': 84554}"
   ]
  },
  {
   "cell_type": "code",
   "execution_count": 34,
   "id": "63e5ba87-79a4-4b5d-b823-7d7bd601e475",
   "metadata": {
    "tags": []
   },
   "outputs": [],
   "source": [
    "greenville_population = greenville['Population']"
   ]
  },
  {
   "cell_type": "code",
   "execution_count": 35,
   "id": "f25e1879-c9d5-48e6-a2b0-10e3716afccc",
   "metadata": {
    "tags": []
   },
   "outputs": [
    {
     "data": {
      "text/plain": [
       "84554"
      ]
     },
     "execution_count": 35,
     "metadata": {},
     "output_type": "execute_result"
    }
   ],
   "source": [
    "greenville_population"
   ]
  },
  {
   "cell_type": "code",
   "execution_count": 37,
   "id": "3901b300-f247-445f-a378-6eb4ac12f4eb",
   "metadata": {
    "tags": []
   },
   "outputs": [],
   "source": [
    "greenville_area = greenville['Area']"
   ]
  },
  {
   "cell_type": "code",
   "execution_count": 38,
   "id": "817a2b6b-3923-49a6-a774-0d74b28fe9f8",
   "metadata": {
    "tags": []
   },
   "outputs": [
    {
     "data": {
      "text/plain": [
       "68"
      ]
     },
     "execution_count": 38,
     "metadata": {},
     "output_type": "execute_result"
    }
   ],
   "source": [
    "greenville_area"
   ]
  },
  {
   "cell_type": "code",
   "execution_count": 42,
   "id": "5645c309-b3f3-4ada-b9c9-c903478f6d1d",
   "metadata": {
    "tags": []
   },
   "outputs": [],
   "source": [
    "city_keys = greenville.keys()"
   ]
  },
  {
   "cell_type": "code",
   "execution_count": 43,
   "id": "af48e900-b16e-449a-837a-638578ecd115",
   "metadata": {
    "tags": []
   },
   "outputs": [
    {
     "data": {
      "text/plain": [
       "dict_keys(['Area', 'City', 'Country', 'Population'])"
      ]
     },
     "execution_count": 43,
     "metadata": {},
     "output_type": "execute_result"
    }
   ],
   "source": [
    "city_keys"
   ]
  },
  {
   "cell_type": "code",
   "execution_count": 44,
   "id": "3ea9bee7-4e0b-4e29-9dca-5405b48c05a4",
   "metadata": {
    "tags": []
   },
   "outputs": [
    {
     "name": "stdout",
     "output_type": "stream",
     "text": [
      "dict_keys(['Area', 'City', 'Country', 'Population'])\n"
     ]
    }
   ],
   "source": [
    "print(city_keys)"
   ]
  },
  {
   "cell_type": "code",
   "execution_count": 46,
   "id": "9f4aa03b-2fd7-47a3-b6a2-386f4e2fe8d0",
   "metadata": {
    "tags": []
   },
   "outputs": [],
   "source": [
    "city_values = greenville.values()"
   ]
  },
  {
   "cell_type": "code",
   "execution_count": 47,
   "id": "f4bceca1-f7b2-446b-8b47-97e588ec7dd0",
   "metadata": {
    "tags": []
   },
   "outputs": [
    {
     "data": {
      "text/plain": [
       "dict_values([68, 'Greenville', 'USA', 84554])"
      ]
     },
     "execution_count": 47,
     "metadata": {},
     "output_type": "execute_result"
    }
   ],
   "source": [
    "city_values"
   ]
  },
  {
   "cell_type": "markdown",
   "id": "81feaa35-a56b-4364-8a21-8b94fa092495",
   "metadata": {},
   "source": [
    "### Working with multiple cities"
   ]
  },
  {
   "cell_type": "code",
   "execution_count": 55,
   "id": "4fa3c25d-1445-4ee5-9232-d45201323ca2",
   "metadata": {
    "tags": []
   },
   "outputs": [],
   "source": [
    "import pandas as pd"
   ]
  },
  {
   "cell_type": "code",
   "execution_count": 58,
   "id": "ce60d080-996d-43e7-b253-dcd04f537611",
   "metadata": {
    "tags": []
   },
   "outputs": [
    {
     "data": {
      "text/plain": [
       "'1.5.3'"
      ]
     },
     "execution_count": 58,
     "metadata": {},
     "output_type": "execute_result"
    }
   ],
   "source": [
    "pd.__version__"
   ]
  },
  {
   "cell_type": "code",
   "execution_count": 69,
   "id": "2cab5521-8a7f-4883-8116-c9c991fc06e5",
   "metadata": {
    "tags": []
   },
   "outputs": [],
   "source": [
    "data_set = pd.read_excel('cities.xlsx')"
   ]
  },
  {
   "cell_type": "code",
   "execution_count": 70,
   "id": "0cdd754a-9e99-4394-b3db-c3b652c0fcf4",
   "metadata": {
    "tags": []
   },
   "outputs": [
    {
     "data": {
      "text/html": [
       "<div>\n",
       "<style scoped>\n",
       "    .dataframe tbody tr th:only-of-type {\n",
       "        vertical-align: middle;\n",
       "    }\n",
       "\n",
       "    .dataframe tbody tr th {\n",
       "        vertical-align: top;\n",
       "    }\n",
       "\n",
       "    .dataframe thead th {\n",
       "        text-align: right;\n",
       "    }\n",
       "</style>\n",
       "<table border=\"1\" class=\"dataframe\">\n",
       "  <thead>\n",
       "    <tr style=\"text-align: right;\">\n",
       "      <th></th>\n",
       "      <th>City</th>\n",
       "      <th>Country</th>\n",
       "      <th>Population</th>\n",
       "      <th>Area</th>\n",
       "    </tr>\n",
       "  </thead>\n",
       "  <tbody>\n",
       "    <tr>\n",
       "      <th>0</th>\n",
       "      <td>Solta</td>\n",
       "      <td>Croatia</td>\n",
       "      <td>1700</td>\n",
       "      <td>59</td>\n",
       "    </tr>\n",
       "    <tr>\n",
       "      <th>1</th>\n",
       "      <td>Greenville</td>\n",
       "      <td>USA</td>\n",
       "      <td>84554</td>\n",
       "      <td>68</td>\n",
       "    </tr>\n",
       "    <tr>\n",
       "      <th>2</th>\n",
       "      <td>Buenos Aires</td>\n",
       "      <td>Argentina</td>\n",
       "      <td>13591863</td>\n",
       "      <td>4758</td>\n",
       "    </tr>\n",
       "    <tr>\n",
       "      <th>3</th>\n",
       "      <td>Los Cabos</td>\n",
       "      <td>Mexico</td>\n",
       "      <td>287651</td>\n",
       "      <td>3750</td>\n",
       "    </tr>\n",
       "    <tr>\n",
       "      <th>4</th>\n",
       "      <td>Walla Walla Valley</td>\n",
       "      <td>USA</td>\n",
       "      <td>32237</td>\n",
       "      <td>33</td>\n",
       "    </tr>\n",
       "    <tr>\n",
       "      <th>5</th>\n",
       "      <td>Marakesh</td>\n",
       "      <td>Morocco</td>\n",
       "      <td>928850</td>\n",
       "      <td>200</td>\n",
       "    </tr>\n",
       "    <tr>\n",
       "      <th>6</th>\n",
       "      <td>Albuquerque</td>\n",
       "      <td>New Mexico</td>\n",
       "      <td>559277</td>\n",
       "      <td>491</td>\n",
       "    </tr>\n",
       "    <tr>\n",
       "      <th>7</th>\n",
       "      <td>Archipelago Sea</td>\n",
       "      <td>Finland</td>\n",
       "      <td>60000</td>\n",
       "      <td>8300</td>\n",
       "    </tr>\n",
       "    <tr>\n",
       "      <th>8</th>\n",
       "      <td>Iguazu Falls</td>\n",
       "      <td>Argentina</td>\n",
       "      <td>0</td>\n",
       "      <td>672</td>\n",
       "    </tr>\n",
       "    <tr>\n",
       "      <th>9</th>\n",
       "      <td>Salina Island</td>\n",
       "      <td>Italy</td>\n",
       "      <td>4000</td>\n",
       "      <td>27</td>\n",
       "    </tr>\n",
       "    <tr>\n",
       "      <th>10</th>\n",
       "      <td>Toronto</td>\n",
       "      <td>Canada</td>\n",
       "      <td>630</td>\n",
       "      <td>2731571</td>\n",
       "    </tr>\n",
       "    <tr>\n",
       "      <th>11</th>\n",
       "      <td>Pyeongchang</td>\n",
       "      <td>South Korea</td>\n",
       "      <td>2581000</td>\n",
       "      <td>3194</td>\n",
       "    </tr>\n",
       "  </tbody>\n",
       "</table>\n",
       "</div>"
      ],
      "text/plain": [
       "                  City      Country  Population     Area\n",
       "0                Solta      Croatia        1700       59\n",
       "1           Greenville          USA       84554       68\n",
       "2         Buenos Aires    Argentina    13591863     4758\n",
       "3            Los Cabos       Mexico      287651     3750\n",
       "4   Walla Walla Valley          USA       32237       33\n",
       "5             Marakesh      Morocco      928850      200\n",
       "6          Albuquerque   New Mexico      559277      491\n",
       "7      Archipelago Sea      Finland       60000     8300\n",
       "8         Iguazu Falls    Argentina           0      672\n",
       "9        Salina Island        Italy        4000       27\n",
       "10             Toronto       Canada         630  2731571\n",
       "11         Pyeongchang  South Korea     2581000     3194"
      ]
     },
     "execution_count": 70,
     "metadata": {},
     "output_type": "execute_result"
    }
   ],
   "source": [
    "data_set"
   ]
  },
  {
   "cell_type": "code",
   "execution_count": 71,
   "id": "28f1db1f-19e0-4b04-a273-db0598a51656",
   "metadata": {
    "tags": []
   },
   "outputs": [],
   "source": [
    "cities = data_set.to_dict('records')"
   ]
  },
  {
   "cell_type": "code",
   "execution_count": 72,
   "id": "bdf384fd-19b8-497e-81f5-7137b178f02a",
   "metadata": {
    "tags": []
   },
   "outputs": [
    {
     "data": {
      "text/plain": [
       "[{'City': 'Solta', 'Country': 'Croatia', 'Population': 1700, 'Area': 59},\n",
       " {'City': 'Greenville', 'Country': 'USA', 'Population': 84554, 'Area': 68},\n",
       " {'City': 'Buenos Aires',\n",
       "  'Country': 'Argentina',\n",
       "  'Population': 13591863,\n",
       "  'Area': 4758},\n",
       " {'City': 'Los Cabos',\n",
       "  'Country': 'Mexico',\n",
       "  'Population': 287651,\n",
       "  'Area': 3750},\n",
       " {'City': 'Walla Walla Valley',\n",
       "  'Country': 'USA',\n",
       "  'Population': 32237,\n",
       "  'Area': 33},\n",
       " {'City': 'Marakesh', 'Country': 'Morocco', 'Population': 928850, 'Area': 200},\n",
       " {'City': 'Albuquerque',\n",
       "  'Country': 'New Mexico',\n",
       "  'Population': 559277,\n",
       "  'Area': 491},\n",
       " {'City': 'Archipelago Sea',\n",
       "  'Country': 'Finland',\n",
       "  'Population': 60000,\n",
       "  'Area': 8300},\n",
       " {'City': 'Iguazu Falls',\n",
       "  'Country': 'Argentina',\n",
       "  'Population': 0,\n",
       "  'Area': 672},\n",
       " {'City': 'Salina Island', 'Country': 'Italy', 'Population': 4000, 'Area': 27},\n",
       " {'City': 'Toronto', 'Country': 'Canada', 'Population': 630, 'Area': 2731571},\n",
       " {'City': 'Pyeongchang',\n",
       "  'Country': 'South Korea',\n",
       "  'Population': 2581000,\n",
       "  'Area': 3194}]"
      ]
     },
     "execution_count": 72,
     "metadata": {},
     "output_type": "execute_result"
    }
   ],
   "source": [
    "cities"
   ]
  },
  {
   "cell_type": "code",
   "execution_count": 74,
   "id": "39a19558-8534-4916-8632-7a4c7c07aa33",
   "metadata": {
    "tags": []
   },
   "outputs": [
    {
     "name": "stdout",
     "output_type": "stream",
     "text": [
      "{'City': 'Greenville', 'Country': 'USA', 'Population': 84554, 'Area': 68}\n"
     ]
    }
   ],
   "source": [
    "# the third to last element and set it equal to the variable \"salina\".\n",
    "print(cities[1])"
   ]
  },
  {
   "cell_type": "code",
   "execution_count": 77,
   "id": "a0c0c91f-4b24-49a1-a7e0-3a0939d032ba",
   "metadata": {
    "tags": []
   },
   "outputs": [],
   "source": [
    "salina = cities[2:11]"
   ]
  },
  {
   "cell_type": "code",
   "execution_count": 81,
   "id": "5631e8b1-5ac3-4dc7-a739-0f050639dcc8",
   "metadata": {
    "tags": []
   },
   "outputs": [
    {
     "data": {
      "text/plain": [
       "[{'City': 'Buenos Aires',\n",
       "  'Country': 'Argentina',\n",
       "  'Population': 13591863,\n",
       "  'Area': 4758},\n",
       " {'City': 'Los Cabos',\n",
       "  'Country': 'Mexico',\n",
       "  'Population': 287651,\n",
       "  'Area': 3750},\n",
       " {'City': 'Walla Walla Valley',\n",
       "  'Country': 'USA',\n",
       "  'Population': 32237,\n",
       "  'Area': 33},\n",
       " {'City': 'Marakesh', 'Country': 'Morocco', 'Population': 928850, 'Area': 200},\n",
       " {'City': 'Albuquerque',\n",
       "  'Country': 'New Mexico',\n",
       "  'Population': 559277,\n",
       "  'Area': 491},\n",
       " {'City': 'Archipelago Sea',\n",
       "  'Country': 'Finland',\n",
       "  'Population': 60000,\n",
       "  'Area': 8300},\n",
       " {'City': 'Iguazu Falls',\n",
       "  'Country': 'Argentina',\n",
       "  'Population': 0,\n",
       "  'Area': 672},\n",
       " {'City': 'Salina Island', 'Country': 'Italy', 'Population': 4000, 'Area': 27},\n",
       " {'City': 'Toronto', 'Country': 'Canada', 'Population': 630, 'Area': 2731571}]"
      ]
     },
     "execution_count": 81,
     "metadata": {},
     "output_type": "execute_result"
    }
   ],
   "source": [
    "salina"
   ]
  },
  {
   "cell_type": "code",
   "execution_count": 83,
   "id": "1490bfce-e615-4393-8120-ffacf8ac2039",
   "metadata": {
    "tags": []
   },
   "outputs": [],
   "source": [
    "los_cabos_pop = salina[3]['Population']"
   ]
  },
  {
   "cell_type": "code",
   "execution_count": 84,
   "id": "0bbe2efd-7137-4279-a7e6-0a4ebc54c75e",
   "metadata": {
    "tags": []
   },
   "outputs": [
    {
     "data": {
      "text/plain": [
       "928850"
      ]
     },
     "execution_count": 84,
     "metadata": {},
     "output_type": "execute_result"
    }
   ],
   "source": [
    "los_cabos_pop"
   ]
  },
  {
   "cell_type": "code",
   "execution_count": 85,
   "id": "c533ea7f-0416-4c4f-9cb9-de1210143ec8",
   "metadata": {
    "tags": []
   },
   "outputs": [
    {
     "data": {
      "text/plain": [
       "[{'City': 'Solta', 'Country': 'Croatia', 'Population': 1700, 'Area': 59},\n",
       " {'City': 'Greenville', 'Country': 'USA', 'Population': 84554, 'Area': 68},\n",
       " {'City': 'Buenos Aires',\n",
       "  'Country': 'Argentina',\n",
       "  'Population': 13591863,\n",
       "  'Area': 4758},\n",
       " {'City': 'Los Cabos',\n",
       "  'Country': 'Mexico',\n",
       "  'Population': 287651,\n",
       "  'Area': 3750},\n",
       " {'City': 'Walla Walla Valley',\n",
       "  'Country': 'USA',\n",
       "  'Population': 32237,\n",
       "  'Area': 33},\n",
       " {'City': 'Marakesh', 'Country': 'Morocco', 'Population': 928850, 'Area': 200},\n",
       " {'City': 'Albuquerque',\n",
       "  'Country': 'New Mexico',\n",
       "  'Population': 559277,\n",
       "  'Area': 491},\n",
       " {'City': 'Archipelago Sea',\n",
       "  'Country': 'Finland',\n",
       "  'Population': 60000,\n",
       "  'Area': 8300},\n",
       " {'City': 'Iguazu Falls',\n",
       "  'Country': 'Argentina',\n",
       "  'Population': 0,\n",
       "  'Area': 672},\n",
       " {'City': 'Salina Island', 'Country': 'Italy', 'Population': 4000, 'Area': 27},\n",
       " {'City': 'Toronto', 'Country': 'Canada', 'Population': 630, 'Area': 2731571},\n",
       " {'City': 'Pyeongchang',\n",
       "  'Country': 'South Korea',\n",
       "  'Population': 2581000,\n",
       "  'Area': 3194}]"
      ]
     },
     "execution_count": 85,
     "metadata": {},
     "output_type": "execute_result"
    }
   ],
   "source": [
    "cities"
   ]
  },
  {
   "cell_type": "code",
   "execution_count": null,
   "id": "dfe094c1-b6d5-4f24-9ab2-11d25761db5e",
   "metadata": {},
   "outputs": [],
   "source": []
  }
 ],
 "metadata": {
  "kernelspec": {
   "display_name": "Python 3 (ipykernel)",
   "language": "python",
   "name": "python3"
  },
  "language_info": {
   "codemirror_mode": {
    "name": "ipython",
    "version": 3
   },
   "file_extension": ".py",
   "mimetype": "text/x-python",
   "name": "python",
   "nbconvert_exporter": "python",
   "pygments_lexer": "ipython3",
   "version": "3.11.3"
  }
 },
 "nbformat": 4,
 "nbformat_minor": 5
}
