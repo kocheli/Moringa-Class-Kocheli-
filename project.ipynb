{
 "cells": [
  {
   "cell_type": "markdown",
   "id": "db40be89-68d5-4165-9b99-473294b8ef50",
   "metadata": {},
   "source": [
    "# Independent Project - To-Do List Manager\n",
    "\n",
    "**Project Description**: Creating a simple to-do list manager using Python that allows users to add tasks, mark tasks as completed, list tasks, and remove tasks."
   ]
  },
  {
   "cell_type": "code",
   "execution_count": 24,
   "id": "38c9c99b-26de-4f62-a0ea-14c61290d0ce",
   "metadata": {
    "tags": []
   },
   "outputs": [],
   "source": [
    "class ToDoListManager:\n",
    "    def __init__(self):\n",
    "        self.tasks = []\n",
    "        \n",
    "    def display_menu(self):\n",
    "        print(\"Welcome to this Kocheli's TO DO list\")\n",
    "        print(\"1. Add Task\")\n",
    "        print(\"2. Mark Task as Completed\")\n",
    "        print(\"3. List Tasks\")\n",
    "        print(\"4. Remove Tasks\")\n",
    "        print(\"5. Quit\")\n",
    "        \n",
    "    def add_task(self, description):\n",
    "        self.tasks.append({\"description\": description, \"completed\": False})\n",
    "        print(\"Task added successfuly!\")\n",
    "        \n",
    "    def mark_task_completed(self, index):\n",
    "        if 0 <= index < len(self.tasks):\n",
    "            if not self.tasks[index][\"completed\"]:\n",
    "                self.tasks[index][\"completed\"] = True\n",
    "                print(\"Task marked as completed\")\n",
    "            else:\n",
    "                print(\"Tasks is already completed.\")\n",
    "        else:\n",
    "            print(\"Invalid task index\")\n",
    "            \n",
    "    def list_tasks(self):\n",
    "        print(\"Tasks:\")\n",
    "        for index, task in enumerate(self.tasks):\n",
    "            status = \"Completed\" if task[\"completed\"] else \"Not Completed\"\n",
    "            print(f\"{index}. {task['description']} - [{status}]\")\n",
    "            \n",
    "    def remove_task(self, index):\n",
    "        if 0 <= index < len(self.tasks):\n",
    "            removed_task = self.tasks.pop(index)\n",
    "            print(f\"Task '{removed_task['description']} removed.\")\n",
    "        else:\n",
    "            print(\"Invalid task index.\")\n",
    "            \n",
    "    def run(self):\n",
    "        while True:\n",
    "            self.display_menu()\n",
    "            choice = input(\"Please enter your choice: \")\n",
    "            \n",
    "            if choice == \"1\":\n",
    "                description = input(\"Enter task description: \")\n",
    "                self.add_task(description)\n",
    "            elif choice == \"2\":\n",
    "                index = int(input(\"Enter task to be completed: \"))\n",
    "                self.mark_task_completed(index)\n",
    "            elif choice == \"3\":\n",
    "                self.list_tasks()\n",
    "            elif choice == \"4\":\n",
    "                index = int(input(\"Enter task index to remove: \"))\n",
    "                self.remove_task(index)\n",
    "            elif choice == \"5\":\n",
    "                print(\"Goodbye!\")\n",
    "                break\n",
    "            else:\n",
    "                print(\"Invalid choice. Please select a valid option.\")\n",
    "                \n",
    "                \n",
    "if __name__ == \"__main__\":\n",
    "    todo_manager = ToDoListManager()"
   ]
  },
  {
   "cell_type": "code",
   "execution_count": 25,
   "id": "a4c8f205-5b00-43d6-84cd-01d6ae65ec21",
   "metadata": {
    "tags": []
   },
   "outputs": [
    {
     "name": "stdout",
     "output_type": "stream",
     "text": [
      "Welcome to this Kocheli's TO DO list\n",
      "1. Add Task\n",
      "2. Mark Task as Completed\n",
      "3. List Tasks\n",
      "4. Remove Tasks\n",
      "5. Quit\n"
     ]
    },
    {
     "name": "stdin",
     "output_type": "stream",
     "text": [
      "Please enter your choice:  1\n",
      "Enter task description:  Finalise on the Survey Reports\n"
     ]
    },
    {
     "name": "stdout",
     "output_type": "stream",
     "text": [
      "Task added successfuly!\n",
      "Welcome to this Kocheli's TO DO list\n",
      "1. Add Task\n",
      "2. Mark Task as Completed\n",
      "3. List Tasks\n",
      "4. Remove Tasks\n",
      "5. Quit\n"
     ]
    },
    {
     "name": "stdin",
     "output_type": "stream",
     "text": [
      "Please enter your choice:  1\n",
      "Enter task description:  Disseminate the Survey Reports\n"
     ]
    },
    {
     "name": "stdout",
     "output_type": "stream",
     "text": [
      "Task added successfuly!\n",
      "Welcome to this Kocheli's TO DO list\n",
      "1. Add Task\n",
      "2. Mark Task as Completed\n",
      "3. List Tasks\n",
      "4. Remove Tasks\n",
      "5. Quit\n"
     ]
    },
    {
     "name": "stdin",
     "output_type": "stream",
     "text": [
      "Please enter your choice:  1\n",
      "Enter task description:  Sensitize members on ISO implementation\n"
     ]
    },
    {
     "name": "stdout",
     "output_type": "stream",
     "text": [
      "Task added successfuly!\n",
      "Welcome to this Kocheli's TO DO list\n",
      "1. Add Task\n",
      "2. Mark Task as Completed\n",
      "3. List Tasks\n",
      "4. Remove Tasks\n",
      "5. Quit\n"
     ]
    },
    {
     "name": "stdin",
     "output_type": "stream",
     "text": [
      "Please enter your choice:  3\n"
     ]
    },
    {
     "name": "stdout",
     "output_type": "stream",
     "text": [
      "Tasks:\n",
      "0. Finalise on the Survey Reports - [Not Completed]\n",
      "1. Disseminate the Survey Reports - [Not Completed]\n",
      "2. Sensitize members on ISO implementation - [Not Completed]\n",
      "Welcome to this Kocheli's TO DO list\n",
      "1. Add Task\n",
      "2. Mark Task as Completed\n",
      "3. List Tasks\n",
      "4. Remove Tasks\n",
      "5. Quit\n"
     ]
    },
    {
     "name": "stdin",
     "output_type": "stream",
     "text": [
      "Please enter your choice:  2\n",
      "Enter task to be completed:  0\n"
     ]
    },
    {
     "name": "stdout",
     "output_type": "stream",
     "text": [
      "Task marked as completed\n",
      "Welcome to this Kocheli's TO DO list\n",
      "1. Add Task\n",
      "2. Mark Task as Completed\n",
      "3. List Tasks\n",
      "4. Remove Tasks\n",
      "5. Quit\n"
     ]
    },
    {
     "name": "stdin",
     "output_type": "stream",
     "text": [
      "Please enter your choice:  2\n",
      "Enter task to be completed:  1\n"
     ]
    },
    {
     "name": "stdout",
     "output_type": "stream",
     "text": [
      "Task marked as completed\n",
      "Welcome to this Kocheli's TO DO list\n",
      "1. Add Task\n",
      "2. Mark Task as Completed\n",
      "3. List Tasks\n",
      "4. Remove Tasks\n",
      "5. Quit\n"
     ]
    },
    {
     "name": "stdin",
     "output_type": "stream",
     "text": [
      "Please enter your choice:  3\n"
     ]
    },
    {
     "name": "stdout",
     "output_type": "stream",
     "text": [
      "Tasks:\n",
      "0. Finalise on the Survey Reports - [Completed]\n",
      "1. Disseminate the Survey Reports - [Completed]\n",
      "2. Sensitize members on ISO implementation - [Not Completed]\n",
      "Welcome to this Kocheli's TO DO list\n",
      "1. Add Task\n",
      "2. Mark Task as Completed\n",
      "3. List Tasks\n",
      "4. Remove Tasks\n",
      "5. Quit\n"
     ]
    },
    {
     "name": "stdin",
     "output_type": "stream",
     "text": [
      "Please enter your choice:  4\n",
      "Enter task index to remove:  4\n"
     ]
    },
    {
     "name": "stdout",
     "output_type": "stream",
     "text": [
      "Invalid task index.\n",
      "Welcome to this Kocheli's TO DO list\n",
      "1. Add Task\n",
      "2. Mark Task as Completed\n",
      "3. List Tasks\n",
      "4. Remove Tasks\n",
      "5. Quit\n"
     ]
    },
    {
     "name": "stdin",
     "output_type": "stream",
     "text": [
      "Please enter your choice:  5\n"
     ]
    },
    {
     "name": "stdout",
     "output_type": "stream",
     "text": [
      "Goodbye!\n"
     ]
    }
   ],
   "source": [
    "todo_manager.run()"
   ]
  },
  {
   "cell_type": "code",
   "execution_count": 26,
   "id": "f7bbe3ae-d7f1-4b69-a164-be0851955a2f",
   "metadata": {
    "tags": []
   },
   "outputs": [
    {
     "name": "stdout",
     "output_type": "stream",
     "text": [
      "Welcome to this Kocheli's TO DO list\n",
      "1. Add Task\n",
      "2. Mark Task as Completed\n",
      "3. List Tasks\n",
      "4. Remove Tasks\n",
      "5. Quit\n"
     ]
    },
    {
     "name": "stdin",
     "output_type": "stream",
     "text": [
      "Please enter your choice:  5\n"
     ]
    },
    {
     "name": "stdout",
     "output_type": "stream",
     "text": [
      "Goodbye!\n"
     ]
    }
   ],
   "source": [
    "todo_manager.run()"
   ]
  },
  {
   "cell_type": "code",
   "execution_count": null,
   "id": "9b053726-5d7b-47d8-a9ad-40060afcd63e",
   "metadata": {},
   "outputs": [],
   "source": []
  }
 ],
 "metadata": {
  "kernelspec": {
   "display_name": "Python 3 (ipykernel)",
   "language": "python",
   "name": "python3"
  },
  "language_info": {
   "codemirror_mode": {
    "name": "ipython",
    "version": 3
   },
   "file_extension": ".py",
   "mimetype": "text/x-python",
   "name": "python",
   "nbconvert_exporter": "python",
   "pygments_lexer": "ipython3",
   "version": "3.11.3"
  }
 },
 "nbformat": 4,
 "nbformat_minor": 5
}
