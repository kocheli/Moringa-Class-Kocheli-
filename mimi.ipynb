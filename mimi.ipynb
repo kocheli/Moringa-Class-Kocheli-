{
 "cells": [
  {
   "cell_type": "code",
   "execution_count": 1,
   "id": "2aac85c0-5da6-4a44-a3dc-b6e5e8cc6c72",
   "metadata": {
    "tags": []
   },
   "outputs": [],
   "source": [
    "import pandas as pd\n",
    "import numpy as np"
   ]
  },
  {
   "cell_type": "code",
   "execution_count": 2,
   "id": "65a1b1d8-3185-468c-86e7-d27c87fa2faf",
   "metadata": {
    "tags": []
   },
   "outputs": [],
   "source": [
    "random = np.random.randint(3, 20, 50)"
   ]
  },
  {
   "cell_type": "code",
   "execution_count": 3,
   "id": "35870715-ea83-4876-b6b7-3e71624f413b",
   "metadata": {
    "tags": []
   },
   "outputs": [
    {
     "data": {
      "text/plain": [
       "array([ 4, 16, 14, 12, 17,  5, 15, 14, 15, 10, 13, 16, 17, 10, 19, 14,  5,\n",
       "       17, 12,  9, 17,  6,  3, 17, 17,  8,  7, 18, 10,  3,  9, 16, 14, 15,\n",
       "        7, 17, 13,  5,  3, 13, 12, 18,  7, 10, 11, 17, 18, 17,  5, 14])"
      ]
     },
     "execution_count": 3,
     "metadata": {},
     "output_type": "execute_result"
    }
   ],
   "source": [
    "random"
   ]
  },
  {
   "cell_type": "code",
   "execution_count": 6,
   "id": "ba2abc77-7d01-4f0f-851f-af3f474f5a37",
   "metadata": {
    "tags": []
   },
   "outputs": [
    {
     "data": {
      "text/plain": [
       "[4,\n",
       " 16,\n",
       " 14,\n",
       " 12,\n",
       " 17,\n",
       " 5,\n",
       " 15,\n",
       " 14,\n",
       " 15,\n",
       " 10,\n",
       " 13,\n",
       " 16,\n",
       " 17,\n",
       " 10,\n",
       " 19,\n",
       " 14,\n",
       " 5,\n",
       " 17,\n",
       " 12,\n",
       " 9,\n",
       " 17,\n",
       " 6,\n",
       " 3,\n",
       " 17,\n",
       " 17,\n",
       " 8,\n",
       " 7,\n",
       " 18,\n",
       " 10,\n",
       " 3,\n",
       " 9,\n",
       " 16,\n",
       " 14,\n",
       " 15,\n",
       " 7,\n",
       " 17,\n",
       " 13,\n",
       " 5,\n",
       " 3,\n",
       " 13,\n",
       " 12,\n",
       " 18,\n",
       " 7,\n",
       " 10,\n",
       " 11,\n",
       " 17,\n",
       " 18,\n",
       " 17,\n",
       " 5,\n",
       " 14]"
      ]
     },
     "execution_count": 6,
     "metadata": {},
     "output_type": "execute_result"
    }
   ],
   "source": [
    "random_list = random.tolist()\n",
    "random_list"
   ]
  },
  {
   "cell_type": "code",
   "execution_count": 8,
   "id": "9883b035-b6cb-4e4d-8653-b822f20a39ea",
   "metadata": {
    "tags": []
   },
   "outputs": [],
   "source": [
    "random_sort = sorted(random_list)"
   ]
  },
  {
   "cell_type": "code",
   "execution_count": 11,
   "id": "ae9b1c24-2be5-4325-b637-ee79fb700a87",
   "metadata": {
    "tags": []
   },
   "outputs": [
    {
     "data": {
      "text/plain": [
       "[3, 3, 3, 4, 5, 5, 5, 5, 6, 7, 7, 7, 8, 9, 9]"
      ]
     },
     "execution_count": 11,
     "metadata": {},
     "output_type": "execute_result"
    }
   ],
   "source": [
    "random_sort[0:15]"
   ]
  },
  {
   "cell_type": "code",
   "execution_count": 13,
   "id": "2498d1e2-a355-469e-b05a-99aa10c75e95",
   "metadata": {
    "tags": []
   },
   "outputs": [],
   "source": [
    "mean = np.mean(random_list)"
   ]
  },
  {
   "cell_type": "code",
   "execution_count": 14,
   "id": "f764208a-e0fb-4175-b567-27ea41dc5d6c",
   "metadata": {
    "tags": []
   },
   "outputs": [
    {
     "data": {
      "text/plain": [
       "12.02"
      ]
     },
     "execution_count": 14,
     "metadata": {},
     "output_type": "execute_result"
    }
   ],
   "source": [
    "mean"
   ]
  },
  {
   "cell_type": "code",
   "execution_count": 15,
   "id": "c9f8f1c4-0043-44d7-b7d9-0717fad5c820",
   "metadata": {
    "tags": []
   },
   "outputs": [
    {
     "data": {
      "text/plain": [
       "13.0"
      ]
     },
     "execution_count": 15,
     "metadata": {},
     "output_type": "execute_result"
    }
   ],
   "source": [
    "median = np.median(random_sort)\n",
    "median"
   ]
  },
  {
   "cell_type": "code",
   "execution_count": 20,
   "id": "06400cf3-836e-4df4-b21f-5d281cc4809d",
   "metadata": {
    "tags": []
   },
   "outputs": [
    {
     "name": "stderr",
     "output_type": "stream",
     "text": [
      "C:\\Users\\Eric Kocheli\\AppData\\Local\\Temp\\ipykernel_7936\\135635128.py:2: FutureWarning: Unlike other reduction functions (e.g. `skew`, `kurtosis`), the default behavior of `mode` typically preserves the axis it acts along. In SciPy 1.11.0, this behavior will change: the default value of `keepdims` will become False, the `axis` over which the statistic is taken will be eliminated, and the value None will no longer be accepted. Set `keepdims` to True or False to avoid this warning.\n",
      "  mode = stats.mode(random_list)\n"
     ]
    }
   ],
   "source": [
    "from scipy import stats\n",
    "mode = stats.mode(random_list)"
   ]
  },
  {
   "cell_type": "code",
   "execution_count": 21,
   "id": "5953a8f4-6746-41a1-b97b-283a82b233df",
   "metadata": {
    "tags": []
   },
   "outputs": [
    {
     "data": {
      "text/plain": [
       "[10, 3, 5]"
      ]
     },
     "execution_count": 21,
     "metadata": {},
     "output_type": "execute_result"
    }
   ],
   "source": [
    "my_list = [1, 2, 3, 4, 5, 6]\n",
    "\n",
    "reduced_list = my_list[::2]\n",
    "reduced_list[0] = 10\n",
    "reduced_list"
   ]
  },
  {
   "cell_type": "code",
   "execution_count": null,
   "id": "3cfcd190-12b1-454f-8995-bc2402fe27eb",
   "metadata": {},
   "outputs": [],
   "source": []
  }
 ],
 "metadata": {
  "kernelspec": {
   "display_name": "Python 3 (ipykernel)",
   "language": "python",
   "name": "python3"
  },
  "language_info": {
   "codemirror_mode": {
    "name": "ipython",
    "version": 3
   },
   "file_extension": ".py",
   "mimetype": "text/x-python",
   "name": "python",
   "nbconvert_exporter": "python",
   "pygments_lexer": "ipython3",
   "version": "3.11.3"
  }
 },
 "nbformat": 4,
 "nbformat_minor": 5
}
