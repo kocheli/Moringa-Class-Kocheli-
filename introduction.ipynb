{
 "cells": [
  {
   "cell_type": "markdown",
   "metadata": {},
   "source": [
    "# Introduction to Python"
   ]
  },
  {
   "cell_type": "markdown",
   "metadata": {
    "tags": []
   },
   "source": [
    "![python_logo](logo.jpeg)"
   ]
  },
  {
   "cell_type": "markdown",
   "metadata": {},
   "source": [
    "## Objectives"
   ]
  },
  {
   "cell_type": "markdown",
   "metadata": {},
   "source": [
    "* Understanding Variables\n",
    "* Python Variable Naming Rules\n",
    "* Declaring Variables\n",
    "* Data Types and Type Inference\n",
    "* Variable Assignment\n",
    "* Variable Reassignment\n",
    "* Variable Scope\n",
    "* Best Practices for Variable Usage\n",
    "* Common Mistakes and Troubleshooting\n",
    "* Practical Applications\n",
    "* Exercises and Hands-On Practice"
   ]
  },
  {
   "cell_type": "markdown",
   "metadata": {},
   "source": [
    "## Poetry"
   ]
  },
  {
   "cell_type": "code",
   "execution_count": 1,
   "metadata": {
    "tags": []
   },
   "outputs": [
    {
     "name": "stdout",
     "output_type": "stream",
     "text": [
      "The Zen of Python, by Tim Peters\n",
      "\n",
      "Beautiful is better than ugly.\n",
      "Explicit is better than implicit.\n",
      "Simple is better than complex.\n",
      "Complex is better than complicated.\n",
      "Flat is better than nested.\n",
      "Sparse is better than dense.\n",
      "Readability counts.\n",
      "Special cases aren't special enough to break the rules.\n",
      "Although practicality beats purity.\n",
      "Errors should never pass silently.\n",
      "Unless explicitly silenced.\n",
      "In the face of ambiguity, refuse the temptation to guess.\n",
      "There should be one-- and preferably only one --obvious way to do it.\n",
      "Although that way may not be obvious at first unless you're Dutch.\n",
      "Now is better than never.\n",
      "Although never is often better than *right* now.\n",
      "If the implementation is hard to explain, it's a bad idea.\n",
      "If the implementation is easy to explain, it may be a good idea.\n",
      "Namespaces are one honking great idea -- let's do more of those!\n"
     ]
    }
   ],
   "source": [
    "# code goes here\n",
    "import this"
   ]
  },
  {
   "cell_type": "markdown",
   "metadata": {},
   "source": [
    "## Variables"
   ]
  },
  {
   "cell_type": "markdown",
   "metadata": {},
   "source": [
    "### What is a Variable?"
   ]
  },
  {
   "cell_type": "markdown",
   "metadata": {},
   "source": [
    "* A **variable** is a named storage location used to hold and represent data within a computer program. \n",
    "* It serves as a symbolic representation of a value that can be accessed and manipulated by the program during its execution. \n",
    "* Variables allow programmers to store and manage data of various types, such as *numbers*, *text*, and *objects*, making it easier to perform computations, process information, and control the flow of a program.\n",
    "* When a variable is created, it is allocated a specific memory location in the computer's memory, and the data assigned to that variable is stored at that location. \n",
    "* The value stored in a variable can be changed or updated during the program's execution, which is why the term *variable* is used, as it can vary over time.\n",
    "* Variables play a crucial role in programming, as they enable the reuse and manipulation of data, making code more efficient and flexible."
   ]
  },
  {
   "cell_type": "code",
   "execution_count": 4,
   "metadata": {
    "tags": []
   },
   "outputs": [
    {
     "name": "stdout",
     "output_type": "stream",
     "text": [
      "My name is Kocheli\n"
     ]
    }
   ],
   "source": [
    "# code goes here\n",
    "sentence = \"My name is Kocheli\"\n",
    "print(sentence)"
   ]
  },
  {
   "cell_type": "code",
   "execution_count": 8,
   "metadata": {
    "tags": []
   },
   "outputs": [
    {
     "name": "stdout",
     "output_type": "stream",
     "text": [
      "16\n"
     ]
    }
   ],
   "source": [
    "# variable to store number\n",
    "a = 5\n",
    "b = 6\n",
    "c = 5\n",
    "# variable to sum\n",
    "sum = a + b + c\n",
    "print(sum)"
   ]
  },
  {
   "cell_type": "code",
   "execution_count": 7,
   "metadata": {
    "tags": []
   },
   "outputs": [
    {
     "name": "stdout",
     "output_type": "stream",
     "text": [
      "150\n"
     ]
    }
   ],
   "source": [
    "# variable to store number\n",
    "a = 5\n",
    "b = 6\n",
    "c = 5\n",
    "# variable to store product\n",
    "product = a * b * c\n",
    "print(product)"
   ]
  },
  {
   "cell_type": "markdown",
   "metadata": {},
   "source": [
    "### Importance of variables in storing and managing data during program execution."
   ]
  },
  {
   "cell_type": "markdown",
   "metadata": {},
   "source": [
    "* **Data Storage**: Variables act as containers for holding different types of data, such as numbers, strings, lists, and more"
   ]
  },
  {
   "cell_type": "code",
   "execution_count": 2,
   "metadata": {
    "tags": []
   },
   "outputs": [
    {
     "name": "stdout",
     "output_type": "stream",
     "text": [
      "Eric\n"
     ]
    }
   ],
   "source": [
    "# code goes here\n",
    "# variable to store first name\n",
    "first_name = \"Eric\"\n",
    "print(first_name)"
   ]
  },
  {
   "cell_type": "code",
   "execution_count": 3,
   "metadata": {
    "tags": []
   },
   "outputs": [
    {
     "name": "stdout",
     "output_type": "stream",
     "text": [
      "Katamu\n"
     ]
    }
   ],
   "source": [
    "# variable to store second name\n",
    "second_name = \"Katamu\"\n",
    "print(second_name)"
   ]
  },
  {
   "cell_type": "code",
   "execution_count": 15,
   "metadata": {
    "tags": []
   },
   "outputs": [
    {
     "name": "stdout",
     "output_type": "stream",
     "text": [
      "Eric Katamu\n"
     ]
    }
   ],
   "source": [
    "print(first_name, second_name)"
   ]
  },
  {
   "cell_type": "markdown",
   "metadata": {},
   "source": [
    "* **Data Manipulation**: By storing data in variables, programmers can easily manipulate and process it."
   ]
  },
  {
   "cell_type": "code",
   "execution_count": 19,
   "metadata": {
    "tags": []
   },
   "outputs": [],
   "source": [
    "# code goes here \n",
    "# manipulating test\n",
    "#print(second_name.upper())"
   ]
  },
  {
   "cell_type": "markdown",
   "metadata": {},
   "source": [
    "* **Data Reusability**: Once data is stored in variables, it becomes reusable throughout the program. Instead of having to re-enter or recalculate data, variables allow programmers to use the same data multiple times, reducing redundancy and improving code readability."
   ]
  },
  {
   "cell_type": "code",
   "execution_count": 21,
   "metadata": {
    "tags": []
   },
   "outputs": [
    {
     "name": "stdout",
     "output_type": "stream",
     "text": [
      "1\n"
     ]
    }
   ],
   "source": [
    "# code goes here\n",
    "# variable to store difference\n",
    "difference = b - a\n",
    "print(difference)"
   ]
  },
  {
   "cell_type": "code",
   "execution_count": 22,
   "metadata": {
    "tags": []
   },
   "outputs": [
    {
     "name": "stdout",
     "output_type": "stream",
     "text": [
      "1.2\n"
     ]
    }
   ],
   "source": [
    "# code goes here\n",
    "# variable to store division\n",
    "division = b / a\n",
    "print(division)"
   ]
  },
  {
   "cell_type": "markdown",
   "metadata": {},
   "source": [
    "* **Program Flow Control**: Variables are often used in control structures such as loops and conditional statements. "
   ]
  },
  {
   "cell_type": "code",
   "execution_count": 27,
   "metadata": {
    "tags": []
   },
   "outputs": [
    {
     "name": "stdout",
     "output_type": "stream",
     "text": [
      "E\n",
      "r\n",
      "i\n",
      "c\n",
      "K\n",
      "a\n",
      "t\n",
      "a\n",
      "m\n",
      "u\n"
     ]
    }
   ],
   "source": [
    "# codes goes here\n",
    "# variable called first_name\n",
    "# for loop demo\n",
    "for letter in first_name:print(letter)\n",
    "# variable called second_name\n",
    "for letter in second_name:print(letter)"
   ]
  },
  {
   "cell_type": "markdown",
   "metadata": {},
   "source": [
    "### Rules for naming variables in Python."
   ]
  },
  {
   "cell_type": "markdown",
   "metadata": {},
   "source": [
    "* **Valid Characters**: Variable names can contain letters ```(a-z, A-Z)```, digits ```(0-9)```, and underscores ```(_)```. They **cannot** start with a digit. For instance, you can call a variable ```message_1``` but not ```1_message```.\n",
    "\n",
    "* **No Special Characters**: Variable names should not include spaces or any special characters like ```!```, ```@```,``` #```,``` $```,``` %```, etc.\n",
    "\n",
    "* **Case-Sensitivity**: Python variable names are case-sensitive, meaning that variables with different letter cases are considered distinct. For example, ```name```, ```Name```, and ```NAME``` are three different variables.\n",
    "\n",
    "* **Reserved Keywords**: Avoid using Python's reserved keywords as variable names, as they have predefined meanings in the language. Some examples of reserved keywords include ```if```, ```else```, ```while```, ```for```, ```def```, ```class```, ```import```, and ```True```.\n",
    "\n",
    "* **Descriptive and Readable**: Choose descriptive and meaningful variable names that convey the purpose or content of the data they store. This improves the code's readability and makes it easier for others (and your future self) to understand the code.\n",
    "\n",
    "* **Snake Case**: In Python, the convention for multi-word variable names is to use snake case, which involves writing all lowercase letters and separating words with underscores. For example, ```user_age```, ```item_list```, and ```total_count``` are all valid snake case variable names.\n",
    "\n",
    "* **Length Limitation**: While Python allows variable names of any length, it's advisable to keep them reasonably concise to avoid excessive typing and enhance code readability."
   ]
  },
  {
   "cell_type": "markdown",
   "metadata": {},
   "source": [
    "### Avoiding Name Errors When Using Variables"
   ]
  },
  {
   "cell_type": "markdown",
   "metadata": {},
   "source": [
    "* Every programmer makes mistakes, and most make mistakes every day.\n",
    "* This Mistakes will results into errors, and good programmers know how to respond to those error efficiently."
   ]
  },
  {
   "cell_type": "code",
   "execution_count": 26,
   "metadata": {
    "tags": []
   },
   "outputs": [
    {
     "ename": "NameError",
     "evalue": "name 'third_name' is not defined",
     "output_type": "error",
     "traceback": [
      "\u001b[1;31m---------------------------------------------------------------------------\u001b[0m",
      "\u001b[1;31mNameError\u001b[0m                                 Traceback (most recent call last)",
      "Cell \u001b[1;32mIn[26], line 3\u001b[0m\n\u001b[0;32m      1\u001b[0m \u001b[38;5;66;03m# code goes here\u001b[39;00m\n\u001b[0;32m      2\u001b[0m \u001b[38;5;66;03m# creating and error intentionally\u001b[39;00m\n\u001b[1;32m----> 3\u001b[0m \u001b[38;5;28mprint\u001b[39m(third_name)\n",
      "\u001b[1;31mNameError\u001b[0m: name 'third_name' is not defined"
     ]
    }
   ],
   "source": [
    "# code goes here\n",
    "# pyhton is case sensitive\n",
    "# creating and error intentionally\n",
    "print(third_name)"
   ]
  },
  {
   "cell_type": "code",
   "execution_count": 28,
   "metadata": {
    "tags": []
   },
   "outputs": [
    {
     "ename": "SyntaxError",
     "evalue": "Missing parentheses in call to 'print'. Did you mean print(...)? (2947294964.py, line 1)",
     "output_type": "error",
     "traceback": [
      "\u001b[1;36m  Cell \u001b[1;32mIn[28], line 1\u001b[1;36m\u001b[0m\n\u001b[1;33m    print a\u001b[0m\n\u001b[1;37m    ^\u001b[0m\n\u001b[1;31mSyntaxError\u001b[0m\u001b[1;31m:\u001b[0m Missing parentheses in call to 'print'. Did you mean print(...)?\n"
     ]
    }
   ],
   "source": [
    "print a"
   ]
  },
  {
   "cell_type": "markdown",
   "metadata": {},
   "source": [
    "* Python Interpreter does its best to help you figure out where the problem is by providing a **traceback**.\n",
    "* A *traceback* is a record of where a the interpreter ran into trouble when trying to excute your code.\n",
    "* A **name error** usually means we either forgot to set a variable’s value before using it, or we made a spelling mistake when entering the variable’s name."
   ]
  },
  {
   "cell_type": "markdown",
   "metadata": {},
   "source": [
    "<details>\n",
    "    <summary>📝</summary>\n",
    "\n",
    "    In the whimsical realm of programming, tiny typos and one-character errors amuse even seasoned wizards of code! Like mischievous gremlins, they love to play tricks, leading programmers on wild goose chases. But fear not, for these humorous escapades are a common part of the journey. Embrace the challenge with laughter and patience, celebrating each victory as you outwit those pesky bugs. Picture yourself as a fearless code-warrior, chasing golden snitches in the mystical world of coding. So, laugh it off, for with each typo found, you become a more skilled and resilient programmer. Happy coding, and may the debug force be with you on this enchanting quest! 🚀😄\n",
    "    \n",
    "</details>"
   ]
  },
  {
   "cell_type": "markdown",
   "metadata": {},
   "source": [
    "### Knock yourself out"
   ]
  },
  {
   "cell_type": "markdown",
   "metadata": {
    "tags": []
   },
   "source": [
    "1. Assign a message to a variable, and then print that message.\n",
    "2. Change the value of the variable to a new message, and print the new message."
   ]
  },
  {
   "cell_type": "code",
   "execution_count": 2,
   "metadata": {
    "tags": []
   },
   "outputs": [
    {
     "name": "stdout",
     "output_type": "stream",
     "text": [
      "baraka\n"
     ]
    }
   ],
   "source": [
    "# Assign a message to a variable\n",
    "# variable called tournament\n",
    "tournament = \"baraka\"\n",
    "print(tournament)"
   ]
  },
  {
   "cell_type": "code",
   "execution_count": 3,
   "metadata": {
    "tags": []
   },
   "outputs": [
    {
     "name": "stdout",
     "output_type": "stream",
     "text": [
      "1\n"
     ]
    }
   ],
   "source": [
    "# Change the value of the variable\n",
    "# variable called series number\n",
    "tournament = 1\n",
    "print(tournament)"
   ]
  },
  {
   "cell_type": "code",
   "execution_count": 50,
   "metadata": {
    "tags": []
   },
   "outputs": [
    {
     "name": "stdout",
     "output_type": "stream",
     "text": [
      "bikeke namgoi\n"
     ]
    }
   ],
   "source": [
    "# codes goes here\n",
    "# variable called village\n",
    "first_village = \"bikeke\"\n",
    "second_village = \"namgoi\"\n",
    "print(first_village, second_village)"
   ]
  },
  {
   "cell_type": "code",
   "execution_count": 8,
   "metadata": {
    "tags": []
   },
   "outputs": [
    {
     "name": "stdout",
     "output_type": "stream",
     "text": [
      "b\n",
      "i\n",
      "k\n",
      "e\n",
      "k\n",
      "e\n",
      "n\n",
      "a\n",
      "m\n",
      "g\n",
      "o\n",
      "i\n"
     ]
    }
   ],
   "source": [
    "# codes goes here\n",
    "# variable called first_village\n",
    "# variable called second_village\n",
    "# for loop demo\n",
    "for letter in first_village:print(letter)\n",
    "for letter in second_village:print(letter)"
   ]
  },
  {
   "cell_type": "code",
   "execution_count": 1,
   "metadata": {
    "tags": []
   },
   "outputs": [
    {
     "name": "stdout",
     "output_type": "stream",
     "text": [
      "rift valley trans nzoia trans nzoia west\n"
     ]
    }
   ],
   "source": [
    "# variable called province\n",
    "# variable called county\n",
    "# variable called sub_county\n",
    "province = \"rift valley\"\n",
    "county = \"trans nzoia\"\n",
    "sub_county = \"trans nzoia west\"\n",
    "print(province, county, sub_county)"
   ]
  },
  {
   "cell_type": "markdown",
   "metadata": {
    "tags": []
   },
   "source": [
    "* **Data types** define the type of data that can be stored in a variable or used in a program. \n",
    "* Each programming language has a set of built-in data types to represent different kinds of values, such as numbers, characters, strings, and more complex structures like arrays and objects. \n",
    "Common data types include ```integers (int)```, ```floating-point numbers (float)```, ```characters (char)```, ```strings (str)```, ```Boolean values (bool)```, and many others. \n",
    "* Data types help determine the operations that can be performed on the data and the amount of memory required to store it."
   ]
  },
  {
   "cell_type": "code",
   "execution_count": 4,
   "metadata": {},
   "outputs": [
    {
     "data": {
      "text/plain": [
       "str"
      ]
     },
     "execution_count": 4,
     "metadata": {},
     "output_type": "execute_result"
    }
   ],
   "source": [
    "# code goes here\n",
    "# strings\n",
    "type(first_name)"
   ]
  },
  {
   "cell_type": "code",
   "execution_count": 5,
   "metadata": {
    "tags": []
   },
   "outputs": [
    {
     "data": {
      "text/plain": [
       "bool"
      ]
     },
     "execution_count": 5,
     "metadata": {},
     "output_type": "execute_result"
    }
   ],
   "source": [
    "#boolean\n",
    "type(True)"
   ]
  },
  {
   "cell_type": "code",
   "execution_count": 9,
   "metadata": {
    "tags": []
   },
   "outputs": [
    {
     "data": {
      "text/plain": [
       "int"
      ]
     },
     "execution_count": 9,
     "metadata": {},
     "output_type": "execute_result"
    }
   ],
   "source": [
    "# int\n",
    "type(a)"
   ]
  },
  {
   "cell_type": "markdown",
   "metadata": {},
   "source": [
    "### Strings"
   ]
  },
  {
   "cell_type": "markdown",
   "metadata": {},
   "source": [
    "A **string** is a series of characters. Anything inside quotes is considered a string in Python, and you can use single or double quotes around your strings like this:"
   ]
  },
  {
   "cell_type": "code",
   "execution_count": 10,
   "metadata": {},
   "outputs": [],
   "source": [
    "# code goes here\n",
    "directorate = \"DPOP\"\n",
    "division = \"QAI\""
   ]
  },
  {
   "cell_type": "markdown",
   "metadata": {},
   "source": [
    "* This flexibility allows you to use quotes and apostrophes within your string"
   ]
  },
  {
   "cell_type": "code",
   "execution_count": 13,
   "metadata": {},
   "outputs": [
    {
     "name": "stdout",
     "output_type": "stream",
     "text": [
      "ng'ang'a's section\n"
     ]
    }
   ],
   "source": [
    "# code goes here\n",
    "division = \"ng'ang'a's section\"\n",
    "print(division)"
   ]
  },
  {
   "cell_type": "code",
   "execution_count": 14,
   "metadata": {
    "tags": []
   },
   "outputs": [
    {
     "name": "stdout",
     "output_type": "stream",
     "text": [
      "mukuwe-ini magistrates' court\n"
     ]
    }
   ],
   "source": [
    "# code goes here\n",
    "court = \"mukuwe-ini magistrates' court\"\n",
    "print(court)"
   ]
  },
  {
   "cell_type": "markdown",
   "metadata": {},
   "source": [
    "#### Changing Case in a string with Methods"
   ]
  },
  {
   "cell_type": "markdown",
   "metadata": {},
   "source": [
    "* One simple task you can do with strings is change the case of the words in a string."
   ]
  },
  {
   "cell_type": "code",
   "execution_count": null,
   "metadata": {},
   "outputs": [],
   "source": [
    "# code goes here"
   ]
  },
  {
   "cell_type": "markdown",
   "metadata": {},
   "source": [
    "* ```title()``` - Changes each word to title case, where each word begins with a capital letter.\n",
    "* ```lower()``` - changes a string to all lowercase.\n",
    "* ```upper()``` -   CHANGES A STRING TO ALL UPPERCASE."
   ]
  },
  {
   "cell_type": "code",
   "execution_count": 17,
   "metadata": {},
   "outputs": [
    {
     "name": "stdout",
     "output_type": "stream",
     "text": [
      "NG'ANG'A'S SECTION\n"
     ]
    }
   ],
   "source": [
    "# code goes here\n",
    "print(division.upper())"
   ]
  },
  {
   "cell_type": "code",
   "execution_count": 18,
   "metadata": {
    "tags": []
   },
   "outputs": [
    {
     "name": "stdout",
     "output_type": "stream",
     "text": [
      "Mukuwe-Ini Magistrates' Court\n"
     ]
    }
   ],
   "source": [
    "print(court.title())"
   ]
  },
  {
   "cell_type": "code",
   "execution_count": 20,
   "metadata": {
    "tags": []
   },
   "outputs": [
    {
     "name": "stdout",
     "output_type": "stream",
     "text": [
      "Mukuwe-Ini Magistrates' Court\n"
     ]
    }
   ],
   "source": [
    "judiciary = court.title()\n",
    "print(judiciary)"
   ]
  },
  {
   "cell_type": "code",
   "execution_count": 21,
   "metadata": {
    "tags": []
   },
   "outputs": [
    {
     "name": "stdout",
     "output_type": "stream",
     "text": [
      "mukuwe-ini magistrates' court ng'ang'a's section DPOP\n"
     ]
    }
   ],
   "source": [
    "print(court,division,directorate.upper())"
   ]
  },
  {
   "cell_type": "markdown",
   "metadata": {},
   "source": [
    "#### Using variables in strings"
   ]
  },
  {
   "cell_type": "markdown",
   "metadata": {},
   "source": [
    "* In some situations, you'll want to use a variable's value inside a string."
   ]
  },
  {
   "cell_type": "code",
   "execution_count": null,
   "metadata": {},
   "outputs": [],
   "source": []
  },
  {
   "cell_type": "markdown",
   "metadata": {},
   "source": [
    "1. ```f-strings``` - Python formats the string by replacing the name of any variable in braces with its value."
   ]
  },
  {
   "cell_type": "code",
   "execution_count": 23,
   "metadata": {},
   "outputs": [
    {
     "name": "stdout",
     "output_type": "stream",
     "text": [
      "Eric Katamu\n"
     ]
    }
   ],
   "source": [
    "# code goes here\n",
    "full_name = f\"{first_name} {second_name}\"\n",
    "print(full_name)"
   ]
  },
  {
   "cell_type": "code",
   "execution_count": 25,
   "metadata": {
    "tags": []
   },
   "outputs": [
    {
     "name": "stdout",
     "output_type": "stream",
     "text": [
      "Eric,Katamu\n"
     ]
    }
   ],
   "source": [
    "# code goes here\n",
    "full_name = f\"{first_name},{second_name}\"\n",
    "print(full_name)"
   ]
  },
  {
   "cell_type": "markdown",
   "metadata": {},
   "source": [
    "2. ```format``` - longer version of f-strings."
   ]
  },
  {
   "cell_type": "code",
   "execution_count": 27,
   "metadata": {},
   "outputs": [
    {
     "name": "stdout",
     "output_type": "stream",
     "text": [
      "I have worked at the mukuwe-ini magistrates' court ng'ang'a's section for 6 years. My name is Eric Katamu\n"
     ]
    }
   ],
   "source": [
    "# code goes here\n",
    "sentence = f\"I have worked at the {court} {division} for 6 years. My name is {first_name} {second_name}\"\n",
    "print(sentence)"
   ]
  },
  {
   "cell_type": "code",
   "execution_count": 28,
   "metadata": {
    "tags": []
   },
   "outputs": [
    {
     "name": "stdout",
     "output_type": "stream",
     "text": [
      "mukuwe-ini magistrates' court ng'ang'a's section is a good employer.\n"
     ]
    }
   ],
   "source": [
    "sentence_2 = \"{} {} is a good employer.\".format(court, division)\n",
    "print(sentence_2)"
   ]
  },
  {
   "cell_type": "code",
   "execution_count": 29,
   "metadata": {
    "tags": []
   },
   "outputs": [
    {
     "name": "stdout",
     "output_type": "stream",
     "text": [
      "MUKUWE-INI MAGISTRATES' COURT Ng'Ang'A'S Section is a good employer.\n"
     ]
    }
   ],
   "source": [
    "sentence_2 = \"{} {} is a good employer.\".format(court.upper(), division.title())\n",
    "print(sentence_2)"
   ]
  },
  {
   "cell_type": "markdown",
   "metadata": {},
   "source": [
    "3. ```concatenation``` - using the ```+``` sign to join strings."
   ]
  },
  {
   "cell_type": "code",
   "execution_count": 35,
   "metadata": {},
   "outputs": [
    {
     "name": "stdout",
     "output_type": "stream",
     "text": [
      "Eric mukuwe-ini magistrates' court'.s\n"
     ]
    }
   ],
   "source": [
    "# code goes here\n",
    "sentence_3 = first_name + \" \" + court + \"'\" + \".\" + \"s\"\n",
    "print(sentence_3)"
   ]
  },
  {
   "cell_type": "code",
   "execution_count": 37,
   "metadata": {
    "tags": []
   },
   "outputs": [
    {
     "name": "stdout",
     "output_type": "stream",
     "text": [
      "mukuwe-ini magistrates' court ng'ang'a's section Eric\n"
     ]
    }
   ],
   "source": [
    "sentence_4 = court + \" \" + division + \" \" + first_name \n",
    "print(sentence_4)"
   ]
  },
  {
   "cell_type": "markdown",
   "metadata": {},
   "source": [
    "#### Adding Whitespace to Strings with Tabs or Newlines"
   ]
  },
  {
   "cell_type": "markdown",
   "metadata": {},
   "source": [
    "* **Whitespace** refers to any nonprinting character, such as *spaces*, *tabs*, and *end-of-line symbols*. \n",
    "* Use whitespaces to organize your output so it's easier for users to read."
   ]
  },
  {
   "cell_type": "markdown",
   "metadata": {},
   "source": [
    "1. tab - use character combination ```\\t```."
   ]
  },
  {
   "cell_type": "code",
   "execution_count": 41,
   "metadata": {},
   "outputs": [
    {
     "name": "stdout",
     "output_type": "stream",
     "text": [
      "mukuwe-ini magistrates' court \t ng'ang'a's section \t Eric\n"
     ]
    }
   ],
   "source": [
    "# code goes here\n",
    "new_line = f\"{court} \\t {division} \\t {first_name}\"\n",
    "print(new_line)"
   ]
  },
  {
   "cell_type": "markdown",
   "metadata": {},
   "source": [
    "2. newline - use character combination ```\\n```."
   ]
  },
  {
   "cell_type": "code",
   "execution_count": 40,
   "metadata": {},
   "outputs": [
    {
     "name": "stdout",
     "output_type": "stream",
     "text": [
      "mukuwe-ini magistrates' court \n",
      " ng'ang'a's section \n",
      " Eric\n"
     ]
    }
   ],
   "source": [
    "# code goes here\n",
    "new_line = f\"{court} \\n {division} \\n {first_name}\"\n",
    "print(new_line)"
   ]
  },
  {
   "cell_type": "code",
   "execution_count": 42,
   "metadata": {
    "tags": []
   },
   "outputs": [
    {
     "name": "stdout",
     "output_type": "stream",
     "text": [
      "mukuwe-ini magistrates' court \n",
      " ng'ang'a's section \t Eric\n"
     ]
    }
   ],
   "source": [
    "new_line = f\"{court} \\n {division} \\t {first_name}\"\n",
    "print(new_line)"
   ]
  },
  {
   "cell_type": "code",
   "execution_count": 43,
   "metadata": {
    "tags": []
   },
   "outputs": [
    {
     "name": "stdout",
     "output_type": "stream",
     "text": [
      "mukuwe-ini magistrates' court \n",
      " ng'ang'a's section \t \n",
      " Eric\n"
     ]
    }
   ],
   "source": [
    "new_line = f\"{court} \\n {division} \\t \\n {first_name}\"\n",
    "print(new_line)"
   ]
  },
  {
   "cell_type": "markdown",
   "metadata": {},
   "source": [
    "#### Stripping WhiteSpace"
   ]
  },
  {
   "cell_type": "markdown",
   "metadata": {},
   "source": [
    "Well, whitespaces are not always a bed of roses, sometimes they can be *thorny*!! Extra whitespaces can be confusing in your programs. \n",
    "\n",
    "'Moringa' and 'Moringa ' look pretty much the same, but to a program they are two different strings, as python interpreter will detect the extra space and considers it significant unless you tell it otherwise.\n",
    "\n",
    "* ```rstrip()``` - Ensure that no whitespaces exists at the right end of a string.\n",
    "* ```lstrip()``` - Ensure that no whitespaces exists at the left end of a string.\n",
    "* ```strip()``` - What do you think?"
   ]
  },
  {
   "cell_type": "code",
   "execution_count": 3,
   "metadata": {
    "tags": []
   },
   "outputs": [
    {
     "name": "stdout",
     "output_type": "stream",
     "text": [
      "terminal\n"
     ]
    }
   ],
   "source": [
    "# name variable in stripping\n",
    "inst_1 = \"terminal \"\n",
    "inst_2 = \" terminal\"\n",
    "inst_3 = \" terminal \"\n",
    "print(inst_1.rstrip())"
   ]
  },
  {
   "cell_type": "code",
   "execution_count": 47,
   "metadata": {
    "tags": []
   },
   "outputs": [
    {
     "name": "stdout",
     "output_type": "stream",
     "text": [
      "terminal terminal terminal\n"
     ]
    }
   ],
   "source": [
    "print(inst_1.rstrip(), inst_2.lstrip(), inst_3.strip())"
   ]
  },
  {
   "cell_type": "code",
   "execution_count": 48,
   "metadata": {
    "tags": []
   },
   "outputs": [
    {
     "name": "stdout",
     "output_type": "stream",
     "text": [
      "terminal   terminal  terminal \n"
     ]
    }
   ],
   "source": [
    "print(inst_1, inst_2, inst_3)"
   ]
  },
  {
   "cell_type": "markdown",
   "metadata": {},
   "source": [
    "#### Avoiding Syntax Errors with Strings"
   ]
  },
  {
   "cell_type": "markdown",
   "metadata": {},
   "source": [
    "* **Syntax error** occurs when python doesn't recognize a section of your program as valid python code."
   ]
  },
  {
   "cell_type": "code",
   "execution_count": null,
   "metadata": {},
   "outputs": [],
   "source": [
    "# code goes here."
   ]
  },
  {
   "cell_type": "markdown",
   "metadata": {},
   "source": [
    "### Knock yourself out!"
   ]
  },
  {
   "cell_type": "markdown",
   "metadata": {
    "tags": []
   },
   "source": [
    "1. Use a variable to represent a person’s name, and print a message to that person. Your message should be simple, such as, “Hello Eric, would you like to learn some Python today?”\n",
    "\n",
    "2. Create another variable to represent a different person and print the same message to that person.\n",
    "\n",
    "3. Use a variable to represent a person’s name, and then print that person’s name in lowercase,uppercase, and title case.\n",
    "\n",
    "4. Find any quote and Print thequote and the name of its author. Your output should look something like the following, including the quotation marks:\n",
    "*Chambilecho wahenga, \"Chamlevi huliwa na mgema.\"*\n",
    "5. print out the following\n",
    "\n",
    "```\n",
    "the dataset has:\n",
    "    * 25 rows.\n",
    "    * 2 columns.\n",
    "```"
   ]
  },
  {
   "cell_type": "code",
   "execution_count": 58,
   "metadata": {},
   "outputs": [
    {
     "name": "stdout",
     "output_type": "stream",
     "text": [
      "Mr. Eric, \n",
      "I would love to pay a visit to Mukuwe-Ini Magistrates' Court and in particular your NG'ANG'A'S SECTION which is in Bikeke\n"
     ]
    }
   ],
   "source": [
    "# code goes here \n",
    "# 1. Use a variable to represent a person’s name, and print a message to that person\n",
    "message = f\"Mr. {first_name}, \\nI would love to pay a visit to {court.title()} and in particular your {division.upper()} which is in {first_village.title()}\"\n",
    "print(message)"
   ]
  },
  {
   "cell_type": "code",
   "execution_count": 63,
   "metadata": {
    "tags": []
   },
   "outputs": [
    {
     "name": "stdout",
     "output_type": "stream",
     "text": [
      "Mrs. Katamu, \n",
      "We wish to introduce you to our Namgoi for the party to be held at MUKUWE-INI MAGISTRATES' COURT\n"
     ]
    }
   ],
   "source": [
    "# 2. Create another variable to represent a different person and print the same message to that person.\n",
    "message_1 = f\"Mrs. {second_name.title()}, \\nWe wish to introduce you to our {second_village.title()} for the party to be held at {court.upper()}\"\n",
    "print(message_1)"
   ]
  },
  {
   "cell_type": "code",
   "execution_count": 2,
   "metadata": {
    "tags": []
   },
   "outputs": [
    {
     "name": "stdout",
     "output_type": "stream",
     "text": [
      "rose LESLEY Nalwa\n"
     ]
    }
   ],
   "source": [
    "# 3. Use a variable to represent a person’s name, and then print that person’s name in lowercase,uppercase, and title case.\n",
    "# variable called wife's first name\n",
    "# variable called wife's second name\n",
    "# variable called wife's surname\n",
    "wife_name = \"Rose\"\n",
    "wife_name2 = \"Lesley\"\n",
    "wife_name3 = \"Nalwa\"\n",
    "print(wife_name.lower(), wife_name2.upper(), wife_name3.title())"
   ]
  },
  {
   "cell_type": "code",
   "execution_count": 1,
   "metadata": {
    "tags": []
   },
   "outputs": [],
   "source": [
    "# 4. Find any quote and Print thequote and the name of its author.\n",
    "# message from Sean Gerety\n",
    "author = \"Sean Gerety\""
   ]
  },
  {
   "cell_type": "code",
   "execution_count": 14,
   "metadata": {
    "tags": []
   },
   "outputs": [
    {
     "name": "stdout",
     "output_type": "stream",
     "text": [
      "*\"The technology you use impresses no one. The experience you create with it is everything.\" Sean Gerety*\n"
     ]
    }
   ],
   "source": [
    "message_5 = f'*\"The technology you use impresses no one. The experience you create with it is everything.\" {author}'\n",
    "print(message_5)"
   ]
  },
  {
   "cell_type": "code",
   "execution_count": 33,
   "metadata": {},
   "outputs": [],
   "source": [
    "#question5\n",
    "printout = f\"the dataset has: \\n*25 rows. \\n*2columns.\""
   ]
  },
  {
   "cell_type": "code",
   "execution_count": 34,
   "metadata": {
    "tags": []
   },
   "outputs": [
    {
     "name": "stdout",
     "output_type": "stream",
     "text": [
      "the dataset has: \n",
      "*25 rows. \n",
      "*2columns.\n"
     ]
    }
   ],
   "source": [
    "print(printout)"
   ]
  },
  {
   "cell_type": "code",
   "execution_count": null,
   "metadata": {},
   "outputs": [],
   "source": []
  }
 ],
 "metadata": {
  "kernelspec": {
   "display_name": "Python 3 (ipykernel)",
   "language": "python",
   "name": "python3"
  },
  "language_info": {
   "codemirror_mode": {
    "name": "ipython",
    "version": 3
   },
   "file_extension": ".py",
   "mimetype": "text/x-python",
   "name": "python",
   "nbconvert_exporter": "python",
   "pygments_lexer": "ipython3",
   "version": "3.11.3"
  }
 },
 "nbformat": 4,
 "nbformat_minor": 4
}
