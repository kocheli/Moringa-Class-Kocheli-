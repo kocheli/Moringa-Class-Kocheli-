{
 "cells": [
  {
   "cell_type": "markdown",
   "id": "239403ab-e902-4640-8053-f8de0a5ccaea",
   "metadata": {},
   "source": [
    "# Introduction\n",
    "\n",
    "## Objective\n",
    "\n",
    "* Assign and declare a python variable"
   ]
  },
  {
   "cell_type": "markdown",
   "id": "186ef293-70e7-47b0-9ea6-9d6d06aaf5a7",
   "metadata": {},
   "source": [
    "## Assigning variables"
   ]
  },
  {
   "cell_type": "code",
   "execution_count": 1,
   "id": "2ac35f5e-9dff-4581-8bf2-c23e1c3a8204",
   "metadata": {
    "tags": []
   },
   "outputs": [],
   "source": [
    "travel_month = \"January\""
   ]
  },
  {
   "cell_type": "code",
   "execution_count": 2,
   "id": "bb1a756b-f9cc-439d-a925-44d79b2d4b2b",
   "metadata": {
    "tags": []
   },
   "outputs": [],
   "source": [
    "number_of_weeks = 3"
   ]
  },
  {
   "cell_type": "code",
   "execution_count": 7,
   "id": "96ae155a-914e-42e5-9848-3e77ee1def86",
   "metadata": {
    "tags": []
   },
   "outputs": [
    {
     "name": "stdout",
     "output_type": "stream",
     "text": [
      "3\n"
     ]
    }
   ],
   "source": [
    "print(number_of_weeks)"
   ]
  },
  {
   "cell_type": "code",
   "execution_count": 3,
   "id": "b00c312e-0195-48f0-a02a-9ff6ef16a22e",
   "metadata": {
    "tags": []
   },
   "outputs": [],
   "source": [
    "number_of_weeks = 5"
   ]
  },
  {
   "cell_type": "markdown",
   "id": "bf8b7b32-5ebb-43ac-9005-1d5f38c1faff",
   "metadata": {},
   "source": [
    "Creating a string that uses both of these variables to tell us how many weeks we will be traveling in our travel month.\n",
    "The string should read \"I will be traveling 5 weeks starting in the month of January\". We can interpolate strings in the following ways:\n",
    "\n",
    "* \"Start of string\" + variable_to_interpolate_1 + \"middle\" + variable_to_interpolate_2 + \"end of string\"\n",
    "* \"Start of string {variable_1} middle {variable_2} end of string\".format(variable_1=variable_to_interpolate, variable_2=variable_to_interpolate)\n",
    "* f\"Start of string {variable_to_interpolate_1} middle {variable_to_interpolate_2} end of string\""
   ]
  },
  {
   "cell_type": "code",
   "execution_count": 8,
   "id": "bda39d3a-648c-45df-8b12-9caf1694f086",
   "metadata": {
    "tags": []
   },
   "outputs": [],
   "source": [
    "# string interpolation\n",
    "#option3\n",
    "traveling_schedule = f'\"I will be traveling {number_of_weeks} weeks starting in the month of {travel_month}\"'"
   ]
  },
  {
   "cell_type": "code",
   "execution_count": 9,
   "id": "b99a8939-021d-47ba-be8e-b37e0306e9c1",
   "metadata": {
    "tags": []
   },
   "outputs": [
    {
     "name": "stdout",
     "output_type": "stream",
     "text": [
      "\"I will be traveling 5 weeks starting in the month of January\"\n"
     ]
    }
   ],
   "source": [
    "print(traveling_schedule)"
   ]
  },
  {
   "cell_type": "code",
   "execution_count": 10,
   "id": "5ddd1287-00a3-4eac-ba9a-c0159973ef4e",
   "metadata": {
    "tags": []
   },
   "outputs": [],
   "source": [
    "#option2\n",
    "message = '\"I will be traveling {} weeks starting in the month of {}.\"'.format(number_of_weeks, travel_month)"
   ]
  },
  {
   "cell_type": "code",
   "execution_count": 11,
   "id": "b235ee25-bd9d-4349-b1dd-d323391672d5",
   "metadata": {
    "tags": []
   },
   "outputs": [
    {
     "name": "stdout",
     "output_type": "stream",
     "text": [
      "\"I will be traveling 5 weeks starting in the month of January.\"\n"
     ]
    }
   ],
   "source": [
    "print(message)"
   ]
  },
  {
   "cell_type": "code",
   "execution_count": 15,
   "id": "2ea6098f-2237-435d-8fe5-e3262054472f",
   "metadata": {
    "tags": []
   },
   "outputs": [],
   "source": [
    "#Option1\n",
    "message1 = \"I will be traveling 5 weeks starting in the month\" + \" \" + travel_month"
   ]
  },
  {
   "cell_type": "code",
   "execution_count": 16,
   "id": "f979588e-fe14-45b3-b241-4b96d763992b",
   "metadata": {
    "tags": []
   },
   "outputs": [
    {
     "name": "stdout",
     "output_type": "stream",
     "text": [
      "I will be traveling 5 weeks starting in the month January\n"
     ]
    }
   ],
   "source": [
    "print(message1)"
   ]
  },
  {
   "cell_type": "code",
   "execution_count": null,
   "id": "b8b90c2a-3bdb-488c-a11c-8ffd49a5efd6",
   "metadata": {},
   "outputs": [],
   "source": []
  }
 ],
 "metadata": {
  "kernelspec": {
   "display_name": "Python 3 (ipykernel)",
   "language": "python",
   "name": "python3"
  },
  "language_info": {
   "codemirror_mode": {
    "name": "ipython",
    "version": 3
   },
   "file_extension": ".py",
   "mimetype": "text/x-python",
   "name": "python",
   "nbconvert_exporter": "python",
   "pygments_lexer": "ipython3",
   "version": "3.11.3"
  }
 },
 "nbformat": 4,
 "nbformat_minor": 5
}
