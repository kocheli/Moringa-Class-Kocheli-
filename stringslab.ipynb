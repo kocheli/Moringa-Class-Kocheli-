{
 "cells": [
  {
   "cell_type": "markdown",
   "id": "4e3956e4-5e9f-47a5-869f-565b5ac48c49",
   "metadata": {},
   "source": [
    "# Introduction\n",
    "Now that we have learned about working with different types of data in Python: strings, numbers (ints and floats), and booleans, let's put that knowledge to the test. In this lab we'll imagine that we were at a nice social gathering and exchanged business cards with a few people. One of the business cards belongs to Art Vandelay, a new travel agent. We want to use our programming skills to format this information correctly.\n",
    "\n",
    "## Objectives\n",
    "You will be able to:\n",
    "* Apply string methods to make changes to a string\n",
    "* Use concatenation to combine strings\n",
    "* Perform basic mathematical operations with numeric data types"
   ]
  },
  {
   "cell_type": "markdown",
   "id": "edc6609a-22f7-41c2-be15-1e25c4153a02",
   "metadata": {},
   "source": [
    "For example, let's say we want to capitalize all of the letters of \"art vandelay\"."
   ]
  },
  {
   "cell_type": "code",
   "execution_count": 1,
   "id": "24db27ea-c4fd-48cc-a290-c6d9e58a3893",
   "metadata": {
    "tags": []
   },
   "outputs": [
    {
     "data": {
      "text/plain": [
       "'art vandelay'"
      ]
     },
     "execution_count": 1,
     "metadata": {},
     "output_type": "execute_result"
    }
   ],
   "source": [
    "\"art vandelay\" # \"ART VANDELAY\""
   ]
  },
  {
   "cell_type": "code",
   "execution_count": 2,
   "id": "5720fde3-ce89-4713-94df-9fb667b6e9fb",
   "metadata": {
    "tags": []
   },
   "outputs": [
    {
     "data": {
      "text/plain": [
       "'ART VANDELAY'"
      ]
     },
     "execution_count": 2,
     "metadata": {},
     "output_type": "execute_result"
    }
   ],
   "source": [
    "\"art vandelay\".upper()"
   ]
  },
  {
   "cell_type": "code",
   "execution_count": 3,
   "id": "28377607-50ff-4d42-912a-f9fd3e4d6efd",
   "metadata": {
    "tags": []
   },
   "outputs": [
    {
     "data": {
      "text/plain": [
       "'Ceo'"
      ]
     },
     "execution_count": 3,
     "metadata": {},
     "output_type": "execute_result"
    }
   ],
   "source": [
    "ceo = \"Ceo\" # 'CEO'\n",
    "\n",
    "ceo"
   ]
  },
  {
   "cell_type": "code",
   "execution_count": 4,
   "id": "1cc334b1-d09f-4220-ac7f-c5994017c3f6",
   "metadata": {
    "tags": []
   },
   "outputs": [
    {
     "data": {
      "text/plain": [
       "'CEO'"
      ]
     },
     "execution_count": 4,
     "metadata": {},
     "output_type": "execute_result"
    }
   ],
   "source": [
    "\"Ceo\".upper()"
   ]
  },
  {
   "cell_type": "markdown",
   "id": "6bec636a-9aeb-4e1f-a40b-4b5961ffddb9",
   "metadata": {},
   "source": [
    "Next we will need our code to answer a question about email addresses. Every email address should end with \".com\"."
   ]
  },
  {
   "cell_type": "code",
   "execution_count": 9,
   "id": "99dcace5-2497-4204-9261-068543c2a2d2",
   "metadata": {
    "tags": []
   },
   "outputs": [],
   "source": [
    "ends_with_com = \"art.vandelay@vandelay.co\" # False\n",
    "\n",
    "with_com = \"com\"\n",
    "\n",
    "if ends_with_com.endswith(with_com):\n",
    "    print(True)"
   ]
  },
  {
   "cell_type": "code",
   "execution_count": 10,
   "id": "3d7c46f2-7222-4341-b2f7-d1f40bc1adff",
   "metadata": {
    "tags": []
   },
   "outputs": [
    {
     "name": "stdout",
     "output_type": "stream",
     "text": [
      "True\n"
     ]
    }
   ],
   "source": [
    "ends_with_com = \"art.vandelay@vandelay.com\" # False\n",
    "\n",
    "with_com = \"com\"\n",
    "\n",
    "if ends_with_com.endswith(with_com):\n",
    "    print(True)"
   ]
  },
  {
   "cell_type": "markdown",
   "id": "ddf8e3b2-4f63-4532-b916-70faa1f41938",
   "metadata": {},
   "source": [
    "## Working with Numbers"
   ]
  },
  {
   "cell_type": "code",
   "execution_count": 15,
   "id": "e83d15cf-b833-4b4a-aa43-53d937772fc6",
   "metadata": {
    "tags": []
   },
   "outputs": [],
   "source": [
    "phone_num_one = 7285553334\n",
    "phone_num_two = 7285553335\n",
    "phone_num_three = 7285553336"
   ]
  },
  {
   "cell_type": "code",
   "execution_count": 16,
   "id": "55665dd6-1de0-4b95-9a55-43364149f93b",
   "metadata": {
    "tags": []
   },
   "outputs": [
    {
     "name": "stdout",
     "output_type": "stream",
     "text": [
      "7285553334\n",
      "7285553335\n",
      "7285553336\n"
     ]
    }
   ],
   "source": [
    "print(phone_num_one)\n",
    "print(phone_num_two)\n",
    "print(phone_num_three)"
   ]
  },
  {
   "cell_type": "code",
   "execution_count": 17,
   "id": "525d8bec-fc31-44d3-ab59-63619379a66d",
   "metadata": {
    "tags": []
   },
   "outputs": [],
   "source": [
    "phone_num_three = 7285553336 + 1"
   ]
  },
  {
   "cell_type": "code",
   "execution_count": 18,
   "id": "498c71d2-5fc7-4236-a4a5-c5722f7f441e",
   "metadata": {
    "tags": []
   },
   "outputs": [
    {
     "name": "stdout",
     "output_type": "stream",
     "text": [
      "7285553337\n"
     ]
    }
   ],
   "source": [
    "print(phone_num_three)"
   ]
  },
  {
   "cell_type": "code",
   "execution_count": null,
   "id": "1add2554-684f-4aa5-bc3b-07725370b7da",
   "metadata": {},
   "outputs": [],
   "source": []
  }
 ],
 "metadata": {
  "kernelspec": {
   "display_name": "Python 3 (ipykernel)",
   "language": "python",
   "name": "python3"
  },
  "language_info": {
   "codemirror_mode": {
    "name": "ipython",
    "version": 3
   },
   "file_extension": ".py",
   "mimetype": "text/x-python",
   "name": "python",
   "nbconvert_exporter": "python",
   "pygments_lexer": "ipython3",
   "version": "3.11.3"
  }
 },
 "nbformat": 4,
 "nbformat_minor": 5
}
