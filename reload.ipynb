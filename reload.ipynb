{
 "cells": [
  {
   "cell_type": "markdown",
   "id": "cd0d3bb9-32bb-429a-88b2-2b7e5f644704",
   "metadata": {
    "tags": []
   },
   "source": [
    "## Loops reloaded"
   ]
  },
  {
   "cell_type": "code",
   "execution_count": null,
   "id": "83375a96-78a2-4a12-99e3-4f9857be582a",
   "metadata": {},
   "outputs": [],
   "source": []
  }
 ],
 "metadata": {
  "kernelspec": {
   "display_name": "Python 3 (ipykernel)",
   "language": "python",
   "name": "python3"
  },
  "language_info": {
   "codemirror_mode": {
    "name": "ipython",
    "version": 3
   },
   "file_extension": ".py",
   "mimetype": "text/x-python",
   "name": "python",
   "nbconvert_exporter": "python",
   "pygments_lexer": "ipython3",
   "version": "3.11.3"
  }
 },
 "nbformat": 4,
 "nbformat_minor": 5
}
