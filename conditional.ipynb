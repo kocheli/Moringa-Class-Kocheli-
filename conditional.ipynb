{
 "cells": [
  {
   "cell_type": "code",
   "execution_count": 2,
   "id": "1cb02365-270d-466d-b63e-fbbd11a9ce28",
   "metadata": {
    "tags": []
   },
   "outputs": [],
   "source": [
    "# set-up leave-days variable\n",
    "leave_days = 0"
   ]
  },
  {
   "cell_type": "code",
   "execution_count": 3,
   "id": "983a8a2b-881e-4110-92d9-5e5c608e6baa",
   "metadata": {
    "tags": []
   },
   "outputs": [],
   "source": [
    "leave_days = leave_days+1"
   ]
  },
  {
   "cell_type": "code",
   "execution_count": 4,
   "id": "22848b89-f7b9-4662-9a2e-61bea76f13ca",
   "metadata": {
    "tags": []
   },
   "outputs": [
    {
     "name": "stdout",
     "output_type": "stream",
     "text": [
      "1\n"
     ]
    }
   ],
   "source": [
    "print(leave_days)"
   ]
  },
  {
   "cell_type": "code",
   "execution_count": 11,
   "id": "6260df4b-1cb6-4ff1-90db-df8e4a3537c7",
   "metadata": {
    "tags": []
   },
   "outputs": [],
   "source": [
    "# increment the value\n",
    "leave_days += 1"
   ]
  },
  {
   "cell_type": "code",
   "execution_count": 13,
   "id": "22871f4b-3b03-4bbc-b9ee-a4459d8783d3",
   "metadata": {
    "tags": []
   },
   "outputs": [
    {
     "name": "stdout",
     "output_type": "stream",
     "text": [
      "4\n"
     ]
    }
   ],
   "source": [
    "print(leave_days)"
   ]
  },
  {
   "cell_type": "code",
   "execution_count": 16,
   "id": "8cf42c49-9749-4ba1-8442-64c3f9e756dc",
   "metadata": {
    "tags": []
   },
   "outputs": [],
   "source": [
    "# decrement the value\n",
    "leave_days -= 1 #leave_days = leave_days -1"
   ]
  },
  {
   "cell_type": "code",
   "execution_count": 17,
   "id": "2958a47d-115c-4360-9c07-6e5f84e42bbf",
   "metadata": {
    "tags": []
   },
   "outputs": [
    {
     "name": "stdout",
     "output_type": "stream",
     "text": [
      "2\n"
     ]
    }
   ],
   "source": [
    "print(leave_days)"
   ]
  },
  {
   "cell_type": "markdown",
   "id": "e593cacb-5ca8-4a4d-8df3-3e5323ca5821",
   "metadata": {},
   "source": [
    "## If statement"
   ]
  },
  {
   "cell_type": "code",
   "execution_count": 19,
   "id": "399afe99-0207-47e6-b9a4-93247a69ef89",
   "metadata": {
    "tags": []
   },
   "outputs": [
    {
     "name": "stdout",
     "output_type": "stream",
     "text": [
      "25\n"
     ]
    }
   ],
   "source": [
    "leave_days = 30\n",
    "\n",
    "#use boolean\n",
    "take_leave = True\n",
    "\n",
    "#decided to take leave\n",
    "if take_leave: # condition\n",
    "    \n",
    "    leave_days -=5\n",
    "    \n",
    "print(leave_days)"
   ]
  },
  {
   "cell_type": "code",
   "execution_count": 28,
   "id": "7aa8b8cc-5566-4973-b18d-1bf533584082",
   "metadata": {
    "tags": []
   },
   "outputs": [
    {
     "name": "stdout",
     "output_type": "stream",
     "text": [
      "Pass\n"
     ]
    }
   ],
   "source": [
    "# condition 2\n",
    "grade = 32\n",
    "\n",
    "if grade > 20: #condition\n",
    "    outcome = \"Pass\"\n",
    "    print(outcome)\n",
    "else:\n",
    "    outcome = \"Average\"\n",
    "    print(outcome)"
   ]
  },
  {
   "cell_type": "code",
   "execution_count": 29,
   "id": "6e4d0528-94ee-4ac5-8014-15866d88aa9c",
   "metadata": {
    "tags": []
   },
   "outputs": [
    {
     "name": "stdout",
     "output_type": "stream",
     "text": [
      "Average\n"
     ]
    }
   ],
   "source": [
    "# condition 3\n",
    "# whats happens if the studennt scores less than 20\n",
    "grade = 9\n",
    "\n",
    "if grade > 20: #condition\n",
    "    outcome = \"Pass\" \n",
    "    print(outcome)\n",
    "else:\n",
    "    outcome = \"Average\"\n",
    "    print(outcome)"
   ]
  },
  {
   "cell_type": "markdown",
   "id": "29b361fb-3239-4829-bceb-0d29259f1314",
   "metadata": {
    "tags": []
   },
   "source": [
    "## And is\n",
    "*used to join two or more conditions\n",
    "*Example students who have scored above 40 but below 50 are said to have attained grade D\n",
    "*Note - For and, all the conditions have to be True for the condition to be true"
   ]
  },
  {
   "cell_type": "code",
   "execution_count": 37,
   "id": "3e4f9ad1-3823-414b-95ed-45c018f86cb3",
   "metadata": {
    "tags": []
   },
   "outputs": [
    {
     "name": "stdout",
     "output_type": "stream",
     "text": [
      "Boy\n"
     ]
    }
   ],
   "source": [
    "#Example\n",
    "age = 12\n",
    "gender = 'Male'\n",
    "\n",
    "if age < 18 and gender == 'Male': #boths the conditons have to be met\n",
    "    print('Boy')"
   ]
  },
  {
   "cell_type": "markdown",
   "id": "0b76eb3c-149b-4f77-973c-0eee746f5a11",
   "metadata": {
    "tags": []
   },
   "source": [
    "Summary\n",
    "|Condition 1|Condition 2|Final Condition|\n",
    "|:---------:|:---------:|:-------------:|\n",
    "|True|True|True|\n",
    "|True|False|False|\n",
    "|False|True|False|\n",
    "|False|False|True|\n",
    "|False|False|False|"
   ]
  },
  {
   "cell_type": "markdown",
   "id": "5840371d-bb68-4ca8-a23e-5a54b2ae6251",
   "metadata": {},
   "source": [
    "Conditions\n",
    "below 40 >> E\n",
    "above 40 >> D\n",
    "above 50 >> C\n",
    "above 60 >> B\n",
    "above 70 >> A"
   ]
  },
  {
   "cell_type": "raw",
   "id": "135f9d74-5934-4530-9688-c6bbdd35f128",
   "metadata": {
    "tags": []
   },
   "source": [
    "# grades\n",
    "\n",
    "grade = 35\n",
    "if grade>= 40 and (grade < 50):\n",
    "    grade = \"D\"\n",
    "    print(grade)\n",
    "    \n",
    "elif (grade >= 50) and (grade < 60):\n",
    "    grade = \"C\"\n",
    "    print(grade)\n",
    "    \n",
    "elif (grade >= 60) and (grade < 70):\n",
    "    grade = \"B\"\n",
    "    print(grade)\n",
    "    \n",
    "elif grade >= 70:\n",
    "    grade = \"A\"\n",
    "    print(grade)\n",
    "    \n",
    "else:\n",
    "    print(\"E\")\n"
   ]
  },
  {
   "cell_type": "markdown",
   "id": "9b74035c-1a38-4333-b086-1eb22a8a96fb",
   "metadata": {},
   "source": [
    "## OR\n",
    "* just like and it's used to join conditions\n",
    "* Atleast one condition should be True"
   ]
  },
  {
   "cell_type": "markdown",
   "id": "3a69ca8f-895d-4b92-bbbe-8cbced931b7a",
   "metadata": {},
   "source": [
    "Summary\n",
    "|Condition 1|Condition 2|Final Condition|\n",
    "|:---------:|:---------:|:-------------:|\n",
    "|True|True|True|\n",
    "|True|False|True|\n",
    "|False|True|True|"
   ]
  },
  {
   "cell_type": "code",
   "execution_count": 56,
   "id": "3b7c26b1-9283-4b09-8a8b-930d0566a19a",
   "metadata": {
    "tags": []
   },
   "outputs": [
    {
     "name": "stdout",
     "output_type": "stream",
     "text": [
      "Proceed\n"
     ]
    }
   ],
   "source": [
    "#Example \n",
    "# Proceed to the bouncing castle\n",
    "height = 30\n",
    "weight = 40\n",
    "if (height < 40) or (weight < 50): #condition is true if atleast one condition is met\n",
    "    print(\"Proceed\")"
   ]
  },
  {
   "cell_type": "code",
   "execution_count": 55,
   "id": "bc214f41-4e93-43ed-aed9-3048cb87cb74",
   "metadata": {
    "tags": []
   },
   "outputs": [
    {
     "name": "stdout",
     "output_type": "stream",
     "text": [
      "Rejected\n"
     ]
    }
   ],
   "source": [
    "#Example Solo Question\n",
    "# Proceed to the bouncing castle\n",
    "height = 60\n",
    "weight = 60\n",
    "if (height < 40) or (weight < 50): #condition is true if atleast one condition is met\n",
    "    print(\"Proceed\")\n",
    "else:\n",
    "    print(\"Rejected\")"
   ]
  },
  {
   "cell_type": "code",
   "execution_count": null,
   "id": "16f38787-ffa5-4fa0-9e6f-06f76d2c0a2b",
   "metadata": {},
   "outputs": [],
   "source": []
  }
 ],
 "metadata": {
  "kernelspec": {
   "display_name": "Python 3 (ipykernel)",
   "language": "python",
   "name": "python3"
  },
  "language_info": {
   "codemirror_mode": {
    "name": "ipython",
    "version": 3
   },
   "file_extension": ".py",
   "mimetype": "text/x-python",
   "name": "python",
   "nbconvert_exporter": "python",
   "pygments_lexer": "ipython3",
   "version": "3.11.3"
  }
 },
 "nbformat": 4,
 "nbformat_minor": 5
}
