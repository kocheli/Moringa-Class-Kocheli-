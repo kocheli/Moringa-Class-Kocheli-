{
 "cells": [
  {
   "cell_type": "code",
   "execution_count": 2,
   "id": "1cb02365-270d-466d-b63e-fbbd11a9ce28",
   "metadata": {
    "tags": []
   },
   "outputs": [],
   "source": [
    "# set-up leave-days variable\n",
    "leave_days = 0"
   ]
  },
  {
   "cell_type": "code",
   "execution_count": 3,
   "id": "983a8a2b-881e-4110-92d9-5e5c608e6baa",
   "metadata": {
    "tags": []
   },
   "outputs": [],
   "source": [
    "leave_days = leave_days+1"
   ]
  },
  {
   "cell_type": "code",
   "execution_count": 4,
   "id": "22848b89-f7b9-4662-9a2e-61bea76f13ca",
   "metadata": {
    "tags": []
   },
   "outputs": [
    {
     "name": "stdout",
     "output_type": "stream",
     "text": [
      "1\n"
     ]
    }
   ],
   "source": [
    "print(leave_days)"
   ]
  },
  {
   "cell_type": "code",
   "execution_count": 11,
   "id": "6260df4b-1cb6-4ff1-90db-df8e4a3537c7",
   "metadata": {
    "tags": []
   },
   "outputs": [],
   "source": [
    "# increment the value\n",
    "leave_days += 1"
   ]
  },
  {
   "cell_type": "code",
   "execution_count": 13,
   "id": "22871f4b-3b03-4bbc-b9ee-a4459d8783d3",
   "metadata": {
    "tags": []
   },
   "outputs": [
    {
     "name": "stdout",
     "output_type": "stream",
     "text": [
      "4\n"
     ]
    }
   ],
   "source": [
    "print(leave_days)"
   ]
  },
  {
   "cell_type": "code",
   "execution_count": 16,
   "id": "8cf42c49-9749-4ba1-8442-64c3f9e756dc",
   "metadata": {
    "tags": []
   },
   "outputs": [],
   "source": [
    "# decrement the value\n",
    "leave_days -= 1 #leave_days = leave_days -1"
   ]
  },
  {
   "cell_type": "code",
   "execution_count": 17,
   "id": "2958a47d-115c-4360-9c07-6e5f84e42bbf",
   "metadata": {
    "tags": []
   },
   "outputs": [
    {
     "name": "stdout",
     "output_type": "stream",
     "text": [
      "2\n"
     ]
    }
   ],
   "source": [
    "print(leave_days)"
   ]
  },
  {
   "cell_type": "markdown",
   "id": "e593cacb-5ca8-4a4d-8df3-3e5323ca5821",
   "metadata": {},
   "source": [
    "## If statement"
   ]
  },
  {
   "cell_type": "code",
   "execution_count": 19,
   "id": "399afe99-0207-47e6-b9a4-93247a69ef89",
   "metadata": {
    "tags": []
   },
   "outputs": [
    {
     "name": "stdout",
     "output_type": "stream",
     "text": [
      "25\n"
     ]
    }
   ],
   "source": [
    "leave_days = 30\n",
    "\n",
    "#use boolean\n",
    "take_leave = True\n",
    "\n",
    "#decided to take leave\n",
    "if take_leave: # condition\n",
    "    \n",
    "    leave_days -=5\n",
    "    \n",
    "print(leave_days)"
   ]
  },
  {
   "cell_type": "code",
   "execution_count": 28,
   "id": "7aa8b8cc-5566-4973-b18d-1bf533584082",
   "metadata": {
    "tags": []
   },
   "outputs": [
    {
     "name": "stdout",
     "output_type": "stream",
     "text": [
      "Pass\n"
     ]
    }
   ],
   "source": [
    "# condition 2\n",
    "grade = 32\n",
    "\n",
    "if grade > 20: #condition\n",
    "    outcome = \"Pass\"\n",
    "    print(outcome)\n",
    "else:\n",
    "    outcome = \"Average\"\n",
    "    print(outcome)"
   ]
  },
  {
   "cell_type": "code",
   "execution_count": 29,
   "id": "6e4d0528-94ee-4ac5-8014-15866d88aa9c",
   "metadata": {
    "tags": []
   },
   "outputs": [
    {
     "name": "stdout",
     "output_type": "stream",
     "text": [
      "Average\n"
     ]
    }
   ],
   "source": [
    "# condition 3\n",
    "# whats happens if the studennt scores less than 20\n",
    "grade = 9\n",
    "\n",
    "if grade > 20: #condition\n",
    "    outcome = \"Pass\" \n",
    "    print(outcome)\n",
    "else:\n",
    "    outcome = \"Average\"\n",
    "    print(outcome)"
   ]
  },
  {
   "cell_type": "markdown",
   "id": "29b361fb-3239-4829-bceb-0d29259f1314",
   "metadata": {
    "tags": []
   },
   "source": [
    "## And is\n",
    "*used to join two or more conditions\n",
    "*Example students who have scored above 40 but below 50 are said to have attained grade D\n",
    "*Note - For and, all the conditions have to be True for the condition to be true"
   ]
  },
  {
   "cell_type": "code",
   "execution_count": 37,
   "id": "3e4f9ad1-3823-414b-95ed-45c018f86cb3",
   "metadata": {
    "tags": []
   },
   "outputs": [
    {
     "name": "stdout",
     "output_type": "stream",
     "text": [
      "Boy\n"
     ]
    }
   ],
   "source": [
    "#Example\n",
    "age = 12\n",
    "gender = 'Male'\n",
    "\n",
    "if age < 18 and gender == 'Male': #boths the conditons have to be met\n",
    "    print('Boy')"
   ]
  },
  {
   "cell_type": "markdown",
   "id": "a9506f51-e4df-4011-bb81-142d1b1d3525",
   "metadata": {
    "tags": []
   },
   "source": [
    "Summary\n",
    "|Condition 1|Condition 2|Final Condition|\n",
    "|:---------:|:---------:|:-------------:|\n",
    "|True|True|True|\n",
    "|True|False|False|\n",
    "|False|True|False|\n",
    "|False|False|False|"
   ]
  },
  {
   "cell_type": "markdown",
   "id": "5840371d-bb68-4ca8-a23e-5a54b2ae6251",
   "metadata": {},
   "source": [
    "Conditions\n",
    "below 40 >> E\n",
    "above 40 >> D\n",
    "above 50 >> C\n",
    "above 60 >> B\n",
    "above 70 >> A"
   ]
  },
  {
   "cell_type": "code",
   "execution_count": 30,
   "id": "a68410d9-797f-4be3-94db-ba1633750a71",
   "metadata": {
    "tags": []
   },
   "outputs": [
    {
     "name": "stdout",
     "output_type": "stream",
     "text": [
      "C\n"
     ]
    }
   ],
   "source": [
    "# grades\n",
    "\n",
    "grade = 55\n",
    "if grade>= 40 and (grade < 50):\n",
    "    grade = \"D\"\n",
    "    print(grade)\n",
    "    \n",
    "elif (grade >= 50) and (grade < 60):\n",
    "    grade = \"C\"\n",
    "    print(grade)\n",
    "    \n",
    "elif (grade >= 60) and (grade < 70):\n",
    "    grade = \"B\"\n",
    "    print(grade)\n",
    "    \n",
    "elif grade >= 70:\n",
    "    grade = \"A\"\n",
    "    print(grade)\n",
    "    \n",
    "else:\n",
    "    print(\"E\")\n"
   ]
  },
  {
   "cell_type": "markdown",
   "id": "9b74035c-1a38-4333-b086-1eb22a8a96fb",
   "metadata": {},
   "source": [
    "## OR\n",
    "* just like and it's used to join conditions\n",
    "* Atleast one condition should be True"
   ]
  },
  {
   "cell_type": "markdown",
   "id": "aecea20b-e8ad-4c9d-94c4-5f4e09320a9c",
   "metadata": {},
   "source": [
    "Summary\n",
    "|Condition 1|Condition 2|Final Condition|\n",
    "|:---------:|:---------:|:-------------:|\n",
    "|True|True|True|\n",
    "|True|False|True|\n",
    "|False|True|True|\n",
    "|False|False|False|"
   ]
  },
  {
   "cell_type": "code",
   "execution_count": 56,
   "id": "3b7c26b1-9283-4b09-8a8b-930d0566a19a",
   "metadata": {
    "tags": []
   },
   "outputs": [
    {
     "name": "stdout",
     "output_type": "stream",
     "text": [
      "Proceed\n"
     ]
    }
   ],
   "source": [
    "#Example \n",
    "# Proceed to the bouncing castle\n",
    "height = 30\n",
    "weight = 40\n",
    "if (height < 40) or (weight < 50): #condition is true if atleast one condition is met\n",
    "    print(\"Proceed\")"
   ]
  },
  {
   "cell_type": "code",
   "execution_count": 55,
   "id": "bc214f41-4e93-43ed-aed9-3048cb87cb74",
   "metadata": {
    "tags": []
   },
   "outputs": [
    {
     "name": "stdout",
     "output_type": "stream",
     "text": [
      "Rejected\n"
     ]
    }
   ],
   "source": [
    "#Example Solo Question\n",
    "# Proceed to the bouncing castle\n",
    "height = 60\n",
    "weight = 60\n",
    "if (height < 40) or (weight < 50): #condition is true if atleast one condition is met\n",
    "    print(\"Proceed\")\n",
    "else:\n",
    "    print(\"Rejected\")"
   ]
  },
  {
   "cell_type": "markdown",
   "id": "e2f36571-445d-41a4-a1f2-9f66f7d0099f",
   "metadata": {},
   "source": [
    "# Assigment"
   ]
  },
  {
   "cell_type": "markdown",
   "id": "e909eb89-af81-43ea-a567-b9f665da3159",
   "metadata": {},
   "source": [
    "## Contents\n",
    "    1. Write a program that determines whether a number is even or odd. Print a message indicating whether the number is even or odd.\n",
    "    2. Write a program that checks if a given year is a leap year. A leap year is divisible by 4, but not divisible by 100, except if its divisible by 400.\n",
    "    3. Write a program that will use age to determine the price of a movie theater.\n",
    "        *Age < 13  price Ksh 400\n",
    "        *13 <= Age <=17 Ksh 600\n",
    "        *18 <= Age 65 <= Ksh 800\n",
    "        *Age > 65 Ksh 350"
   ]
  },
  {
   "cell_type": "code",
   "execution_count": 2,
   "id": "9f3a3c8e-5236-4249-b43e-879b145cb73a",
   "metadata": {
    "tags": []
   },
   "outputs": [
    {
     "name": "stdout",
     "output_type": "stream",
     "text": [
      "odd\n"
     ]
    }
   ],
   "source": [
    "#1. Write a program that determines whether a number is even or odd. Print a message indicating whether the number is even or odd.\n",
    "#If number if even\n",
    "\n",
    "number = 15\n",
    "\n",
    "if(number % 2) == 0:\n",
    "    print(\"even\")\n",
    "    \n",
    "else:\n",
    "    print(\"odd\")     "
   ]
  },
  {
   "cell_type": "code",
   "execution_count": 3,
   "id": "7a50eaa4-6c89-4c3d-96dd-9e16b51925e8",
   "metadata": {
    "tags": []
   },
   "outputs": [
    {
     "name": "stdout",
     "output_type": "stream",
     "text": [
      "even\n"
     ]
    }
   ],
   "source": [
    "number = 12\n",
    "\n",
    "if(number % 2) == 0:\n",
    "    print(\"even\")\n",
    "    \n",
    "else:\n",
    "    print(\"odd\")"
   ]
  },
  {
   "cell_type": "code",
   "execution_count": 5,
   "id": "9a09f206-3af5-4c9b-bcb9-af7a8ac0d67c",
   "metadata": {
    "tags": []
   },
   "outputs": [
    {
     "name": "stdout",
     "output_type": "stream",
     "text": [
      "Leap Year\n"
     ]
    }
   ],
   "source": [
    "#2. Write a program that checks if a given year is a leap year.\n",
    " # Condition => A leap year is divisible by 4, but not divisible by 100, except if its divisible by 400.\n",
    "\n",
    "year = 2000\n",
    "\n",
    "if (year%4==0) and (year%100!=0) or (year%400==0): #(If leap year is divisible by 4 or not divisible by 100) or (divisible by 400)\n",
    "    outcome = \"Leap Year\"\n",
    "    print(outcome)\n",
    "else:\n",
    "    outcome = \"Not Leap Year\"\n",
    "    print(outcome)"
   ]
  },
  {
   "cell_type": "code",
   "execution_count": 6,
   "id": "c298e1f3-d303-4040-aea4-9c43e796f991",
   "metadata": {
    "tags": []
   },
   "outputs": [
    {
     "name": "stdout",
     "output_type": "stream",
     "text": [
      "Not Leap Year\n"
     ]
    }
   ],
   "source": [
    "year = 2001\n",
    "\n",
    "if (year%4==0) and (year%100!=0) or (year%400==0): #(If leap year is divisible by 4 or not divisible by 100) or (divisible by 400)\n",
    "    outcome = \"Leap Year\"\n",
    "    print(outcome)\n",
    "else:\n",
    "    outcome = \"Not Leap Year\"\n",
    "    print(outcome)"
   ]
  },
  {
   "cell_type": "code",
   "execution_count": 34,
   "id": "8f37b114-921f-47d0-8392-35ae0dcd24b3",
   "metadata": {
    "tags": []
   },
   "outputs": [
    {
     "name": "stdout",
     "output_type": "stream",
     "text": [
      "Kes. 400\n"
     ]
    }
   ],
   "source": [
    "#3. Write a program that will use age to determine the price of a movie theater.\n",
    "#    *Age < 13  price Ksh 400\n",
    "#    *13 <= Age <=17 Ksh 600\n",
    "#    *18 <= Age 65 <= Ksh 800\n",
    "#    *Age > 65 Ksh 350\n",
    "\n",
    "#Age vs. Price\n",
    "\n",
    "Age = 10\n",
    "\n",
    "if (Age < 13):\n",
    "    price = \"Kes. 400\"\n",
    "    print(price)\n",
    "\n",
    "elif (Age >= 13) and (Age <= 17):\n",
    "    price = \"Kes. 600\"\n",
    "    print(price)\n",
    "    \n",
    "elif (Age >= 18) and (Age <= 65):\n",
    "    price = \"Kes. 800\"\n",
    "    print(price)\n",
    "\n",
    "else:\n",
    "    price = \"Kes. 350\"\n",
    "    print(price)"
   ]
  },
  {
   "cell_type": "code",
   "execution_count": 35,
   "id": "8792d512-6ce1-4912-ad82-03acd4115ddc",
   "metadata": {
    "tags": []
   },
   "outputs": [
    {
     "name": "stdout",
     "output_type": "stream",
     "text": [
      "Kes. 600\n"
     ]
    }
   ],
   "source": [
    "#Age vs. Price\n",
    "\n",
    "Age = 16\n",
    "\n",
    "if (Age < 13):\n",
    "    price = \"Kes. 400\"\n",
    "    print(price)\n",
    "\n",
    "elif (Age >= 13) and (Age <= 17):\n",
    "    price = \"Kes. 600\"\n",
    "    print(price)\n",
    "    \n",
    "elif (Age >= 18) and (Age <= 65):\n",
    "    price = \"Kes. 800\"\n",
    "    print(price)\n",
    "\n",
    "else:\n",
    "    price = \"Kes. 350\"\n",
    "    print(price)"
   ]
  },
  {
   "cell_type": "code",
   "execution_count": 36,
   "id": "e070c835-344e-4421-b412-b92b373e9352",
   "metadata": {
    "tags": []
   },
   "outputs": [
    {
     "name": "stdout",
     "output_type": "stream",
     "text": [
      "Kes. 350\n"
     ]
    }
   ],
   "source": [
    "#Age vs. Price\n",
    "\n",
    "Age = 66\n",
    "\n",
    "if (Age < 13):\n",
    "    price = \"Kes. 400\"\n",
    "    print(price)\n",
    "\n",
    "elif (Age >= 13) and (Age <= 17):\n",
    "    price = \"Kes. 600\"\n",
    "    print(price)\n",
    "    \n",
    "elif (Age >= 18) and (Age <= 65):\n",
    "    price = \"Kes. 800\"\n",
    "    print(price)\n",
    "\n",
    "else:\n",
    "    price = \"Kes. 350\"\n",
    "    print(price)"
   ]
  },
  {
   "cell_type": "code",
   "execution_count": 37,
   "id": "e154a31c-addb-48a5-b1b0-196ea48280c9",
   "metadata": {
    "tags": []
   },
   "outputs": [
    {
     "name": "stdout",
     "output_type": "stream",
     "text": [
      "Kes. 800\n"
     ]
    }
   ],
   "source": [
    "#Age vs. Price\n",
    "\n",
    "Age = 42\n",
    "\n",
    "if (Age < 13):\n",
    "    price = \"Kes. 400\"\n",
    "    print(price)\n",
    "\n",
    "elif (Age >= 13) and (Age <= 17):\n",
    "    price = \"Kes. 600\"\n",
    "    print(price)\n",
    "    \n",
    "elif (Age >= 18) and (Age <= 65):\n",
    "    price = \"Kes. 800\"\n",
    "    print(price)\n",
    "\n",
    "else:\n",
    "    price = \"Kes. 350\"\n",
    "    print(price)"
   ]
  },
  {
   "cell_type": "code",
   "execution_count": null,
   "id": "8e976723-ebe9-458d-8e39-4dabc5478756",
   "metadata": {},
   "outputs": [],
   "source": []
  }
 ],
 "metadata": {
  "kernelspec": {
   "display_name": "Python 3 (ipykernel)",
   "language": "python",
   "name": "python3"
  },
  "language_info": {
   "codemirror_mode": {
    "name": "ipython",
    "version": 3
   },
   "file_extension": ".py",
   "mimetype": "text/x-python",
   "name": "python",
   "nbconvert_exporter": "python",
   "pygments_lexer": "ipython3",
   "version": "3.11.3"
  }
 },
 "nbformat": 4,
 "nbformat_minor": 5
}
