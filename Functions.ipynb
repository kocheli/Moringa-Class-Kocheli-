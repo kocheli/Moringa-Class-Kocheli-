{
 "cells": [
  {
   "cell_type": "markdown",
   "id": "16cd55fd-efc4-4ac8-8878-5359ef2f8d42",
   "metadata": {},
   "source": [
    "# Functions"
   ]
  },
  {
   "cell_type": "markdown",
   "id": "47f43d44-aff4-4be6-9c66-709d55231f77",
   "metadata": {},
   "source": [
    "* A named block of codes that are designed to do one specific job.\n",
    "* When you want to perform a particular task that you have defined in a function, you *call* the function responsible for it.\n",
    "* If you need to perform that task multiple times accross your programme, you don't need to type the code all over again and again; you just call the fucntion dedicated to handling that task\n",
    "* Using functions makes your program easier to write, read, test and fix."
   ]
  },
  {
   "cell_type": "code",
   "execution_count": 1,
   "id": "0ad46f84-4c5f-4154-95c9-b48e69193e57",
   "metadata": {
    "tags": []
   },
   "outputs": [
    {
     "name": "stdout",
     "output_type": "stream",
     "text": [
      "The Zen of Python, by Tim Peters\n",
      "\n",
      "Beautiful is better than ugly.\n",
      "Explicit is better than implicit.\n",
      "Simple is better than complex.\n",
      "Complex is better than complicated.\n",
      "Flat is better than nested.\n",
      "Sparse is better than dense.\n",
      "Readability counts.\n",
      "Special cases aren't special enough to break the rules.\n",
      "Although practicality beats purity.\n",
      "Errors should never pass silently.\n",
      "Unless explicitly silenced.\n",
      "In the face of ambiguity, refuse the temptation to guess.\n",
      "There should be one-- and preferably only one --obvious way to do it.\n",
      "Although that way may not be obvious at first unless you're Dutch.\n",
      "Now is better than never.\n",
      "Although never is often better than *right* now.\n",
      "If the implementation is hard to explain, it's a bad idea.\n",
      "If the implementation is easy to explain, it may be a good idea.\n",
      "Namespaces are one honking great idea -- let's do more of those!\n"
     ]
    }
   ],
   "source": [
    "# zen of pyhtom\n",
    "import this"
   ]
  },
  {
   "cell_type": "markdown",
   "id": "85b7a92f-a5ac-48ab-b1b2-8f3ff45be0d4",
   "metadata": {},
   "source": [
    "## Types of functions\n",
    "1. `User-defined functions` - Functions that are created/defined by the user from scratch and then call them wherever we want to use them.\n",
    "2. `Built-in functions` - Functions that are defined in the Pyhton Libraries and are called directly"
   ]
  },
  {
   "cell_type": "markdown",
   "id": "8faf3246-7ec7-4012-9db4-2d76df167e2e",
   "metadata": {},
   "source": [
    "## Defining a Function"
   ]
  },
  {
   "cell_type": "code",
   "execution_count": 16,
   "id": "7a808d87-990a-4a68-8a4d-fb1d0c27ab3a",
   "metadata": {
    "tags": []
   },
   "outputs": [
    {
     "name": "stdout",
     "output_type": "stream",
     "text": [
      "Hello\n"
     ]
    }
   ],
   "source": [
    "# Example1\n",
    "def greet_user():\n",
    "    \"\"\"Display a simple greeting\"\"\"\n",
    "    print(\"Hello\")\n",
    "greet_user()"
   ]
  },
  {
   "cell_type": "markdown",
   "id": "f4ace54e-ca6b-4b20-bdfe-641c8c8fb21e",
   "metadata": {},
   "source": [
    "'def greet_user():'\n",
    "* Using the keyword 'def' to inform python that you're defining a funtion. Also referred to as *funtion definition*.\n",
    "* Function def tells pyhton the name of the function, in example above, **greet_user**\n",
    "* It also informs python, if applicable, what kind of information the function needs to perform its task/job. This is passed into the function using the `()`. In this case, the function need no infromation to perfrom its tasks hence the empty brackets.\n",
    "* Any indented libes that follow the ':' make up the body of the function.\n",
    "`\"\"\"Display a simpe greeting\"\"\"`\n",
    "* this is a comment that describes what the function does.\n",
    "* If a single short one line statement, we can use a `#`\n",
    "\n",
    "`print(\"Hello World!\")`\n",
    "* Function body line(s) indented inside the function.\n",
    "* Contains set of instructions on the code to be executed.\n",
    "\n",
    "`greet_user()'\n",
    "* WHen you want to use a function, you call it.\n",
    "* A **function call** tells python to execute the indented code in the funtion body.\n",
    "* To call a function, write the function name, in our example, `greet_user`, followed by any necessary information in the `()`."
   ]
  },
  {
   "cell_type": "code",
   "execution_count": 17,
   "id": "5f5bd71a-9c9d-490a-9e18-018aaa7ce07f",
   "metadata": {
    "tags": []
   },
   "outputs": [
    {
     "data": {
      "text/plain": [
       "'\\nThis is multiple line comment\\nTripple double quotes\\n'"
      ]
     },
     "execution_count": 17,
     "metadata": {},
     "output_type": "execute_result"
    }
   ],
   "source": [
    "# comment\n",
    "\n",
    "\"\"\"Comment\"\"\"\n",
    "\n",
    "\"\"\"\n",
    "This is multiple line comment\n",
    "Tripple double quotes\n",
    "\"\"\""
   ]
  },
  {
   "cell_type": "code",
   "execution_count": 18,
   "id": "15e83051-93f0-4209-b67a-3f46970779c5",
   "metadata": {
    "tags": []
   },
   "outputs": [
    {
     "name": "stdout",
     "output_type": "stream",
     "text": [
      "7\n"
     ]
    }
   ],
   "source": [
    "# Example2\n",
    "def add_numbers(): # defining function\n",
    "    a=2\n",
    "    b=5\n",
    "    sum = a + b\n",
    "    print(sum)\n",
    "\n",
    "add_numbers() # aclling function"
   ]
  },
  {
   "cell_type": "markdown",
   "id": "453ce1a6-fd88-4288-88bd-6c043e559eda",
   "metadata": {},
   "source": [
    "## Passing information to a function\n",
    "* The function greet_user can only tell the user *Helloh* but not greet them by name"
   ]
  },
  {
   "cell_type": "code",
   "execution_count": 21,
   "id": "837eb5df-4bf7-473f-9130-539b6dfed217",
   "metadata": {
    "tags": []
   },
   "outputs": [
    {
     "name": "stdout",
     "output_type": "stream",
     "text": [
      "Hello Kocheli!\n"
     ]
    }
   ],
   "source": [
    "# Example1 - reloaded\n",
    "def greet_user(username):\n",
    "    \"\"\"Display a simple greeting\"\"\"\n",
    "    print(f\"Hello {username}!\")\n",
    "greet_user('Kocheli')"
   ]
  },
  {
   "cell_type": "markdown",
   "id": "27222601-a84f-4f30-8c89-011fb481a3cf",
   "metadata": {},
   "source": [
    "* Adding the `username` in our function definition, we're allowing the FXN to accept any value for *username*.\n",
    "* Expectations: - provide a value of a *username* each time you call it"
   ]
  },
  {
   "cell_type": "code",
   "execution_count": 22,
   "id": "d6e430ec-859f-4feb-91f4-c87bad9876ea",
   "metadata": {
    "tags": []
   },
   "outputs": [
    {
     "name": "stdout",
     "output_type": "stream",
     "text": [
      "Hello Lesley!\n"
     ]
    }
   ],
   "source": [
    "greet_user('Lesley')"
   ]
  },
  {
   "cell_type": "markdown",
   "id": "d6323f8d-5c7a-4e91-9c4e-3171e6002eb2",
   "metadata": {},
   "source": [
    "#### errors that we might encounter\n",
    "* `parameters` - in the example greet_user(username), *username* is the parameter. This is a piece of information the FXN needs to do its job/tasks\n",
    "* `arguments` - the value *Antonny* and *Melly* are arguments. A piece of information that's passed from a function call to a function."
   ]
  },
  {
   "cell_type": "code",
   "execution_count": 23,
   "id": "1dd66c87-4fe2-4e53-8448-a997ddaa822d",
   "metadata": {
    "tags": []
   },
   "outputs": [
    {
     "ename": "TypeError",
     "evalue": "greet_user() missing 1 required positional argument: 'username'",
     "output_type": "error",
     "traceback": [
      "\u001b[1;31m---------------------------------------------------------------------------\u001b[0m",
      "\u001b[1;31mTypeError\u001b[0m                                 Traceback (most recent call last)",
      "Cell \u001b[1;32mIn[23], line 1\u001b[0m\n\u001b[1;32m----> 1\u001b[0m \u001b[43mgreet_user\u001b[49m\u001b[43m(\u001b[49m\u001b[43m)\u001b[49m\n",
      "\u001b[1;31mTypeError\u001b[0m: greet_user() missing 1 required positional argument: 'username'"
     ]
    }
   ],
   "source": [
    "greet_user()"
   ]
  },
  {
   "cell_type": "markdown",
   "id": "24011987-ca42-45f1-a6ac-1f57da03bb0e",
   "metadata": {},
   "source": [
    "* We must pass in arguments during functions calls to avoid errors"
   ]
  },
  {
   "cell_type": "code",
   "execution_count": 25,
   "id": "f972bd7b-1e04-440b-af32-bd79ba248e38",
   "metadata": {
    "tags": []
   },
   "outputs": [
    {
     "name": "stdout",
     "output_type": "stream",
     "text": [
      "I have a Cat.\n",
      "My Cat's name is Trixy.\n"
     ]
    }
   ],
   "source": [
    "# Example3\n",
    "def describe_pet(animal_type, pet_name):\n",
    "    \"\"\" Display information about a pet \"\"\"\n",
    "    print(f\"I have a {animal_type}.\")\n",
    "    print(f\"My {animal_type}'s name is {pet_name}.\")\n",
    "    \n",
    "describe_pet('Cat', 'Trixy')"
   ]
  },
  {
   "cell_type": "markdown",
   "id": "a96462fb-1d18-499f-b6e7-e9869164176b",
   "metadata": {},
   "source": [
    "* When you call a function, Python must match each argument in the function call with a parameter in the function definition."
   ]
  },
  {
   "cell_type": "code",
   "execution_count": 29,
   "id": "0d42b2f9-feee-4481-94b9-5ec885705d6f",
   "metadata": {
    "tags": []
   },
   "outputs": [
    {
     "name": "stdout",
     "output_type": "stream",
     "text": [
      "I have a Beer.\n",
      "My Beer's name is Tusker.\n"
     ]
    }
   ],
   "source": [
    "\"\"\" the arguments match the order of the parameter\"\"\"\n",
    "describe_pet('Beer', 'Tusker') # This is wrong"
   ]
  },
  {
   "cell_type": "code",
   "execution_count": 30,
   "id": "26ffe793-3c0b-4e80-b862-e98a788a93e6",
   "metadata": {
    "tags": []
   },
   "outputs": [
    {
     "name": "stdout",
     "output_type": "stream",
     "text": [
      "I have a Beer.\n",
      "My Beer's name is Tusker.\n"
     ]
    }
   ],
   "source": [
    "# alternatively\n",
    "describe_pet(pet_name='Tusker', animal_type='Beer')"
   ]
  },
  {
   "cell_type": "markdown",
   "id": "269f035c-a598-4e0d-bf76-3a9c6ab9bf4e",
   "metadata": {},
   "source": [
    "* Defining a **Default Values** for the parameter `animal_type` and setting it as `Dog`."
   ]
  },
  {
   "cell_type": "code",
   "execution_count": 31,
   "id": "054a8059-a29c-429d-913c-0ed72127da6d",
   "metadata": {
    "tags": []
   },
   "outputs": [],
   "source": [
    "# default values\n",
    "def describe_pet(pet_name, animal_type = 'Dog'):\n",
    "    \"\"\" Display information about a pet \"\"\"\n",
    "    print(f\"I have a {animal_type}.\")\n",
    "    print(f\"My {animal_type}'s name is {pet_name}.\")"
   ]
  },
  {
   "cell_type": "code",
   "execution_count": 32,
   "id": "506a3dfb-d4e4-404f-8725-6000d0064e66",
   "metadata": {
    "tags": []
   },
   "outputs": [
    {
     "name": "stdout",
     "output_type": "stream",
     "text": [
      "I have a Dog.\n",
      "My Dog's name is Trixy.\n"
     ]
    }
   ],
   "source": [
    "describe_pet('Trixy')"
   ]
  },
  {
   "cell_type": "markdown",
   "id": "b8084b51-64e7-453c-83b4-d94135643d60",
   "metadata": {},
   "source": [
    "If an argument for a parameter is not provided in the function call, pyhton uses the default value i.e. `Dog` in the example above"
   ]
  },
  {
   "cell_type": "markdown",
   "id": "7b690f56-b78b-4122-8b59-999cfde3c43b",
   "metadata": {},
   "source": [
    "If an argument for a parameter is provided in the function call, pyhton uses the argument value, for example"
   ]
  },
  {
   "cell_type": "code",
   "execution_count": 34,
   "id": "e99ca95c-fd04-47db-8e34-c06109ffe0d5",
   "metadata": {
    "tags": []
   },
   "outputs": [
    {
     "name": "stdout",
     "output_type": "stream",
     "text": [
      "I have a Bebz.\n",
      "My Bebz's name is Molly.\n"
     ]
    }
   ],
   "source": [
    "describe_pet('Molly', 'Bebz')"
   ]
  },
  {
   "cell_type": "markdown",
   "id": "65996081-96b6-46f9-aeee-1bc357d17ef0",
   "metadata": {},
   "source": [
    "## Return Valuers\n",
    "* A function doesn't have to display its output directly."
   ]
  },
  {
   "cell_type": "code",
   "execution_count": 37,
   "id": "ae3540b3-afb4-42d7-a98d-b1a9f6dae819",
   "metadata": {
    "tags": []
   },
   "outputs": [],
   "source": [
    "# Return Valuers example\n",
    "def add_numbers(a, b):\n",
    "    \"\"\" Sums two numbers\"\"\"\n",
    "    sum = a + b\n",
    "    output = f\"{a} + {b} = {sum}\"\n",
    "    \n",
    "add_numbers(9, 6)"
   ]
  },
  {
   "cell_type": "markdown",
   "id": "11bcbf5a-e74e-4a50-91c3-5869cd7fbefa",
   "metadata": {},
   "source": [
    "* Function process data and then return a value or set of values, called **return valuers**"
   ]
  },
  {
   "cell_type": "code",
   "execution_count": 40,
   "id": "63d7c55e-5620-4a16-8c57-38d04df7af05",
   "metadata": {
    "tags": []
   },
   "outputs": [
    {
     "data": {
      "text/plain": [
       "'9 + 6 = 15'"
      ]
     },
     "execution_count": 40,
     "metadata": {},
     "output_type": "execute_result"
    }
   ],
   "source": [
    "# Modify Return Valuers example\n",
    "def add_numbers(a, b):\n",
    "    \"\"\" Sums two numbers\"\"\"\n",
    "    sum = a + b\n",
    "    output = f\"{a} + {b} = {sum}\"\n",
    "    \n",
    "    return output\n",
    "\n",
    "add_numbers(9, 6)"
   ]
  },
  {
   "cell_type": "code",
   "execution_count": 43,
   "id": "8550b06d-0d79-4882-a06d-f97d85ec4ec4",
   "metadata": {
    "tags": []
   },
   "outputs": [],
   "source": [
    "# further example\n",
    "def send_greeting(user):\n",
    "    \"\"\" Welsome users to a wedding\"\"\"\n",
    "    message = f\"Welcome {user} to Lesley and Katamu's wedding\"\n",
    "    \n",
    "send_greeting('Cathy')"
   ]
  },
  {
   "cell_type": "code",
   "execution_count": 46,
   "id": "bcb135c5-d838-4dce-a14f-2551124c50cb",
   "metadata": {
    "tags": []
   },
   "outputs": [
    {
     "data": {
      "text/plain": [
       "\"Welcome Cathy to Lesley and Katamu's wedding\""
      ]
     },
     "execution_count": 46,
     "metadata": {},
     "output_type": "execute_result"
    }
   ],
   "source": [
    "# further example modified\n",
    "def send_greeting(user):\n",
    "    \"\"\" Welsome users to a wedding\"\"\"\n",
    "    message = f\"Welcome {user} to Lesley and Katamu's wedding\"\n",
    "    \n",
    "    return message\n",
    "    \n",
    "send_greeting('Cathy')"
   ]
  },
  {
   "cell_type": "markdown",
   "id": "0a715c6c-aff1-4a0b-8ab5-daa8188da763",
   "metadata": {},
   "source": [
    "* The `return` statement takes a value or set of values from inside a function and sends it back to the line that called the function."
   ]
  },
  {
   "cell_type": "code",
   "execution_count": 47,
   "id": "59dcde43-399d-47c5-b63d-17cfccaae5f3",
   "metadata": {
    "tags": []
   },
   "outputs": [
    {
     "name": "stdout",
     "output_type": "stream",
     "text": [
      "Welcome Kocheli to Lesley and Katamu's wedding\n"
     ]
    }
   ],
   "source": [
    "welcome_message = send_greeting('Kocheli')\n",
    "\n",
    "print(welcome_message)"
   ]
  },
  {
   "cell_type": "code",
   "execution_count": 65,
   "id": "fa7e93a6-0a5e-4408-93d6-c5ff99dd8063",
   "metadata": {
    "tags": []
   },
   "outputs": [
    {
     "data": {
      "text/plain": [
       "'28 / 7 = 4.0'"
      ]
     },
     "execution_count": 65,
     "metadata": {},
     "output_type": "execute_result"
    }
   ],
   "source": [
    "# example return\n",
    "\n",
    "def calculator(a, b, operator):\n",
    "    \"\"\"Simple arithmetic operatoions\"\"\"\n",
    "    if (operator.strip() == \"+\"):\n",
    "        sum = a + b\n",
    "        sum_out = f\" {a} + {b} = {sum}\"\n",
    "        \n",
    "        return sum_out\n",
    "    elif (operator.strip() == \"-\"):\n",
    "        diff = a - b\n",
    "        diff_out = f\"{a} - {b} = {diff}\"\n",
    "        \n",
    "        return diff_out\n",
    "    elif (operator.strip() == \"*\"):\n",
    "        times = a * b\n",
    "        times_out = f\"{a} * {b} = {times}\"\n",
    "        \n",
    "        return times_out\n",
    "    elif (operator.strip() == \"/\"):\n",
    "        divide = a / b\n",
    "        divide_out = f\"{a} / {b} = {divide}\"\n",
    "        \n",
    "        return divide_out\n",
    "    elif (operator.strip() == \"**\"):\n",
    "        square = a ** b\n",
    "        square_num = f\"{a} ** {b} = {square}\"\n",
    "        \n",
    "        return square_num\n",
    "    else:\n",
    "        print(\"Enter Maths Operator\")\n",
    "        \n",
    "        \n",
    "calculator(28, 7, \"/\")\n"
   ]
  },
  {
   "cell_type": "code",
   "execution_count": 64,
   "id": "4372820a-3b10-494c-9c78-2447df805402",
   "metadata": {
    "tags": []
   },
   "outputs": [
    {
     "data": {
      "text/plain": [
       "' 4 + 4 = 8'"
      ]
     },
     "execution_count": 64,
     "metadata": {},
     "output_type": "execute_result"
    }
   ],
   "source": [
    "calculator(4, 4, \"+\")"
   ]
  },
  {
   "cell_type": "code",
   "execution_count": 66,
   "id": "5cc4584f-4ff5-4e68-a55a-a152c2bb5ec3",
   "metadata": {
    "tags": []
   },
   "outputs": [
    {
     "data": {
      "text/plain": [
       "'2 ** 2 = 4'"
      ]
     },
     "execution_count": 66,
     "metadata": {},
     "output_type": "execute_result"
    }
   ],
   "source": [
    "calculator(2, 2, \"**\")"
   ]
  },
  {
   "cell_type": "markdown",
   "id": "161580ec-337d-4eee-94c5-4dfe26b36edc",
   "metadata": {},
   "source": [
    "###### return more than one value"
   ]
  },
  {
   "cell_type": "code",
   "execution_count": 71,
   "id": "8aa1befc-92ca-4118-b352-1625c97b5232",
   "metadata": {
    "tags": []
   },
   "outputs": [
    {
     "data": {
      "text/plain": [
       "(10, 4, 21, 27)"
      ]
     },
     "execution_count": 71,
     "metadata": {},
     "output_type": "execute_result"
    }
   ],
   "source": [
    "def alt_calc(a, b):\n",
    "    \"\"\" Alternative calculator\"\"\"\n",
    "    sum = a + b\n",
    "    diff = a - b\n",
    "    multiplication = a * b\n",
    "    square = b ** b\n",
    "    \n",
    "    # return a set of values.\n",
    "    return sum, diff, multiplication, square\n",
    "\n",
    "alt_calc(7, 3)"
   ]
  },
  {
   "cell_type": "code",
   "execution_count": 76,
   "id": "3799a28b-c5a6-4a16-962e-921081fd1e97",
   "metadata": {
    "tags": []
   },
   "outputs": [
    {
     "name": "stdout",
     "output_type": "stream",
     "text": [
      "<class 'tuple'>\n",
      "4\n"
     ]
    }
   ],
   "source": [
    "# accesing individual values in the return set of values which is a tuple\n",
    "alt_calc_output = alt_calc(7, 3)\n",
    "\n",
    "print(type(alt_calc_output))\n",
    "\n",
    "difference = alt_calc_output[1]\n",
    "\n",
    "print(difference)"
   ]
  },
  {
   "cell_type": "code",
   "execution_count": 77,
   "id": "5e228701-f142-49bc-ba91-6b7e22254645",
   "metadata": {
    "tags": []
   },
   "outputs": [],
   "source": [
    "squared = alt_calc_output[-1]"
   ]
  },
  {
   "cell_type": "code",
   "execution_count": 78,
   "id": "6a70331f-d502-4e79-a17e-eec62b6659ed",
   "metadata": {
    "tags": []
   },
   "outputs": [
    {
     "name": "stdout",
     "output_type": "stream",
     "text": [
      "27\n"
     ]
    }
   ],
   "source": [
    "print(squared)"
   ]
  },
  {
   "cell_type": "code",
   "execution_count": 84,
   "id": "fb0b256f-fa26-4624-aff1-f62f352a7d25",
   "metadata": {
    "tags": []
   },
   "outputs": [
    {
     "data": {
      "text/plain": [
       "([100, 100, 100], 300)"
      ]
     },
     "execution_count": 84,
     "metadata": {},
     "output_type": "execute_result"
    }
   ],
   "source": [
    "# further examples of functions\n",
    "# sum of squares\n",
    "\n",
    "def sum_squares(numbers):\n",
    "    \"\"\"\n",
    "    parameter:\n",
    "        number = list of numbers\n",
    "    return:\n",
    "        sum of the squares of the list numbers\n",
    "    \"\"\"\n",
    "    squared_numbers = [] # empty list to store squared numbers\n",
    "    for num in numbers: # loop through the list numbers\n",
    "        squared_values = num ** 2\n",
    "        squared_numbers.append(squared_values) # add squared valued to empty list\n",
    "    \n",
    "    # calculate the sum of squares\n",
    "    squares_sum = sum(squared_numbers)\n",
    "    \n",
    "    return squared_numbers, squares_sum\n",
    "\n",
    "sum_squares([10, 10, 10])\n",
    "    "
   ]
  },
  {
   "cell_type": "markdown",
   "id": "3ff58c0b-84a9-4420-a604-e1a2128f1d8e",
   "metadata": {},
   "source": [
    "# Built-in Function"
   ]
  },
  {
   "cell_type": "code",
   "execution_count": 91,
   "id": "a4f56df6-5c93-481a-a0fd-78368a5aeed7",
   "metadata": {
    "tags": []
   },
   "outputs": [
    {
     "name": "stdout",
     "output_type": "stream",
     "text": [
      "Koches\n"
     ]
    }
   ],
   "source": [
    "print(\"Koches\")"
   ]
  },
  {
   "cell_type": "markdown",
   "id": "f35a33c9-b57d-456e-bc0f-b6b65bcc696c",
   "metadata": {},
   "source": [
    "##### Input"
   ]
  },
  {
   "cell_type": "code",
   "execution_count": 92,
   "id": "14dbe7fb-3a22-4685-a748-8732602c8f6a",
   "metadata": {
    "tags": []
   },
   "outputs": [
    {
     "name": "stdin",
     "output_type": "stream",
     "text": [
      "Enter your name: \n",
      " Kocheli\n"
     ]
    }
   ],
   "source": [
    "# this takes in user input\n",
    "# Example\n",
    "first_name = input(\"Enter your name: \\n\")"
   ]
  },
  {
   "cell_type": "code",
   "execution_count": 93,
   "id": "48c4c84b-614a-4bec-802a-878fb99fe814",
   "metadata": {
    "tags": []
   },
   "outputs": [
    {
     "name": "stdout",
     "output_type": "stream",
     "text": [
      "Kocheli\n"
     ]
    }
   ],
   "source": [
    "print(first_name)"
   ]
  },
  {
   "cell_type": "code",
   "execution_count": 102,
   "id": "b32b0f43-fce4-4b50-8c97-523d6c3a9ad4",
   "metadata": {
    "tags": []
   },
   "outputs": [
    {
     "name": "stdin",
     "output_type": "stream",
     "text": [
      "Enter Year: \n",
      " 1997\n"
     ]
    },
    {
     "data": {
      "text/plain": [
       "int"
      ]
     },
     "execution_count": 102,
     "metadata": {},
     "output_type": "execute_result"
    }
   ],
   "source": [
    "# type hinting - specify the expected types of variables, function paramets\n",
    "Year = int(input(\"Enter Year: \\n\"))\n",
    "\n",
    "type(Year)"
   ]
  },
  {
   "cell_type": "code",
   "execution_count": 100,
   "id": "6189c953-b800-40a6-915a-614fa6b97839",
   "metadata": {
    "tags": []
   },
   "outputs": [
    {
     "name": "stdin",
     "output_type": "stream",
     "text": [
      "Enter Year:  1997\n"
     ]
    },
    {
     "data": {
      "text/plain": [
       "str"
      ]
     },
     "execution_count": 100,
     "metadata": {},
     "output_type": "execute_result"
    }
   ],
   "source": [
    "Year = input(\"Enter Year: \")\n",
    "\n",
    "type(Year)"
   ]
  },
  {
   "cell_type": "code",
   "execution_count": null,
   "id": "2809f868-1461-4c43-bb7d-8ac4cbad0312",
   "metadata": {},
   "outputs": [],
   "source": []
  }
 ],
 "metadata": {
  "kernelspec": {
   "display_name": "Python 3 (ipykernel)",
   "language": "python",
   "name": "python3"
  },
  "language_info": {
   "codemirror_mode": {
    "name": "ipython",
    "version": 3
   },
   "file_extension": ".py",
   "mimetype": "text/x-python",
   "name": "python",
   "nbconvert_exporter": "python",
   "pygments_lexer": "ipython3",
   "version": "3.11.3"
  }
 },
 "nbformat": 4,
 "nbformat_minor": 5
}
