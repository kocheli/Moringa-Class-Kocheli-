{
 "cells": [
  {
   "cell_type": "markdown",
   "id": "99a14b32-24fe-4f55-bcd4-78710c9d15e1",
   "metadata": {},
   "source": [
    "# Looping Over Collections"
   ]
  },
  {
   "cell_type": "markdown",
   "id": "24875b52-675a-4888-b3c8-da980e9c965b",
   "metadata": {},
   "source": [
    "## Objectives\n",
    "* Understand the concept\n",
    "* Demonstrate the type of loops\n",
    "* Discuss the syntaxa\n",
    "* Understand the concept of loop control\n",
    "* Discuss Iteration\n",
    "* Discuss Nested Loops\n",
    "* Enhancing loop functionality"
   ]
  },
  {
   "cell_type": "markdown",
   "id": "6ac1e2b5-df53-4fa1-ba86-2a60763d3a4a",
   "metadata": {},
   "source": [
    "## Introduction to Repitition\n",
    "Repition is a very important function of programming\n",
    "* This is a fundamental concept of programming that involves performing the same set of instructions multiple times.\n",
    "* used to automate tasks that require repeated execution of come e.g. the *mpesa menu*.\n",
    "* Loops are a key mechanism in programming to achieve this repitition effectiently"
   ]
  },
  {
   "cell_type": "code",
   "execution_count": 14,
   "id": "7ed7f07f-ae0b-4274-bb28-88b09643c686",
   "metadata": {
    "tags": []
   },
   "outputs": [
    {
     "name": "stdout",
     "output_type": "stream",
     "text": [
      "1,2,3,4,5,6,7,8,9,10\n"
     ]
    }
   ],
   "source": [
    "# consider a scenario counting 1 to 10\n",
    "print(f'1,2,3,4,5,6,7,8,9,10')"
   ]
  },
  {
   "cell_type": "code",
   "execution_count": 15,
   "id": "bc174d7a-adfd-4a0c-b7cd-e75d2561a2eb",
   "metadata": {
    "tags": []
   },
   "outputs": [
    {
     "name": "stdout",
     "output_type": "stream",
     "text": [
      "1:10\n"
     ]
    }
   ],
   "source": [
    "print(f'1:10')"
   ]
  },
  {
   "cell_type": "code",
   "execution_count": 4,
   "id": "2c1b2ef5-3f6f-4ea3-871e-4a5d5e6b01b7",
   "metadata": {
    "tags": []
   },
   "outputs": [
    {
     "name": "stdout",
     "output_type": "stream",
     "text": [
      "1\n",
      "2\n",
      "3\n",
      "4\n",
      "5\n",
      "6\n",
      "7\n",
      "8\n",
      "9\n",
      "10\n"
     ]
    }
   ],
   "source": [
    "# programming loops automates such repititive taks\n",
    "for num in range(1,11):\n",
    "    print(num)"
   ]
  },
  {
   "cell_type": "code",
   "execution_count": 36,
   "id": "ea8c5fd5-a8ce-4f15-b323-c6bf84af1516",
   "metadata": {
    "tags": []
   },
   "outputs": [
    {
     "name": "stdout",
     "output_type": "stream",
     "text": [
      "Count: 10\n",
      "Count: 13\n",
      "Count: 16\n",
      "Count: 19\n"
     ]
    }
   ],
   "source": [
    "# use while loops\n",
    "amount = 10\n",
    "\n",
    "while amount < 20:\n",
    "    print(\"Count:\", amount)\n",
    "    amount += 3"
   ]
  },
  {
   "cell_type": "markdown",
   "id": "ec8acdae-4e3e-4eb2-80d8-5db1ef3b236c",
   "metadata": {},
   "source": [
    "### What is a loop\n",
    "* This is a programming construct that enables the reapeated execution of a specific block of code **(Indented within the code)**\n",
    "* They are use when you want to automate tasks that need to be performed multiple times\n",
    "* They control the flow of the programme allowing certain code to be executed **repeatedly until a condition is met**"
   ]
  },
  {
   "cell_type": "code",
   "execution_count": 18,
   "id": "e45dabe4-ff7c-4ea7-810b-e5e1ad87eeaa",
   "metadata": {
    "tags": []
   },
   "outputs": [
    {
     "name": "stdout",
     "output_type": "stream",
     "text": [
      "1\n",
      "2\n",
      "3\n",
      "4\n",
      "5\n",
      "6\n",
      "7\n",
      "8\n",
      "9\n"
     ]
    }
   ],
   "source": [
    "# lis of numbers\n",
    "numbers = [1, 2, 3, 4, 5, 6, 7, 8, 9]\n",
    "\n",
    "# empty list\n",
    "even_number = []\n",
    "\n",
    "for num in numbers:\n",
    "    print(num)"
   ]
  },
  {
   "cell_type": "code",
   "execution_count": 19,
   "id": "91253481-0f40-45ea-82ba-1f6d28dbe967",
   "metadata": {
    "tags": []
   },
   "outputs": [
    {
     "name": "stdout",
     "output_type": "stream",
     "text": [
      "[9, 7, 5, 3, 1]\n"
     ]
    }
   ],
   "source": [
    "# for fun\n",
    "odd_numbers = []\n",
    "\n",
    "for num in numbers:\n",
    "    if (num % 2 == 1):\n",
    "        odd_numbers.insert(0,num)\n",
    "        \n",
    "print(odd_numbers)"
   ]
  },
  {
   "cell_type": "code",
   "execution_count": 20,
   "id": "f2867067-abaf-4ce1-a57b-1887c157bbda",
   "metadata": {
    "tags": []
   },
   "outputs": [
    {
     "name": "stdout",
     "output_type": "stream",
     "text": [
      "[2, 4, 6, 8]\n"
     ]
    }
   ],
   "source": [
    "# for fun\n",
    "even_numbers = []\n",
    "\n",
    "for num in numbers:\n",
    "    if (num % 2 == 0):\n",
    "        even_numbers.append(num)\n",
    "        \n",
    "print(even_numbers)"
   ]
  },
  {
   "cell_type": "code",
   "execution_count": 25,
   "id": "9d60b51c-02b8-4ddc-8d6a-fd7292f88566",
   "metadata": {
    "tags": []
   },
   "outputs": [
    {
     "name": "stdout",
     "output_type": "stream",
     "text": [
      "55\n"
     ]
    }
   ],
   "source": [
    "# summation of numbers between 1 and 10\n",
    "sum = 1 + 2 + 3 + 4 + 5 + 6 + 7 + 8 + 9 + 10\n",
    "\n",
    "print(sum)"
   ]
  },
  {
   "cell_type": "code",
   "execution_count": 22,
   "id": "0d0acedb-2be8-4a2b-ae05-a2eced227386",
   "metadata": {
    "tags": []
   },
   "outputs": [
    {
     "name": "stdout",
     "output_type": "stream",
     "text": [
      "55\n"
     ]
    }
   ],
   "source": [
    "# looping the same\n",
    "\n",
    "sum = 0\n",
    "# creating a loop (for loop)\n",
    "for num in range(1, 11):\n",
    "    sum += num\n",
    "    \n",
    "print(sum)"
   ]
  },
  {
   "cell_type": "markdown",
   "id": "e2a5c1f1-c555-4735-ab8c-6e9e69f42561",
   "metadata": {},
   "source": [
    "### Control Flow\n",
    "* Loops influence the order in which instructions are executed.\n",
    "* When a loop is encountred, the programme enters a loop body, executing the contained code.\n",
    "* Syntax\n",
    "~~~\n",
    "loop made of a condition:\n",
    "    contained block of \n",
    "    code to be executed \n",
    "    when condition is true/met\n",
    "\n",
    "program exits the loop\n",
    "~~~\n",
    "* At each iteration , the program checks the loop condition. If the condition remains **True**, the loop body is executed again\n",
    "* If false, the programmes exits the loop\n",
    "\n",
    "* **Iteration** refers to each cycle of repition of a loop"
   ]
  },
  {
   "cell_type": "code",
   "execution_count": 23,
   "id": "fc88d1a1-1690-47e5-bce9-3abafc74e0d1",
   "metadata": {
    "tags": []
   },
   "outputs": [
    {
     "name": "stdout",
     "output_type": "stream",
     "text": [
      "This is an example of a loop\n",
      "We are demonstationg while loops\n",
      "Countdown Value: 5!!\n",
      "Countdown Value: 4!!\n",
      "Countdown Value: 3!!\n",
      "Countdown Value: 2!!\n",
      "Countdown Value: 1!!\n",
      "Exit loop!! and programme continues\n"
     ]
    }
   ],
   "source": [
    "# Demonstration\n",
    "# Assume the print statement below are blocks of code\n",
    "print(\"This is an example of a loop\")\n",
    "print(\"We are demonstationg while loops\")\n",
    "\n",
    "# loop to simulate a count down\n",
    "countdown = 5\n",
    "# our program meets a loop bloack >> while loop\n",
    "while (countdown > 0):\n",
    "    # code to execute when condition is true\n",
    "    print(f\"Countdown Value: {countdown}!!\")\n",
    "    countdown -= 1\n",
    "# program exits the loop when condition in no longer met\n",
    "print(\"Exit loop!! and programme continues\")\n",
    "          "
   ]
  },
  {
   "cell_type": "markdown",
   "id": "6d1b7315-5278-4d4a-863f-7234c5db7038",
   "metadata": {},
   "source": [
    "### Type of Loops\n",
    "* There are two main types of loops in python:\n",
    ">> ***for*** and ***while***\n",
    "* Type of loop you choose depends on whther you know the number of iterations in advance or if it depends on a condition\n",
    "* If you know the numbers iterations, use the while loop else use loop"
   ]
  },
  {
   "cell_type": "markdown",
   "id": "35924366-fc8a-4e0f-b4dd-f4443b63165a",
   "metadata": {},
   "source": [
    "### For Loop\n",
    "* Basic syntax\n",
    "```\n",
    "for item in sequence:\n",
    "    # code to be exucuted for each item\n",
    "    # ...\n",
    "```\n",
    "\n",
    "* **'for'**: keyword that signals the start of the for loop.\n",
    "* **'item'** : Is a variable represents the current item in the sequence during each iteration of the loop.\n",
    "* **'In'** : A key word used to specify that you're iterating *in* the given sequence.\n",
    "* **'sequence'** : Collection of items that you want to iterate over e.g. list, string, tuple or range\n",
    "* **':'** : signifies the start of the indented code block to be executed for each iteration of the loop\n",
    "\n",
    "Inside the indented code block , you place the actions or operations that you want to perform on each item in the sequence. The loop will automatically iterate through the entire sequence, executing the code block for each item. "
   ]
  },
  {
   "cell_type": "code",
   "execution_count": 24,
   "id": "ec4ebb94-db3e-4fd3-8327-0ddd2bdbed97",
   "metadata": {
    "tags": []
   },
   "outputs": [
    {
     "name": "stdout",
     "output_type": "stream",
     "text": [
      "Kisumu\n",
      "Kisii\n",
      "Nyamira\n"
     ]
    }
   ],
   "source": [
    "# code demo\n",
    "# List of high courts\n",
    "high_courts = ['Kisumu', 'Kisii', 'Nyamira', 'Homa Bay', 'Migori', 'Kitale', 'Mandera']\n",
    "\n",
    "for court in high_courts:\n",
    "     #code block to execute for each item\n",
    "    print(court)\n",
    "    if (court == \"Nyamira\"):\n",
    "        break;"
   ]
  },
  {
   "cell_type": "markdown",
   "id": "c6856af1-7b22-44ae-8921-f03700d5424f",
   "metadata": {},
   "source": [
    "### Sequence Types\n",
    "* Refers to data structures that hold a collection of elements, where each element is accesible by an index or a key.\n",
    "* These elements are ordered, meaning they have a specific position with the sequence."
   ]
  },
  {
   "cell_type": "code",
   "execution_count": 5,
   "id": "7054f067-0915-4ebc-930d-6858815c904f",
   "metadata": {
    "tags": []
   },
   "outputs": [
    {
     "name": "stdout",
     "output_type": "stream",
     "text": [
      "['Kisumu', 'Kisii', 'Nyamira', 'Homa Bay', 'Migori', 'Kitale', 'Mandera']\n"
     ]
    }
   ],
   "source": [
    "# lists\n",
    "print(high_courts)"
   ]
  },
  {
   "cell_type": "code",
   "execution_count": 6,
   "id": "07b0193f-5b37-4901-9b3f-0e9c4e23a5ef",
   "metadata": {
    "tags": []
   },
   "outputs": [
    {
     "name": "stdout",
     "output_type": "stream",
     "text": [
      "Homa Bay\n"
     ]
    }
   ],
   "source": [
    "# accessing items in a list by index\n",
    "print(high_courts[3])"
   ]
  },
  {
   "cell_type": "code",
   "execution_count": 26,
   "id": "8fabfa07-8d3b-46dc-847c-3f127cb43ce2",
   "metadata": {
    "tags": []
   },
   "outputs": [
    {
     "name": "stdout",
     "output_type": "stream",
     "text": [
      "KISUMU\n",
      "KISII\n",
      "NYAMIRA\n",
      "HOMA BAY\n",
      "MIGORI\n",
      "KITALE\n",
      "MANDERA\n"
     ]
    }
   ],
   "source": [
    "# Looping through list codes\n",
    "for court in high_courts:\n",
    "    #code to execute\n",
    "    #lower_case = court.lower()\n",
    "    print(court.upper())\n"
   ]
  },
  {
   "cell_type": "code",
   "execution_count": 27,
   "id": "934ce3d9-90ab-4480-bd4c-c1369680a94c",
   "metadata": {
    "tags": []
   },
   "outputs": [
    {
     "name": "stdout",
     "output_type": "stream",
     "text": [
      "('Kocheli', 'Solo', 'Nyambane', 'Yusuf')\n"
     ]
    }
   ],
   "source": [
    "# tuple > similar to list but they are immutable i.e. they cannot be changed after creation\n",
    "# syntax tuple_name = (item1, item2,.....)\n",
    "\n",
    "noise_makers = (\"Kocheli\", \"Solo\", \"Nyambane\", \"Yusuf\")\n",
    "\n",
    "print(noise_makers)"
   ]
  },
  {
   "cell_type": "code",
   "execution_count": 11,
   "id": "f96a152d-6264-41d8-80a9-ca4bb42242c6",
   "metadata": {
    "tags": []
   },
   "outputs": [
    {
     "name": "stdout",
     "output_type": "stream",
     "text": [
      "Kocheli\n",
      "Solo\n",
      "Nyambane\n",
      "Yusuf\n"
     ]
    }
   ],
   "source": [
    "# loop through items in a tuple\n",
    "for noise_maker in noise_makers:\n",
    "    # code to be executed\n",
    "    print(noise_maker)"
   ]
  },
  {
   "cell_type": "code",
   "execution_count": 12,
   "id": "a59a38ba-662e-42ac-91e2-60b7da2a6054",
   "metadata": {
    "tags": []
   },
   "outputs": [
    {
     "name": "stdout",
     "output_type": "stream",
     "text": [
      "Yusuf\n"
     ]
    }
   ],
   "source": [
    "print(noise_makers[3])"
   ]
  },
  {
   "cell_type": "code",
   "execution_count": 28,
   "id": "fad442aa-3086-4616-a530-177b9836701e",
   "metadata": {},
   "outputs": [
    {
     "name": "stdout",
     "output_type": "stream",
     "text": [
      "J\n",
      "U\n",
      "D\n",
      "I\n",
      "C\n",
      "I\n",
      "A\n",
      "R\n",
      "Y\n"
     ]
    }
   ],
   "source": [
    "# iterating through a tsring\n",
    "word = \"Judiciary\"\n",
    "\n",
    "for letter in word:\n",
    "    print(letter.upper())\n",
    "\n"
   ]
  },
  {
   "cell_type": "code",
   "execution_count": 40,
   "id": "751ef544-8c8e-42be-9f74-2c60d2760edf",
   "metadata": {
    "tags": []
   },
   "outputs": [
    {
     "name": "stdout",
     "output_type": "stream",
     "text": [
      "['J', 'u', 'd', 'i', 'c', 'i', 'a', 'r', 'y']\n"
     ]
    }
   ],
   "source": [
    "# empty list to store chars\n",
    "word_chars = []\n",
    "\n",
    "for char in word:\n",
    "    word_chars.append(char)\n",
    "print(word_chars)"
   ]
  },
  {
   "cell_type": "code",
   "execution_count": 45,
   "id": "a9312991-74f3-4e38-a178-b8864bb89701",
   "metadata": {
    "tags": []
   },
   "outputs": [
    {
     "name": "stdout",
     "output_type": "stream",
     "text": [
      "[1, 3, 5, 7, 9, 11, 13, 15, 17, 19]\n"
     ]
    }
   ],
   "source": [
    "# range\n",
    "\n",
    "# list to store odd numbers\n",
    "odd_nums = []\n",
    "for num in range(1, 20):\n",
    "    if (num % 2 == 1):\n",
    "        odd_nums.append(num)\n",
    "\n",
    "print(odd_nums)"
   ]
  },
  {
   "cell_type": "markdown",
   "id": "62c0dee2-04a0-4eb3-96f4-de27ce82394a",
   "metadata": {},
   "source": [
    "### Loop Body\n",
    "* Refers to the block of code that us executed repeatdely for each iteration of loop.\n",
    "* In programming, a loop is designed to perform repeated tasks automatically and the loop body contains the instructions that define waht those actions are.\n",
    "\n",
    "#### Important points to consider:\n",
    "1. **indentation** - The loop body is indented to indicate that is the part of the loop. It defines the scope of the loop body.\n",
    "2. **iteration** - loop body is executed once for each item in the sequence that contains the elements upon which the instructions and execution will be repeated.\n",
    "3. **accessing loop variable** - the loop variable value can be accessed inside the loop bodyto perform specific actions to that value .\n",
    "4. **manipulation** - inside the loop body, you can perform various operations on the loop variable or use it to interact with other parts of the program."
   ]
  },
  {
   "cell_type": "code",
   "execution_count": 50,
   "id": "aa0d61c2-9370-4792-a826-f3735e64bea1",
   "metadata": {
    "tags": []
   },
   "outputs": [
    {
     "name": "stdout",
     "output_type": "stream",
     "text": [
      "The square of 1 = 1\n",
      "The square of 2 = 4\n",
      "The square of 3 = 9\n",
      "The square of 4 = 16\n",
      "The square of 5 = 25\n",
      "The square of 6 = 36\n",
      "The square of 7 = 49\n",
      "The square of 8 = 64\n",
      "The square of 9 = 81\n",
      "The square of 10 = 100\n"
     ]
    }
   ],
   "source": [
    "# example\n",
    "\n",
    "for num in range(1,11):\n",
    "    square = num ** 2\n",
    "    print(f'The square of {num} = {square}')"
   ]
  },
  {
   "cell_type": "markdown",
   "id": "c32985a8-d5db-44e2-b3d2-b01e75ebeec5",
   "metadata": {},
   "source": [
    "### 'range()'\n",
    "\n",
    "* a function commonly used especially when working with loops.\n",
    "* it generates a sequence of numbers within a specified range, which can be used for various purposes e.g. iterating thro' a loop of certain numbers or creating a list of numbers.\n",
    "* 'range()' takes up to theree arguments:\n",
    "\n",
    "1. **start(inclusive, optional)** - The starting value of the sequence. If ommited, the sequence starts from zero by default.\n",
    "2. **stop(exclusive** the ending value of the sequence. The sequence will go upto the value in the sequence. e.g. if stop is 50, and starts is 0 the sequence will be all the numbers including 0 to 49, but not 50\n",
    "3. **step(optional)** - The difference between consecutive values in the sequence. By, default the value of step is 1\n",
    "\n",
    "* syntax\n",
    "```range(start, stop, step)```"
   ]
  },
  {
   "cell_type": "code",
   "execution_count": 56,
   "id": "99e4174f-c0b2-4500-a918-421a1797d1f2",
   "metadata": {
    "tags": []
   },
   "outputs": [],
   "source": [
    "def greetings(guest_name):\n",
    "    message = f\"Hello {guest_name}, welcome to Baraka Farm\"\n",
    "    \n",
    "    return print(message)"
   ]
  },
  {
   "cell_type": "code",
   "execution_count": 57,
   "id": "20476a24-efc1-471d-a097-5350c4a5f8c8",
   "metadata": {
    "tags": []
   },
   "outputs": [
    {
     "name": "stdout",
     "output_type": "stream",
     "text": [
      "Hello Natembeya, welcome to Baraka Farm\n"
     ]
    }
   ],
   "source": [
    "greetings(\"Natembeya\")"
   ]
  },
  {
   "cell_type": "code",
   "execution_count": 69,
   "id": "439d7ef0-b195-4d92-adc2-cd458ba8b18d",
   "metadata": {
    "tags": []
   },
   "outputs": [
    {
     "name": "stdout",
     "output_type": "stream",
     "text": [
      "Hello Natembeya, welcome to Baraka Farm\n",
      "Hello Obed, welcome to Baraka Farm\n",
      "Hello Furaha, welcome to Baraka Farm\n",
      "Hello Wafula, welcome to Baraka Farm\n",
      "Hello Wanyonyi, welcome to Baraka Farm\n",
      "Hello Papali, welcome to Baraka Farm\n"
     ]
    }
   ],
   "source": [
    "guests = [\"Natembeya\", \"Obed\", \"Furaha\", \"Wafula\", \"Wanyonyi\" , \"Papali\"]\n",
    "\n",
    "for name in guests:\n",
    "    message = f\"Hello {name}, welcome to Baraka Farm\"\n",
    "    \n",
    "    print(message)"
   ]
  },
  {
   "cell_type": "markdown",
   "id": "5edd5614-ab3f-415a-bc32-e8c248991ae0",
   "metadata": {},
   "source": [
    "#### Basic range\n",
    "\n",
    "* Only using stop to generate a sequence of numbers from 0 to 10\n",
    "* Remember if you dont include start and step, python will automatically pick the numbers 0 and 1 as the default value for stop and step"
   ]
  },
  {
   "cell_type": "code",
   "execution_count": 73,
   "id": "a85fc631-988a-4055-87bf-4956b7e74988",
   "metadata": {
    "tags": []
   },
   "outputs": [
    {
     "name": "stdout",
     "output_type": "stream",
     "text": [
      "0\n",
      "1\n",
      "2\n",
      "3\n",
      "4\n",
      "5\n",
      "6\n",
      "7\n",
      "8\n",
      "9\n",
      "10\n"
     ]
    }
   ],
   "source": [
    "# from 0 to 20\n",
    "\n",
    "for num in range(11):\n",
    "    print(num)"
   ]
  },
  {
   "cell_type": "markdown",
   "id": "497ac84c-6028-46e4-845f-5f4cf0a2d7dd",
   "metadata": {
    "tags": []
   },
   "source": [
    "#### specifying start and stop\n",
    "* generate a sequence where we specify the start of a sequence"
   ]
  },
  {
   "cell_type": "code",
   "execution_count": 78,
   "id": "e36c211c-036c-4a66-8bdf-f038d06f340e",
   "metadata": {
    "tags": []
   },
   "outputs": [
    {
     "name": "stdout",
     "output_type": "stream",
     "text": [
      "30\n",
      "31\n",
      "32\n",
      "33\n",
      "34\n",
      "35\n",
      "36\n",
      "37\n",
      "38\n",
      "39\n",
      "40\n"
     ]
    }
   ],
   "source": [
    "# from 30 to 40\n",
    "\n",
    "for num in range(30, 41):\n",
    "    print(num)"
   ]
  },
  {
   "cell_type": "markdown",
   "id": "d4ac4f8e-17fc-4b1d-923d-99719ae82060",
   "metadata": {},
   "source": [
    "* step is the difference between two consecutive number"
   ]
  },
  {
   "cell_type": "code",
   "execution_count": 88,
   "id": "99b35e9c-6978-43d6-9e83-17b9cb069311",
   "metadata": {
    "tags": []
   },
   "outputs": [
    {
     "name": "stdout",
     "output_type": "stream",
     "text": [
      "10\n",
      "20\n",
      "30\n",
      "40\n",
      "50\n",
      "60\n",
      "70\n",
      "80\n",
      "90\n",
      "100\n"
     ]
    }
   ],
   "source": [
    "# all number divisible by 10 between 10 and 100\n",
    "for num in range(10, 101, 10):\n",
    "    print(num)"
   ]
  },
  {
   "cell_type": "code",
   "execution_count": 97,
   "id": "5b007a2d-3312-49ae-8e61-21f3e2937da7",
   "metadata": {
    "tags": []
   },
   "outputs": [
    {
     "name": "stdout",
     "output_type": "stream",
     "text": [
      "0\n",
      "2\n",
      "4\n",
      "6\n",
      "8\n",
      "10\n",
      "12\n",
      "14\n",
      "16\n",
      "18\n",
      "20\n"
     ]
    }
   ],
   "source": [
    "# all number even numbers between 1 and 20\n",
    "for num in range(0, 21):\n",
    "    if (num % 2 == 0):\n",
    "        print(num)"
   ]
  },
  {
   "cell_type": "code",
   "execution_count": 111,
   "id": "fab02256-bebe-474e-b7aa-d5b84bc92f7d",
   "metadata": {
    "tags": []
   },
   "outputs": [
    {
     "name": "stdout",
     "output_type": "stream",
     "text": [
      "[1, 3, 5, 7, 9, 11, 13, 15, 17, 19, 21, 23, 25, 27, 29, 31, 33, 35, 37, 39, 41, 43, 45, 47, 49, 51, 53, 55, 57, 59, 61, 63, 65, 67, 69, 71, 73, 75, 77, 79, 81, 83, 85, 87, 89, 91, 93, 95, 97, 99]\n"
     ]
    }
   ],
   "source": [
    "# demo purposes\n",
    "odd_numbers= []\n",
    "for num in range(1, 101, 2):\n",
    "    odd_numbers.append(num)\n",
    "print(odd_numbers)"
   ]
  },
  {
   "cell_type": "markdown",
   "id": "a12ccc38-029e-42ae-b19a-8e0b30983697",
   "metadata": {
    "tags": []
   },
   "source": [
    "## NESTED LOOPS\n",
    "This is a loop within a loop, i.e. the second loop is within the loop body of the first loop"
   ]
  },
  {
   "cell_type": "code",
   "execution_count": 101,
   "id": "f234b2ce-47f8-464a-8028-4a4da8862e12",
   "metadata": {
    "tags": []
   },
   "outputs": [
    {
     "name": "stdout",
     "output_type": "stream",
     "text": [
      "['Natembeya', 'Obed', 'Furaha', 'Wafula', 'Wanyonyi', 'Papali']\n"
     ]
    }
   ],
   "source": [
    "print(guests)"
   ]
  },
  {
   "cell_type": "code",
   "execution_count": 104,
   "id": "aff63cd7-1530-4fbc-b8f3-2aee1962a713",
   "metadata": {
    "tags": []
   },
   "outputs": [
    {
     "name": "stdout",
     "output_type": "stream",
     "text": [
      "N\n",
      "a\n",
      "t\n",
      "e\n",
      "m\n",
      "b\n",
      "e\n",
      "y\n",
      "a\n",
      "\n",
      "Natembeya\n",
      "Obed\n",
      "Furaha\n",
      "Wafula\n",
      "Wanyonyi\n",
      "Papali\n"
     ]
    }
   ],
   "source": [
    "item_1 = guests[0]\n",
    "\n",
    "for letters in item_1:\n",
    "    print(letters)\n",
    "print()\n",
    "for guest in guests:\n",
    "    print(guest)"
   ]
  },
  {
   "cell_type": "code",
   "execution_count": 109,
   "id": "a5348b22-9cc6-453b-b397-47a58c7ee78b",
   "metadata": {
    "tags": []
   },
   "outputs": [
    {
     "name": "stdout",
     "output_type": "stream",
     "text": [
      "N\n",
      "a\n",
      "t\n",
      "e\n",
      "m\n",
      "b\n",
      "e\n",
      "y\n",
      "a\n",
      "\n",
      "O\n",
      "b\n",
      "e\n",
      "d\n",
      "\n",
      "F\n",
      "u\n",
      "r\n",
      "a\n",
      "h\n",
      "a\n",
      "\n",
      "W\n",
      "a\n",
      "f\n",
      "u\n",
      "l\n",
      "a\n",
      "\n",
      "W\n",
      "a\n",
      "n\n",
      "y\n",
      "o\n",
      "n\n",
      "y\n",
      "i\n",
      "\n",
      "P\n",
      "a\n",
      "p\n",
      "a\n",
      "l\n",
      "i\n",
      "\n"
     ]
    }
   ],
   "source": [
    "# nested loop\n",
    "for guest in guests: # first loops\n",
    "    for letter in guest: # second loop\n",
    "        print(letter)\n",
    "    print() # line break after everyname"
   ]
  },
  {
   "cell_type": "code",
   "execution_count": 5,
   "id": "2140243a-5f52-4415-9186-d9bb685a7bcd",
   "metadata": {
    "tags": []
   },
   "outputs": [
    {
     "name": "stdout",
     "output_type": "stream",
     "text": [
      "* \n",
      "* * \n",
      "* * * \n",
      "* * * * \n"
     ]
    }
   ],
   "source": [
    "# define number of rows\n",
    "num_rows = 4\n",
    "\n",
    "# outer loop for rows\n",
    "for i in range(num_rows):\n",
    "    # inner loop for printing asteriks (*)\n",
    "    for j in range(i + 1):\n",
    "        print(\"*\", end=\" \")\n",
    "    #move to the next line after each row is printed\n",
    "    print()\n",
    "    "
   ]
  },
  {
   "cell_type": "code",
   "execution_count": 115,
   "id": "5b792428-36cf-4ece-99cf-f263b2d7e37f",
   "metadata": {
    "tags": []
   },
   "outputs": [
    {
     "name": "stdout",
     "output_type": "stream",
     "text": [
      "*\n",
      "**\n",
      "***\n",
      "****\n"
     ]
    }
   ],
   "source": [
    "# Astiba Cheat\n",
    "for i in range (1,5):\n",
    "    print('*' * i)"
   ]
  },
  {
   "cell_type": "code",
   "execution_count": 45,
   "id": "0f9d47d2-53c7-4ab7-99b9-f8725bd78720",
   "metadata": {},
   "outputs": [
    {
     "name": "stdout",
     "output_type": "stream",
     "text": [
      "\n",
      "\n",
      "\n",
      "\n"
     ]
    }
   ],
   "source": [
    "# define number of rows\n",
    "no_rows = 4\n",
    "\n",
    "# outer loop for rows\n",
    "for i in range(no_rows):\n",
    "    # inner loop for printing asteriks (*)\n",
    "    for j in range(-i -1):\n",
    "        print(\"*\", end=\" \")\n",
    "    #move to the next line after each row is printed\n",
    "    print()\n",
    "    "
   ]
  },
  {
   "cell_type": "code",
   "execution_count": 42,
   "id": "51584c9b-d46a-4add-9ad8-f69390df1125",
   "metadata": {},
   "outputs": [
    {
     "name": "stdout",
     "output_type": "stream",
     "text": [
      "        * \n",
      "      * * \n",
      "    * * * \n",
      "  * * * * \n",
      "* * * * * \n"
     ]
    }
   ],
   "source": [
    "rows =5\n",
    "for i in range(rows):\n",
    "    #print spaces before asterisks\n",
    "    for k in range(rows -i -1):\n",
    "        print(' ', end=' ')\n",
    "    #print asterisks for the current row\n",
    "    for j in range (i+1):\n",
    "        print('*', end=' ')\n",
    "    print()"
   ]
  },
  {
   "cell_type": "code",
   "execution_count": 3,
   "id": "b8cdd20b-fc24-4317-afe5-9ea29bbfeac2",
   "metadata": {},
   "outputs": [
    {
     "name": "stdout",
     "output_type": "stream",
     "text": [
      "* * * * * * \n",
      "* * * * * \n",
      "* * * * \n",
      "* * * \n",
      "* * \n",
      "* \n"
     ]
    }
   ],
   "source": [
    "def pattern(n):\n",
    "    for i in range(n, 1, -1):\n",
    "        for j in range(i, 1, -1):\n",
    "            print(\"*\", end=\" \")\n",
    "        print()\n",
    "pattern(7)"
   ]
  },
  {
   "cell_type": "code",
   "execution_count": null,
   "id": "6615ee85-7b72-4058-8554-6882dcf0b080",
   "metadata": {},
   "outputs": [],
   "source": []
  }
 ],
 "metadata": {
  "kernelspec": {
   "display_name": "Python 3 (ipykernel)",
   "language": "python",
   "name": "python3"
  },
  "language_info": {
   "codemirror_mode": {
    "name": "ipython",
    "version": 3
   },
   "file_extension": ".py",
   "mimetype": "text/x-python",
   "name": "python",
   "nbconvert_exporter": "python",
   "pygments_lexer": "ipython3",
   "version": "3.11.3"
  }
 },
 "nbformat": 4,
 "nbformat_minor": 5
}
