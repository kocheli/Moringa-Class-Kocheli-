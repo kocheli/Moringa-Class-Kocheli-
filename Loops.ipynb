{
 "cells": [
  {
   "cell_type": "markdown",
   "id": "99a14b32-24fe-4f55-bcd4-78710c9d15e1",
   "metadata": {},
   "source": [
    "# Looping Over Collections"
   ]
  },
  {
   "cell_type": "markdown",
   "id": "24875b52-675a-4888-b3c8-da980e9c965b",
   "metadata": {},
   "source": [
    "## Objectives\n",
    "* Understand the concept\n",
    "* Demonstrate the type of loops\n",
    "* Discuss the syntaxa\n",
    "* Understand the concept of loop control\n",
    "* Discuss Iteration\n",
    "* Discuss Nested Loops\n",
    "* Enhancing loop functionality"
   ]
  },
  {
   "cell_type": "markdown",
   "id": "6ac1e2b5-df53-4fa1-ba86-2a60763d3a4a",
   "metadata": {},
   "source": [
    "## Introduction to Repitition\n",
    "Repition is a very important function of programming\n",
    "* This is a fundamental concept of programming that involves performing the same set of instructions multiple times.\n",
    "* used to automate tasks that require repeated execution of come e.g. the *mpesa menu*.\n",
    "* Loops are a key mechanism in programming to achieve this repitition effectiently"
   ]
  },
  {
   "cell_type": "code",
   "execution_count": 21,
   "id": "7ed7f07f-ae0b-4274-bb28-88b09643c686",
   "metadata": {
    "tags": []
   },
   "outputs": [
    {
     "name": "stdout",
     "output_type": "stream",
     "text": [
      "1,2,3,4,5,6,7,8,9,10\n"
     ]
    }
   ],
   "source": [
    "# consider a scenario counting 1 to 10\n",
    "print(f'1,2,3,4,5,6,7,8,9,10')"
   ]
  },
  {
   "cell_type": "code",
   "execution_count": 4,
   "id": "bc174d7a-adfd-4a0c-b7cd-e75d2561a2eb",
   "metadata": {
    "tags": []
   },
   "outputs": [
    {
     "name": "stdout",
     "output_type": "stream",
     "text": [
      "1:10\n"
     ]
    }
   ],
   "source": [
    "print(f'1:10')"
   ]
  },
  {
   "cell_type": "code",
   "execution_count": 23,
   "id": "2c1b2ef5-3f6f-4ea3-871e-4a5d5e6b01b7",
   "metadata": {
    "tags": []
   },
   "outputs": [
    {
     "name": "stdout",
     "output_type": "stream",
     "text": [
      "1\n",
      "2\n",
      "3\n",
      "4\n",
      "5\n",
      "6\n",
      "7\n",
      "8\n",
      "9\n",
      "10\n"
     ]
    }
   ],
   "source": [
    "# programming loops automates such repititive taks\n",
    "for num in range(1,11):\n",
    "    print(num)"
   ]
  },
  {
   "cell_type": "code",
   "execution_count": 12,
   "id": "ea8c5fd5-a8ce-4f15-b323-c6bf84af1516",
   "metadata": {
    "tags": []
   },
   "outputs": [
    {
     "name": "stdout",
     "output_type": "stream",
     "text": [
      "Count: 10\n",
      "Count: 11\n",
      "Count: 12\n",
      "Count: 13\n",
      "Count: 14\n",
      "Count: 15\n",
      "Count: 16\n",
      "Count: 17\n",
      "Count: 18\n",
      "Count: 19\n"
     ]
    }
   ],
   "source": [
    "# use while loops\n",
    "amount = 10\n",
    "\n",
    "while amount < 20:\n",
    "    print(\"Count:\", amount)\n",
    "    amount += 1"
   ]
  },
  {
   "cell_type": "markdown",
   "id": "ec8acdae-4e3e-4eb2-80d8-5db1ef3b236c",
   "metadata": {},
   "source": [
    "### What is a loop\n",
    "* This is a programming construct that enables the reapeated execution of a specific block of code **(Indented within the code)**\n",
    "* They are use when you want to automate tasks that need to be performed multiple times\n",
    "* They control the flow of the programme allowing certain code to be executed **repeatedly until a condition is met**"
   ]
  },
  {
   "cell_type": "code",
   "execution_count": 13,
   "id": "e45dabe4-ff7c-4ea7-810b-e5e1ad87eeaa",
   "metadata": {
    "tags": []
   },
   "outputs": [
    {
     "name": "stdout",
     "output_type": "stream",
     "text": [
      "1\n",
      "2\n",
      "3\n",
      "4\n",
      "5\n",
      "6\n",
      "7\n",
      "8\n",
      "9\n"
     ]
    }
   ],
   "source": [
    "# lis of numbers\n",
    "numbers = [1, 2, 3, 4, 5, 6, 7, 8, 9]\n",
    "\n",
    "# empty list\n",
    "even_number = []\n",
    "\n",
    "for num in numbers:\n",
    "    print(num)"
   ]
  },
  {
   "cell_type": "code",
   "execution_count": 24,
   "id": "91253481-0f40-45ea-82ba-1f6d28dbe967",
   "metadata": {
    "tags": []
   },
   "outputs": [
    {
     "name": "stdout",
     "output_type": "stream",
     "text": [
      "[9, 7, 5, 3, 1]\n"
     ]
    }
   ],
   "source": [
    "# for fun\n",
    "odd_numbers = []\n",
    "\n",
    "for num in numbers:\n",
    "    if (num % 2 != 0):\n",
    "        odd_numbers.insert(0,num)\n",
    "        \n",
    "print(odd_numbers)"
   ]
  },
  {
   "cell_type": "code",
   "execution_count": 20,
   "id": "f2867067-abaf-4ce1-a57b-1887c157bbda",
   "metadata": {
    "tags": []
   },
   "outputs": [
    {
     "name": "stdout",
     "output_type": "stream",
     "text": [
      "[2, 4, 6, 8]\n"
     ]
    }
   ],
   "source": [
    "# for fun\n",
    "even_numbers = []\n",
    "\n",
    "for num in numbers:\n",
    "    if (num % 2 == 0):\n",
    "        even_numbers.append(num)\n",
    "        \n",
    "print(even_numbers)"
   ]
  },
  {
   "cell_type": "code",
   "execution_count": 25,
   "id": "9d60b51c-02b8-4ddc-8d6a-fd7292f88566",
   "metadata": {
    "tags": []
   },
   "outputs": [
    {
     "name": "stdout",
     "output_type": "stream",
     "text": [
      "55\n"
     ]
    }
   ],
   "source": [
    "# summation of numbers between 1 and 10\n",
    "sum = 1 + 2 + 3 + 4 + 5 + 6 + 7 + 8 + 9 + 10\n",
    "\n",
    "print(sum)"
   ]
  },
  {
   "cell_type": "code",
   "execution_count": 26,
   "id": "0d0acedb-2be8-4a2b-ae05-a2eced227386",
   "metadata": {
    "tags": []
   },
   "outputs": [
    {
     "name": "stdout",
     "output_type": "stream",
     "text": [
      "55\n"
     ]
    }
   ],
   "source": [
    "# looping the same\n",
    "\n",
    "sum = 0\n",
    "# creating a loop (for loop)\n",
    "for num in range(1, 11):\n",
    "    sum += num\n",
    "    \n",
    "print(sum)"
   ]
  },
  {
   "cell_type": "markdown",
   "id": "e2a5c1f1-c555-4735-ab8c-6e9e69f42561",
   "metadata": {},
   "source": [
    "### Control Flow\n",
    "* Loops influence the order in which instructions are executed.\n",
    "* When a loop is encountred, the programme enters a loop body, executing the contained code.\n",
    "* Syntax\n",
    "~~~\n",
    "loop made of a condition:\n",
    "    contained block of \n",
    "    code to be executed \n",
    "    when condition is true/met\n",
    "\n",
    "program exits the loop\n",
    "~~~\n",
    "* At each iteration , the program checks the loop condition. If the condition remains **True**, the loop body is executed again\n",
    "* If false, the programmes exits the loop\n",
    "\n",
    "* **Iteration** refers to each cycle of repition of a loop"
   ]
  },
  {
   "cell_type": "code",
   "execution_count": 28,
   "id": "fc88d1a1-1690-47e5-bce9-3abafc74e0d1",
   "metadata": {
    "tags": []
   },
   "outputs": [
    {
     "name": "stdout",
     "output_type": "stream",
     "text": [
      "This is an example of a loop\n",
      "We are demonstationg while loops\n",
      "Countdown Value: 5!!\n",
      "Countdown Value: 4!!\n",
      "Countdown Value: 3!!\n",
      "Countdown Value: 2!!\n",
      "Countdown Value: 1!!\n",
      "Exit loop!! and programme continues\n"
     ]
    }
   ],
   "source": [
    "# Demonstration\n",
    "# Assume the print statement below are blocks of code\n",
    "print(\"This is an example of a loop\")\n",
    "print(\"We are demonstationg while loops\")\n",
    "\n",
    "# loop to simulate a count down\n",
    "countdown = 5\n",
    "# our program meets a loop bloack >> while loop\n",
    "while (countdown > 0):\n",
    "    # code to execute when condition is true\n",
    "    print(f\"Countdown Value: {countdown}!!\")\n",
    "    countdown -= 1\n",
    "# program exits the loop when condition in no longer met\n",
    "print(\"Exit loop!! and programme continues\")\n",
    "          "
   ]
  },
  {
   "cell_type": "markdown",
   "id": "6d1b7315-5278-4d4a-863f-7234c5db7038",
   "metadata": {},
   "source": [
    "### Type of Loops\n",
    "* There are two main types of loops in python:\n",
    ">> ***for*** and ***while***\n",
    "* Type of loop you choose depends on whther you know the number of iterations in advance or if it depends on a condition\n",
    "* If you know the numbers iterations, use the while loop else use loop"
   ]
  },
  {
   "cell_type": "markdown",
   "id": "35924366-fc8a-4e0f-b4dd-f4443b63165a",
   "metadata": {},
   "source": [
    "### For Loop\n",
    "* Basic syntax\n",
    "```\n",
    "for item in sequence:\n",
    "    # code to be exucuted for each item\n",
    "    # ...\n",
    "```\n",
    "\n",
    "* **'for'**: keyword that signals the start of the for loop.\n",
    "* **'item'** : Is a variable represents the current item in the sequence during each iteration of the loop.\n",
    "* **'In'** : A key word used to specify that you're iterating *in* the given sequence.\n",
    "* **'sequence'** : Collection of items that you want to iterate over e.g. list, string, tuple or range\n",
    "* **':'** : signifies the start of the indented code block to be executed for each iteration of the loop\n",
    "\n",
    "Inside the indented code block , you place the actions or operations that you want to perform on each item in the sequence. The loop will automatically iterate through the entire sequence, executing the code block for each item. "
   ]
  },
  {
   "cell_type": "code",
   "execution_count": 3,
   "id": "ec4ebb94-db3e-4fd3-8327-0ddd2bdbed97",
   "metadata": {
    "tags": []
   },
   "outputs": [
    {
     "name": "stdout",
     "output_type": "stream",
     "text": [
      "Kisumu\n",
      "Kisii\n",
      "Nyamira\n"
     ]
    }
   ],
   "source": [
    "# code demo\n",
    "# List of high courts\n",
    "high_courts = ['Kisumu', 'Kisii', 'Nyamira', 'Homa Bay', 'Migori', 'Kitale', 'Mandera']\n",
    "\n",
    "for court in high_courts:\n",
    "     #code block to execute for each item\n",
    "    print(court)\n",
    "    if (court == \"Nyamira\"):\n",
    "        break;"
   ]
  },
  {
   "cell_type": "markdown",
   "id": "c6856af1-7b22-44ae-8921-f03700d5424f",
   "metadata": {},
   "source": [
    "### Sequence Types\n",
    "* Refers to data structures that hold a collection of elements, where each element is accesible by an index or a key.\n",
    "* These elements are ordered, meaning they have a specific position with the sequence."
   ]
  },
  {
   "cell_type": "code",
   "execution_count": 5,
   "id": "7054f067-0915-4ebc-930d-6858815c904f",
   "metadata": {
    "tags": []
   },
   "outputs": [
    {
     "name": "stdout",
     "output_type": "stream",
     "text": [
      "['Kisumu', 'Kisii', 'Nyamira', 'Homa Bay', 'Migori', 'Kitale', 'Mandera']\n"
     ]
    }
   ],
   "source": [
    "# lists\n",
    "print(high_courts)"
   ]
  },
  {
   "cell_type": "code",
   "execution_count": 6,
   "id": "07b0193f-5b37-4901-9b3f-0e9c4e23a5ef",
   "metadata": {
    "tags": []
   },
   "outputs": [
    {
     "name": "stdout",
     "output_type": "stream",
     "text": [
      "Homa Bay\n"
     ]
    }
   ],
   "source": [
    "# accessing items in a list by index\n",
    "print(high_courts[3])"
   ]
  },
  {
   "cell_type": "code",
   "execution_count": 10,
   "id": "8fabfa07-8d3b-46dc-847c-3f127cb43ce2",
   "metadata": {
    "tags": []
   },
   "outputs": [
    {
     "name": "stdout",
     "output_type": "stream",
     "text": [
      "kisumu\n",
      "kisii\n",
      "nyamira\n",
      "homa bay\n",
      "migori\n",
      "kitale\n",
      "mandera\n"
     ]
    }
   ],
   "source": [
    "# Looping through list codes\n",
    "for court in high_courts:\n",
    "    #code to execute\n",
    "    #lower_case = court.lower()\n",
    "    print(court.lower())\n"
   ]
  },
  {
   "cell_type": "code",
   "execution_count": 11,
   "id": "934ce3d9-90ab-4480-bd4c-c1369680a94c",
   "metadata": {
    "tags": []
   },
   "outputs": [
    {
     "name": "stdout",
     "output_type": "stream",
     "text": [
      "('Kocheli', 'Solo', 'Nyambane', 'Yusuf')\n"
     ]
    }
   ],
   "source": [
    "# tuple > similar to list but they are immutable i.e. they cannot be changed after creation\n",
    "# syntax tuple_name = (item1, item2,.....)\n",
    "\n",
    "noise_makers = (\"Kocheli\", \"Solo\", \"Nyambane\", \"Yusuf\")\n",
    "\n",
    "print(noise_makers)"
   ]
  },
  {
   "cell_type": "code",
   "execution_count": 12,
   "id": "f96a152d-6264-41d8-80a9-ca4bb42242c6",
   "metadata": {
    "tags": []
   },
   "outputs": [
    {
     "name": "stdout",
     "output_type": "stream",
     "text": [
      "Kocheli\n",
      "Solo\n",
      "Nyambane\n",
      "Yusuf\n"
     ]
    }
   ],
   "source": [
    "# loop through items in a tuple\n",
    "for noise_maker in noise_makers:\n",
    "    # code to be executed\n",
    "    print(noise_maker)"
   ]
  },
  {
   "cell_type": "code",
   "execution_count": 14,
   "id": "a59a38ba-662e-42ac-91e2-60b7da2a6054",
   "metadata": {
    "tags": []
   },
   "outputs": [
    {
     "name": "stdout",
     "output_type": "stream",
     "text": [
      "Kocheli\n"
     ]
    }
   ],
   "source": [
    "print(noise_makers[0])"
   ]
  },
  {
   "cell_type": "code",
   "execution_count": null,
   "id": "fad442aa-3086-4616-a530-177b9836701e",
   "metadata": {},
   "outputs": [],
   "source": []
  }
 ],
 "metadata": {
  "kernelspec": {
   "display_name": "Python 3 (ipykernel)",
   "language": "python",
   "name": "python3"
  },
  "language_info": {
   "codemirror_mode": {
    "name": "ipython",
    "version": 3
   },
   "file_extension": ".py",
   "mimetype": "text/x-python",
   "name": "python",
   "nbconvert_exporter": "python",
   "pygments_lexer": "ipython3",
   "version": "3.11.3"
  }
 },
 "nbformat": 4,
 "nbformat_minor": 5
}
