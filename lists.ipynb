{
 "cells": [
  {
   "cell_type": "markdown",
   "id": "fd0de0cf-bac4-48f6-b971-0ce25fc27d4b",
   "metadata": {},
   "source": [
    "# Working with Lists"
   ]
  },
  {
   "cell_type": "markdown",
   "id": "08d8661d-744e-490a-9095-c208a69f29bb",
   "metadata": {
    "tags": []
   },
   "source": [
    "* A list is a collection of items in a particular order\n",
    "* Can include strings, floats, integers and any othet data types including a list\n",
    "* YOu can add anything in a list and the items don't have to be related in any particular way\n",
    "\n",
    "**syntax**:  ****[item_1, item_2, item_3]****\n",
    "* Use the square brackets ***([])*** to indicate a list and individual items in the lists are seperated by commas."
   ]
  },
  {
   "cell_type": "code",
   "execution_count": 2,
   "id": "385806fb-cab1-41cd-9bbf-e588760a03e5",
   "metadata": {
    "tags": []
   },
   "outputs": [
    {
     "name": "stdout",
     "output_type": "stream",
     "text": [
      "['Tusker', 'Gilbeys', 'White Cup', 'Black Label']\n"
     ]
    }
   ],
   "source": [
    "# example 1\n",
    "\n",
    "alcohol = [\"Tusker\", \"Gilbeys\", \"White Cup\", \"Black Label\"]\n",
    "          \n",
    "print(alcohol)"
   ]
  },
  {
   "cell_type": "code",
   "execution_count": 6,
   "id": "0c233a0f-739f-4fb6-bc4c-4fad8c9699a2",
   "metadata": {
    "tags": []
   },
   "outputs": [
    {
     "data": {
      "text/plain": [
       "list"
      ]
     },
     "execution_count": 6,
     "metadata": {},
     "output_type": "execute_result"
    }
   ],
   "source": [
    "type(alcohol)"
   ]
  },
  {
   "cell_type": "code",
   "execution_count": 4,
   "id": "4d8383d4-5fef-42e3-b39f-34b2a53b99ea",
   "metadata": {
    "tags": []
   },
   "outputs": [
    {
     "name": "stdout",
     "output_type": "stream",
     "text": [
      "['KCM 851P', 'KAK 651C', 'KBY 333R']\n"
     ]
    }
   ],
   "source": [
    "# example 2\n",
    "car_no = [\"KCM 851P\", \"KAK 651C\", \"KBY 333R\"]\n",
    "\n",
    "print(car_no)"
   ]
  },
  {
   "cell_type": "markdown",
   "id": "9e7265f9-cbb6-4464-acf5-1648dd9f500d",
   "metadata": {},
   "source": [
    "### Accessing Items in a List\n",
    "* Lists are ordered collection and you can access individual items in a list by telling python the position of thet item in a list.\n",
    "* The position of an item in a lists is reffered to as *index* and *index position starts from 0 and ~not 1~*\n",
    "* Syntax to access items in a list\n",
    "\n",
    "**list_name[index]**"
   ]
  },
  {
   "cell_type": "code",
   "execution_count": 8,
   "id": "9f83e03e-0c49-4810-9b71-dd1bb03a8d08",
   "metadata": {
    "tags": []
   },
   "outputs": [
    {
     "name": "stdout",
     "output_type": "stream",
     "text": [
      "['Tusker', 'Gilbeys', 'White Cup', 'Black Label']\n"
     ]
    }
   ],
   "source": [
    "# using list\n",
    "print(alcohol)"
   ]
  },
  {
   "cell_type": "code",
   "execution_count": 5,
   "id": "43561e73-b568-4061-8f07-794fe37316b3",
   "metadata": {
    "tags": []
   },
   "outputs": [
    {
     "name": "stdout",
     "output_type": "stream",
     "text": [
      "Black Label\n"
     ]
    }
   ],
   "source": [
    "print(alcohol[3])"
   ]
  },
  {
   "cell_type": "code",
   "execution_count": 6,
   "id": "41aaa693-0ea2-40fa-9dc5-51c310933a9c",
   "metadata": {
    "tags": []
   },
   "outputs": [
    {
     "name": "stdout",
     "output_type": "stream",
     "text": [
      "GILBEYS\n"
     ]
    }
   ],
   "source": [
    "print(alcohol[1].upper())"
   ]
  },
  {
   "cell_type": "code",
   "execution_count": 7,
   "id": "6ce500e2-962c-4ab2-81fb-77e70ba15b87",
   "metadata": {
    "tags": []
   },
   "outputs": [
    {
     "name": "stdout",
     "output_type": "stream",
     "text": [
      "white cup\n",
      "GILBEYS\n"
     ]
    }
   ],
   "source": [
    "# using negative indexing\n",
    "# negative -1\n",
    "\n",
    "print(alcohol[-2].lower())\n",
    "print(alcohol[-3].upper())"
   ]
  },
  {
   "cell_type": "code",
   "execution_count": 8,
   "id": "87c9e89d-9455-4b66-b568-9c539e485425",
   "metadata": {
    "tags": []
   },
   "outputs": [],
   "source": [
    "# using individual items in a list\n",
    "message = f\"Solomon is a young man but he drinks {alcohol[-2].lower()} so much\""
   ]
  },
  {
   "cell_type": "code",
   "execution_count": 16,
   "id": "3275bc90-9b50-47b7-9e88-d1f01244826c",
   "metadata": {
    "tags": []
   },
   "outputs": [
    {
     "name": "stdout",
     "output_type": "stream",
     "text": [
      "Solomon is a young man but he drinks white cup so much\n"
     ]
    }
   ],
   "source": [
    "print(message)"
   ]
  },
  {
   "cell_type": "code",
   "execution_count": 9,
   "id": "748e51c0-9022-4c60-9b7c-dad13544c06f",
   "metadata": {
    "tags": []
   },
   "outputs": [
    {
     "name": "stdout",
     "output_type": "stream",
     "text": [
      "Alex and Martin have a habit of chasing Black Label with TUSKER\n"
     ]
    }
   ],
   "source": [
    "message_2 = f\"Alex and Martin have a habit of chasing {alcohol[-1]} with {alcohol[-4].upper()}\"\n",
    "print(message_2)"
   ]
  },
  {
   "cell_type": "markdown",
   "id": "7f7efa63-8576-45b5-a33f-c1e878aea2eb",
   "metadata": {},
   "source": [
    "### Modifying, adding and removing elements in a list\n",
    "* lists are dynamic (can be changed), i.e. in most of the lists, you will creat, add, change, remove items and delete the entire list"
   ]
  },
  {
   "cell_type": "code",
   "execution_count": 2,
   "id": "6ae13b19-6496-49bb-bfcd-c636da8834c2",
   "metadata": {
    "tags": []
   },
   "outputs": [
    {
     "name": "stdout",
     "output_type": "stream",
     "text": [
      "['Toyta', 'Peugeot']\n"
     ]
    }
   ],
   "source": [
    "# Modifying items in a list\n",
    "\n",
    "vehicles = [\"Toyta\", \"Peugeot\"]\n",
    "\n",
    "print(vehicles)"
   ]
  },
  {
   "cell_type": "code",
   "execution_count": 32,
   "id": "47523288-d922-4532-9254-e80238b32113",
   "metadata": {
    "tags": []
   },
   "outputs": [],
   "source": [
    "vehicles[0] = \"Toyota\""
   ]
  },
  {
   "cell_type": "code",
   "execution_count": 33,
   "id": "df660143-31f9-4500-896d-74a5ca8d85c2",
   "metadata": {
    "tags": []
   },
   "outputs": [
    {
     "name": "stdout",
     "output_type": "stream",
     "text": [
      "['Toyota', 'Peugeot']\n"
     ]
    }
   ],
   "source": [
    "print(vehicles)"
   ]
  },
  {
   "cell_type": "code",
   "execution_count": 3,
   "id": "8fdfe262-6f19-4f4f-8ef0-0a91e6fc90f3",
   "metadata": {
    "tags": []
   },
   "outputs": [
    {
     "name": "stdout",
     "output_type": "stream",
     "text": [
      "['Toyta', 'Peugeot', 'Porsche']\n"
     ]
    }
   ],
   "source": [
    "# Adding an item to a list - introduing new items to a list\n",
    "# 1. Adding elelements to the end of a list .... append(iten_name)\n",
    "\n",
    "vehicles.append(\"Porsche\")\n",
    "\n",
    "print(vehicles)\n"
   ]
  },
  {
   "cell_type": "code",
   "execution_count": 28,
   "id": "5cabae04-19f2-4645-aa55-f0c90b20cd1e",
   "metadata": {
    "tags": []
   },
   "outputs": [
    {
     "name": "stdout",
     "output_type": "stream",
     "text": [
      "['Tusker', 'Gilbeys', 'White Cup', 'Black Label', 'Balozi']\n"
     ]
    }
   ],
   "source": [
    "# Append example 2\n",
    "alcohol.append(\"Balozi\")\n",
    "\n",
    "print(alcohol)"
   ]
  },
  {
   "cell_type": "code",
   "execution_count": 4,
   "id": "8b66a300-4166-4f85-869f-725370ad07f4",
   "metadata": {
    "tags": []
   },
   "outputs": [
    {
     "name": "stdout",
     "output_type": "stream",
     "text": [
      "['Toyta', 'Peugeot', 'Chevrolet', 'Porsche']\n"
     ]
    }
   ],
   "source": [
    "# insert an item into a list at specific position\n",
    "# syntax .insert(index.item)\n",
    "\n",
    "vehicles.insert(2,\"Chevrolet\")\n",
    "\n",
    "print(vehicles)"
   ]
  },
  {
   "cell_type": "code",
   "execution_count": 47,
   "id": "f6bb009b-c381-4f0c-8933-c811ab3ab89f",
   "metadata": {
    "tags": []
   },
   "outputs": [
    {
     "name": "stdout",
     "output_type": "stream",
     "text": [
      "Porsche\n"
     ]
    }
   ],
   "source": [
    "print(vehicles)"
   ]
  },
  {
   "cell_type": "markdown",
   "id": "8124ff9b-f247-4345-9e1a-5199437bb263",
   "metadata": {},
   "source": [
    "#### *Kirui's question (to be revisited in loops)"
   ]
  },
  {
   "cell_type": "code",
   "execution_count": 5,
   "id": "412bc522-4ec6-43d7-a4e1-031ecc155b07",
   "metadata": {
    "tags": []
   },
   "outputs": [
    {
     "name": "stdout",
     "output_type": "stream",
     "text": [
      "(i): vehicle\n",
      "(i): vehicle\n",
      "(i): vehicle\n",
      "(i): vehicle\n"
     ]
    }
   ],
   "source": [
    "# Kirui's question\n",
    "# you can display item in the list together with their indices\n",
    "\n",
    "for i, vehicle in enumerate(vehicles):\n",
    "    print(f\"(i): vehicle\")"
   ]
  },
  {
   "cell_type": "markdown",
   "id": "47f35fe3-ff2f-4a51-ba13-d12411f0b993",
   "metadata": {},
   "source": [
    "### Modifying, adding and removing elements in a list....."
   ]
  },
  {
   "cell_type": "code",
   "execution_count": 25,
   "id": "edae760e-3f05-4ed3-a200-1e4970d80fb9",
   "metadata": {
    "tags": []
   },
   "outputs": [
    {
     "name": "stdout",
     "output_type": "stream",
     "text": [
      "['Tusker', 'Gilbeys', 'White Cup']\n"
     ]
    }
   ],
   "source": [
    "# removing items in a list\n",
    "# there are more that one way\n",
    "# 1. using .pop() to remove an item at the end of the list\n",
    "alcohol.pop()\n",
    "\n",
    "print(alcohol)"
   ]
  },
  {
   "cell_type": "code",
   "execution_count": 26,
   "id": "fe4f1d82-0ab2-401f-bac4-447e32b7145a",
   "metadata": {
    "tags": []
   },
   "outputs": [
    {
     "name": "stdout",
     "output_type": "stream",
     "text": [
      "['Tusker', 'White Cup']\n"
     ]
    }
   ],
   "source": [
    "#use .pop(index) to remove an item from a particular position\n",
    "alcohol.pop(1)\n",
    "\n",
    "print(alcohol)"
   ]
  },
  {
   "cell_type": "code",
   "execution_count": 27,
   "id": "fab2e3b8-4b61-4355-b30f-cceed704d1da",
   "metadata": {
    "tags": []
   },
   "outputs": [
    {
     "name": "stdout",
     "output_type": "stream",
     "text": [
      "['White Cup']\n"
     ]
    }
   ],
   "source": [
    "alcohol.remove(\"Tusker\")\n",
    "\n",
    "print(alcohol)"
   ]
  },
  {
   "cell_type": "code",
   "execution_count": 28,
   "id": "4df359ed-a183-4ee1-b734-b9ebb6e1f248",
   "metadata": {
    "tags": []
   },
   "outputs": [
    {
     "name": "stdout",
     "output_type": "stream",
     "text": [
      "['White Cup']\n"
     ]
    }
   ],
   "source": [
    "print(alcohol)"
   ]
  },
  {
   "cell_type": "code",
   "execution_count": 6,
   "id": "7515ccf3-3465-4b13-8343-8024761bfeee",
   "metadata": {},
   "outputs": [],
   "source": [
    "# using del statement to remove items in a list\n",
    "# syntanx del list_name[1]\n",
    "\n",
    "del vehicles[1]"
   ]
  },
  {
   "cell_type": "code",
   "execution_count": 7,
   "id": "39ed50b5-ca84-4679-83b1-63bf012e0666",
   "metadata": {
    "tags": []
   },
   "outputs": [
    {
     "name": "stdout",
     "output_type": "stream",
     "text": [
      "['Toyta', 'Chevrolet', 'Porsche']\n"
     ]
    }
   ],
   "source": [
    "print(vehicles)"
   ]
  },
  {
   "cell_type": "code",
   "execution_count": 15,
   "id": "8705243c-2a98-4b35-a767-810deb117a89",
   "metadata": {},
   "outputs": [
    {
     "name": "stdout",
     "output_type": "stream",
     "text": [
      "1 Toyta\n",
      "2 Chevrolet\n",
      "3 Porsche\n"
     ]
    }
   ],
   "source": [
    "count = 1\n",
    "for vehicle in vehicles:\n",
    "    print(count, vehicle)\n",
    "    count += 1"
   ]
  },
  {
   "cell_type": "markdown",
   "id": "965b51f3-b70b-41e8-9f80-23ca843f1b96",
   "metadata": {},
   "source": [
    "## Further"
   ]
  },
  {
   "cell_type": "code",
   "execution_count": 16,
   "id": "fa38e3a5-ce99-4fd1-b376-8b8916bc7ad9",
   "metadata": {
    "tags": []
   },
   "outputs": [],
   "source": [
    "data = [\"Mango\", [\"Pawpaw\", \"Oranges\"], \"Guava\"]"
   ]
  },
  {
   "cell_type": "code",
   "execution_count": 20,
   "id": "e8c940ca-c5b6-4b84-8dc5-f8bfc3f25561",
   "metadata": {
    "tags": []
   },
   "outputs": [
    {
     "name": "stdout",
     "output_type": "stream",
     "text": [
      "ORANGES\n"
     ]
    }
   ],
   "source": [
    "print(data[1][1].upper())"
   ]
  },
  {
   "cell_type": "code",
   "execution_count": 24,
   "id": "e7533c70-4b54-4f44-a9a9-d634cfb0cd2f",
   "metadata": {
    "tags": []
   },
   "outputs": [
    {
     "name": "stdout",
     "output_type": "stream",
     "text": [
      "Present\n"
     ]
    }
   ],
   "source": [
    "#checking an item in a list\n",
    "politicians = [\"Sifuna\", \"Babu\" , \"Sakaja\", \"Natembea\", \"Papa\"]\n",
    "if \"Babu\" in politicians:\n",
    "    print(\"Present\")"
   ]
  },
  {
   "cell_type": "code",
   "execution_count": 29,
   "id": "b7b7349e-9292-43fb-9206-d679eb0aeece",
   "metadata": {
    "tags": []
   },
   "outputs": [
    {
     "name": "stdout",
     "output_type": "stream",
     "text": [
      "Present\n"
     ]
    }
   ],
   "source": [
    "# adding items not in the list\n",
    "if \"Mohammed\" in politicians:\n",
    "    print(\"Present\")\n",
    "\n",
    "else:\n",
    "    politicians.append(\"Mohammed\")"
   ]
  },
  {
   "cell_type": "code",
   "execution_count": 28,
   "id": "946a5752-a92e-4c20-a058-104257e387ad",
   "metadata": {
    "tags": []
   },
   "outputs": [
    {
     "name": "stdout",
     "output_type": "stream",
     "text": [
      "['Sifuna', 'Babu', 'Sakaja', 'Natembea', 'Papa', 'Mohammed']\n"
     ]
    }
   ],
   "source": [
    "print(politicians)"
   ]
  },
  {
   "cell_type": "code",
   "execution_count": 31,
   "id": "ec1bad32-0658-4b15-8fdd-84153fe4eb5f",
   "metadata": {
    "tags": []
   },
   "outputs": [],
   "source": [
    "if \"Shabir\" in politicians:\n",
    "    print(\"Present\")\n",
    "\n",
    "else:\n",
    "    politicians.insert(1, \"Shabir\")"
   ]
  },
  {
   "cell_type": "code",
   "execution_count": 32,
   "id": "ab52d43d-78aa-4804-b986-b3b7aa60bca8",
   "metadata": {
    "tags": []
   },
   "outputs": [
    {
     "name": "stdout",
     "output_type": "stream",
     "text": [
      "['Sifuna', 'Shabir', 'Babu', 'Sakaja', 'Natembea', 'Papa', 'Mohammed']\n"
     ]
    }
   ],
   "source": [
    "print(politicians)"
   ]
  },
  {
   "cell_type": "code",
   "execution_count": 34,
   "id": "310776b4-b045-49b9-b15a-37e31162a8b8",
   "metadata": {
    "tags": []
   },
   "outputs": [
    {
     "name": "stdout",
     "output_type": "stream",
     "text": [
      "corruption\n"
     ]
    }
   ],
   "source": [
    "# Absent (if items not in the list)\n",
    "if \"Omanga\" not in politicians:\n",
    "    print(\"corruption\")"
   ]
  },
  {
   "cell_type": "code",
   "execution_count": 39,
   "id": "ddb566fd-9b19-4807-963b-e52c38903538",
   "metadata": {
    "tags": []
   },
   "outputs": [],
   "source": [
    "politicians.insert(0, \"Nyamu\")"
   ]
  },
  {
   "cell_type": "code",
   "execution_count": 44,
   "id": "fdc6c911-54d3-4dbf-ba9b-8c18382a8c6d",
   "metadata": {
    "tags": []
   },
   "outputs": [
    {
     "name": "stdout",
     "output_type": "stream",
     "text": [
      "['Nyamu', 'Sifuna', 'Shabir', 'Babu', 'Sakaja', 'Natembea', 'Papa', 'Mohammed']\n"
     ]
    }
   ],
   "source": [
    "print(politicians)"
   ]
  },
  {
   "cell_type": "code",
   "execution_count": 43,
   "id": "18ef7326-f2c4-42c3-aab6-fb741ad331de",
   "metadata": {
    "tags": []
   },
   "outputs": [
    {
     "data": {
      "text/plain": [
       "'Nyamu'"
      ]
     },
     "execution_count": 43,
     "metadata": {},
     "output_type": "execute_result"
    }
   ],
   "source": [
    "politicians.pop(0)"
   ]
  },
  {
   "cell_type": "code",
   "execution_count": 45,
   "id": "21e17955-fdc5-4076-bc54-0f7a2dca4378",
   "metadata": {
    "tags": []
   },
   "outputs": [
    {
     "name": "stdout",
     "output_type": "stream",
     "text": [
      "['Nyamu', 'Sifuna', 'Shabir', 'Babu', 'Sakaja', 'Natembea', 'Papa', 'Mohammed']\n"
     ]
    }
   ],
   "source": [
    "print(politicians)"
   ]
  },
  {
   "cell_type": "markdown",
   "id": "bef884f1-1fe1-4a93-bfde-06e1087d1ccd",
   "metadata": {},
   "source": [
    "#### Functions"
   ]
  },
  {
   "cell_type": "code",
   "execution_count": 46,
   "id": "69cb56fa-738b-43c6-a576-4ed85ef1b3a1",
   "metadata": {
    "tags": []
   },
   "outputs": [
    {
     "data": {
      "text/plain": [
       "8"
      ]
     },
     "execution_count": 46,
     "metadata": {},
     "output_type": "execute_result"
    }
   ],
   "source": [
    "# Functions\n",
    "# size of a list\n",
    "len(politicians)"
   ]
  },
  {
   "cell_type": "code",
   "execution_count": 47,
   "id": "39b56a68-0157-4efe-a47a-e42590ba166e",
   "metadata": {
    "tags": []
   },
   "outputs": [
    {
     "name": "stdout",
     "output_type": "stream",
     "text": [
      "None\n"
     ]
    }
   ],
   "source": [
    "dataset = [1, 6 , 7, 9, 12, 22, 26, 45, 60, 112, 999]\n",
    "\n",
    "# sort to organize\n",
    "\n",
    "print(dataset.sort())"
   ]
  },
  {
   "cell_type": "code",
   "execution_count": null,
   "id": "a7bbd207-9d68-43ab-99b0-e422fab37b0c",
   "metadata": {},
   "outputs": [],
   "source": []
  }
 ],
 "metadata": {
  "kernelspec": {
   "display_name": "Python 3 (ipykernel)",
   "language": "python",
   "name": "python3"
  },
  "language_info": {
   "codemirror_mode": {
    "name": "ipython",
    "version": 3
   },
   "file_extension": ".py",
   "mimetype": "text/x-python",
   "name": "python",
   "nbconvert_exporter": "python",
   "pygments_lexer": "ipython3",
   "version": "3.11.3"
  }
 },
 "nbformat": 4,
 "nbformat_minor": 5
}
