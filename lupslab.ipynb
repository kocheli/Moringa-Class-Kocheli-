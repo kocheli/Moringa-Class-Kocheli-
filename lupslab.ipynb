{
 "cells": [
  {
   "cell_type": "markdown",
   "id": "acd28ac2-bea6-4577-92c8-95735bd22f17",
   "metadata": {},
   "source": [
    "### What is a ```while``` loop and how does it work?\n",
    "A **while** loop is just that; a loop! Similar to a for loop, except there is no need for a collection to iterate over. Instead, a while loop uses a condition to know when to stop executing. When the condition is true, the block inside the while loop is executed. When that condition is false, we exit the while loop and move on to the next piece of our code."
   ]
  },
  {
   "cell_type": "code",
   "execution_count": 5,
   "id": "b9102abf-5655-46bf-bdb3-597ad0131fff",
   "metadata": {
    "tags": []
   },
   "outputs": [
    {
     "name": "stdout",
     "output_type": "stream",
     "text": [
      "4\n",
      "3\n",
      "2\n",
      "1\n",
      "The number reached 0 so the while loop's condition became False and stopped execution\n"
     ]
    }
   ],
   "source": [
    "number = 4\n",
    "while (number > 0):\n",
    "    print(number)\n",
    "    number -= 1\n",
    "print(\"The number reached\", number, \"so the while loop's condition became False and stopped execution\")"
   ]
  },
  {
   "cell_type": "code",
   "execution_count": 10,
   "id": "a376dd7b-12de-4aa5-91c9-e6214c950f43",
   "metadata": {
    "tags": []
   },
   "outputs": [
    {
     "name": "stdin",
     "output_type": "stream",
     "text": [
      "Enter Beers:  10\n",
      "Enter Num:  0\n"
     ]
    },
    {
     "name": "stdout",
     "output_type": "stream",
     "text": [
      "Another beer drunk\n",
      "Now drunk 1 beers\n",
      "Another beer drunk\n",
      "Now drunk 2 beers\n",
      "Another beer drunk\n",
      "Now drunk 3 beers\n",
      "Another beer drunk\n",
      "Now drunk 4 beers\n",
      "Another beer drunk\n",
      "Now drunk 5 beers\n",
      "Another beer drunk\n",
      "Now drunk 6 beers\n",
      "Another beer drunk\n",
      "Now drunk 7 beers\n",
      "Another beer drunk\n",
      "Now drunk 8 beers\n",
      "Another beer drunk\n",
      "Now drunk 9 beers\n",
      "Another beer drunk\n",
      "Now drunk 10 beers\n"
     ]
    }
   ],
   "source": [
    "number_of_beers = int(input(\"Enter Beers: \"))\n",
    "beers_drunk = int(input(\"Enter Num: \"))\n",
    "\n",
    "for beer in range(number_of_beers):\n",
    "    print('Another beer drunk')\n",
    "    beers_drunk += 1\n",
    "    print('Now drunk {} beers'.format(beers_drunk))"
   ]
  },
  {
   "cell_type": "markdown",
   "id": "b79e02a1-9b73-427c-b238-d377ed9d3bb6",
   "metadata": {},
   "source": [
    "time_for_breakfast = 1468 # in seconds\n",
    "\n",
    "number_of_cooked_pancakes = 0\n",
    "\n",
    "* write your while loop here\n",
    "* use a while loop to make 5 pancakes for breakfast\n",
    "* each pancake takes 27 seconds to cook on each side\n",
    "* it takes an average of 5 seconds to flip a pancake, add or remove a pancake from the pan.\n",
    "* you must decrease the time_for_breakfast each time you\n",
    "* add a pancake to the skillet (frying pan) or flip a pancake (i.e. 2 times per pancake)\n",
    "* there is only room for one pancake at a time\n",
    "* print out how much time is remaining"
   ]
  },
  {
   "cell_type": "code",
   "execution_count": 19,
   "id": "63816a93-3739-4708-8c76-9fff8a7bd550",
   "metadata": {
    "tags": []
   },
   "outputs": [
    {
     "name": "stdin",
     "output_type": "stream",
     "text": [
      "Enter Time:  1468\n",
      "Enter Number:  4\n",
      "Enter Cook Time:  27\n",
      "Enter Flip Time:  5\n"
     ]
    },
    {
     "name": "stdout",
     "output_type": "stream",
     "text": [
      "Time remaining: -4 seconds\n"
     ]
    }
   ],
   "source": [
    "time_for_breakfast = int(input(\"Enter Time: \"))\n",
    "no_of_cooked_pancakes = int(input(\"Enter Number: \"))\n",
    "time_per_pancake = int(input(\"Enter Cook Time: \"))\n",
    "time_per_flip = int(input(\"Enter Flip Time: \"))\n",
    "while (no_of_cooked_pancakes < time_for_breakfast) and (time_for_breakfast >= (time_per_pancake * 2)):\n",
    "                    time_for_breakfast -= (time_per_pancake * 2) + (time_per_flip * 2)\n",
    "                    no_of_cooked_pancakes += 1\n",
    "\n",
    "print(\"Time remaining:\", time_for_breakfast, \"seconds\")"
   ]
  },
  {
   "cell_type": "code",
   "execution_count": 23,
   "id": "6b967200-d18b-4f11-9621-018d130df31f",
   "metadata": {
    "tags": []
   },
   "outputs": [
    {
     "name": "stdout",
     "output_type": "stream",
     "text": [
      "Fed patrons: [28, 26, 24, 22, 20, 18, 16, 14, 12, 10, 8, 6, 4, 2, 0]\n",
      "Remaining hungry patrons: []\n"
     ]
    }
   ],
   "source": [
    "line_of_hungry_patrons = list(range(0,30))\n",
    "\n",
    "fed_patrons = []\n",
    "\n",
    "while len(fed_patrons) < 15 and len(line_of_hungry_patrons) > 0:\n",
    "    patron = line_of_hungry_patrons.pop()\n",
    "    if patron % 2 == 0:\n",
    "        fed_patrons.append(patron)\n",
    "\n",
    "print(\"Fed patrons:\", fed_patrons)\n",
    "print(\"Remaining hungry patrons:\", line_of_hungry_patrons)\n",
    "    "
   ]
  }
 ],
 "metadata": {
  "kernelspec": {
   "display_name": "Python 3 (ipykernel)",
   "language": "python",
   "name": "python3"
  },
  "language_info": {
   "codemirror_mode": {
    "name": "ipython",
    "version": 3
   },
   "file_extension": ".py",
   "mimetype": "text/x-python",
   "name": "python",
   "nbconvert_exporter": "python",
   "pygments_lexer": "ipython3",
   "version": "3.11.3"
  }
 },
 "nbformat": 4,
 "nbformat_minor": 5
}
