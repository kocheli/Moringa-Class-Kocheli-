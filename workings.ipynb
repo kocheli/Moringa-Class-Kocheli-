{
 "cells": [
  {
   "cell_type": "code",
   "execution_count": 1,
   "id": "10f35561-fd03-461e-9234-7b4ba21e706f",
   "metadata": {
    "tags": []
   },
   "outputs": [
    {
     "data": {
      "text/plain": [
       "3"
      ]
     },
     "execution_count": 1,
     "metadata": {},
     "output_type": "execute_result"
    }
   ],
   "source": [
    "1+2"
   ]
  },
  {
   "cell_type": "code",
   "execution_count": 2,
   "id": "b0abd2c5-e6ae-40a0-b11f-80796023a07e",
   "metadata": {
    "tags": []
   },
   "outputs": [
    {
     "data": {
      "text/plain": [
       "'1+2'"
      ]
     },
     "execution_count": 2,
     "metadata": {},
     "output_type": "execute_result"
    }
   ],
   "source": [
    "\"1+2\""
   ]
  },
  {
   "cell_type": "raw",
   "id": "d532aabe-1a70-484d-baf8-053e17a567a3",
   "metadata": {},
   "source": [
    "## Conditions"
   ]
  },
  {
   "cell_type": "markdown",
   "id": "a3cc6aac-5ec7-4ad1-b31f-f5478d62833d",
   "metadata": {},
   "source": [
    "# workings"
   ]
  },
  {
   "cell_type": "markdown",
   "id": "a25550b9-c57a-4f2e-b550-f2571f5b07a1",
   "metadata": {},
   "source": [
    "## How to check if a number is even or odd"
   ]
  },
  {
   "cell_type": "code",
   "execution_count": 1,
   "id": "cfeb6afa-362f-43b5-8651-3f987ae4cd03",
   "metadata": {
    "tags": []
   },
   "outputs": [
    {
     "name": "stdin",
     "output_type": "stream",
     "text": [
      "Enter a number:  5\n"
     ]
    },
    {
     "name": "stdout",
     "output_type": "stream",
     "text": [
      "5 is odd number\n"
     ]
    }
   ],
   "source": [
    "# programme\n",
    "number = int(input(\"Enter a number: \"))\n",
    "\n",
    "if(number % 2) == 0:\n",
    "             print(\"{0} is even number\".format(number))\n",
    "else:\n",
    "             print(\"{0} is odd number\".format(number))"
   ]
  },
  {
   "cell_type": "code",
   "execution_count": 2,
   "id": "2a52819e-0a4b-44ac-8857-f2af3f28d751",
   "metadata": {
    "tags": []
   },
   "outputs": [
    {
     "name": "stdin",
     "output_type": "stream",
     "text": [
      "Enter a year:  2004\n"
     ]
    },
    {
     "name": "stdout",
     "output_type": "stream",
     "text": [
      "Leap Year\n"
     ]
    }
   ],
   "source": [
    "# leap year\n",
    "input_year = int(input(\"Enter a year: \"))\n",
    "def is_leap(year):\n",
    "    if (year % 400 == 0) or (year % 4 == 0 and year % 100 != 0):\n",
    "        return True\n",
    "\n",
    "    return False\n",
    "\n",
    "if is_leap(input_year):\n",
    "    print(\"Leap Year\")\n",
    "else:\n",
    "    print(\"Not Leap Year\")"
   ]
  },
  {
   "cell_type": "code",
   "execution_count": 12,
   "id": "a087bc92-9bb2-4835-98d1-d956a5e85fe4",
   "metadata": {
    "tags": []
   },
   "outputs": [],
   "source": [
    "import calendar"
   ]
  },
  {
   "cell_type": "code",
   "execution_count": 17,
   "id": "5e9922dd-0494-413a-902b-4b3ffb043567",
   "metadata": {
    "tags": []
   },
   "outputs": [
    {
     "name": "stdout",
     "output_type": "stream",
     "text": [
      "Not Leap Year\n"
     ]
    }
   ],
   "source": [
    "if calendar.isleap(input_year):\n",
    "    print(\"Leap Year\")\n",
    "else:\n",
    "    print(\"Not Leap Year\")"
   ]
  },
  {
   "cell_type": "code",
   "execution_count": 1,
   "id": "b06909a7-7a57-4841-a3c3-4001bea39ed4",
   "metadata": {},
   "outputs": [
    {
     "name": "stdin",
     "output_type": "stream",
     "text": [
      "Enter the age:  34\n"
     ]
    },
    {
     "name": "stdout",
     "output_type": "stream",
     "text": [
      "Kes. 800\n"
     ]
    }
   ],
   "source": [
    "#Year vs. Price\n",
    "age = int(input(\"Enter the age: \"))\n",
    "\n",
    "if (age<13):\n",
    "    price = \"Kes. 400\"\n",
    "    print(price)\n",
    "    \n",
    "elif (age>=13) and (age<=17):\n",
    "    price = \"Kes. 600\"\n",
    "    print(price)\n",
    "    \n",
    "elif (age>=18) and (age<=65):\n",
    "    price = \"Kes. 800\"\n",
    "    print(price)\n",
    "    \n",
    "else:\n",
    "    price = \"Kes. 350\"\n",
    "    print(price)"
   ]
  },
  {
   "cell_type": "markdown",
   "id": "d4c5ec80-04bb-4a29-bbd7-d38c8e987211",
   "metadata": {},
   "source": [
    "# Lists\n",
    "## Recap"
   ]
  },
  {
   "cell_type": "code",
   "execution_count": 18,
   "id": "46cec62a-7a05-4896-9e01-a855b5341685",
   "metadata": {
    "tags": []
   },
   "outputs": [
    {
     "data": {
      "text/plain": [
       "['Nairobi', 'Mombasa', 'Kitale', 'Eldoret', 'Lodar', 'Madera']"
      ]
     },
     "execution_count": 18,
     "metadata": {},
     "output_type": "execute_result"
    }
   ],
   "source": [
    "# list examples\n",
    "\n",
    "towns = [\"Nairobi\", \"Mombasa\", \"Kitale\", \"Eldoret\", \"Lodar\", \"Madera\"]\n",
    "count = 1\n",
    "\n",
    "list(towns)"
   ]
  },
  {
   "cell_type": "code",
   "execution_count": 2,
   "id": "3c2071f9-572c-4f03-b210-c9dbd9a298a3",
   "metadata": {
    "tags": []
   },
   "outputs": [
    {
     "name": "stdout",
     "output_type": "stream",
     "text": [
      "KITALE\n"
     ]
    }
   ],
   "source": [
    "print(towns[2].upper())"
   ]
  },
  {
   "cell_type": "code",
   "execution_count": 20,
   "id": "e4072396-1b4b-436b-a0c4-0777a67e7757",
   "metadata": {
    "tags": []
   },
   "outputs": [],
   "source": [
    "towns[4] = \"Lodwar\""
   ]
  },
  {
   "cell_type": "code",
   "execution_count": 21,
   "id": "12dea75d-6789-4412-8f44-1667a72af809",
   "metadata": {
    "tags": []
   },
   "outputs": [],
   "source": [
    "towns[5] = \"Mandera\""
   ]
  },
  {
   "cell_type": "code",
   "execution_count": 22,
   "id": "440f9ad3-aef6-45ef-86fb-85ca5d2919c7",
   "metadata": {
    "tags": []
   },
   "outputs": [
    {
     "name": "stdout",
     "output_type": "stream",
     "text": [
      "['Nairobi', 'Mombasa', 'Kitale', 'Eldoret', 'Lodwar', 'Mandera']\n"
     ]
    }
   ],
   "source": [
    "print(towns)"
   ]
  },
  {
   "cell_type": "markdown",
   "id": "e2b6f4e1-1d62-461a-9f38-69250392bae5",
   "metadata": {},
   "source": [
    "### Adding"
   ]
  },
  {
   "cell_type": "code",
   "execution_count": 23,
   "id": "87e021c4-6c1d-4b98-b6ef-bcd999624c3b",
   "metadata": {
    "tags": []
   },
   "outputs": [],
   "source": [
    "towns.append(\"Kisii\")"
   ]
  },
  {
   "cell_type": "code",
   "execution_count": 7,
   "id": "5f9a7f55-2f08-41a8-9e16-6f4ff758d172",
   "metadata": {
    "tags": []
   },
   "outputs": [
    {
     "name": "stdout",
     "output_type": "stream",
     "text": [
      "['Nairobi', 'Mombasa', 'Kitale', 'Eldoret', 'Lodwar', 'Mandera', 'Kisii']\n"
     ]
    }
   ],
   "source": [
    "print(towns)"
   ]
  },
  {
   "cell_type": "code",
   "execution_count": 24,
   "id": "1da821e9-dec9-43c7-b9cf-04539356151b",
   "metadata": {
    "tags": []
   },
   "outputs": [],
   "source": [
    "towns.append(\"Moyale\")\n",
    "towns.append(\"Nakuru\")"
   ]
  },
  {
   "cell_type": "code",
   "execution_count": 6,
   "id": "b68c4ae4-5008-4f03-bee0-481ef3734a6e",
   "metadata": {
    "tags": []
   },
   "outputs": [
    {
     "name": "stdout",
     "output_type": "stream",
     "text": [
      "['Nairobi', 'Mombasa', 'Kitale', 'Eldoret', 'Lodar', 'Madera', 'Kisii', 'Moyale', 'Nakuru']\n"
     ]
    }
   ],
   "source": [
    "print(towns)"
   ]
  },
  {
   "cell_type": "code",
   "execution_count": 25,
   "id": "ddb42532-64b8-4840-95c6-008464b73543",
   "metadata": {
    "tags": []
   },
   "outputs": [],
   "source": [
    "towns.insert(2, \"Kakamega\")"
   ]
  },
  {
   "cell_type": "code",
   "execution_count": 8,
   "id": "9b5f9ef0-323a-4ca0-aac9-57cc4f5cd6ad",
   "metadata": {
    "tags": []
   },
   "outputs": [
    {
     "name": "stdout",
     "output_type": "stream",
     "text": [
      "['Nairobi', 'Mombasa', 'Kitale', 'Eldoret', 'Lodar', 'Madera', 'Kisii', 'Moyale', 'Nakuru', 'Kisii']\n"
     ]
    }
   ],
   "source": [
    "print(towns)"
   ]
  },
  {
   "cell_type": "markdown",
   "id": "d474cc2a-48fb-40f1-bd79-cbf6fbdac93e",
   "metadata": {},
   "source": [
    "#### *Kirui's question (revisited)*"
   ]
  },
  {
   "cell_type": "markdown",
   "id": "aaae9db7-24c9-4a20-9f04-5288de02bb6d",
   "metadata": {
    "tags": []
   },
   "source": [
    "for town in towns:\n",
    "    count = 1\n",
    "    print(count, town)"
   ]
  },
  {
   "cell_type": "code",
   "execution_count": 26,
   "id": "e890c305-ff9d-4b11-b3bd-a1c67fb9b567",
   "metadata": {
    "tags": []
   },
   "outputs": [
    {
     "name": "stdout",
     "output_type": "stream",
     "text": [
      "1 Nairobi\n",
      "2 Mombasa\n",
      "3 Kakamega\n",
      "4 Kitale\n",
      "5 Eldoret\n",
      "6 Lodwar\n",
      "7 Mandera\n",
      "8 Kisii\n",
      "9 Moyale\n",
      "10 Nakuru\n"
     ]
    }
   ],
   "source": [
    "count = 1\n",
    "for town in towns:\n",
    "    print(count,town)\n",
    "    count += 1"
   ]
  },
  {
   "cell_type": "markdown",
   "id": "45655bba-04a3-4832-aa55-cb97958daf23",
   "metadata": {},
   "source": [
    "### Modifying, adding and removing elements in a list....."
   ]
  },
  {
   "cell_type": "code",
   "execution_count": 27,
   "id": "ad12aa53-d0fa-4e52-bb56-4cad1a675aea",
   "metadata": {
    "tags": []
   },
   "outputs": [
    {
     "data": {
      "text/plain": [
       "'Nakuru'"
      ]
     },
     "execution_count": 27,
     "metadata": {},
     "output_type": "execute_result"
    }
   ],
   "source": [
    "# remove last item using .pop()\n",
    "\n",
    "towns.pop()"
   ]
  },
  {
   "cell_type": "code",
   "execution_count": 28,
   "id": "13cdfeff-c4e6-46f6-a443-52e31b153179",
   "metadata": {
    "tags": []
   },
   "outputs": [
    {
     "name": "stdout",
     "output_type": "stream",
     "text": [
      "['Nairobi', 'Mombasa', 'Kakamega', 'Kitale', 'Eldoret', 'Lodwar', 'Mandera', 'Kisii', 'Moyale']\n"
     ]
    }
   ],
   "source": [
    "print(towns)"
   ]
  },
  {
   "cell_type": "code",
   "execution_count": 29,
   "id": "0de70d1e-e9a3-4451-af6a-5f953665e535",
   "metadata": {
    "tags": []
   },
   "outputs": [
    {
     "data": {
      "text/plain": [
       "'Kakamega'"
      ]
     },
     "execution_count": 29,
     "metadata": {},
     "output_type": "execute_result"
    }
   ],
   "source": [
    "# remove particular item in a list\n",
    "towns.pop(2)"
   ]
  },
  {
   "cell_type": "code",
   "execution_count": 13,
   "id": "f7004c82-c88a-49b0-97fb-39966604a902",
   "metadata": {
    "tags": []
   },
   "outputs": [
    {
     "name": "stdout",
     "output_type": "stream",
     "text": [
      "['Nairobi', 'Mombasa', 'Eldoret', 'Lodar', 'Madera', 'Kisii', 'Moyale', 'Nakuru']\n"
     ]
    }
   ],
   "source": [
    "print(towns)"
   ]
  },
  {
   "cell_type": "code",
   "execution_count": 30,
   "id": "759cdf7c-6c22-41d3-8671-865bbe354c75",
   "metadata": {
    "tags": []
   },
   "outputs": [],
   "source": [
    "towns.remove(\"Kisii\")"
   ]
  },
  {
   "cell_type": "code",
   "execution_count": 55,
   "id": "a4de3f1e-14e9-4d96-bcf5-959a04104e55",
   "metadata": {
    "tags": []
   },
   "outputs": [
    {
     "name": "stdout",
     "output_type": "stream",
     "text": [
      "['Nairobi', 'Mombasa', 'Kitale', 'Eldoret', 'Lodwar', 'Mandera', 'Moyale']\n"
     ]
    }
   ],
   "source": [
    "print(towns)"
   ]
  },
  {
   "cell_type": "code",
   "execution_count": 31,
   "id": "31ecee99-6487-4662-9442-61a37db72adf",
   "metadata": {
    "tags": []
   },
   "outputs": [],
   "source": [
    "del towns[1]"
   ]
  },
  {
   "cell_type": "code",
   "execution_count": 57,
   "id": "1eeeb854-67ee-4d5e-8fa9-5ae558dae033",
   "metadata": {
    "tags": []
   },
   "outputs": [
    {
     "name": "stdout",
     "output_type": "stream",
     "text": [
      "['Nairobi', 'Kitale', 'Eldoret', 'Lodwar', 'Mandera', 'Moyale']\n"
     ]
    }
   ],
   "source": [
    "print(towns)"
   ]
  },
  {
   "cell_type": "code",
   "execution_count": 32,
   "id": "7bcf9fd4-744c-4d41-8dbd-eae5fac0c116",
   "metadata": {
    "tags": []
   },
   "outputs": [],
   "source": [
    "del towns[5]"
   ]
  },
  {
   "cell_type": "code",
   "execution_count": 33,
   "id": "2344d972-c93f-47d3-b5bc-fa61d63a4fe3",
   "metadata": {
    "tags": []
   },
   "outputs": [
    {
     "name": "stdout",
     "output_type": "stream",
     "text": [
      "['Nairobi', 'Kitale', 'Eldoret', 'Lodwar', 'Mandera']\n"
     ]
    }
   ],
   "source": [
    "print(towns)"
   ]
  },
  {
   "cell_type": "markdown",
   "id": "0b6cafbb-45aa-4e12-8fcc-29616b3795b3",
   "metadata": {},
   "source": [
    "## Working with Lists - Lab"
   ]
  },
  {
   "cell_type": "code",
   "execution_count": 34,
   "id": "19045131-0332-4c90-b0e5-be2114ef9238",
   "metadata": {
    "tags": []
   },
   "outputs": [],
   "source": [
    "# Top Travel Cities\n",
    "top_travel_cities = ['Solta', 'Greenville', 'Buenos Aires', 'Los Cabos', 'Walla Walla Valley', 'Marakesh', 'Albuquerque', 'Archipelago Sea', 'Iguazu Falls', 'Salina Island', 'Toronto', 'Pyeongchang']"
   ]
  },
  {
   "cell_type": "code",
   "execution_count": 35,
   "id": "c96702ec-4a56-43dd-ab8d-3c53ddc1eca5",
   "metadata": {
    "tags": []
   },
   "outputs": [
    {
     "name": "stdout",
     "output_type": "stream",
     "text": [
      "Solta\n",
      "Greenville\n",
      "Buenos Aires\n",
      "Los Cabos\n",
      "Walla Walla Valley\n",
      "Marakesh\n",
      "Albuquerque\n",
      "Archipelago Sea\n",
      "Iguazu Falls\n",
      "Salina Island\n",
      "Toronto\n",
      "Pyeongchang\n"
     ]
    }
   ],
   "source": [
    "for city in top_travel_cities:\n",
    "    print(city)"
   ]
  },
  {
   "cell_type": "code",
   "execution_count": 89,
   "id": "02f4cd33-bb8f-4b8c-890a-ac7a6a366737",
   "metadata": {
    "tags": []
   },
   "outputs": [],
   "source": [
    "# associated countries\n",
    "countries = ['Croatia',\n",
    "'USA',\n",
    "\n",
    "'Argentina',\n",
    "\n",
    "'Mexico',\n",
    "\n",
    "'USA',\n",
    "\n",
    "'Morocco',\n",
    "\n",
    "'New Mexico',\n",
    "\n",
    "'Finland',\n",
    "\n",
    "'Argentina',\n",
    "\n",
    "'Italy',\n",
    "\n",
    "'Canada',\n",
    "\n",
    "'South Korea']"
   ]
  },
  {
   "cell_type": "code",
   "execution_count": 37,
   "id": "077d481b-90f6-4ca3-97dc-9b93932237dc",
   "metadata": {
    "tags": []
   },
   "outputs": [
    {
     "name": "stdout",
     "output_type": "stream",
     "text": [
      "['Croatia', 'USA', 'Argentina', 'Mexico', 'USA', 'Morocco', 'New Mexico', 'Finland', 'Argentina', 'Italy', 'Canada', 'South Korea']\n"
     ]
    }
   ],
   "source": [
    "print(countries)"
   ]
  },
  {
   "cell_type": "code",
   "execution_count": 88,
   "id": "d3030f56-a7bc-4110-b9aa-f83c9ff03aaa",
   "metadata": {
    "tags": []
   },
   "outputs": [
    {
     "name": "stdout",
     "output_type": "stream",
     "text": [
      "Croatia\n",
      "USA\n",
      "Argentina\n",
      "Mexico\n",
      "USA\n",
      "Morocco\n",
      "USA\n",
      "Finland\n",
      "Argentina\n",
      "Italy\n",
      "Canada\n",
      "South Korea\n"
     ]
    }
   ],
   "source": [
    "for country in countries:\n",
    "    print(country)"
   ]
  },
  {
   "cell_type": "markdown",
   "id": "af8910b4-ec77-4627-9289-746071460d4b",
   "metadata": {},
   "source": [
    "#### Accessing elements from lists"
   ]
  },
  {
   "cell_type": "code",
   "execution_count": 150,
   "id": "2ee09fef-e7cd-4d42-8b7d-c0674b60569c",
   "metadata": {
    "tags": []
   },
   "outputs": [
    {
     "name": "stdout",
     "output_type": "stream",
     "text": [
      "None\n"
     ]
    }
   ],
   "source": [
    "italy = None \n",
    "\n",
    "print(italy)"
   ]
  },
  {
   "cell_type": "code",
   "execution_count": 152,
   "id": "dcb73b37-0706-4a0c-a4e2-789fa095ddce",
   "metadata": {
    "tags": []
   },
   "outputs": [
    {
     "name": "stdout",
     "output_type": "stream",
     "text": [
      "Italy\n"
     ]
    }
   ],
   "source": [
    "italy = countries[9]\n",
    "\n",
    "print(italy)"
   ]
  },
  {
   "cell_type": "code",
   "execution_count": 149,
   "id": "9d330857-a64a-43ce-b14f-c974fe1d0dbc",
   "metadata": {
    "tags": []
   },
   "outputs": [
    {
     "name": "stdout",
     "output_type": "stream",
     "text": [
      "Italy\n"
     ]
    }
   ],
   "source": [
    "Best_country = countries[9]\n",
    "\n",
    "italy = None \n",
    "\n",
    "print(Best_country)"
   ]
  },
  {
   "cell_type": "code",
   "execution_count": 146,
   "id": "f38d5946-e318-4fde-8221-c24b6809c7cc",
   "metadata": {
    "tags": []
   },
   "outputs": [
    {
     "data": {
      "text/plain": [
       "'Mexico'"
      ]
     },
     "execution_count": 146,
     "metadata": {},
     "output_type": "execute_result"
    }
   ],
   "source": [
    "countries[3]"
   ]
  },
  {
   "cell_type": "code",
   "execution_count": null,
   "id": "a2378ac8-b8c9-4dd9-b0cf-8d94b6f73678",
   "metadata": {},
   "outputs": [],
   "source": []
  },
  {
   "cell_type": "code",
   "execution_count": 154,
   "id": "c56b79fa-4ba9-4c45-93ec-5e7cfd7663e9",
   "metadata": {
    "tags": []
   },
   "outputs": [
    {
     "data": {
      "text/plain": [
       "['USA', 'Argentina', 'Mexico']"
      ]
     },
     "execution_count": 154,
     "metadata": {},
     "output_type": "execute_result"
    }
   ],
   "source": [
    "kindof_neighbors = countries[1:4]\n",
    "\n",
    "kindof_neighbors"
   ]
  },
  {
   "cell_type": "code",
   "execution_count": 46,
   "id": "0e387895-46cd-4ed3-a0b6-92bd5dc1582f",
   "metadata": {
    "tags": []
   },
   "outputs": [],
   "source": [
    "countries.append(\"Thailand\")"
   ]
  },
  {
   "cell_type": "code",
   "execution_count": 47,
   "id": "548531c2-80a6-4c7e-9519-33d0c8ef1d6d",
   "metadata": {
    "tags": []
   },
   "outputs": [
    {
     "name": "stdout",
     "output_type": "stream",
     "text": [
      "['Croatia', 'USA', 'Argentina', 'Mexico', 'USA', 'Morocco', 'New Mexico', 'Finland', 'Argentina', 'Italy', 'Canada', 'South Korea', 'Thailand']\n"
     ]
    }
   ],
   "source": [
    "print(countries)"
   ]
  },
  {
   "cell_type": "code",
   "execution_count": 48,
   "id": "e05d633a-16b0-4b01-8a38-12b4818c6b84",
   "metadata": {
    "tags": []
   },
   "outputs": [],
   "source": [
    "countries[6] = \"USA\""
   ]
  },
  {
   "cell_type": "code",
   "execution_count": 49,
   "id": "730a39b8-7474-4471-833e-80ff175392f4",
   "metadata": {
    "tags": []
   },
   "outputs": [
    {
     "name": "stdout",
     "output_type": "stream",
     "text": [
      "['Croatia', 'USA', 'Argentina', 'Mexico', 'USA', 'Morocco', 'USA', 'Finland', 'Argentina', 'Italy', 'Canada', 'South Korea', 'Thailand']\n"
     ]
    }
   ],
   "source": [
    "print(countries)"
   ]
  },
  {
   "cell_type": "code",
   "execution_count": 50,
   "id": "d6c739ac-afff-48f2-a4ce-5f585f20d3f6",
   "metadata": {
    "tags": []
   },
   "outputs": [
    {
     "data": {
      "text/plain": [
       "'Thailand'"
      ]
     },
     "execution_count": 50,
     "metadata": {},
     "output_type": "execute_result"
    }
   ],
   "source": [
    "countries.pop()"
   ]
  },
  {
   "cell_type": "code",
   "execution_count": 51,
   "id": "ed5b1387-199f-415e-a698-26c854b1b6ab",
   "metadata": {
    "tags": []
   },
   "outputs": [
    {
     "name": "stdout",
     "output_type": "stream",
     "text": [
      "['Croatia', 'USA', 'Argentina', 'Mexico', 'USA', 'Morocco', 'USA', 'Finland', 'Argentina', 'Italy', 'Canada', 'South Korea']\n"
     ]
    }
   ],
   "source": [
    "print(countries)"
   ]
  },
  {
   "cell_type": "markdown",
   "id": "4a22390e-fe39-4495-b318-e1e8661664f9",
   "metadata": {},
   "source": [
    "### Exploring Lists with Methods"
   ]
  },
  {
   "cell_type": "code",
   "execution_count": 70,
   "id": "3689cdcd-c046-49a3-9b2f-a9b9fc17daf3",
   "metadata": {
    "tags": []
   },
   "outputs": [],
   "source": [
    "# unique_countries = {'Croatia', 'USA', 'Argentina', 'Mexico', 'USA', 'Morocco', 'USA', 'Finland', 'Argentina', 'Italy', 'Canada', 'South Korea'}"
   ]
  },
  {
   "cell_type": "code",
   "execution_count": 65,
   "id": "03f619f1-600f-4d8b-8925-5212fb4489ab",
   "metadata": {
    "tags": []
   },
   "outputs": [
    {
     "name": "stdout",
     "output_type": "stream",
     "text": [
      "Croatia\n",
      "USA\n",
      "Argentina\n",
      "Mexico\n",
      "USA\n",
      "Morocco\n",
      "USA\n",
      "Finland\n",
      "Argentina\n",
      "Italy\n",
      "Canada\n",
      "South Korea\n"
     ]
    }
   ],
   "source": [
    "#countries_length = list(['Croatia', 'USA', 'Argentina', 'Mexico', 'Morocco', 'Finland', 'Argentina', 'Italy', 'Canada', 'South Korea'])\n",
    "#i=0\n",
    "#while i<len(countries_length):\n",
    " #   print(countries_length[i])\n",
    "  #  i= i +1"
   ]
  },
  {
   "cell_type": "code",
   "execution_count": 66,
   "id": "5492a328-e943-4668-a2a9-83decb5346b6",
   "metadata": {
    "tags": []
   },
   "outputs": [
    {
     "name": "stdout",
     "output_type": "stream",
     "text": [
      "['Croatia', 'USA', 'Argentina', 'Mexico', 'USA', 'Morocco', 'USA', 'Finland', 'Argentina', 'Italy', 'Canada', 'South Korea']\n"
     ]
    }
   ],
   "source": [
    "print(countries)"
   ]
  },
  {
   "cell_type": "code",
   "execution_count": 84,
   "id": "4cbadecd-e748-4646-9220-c5d886bdf1ea",
   "metadata": {
    "tags": []
   },
   "outputs": [
    {
     "name": "stdout",
     "output_type": "stream",
     "text": [
      "['Croatia']\n"
     ]
    }
   ],
   "source": [
    "def remove_duplicates(countries):\n",
    "    nocountries = []\n",
    "    \n",
    "    for country in countries:\n",
    "        if country not in nocountries:\n",
    "            nocountries.append(country)\n",
    "            \n",
    "        return nocountries\n",
    "    \n",
    "print(remove_duplicates(countries))"
   ]
  },
  {
   "cell_type": "markdown",
   "id": "25cd9ef5-03b9-4193-8e30-f5486d2f5d2f",
   "metadata": {},
   "source": [
    "# DICTIONARY"
   ]
  },
  {
   "cell_type": "code",
   "execution_count": 91,
   "id": "3b8a46ee-d2f8-401a-8bdb-298e1618fc18",
   "metadata": {
    "tags": []
   },
   "outputs": [],
   "source": [
    "friends = {'name': 'Friends', 'genre': 'sitcom', 'no_of_seasons': 10}"
   ]
  },
  {
   "cell_type": "code",
   "execution_count": 92,
   "id": "b358aff6-443d-4b0d-846f-ebfe148bf211",
   "metadata": {
    "tags": []
   },
   "outputs": [
    {
     "data": {
      "text/plain": [
       "10"
      ]
     },
     "execution_count": 92,
     "metadata": {},
     "output_type": "execute_result"
    }
   ],
   "source": [
    "friends['no_of_seasons']"
   ]
  },
  {
   "cell_type": "code",
   "execution_count": 93,
   "id": "30b79155-f0a3-413e-899d-70756f90bfe2",
   "metadata": {
    "tags": []
   },
   "outputs": [
    {
     "data": {
      "text/plain": [
       "'sitcom'"
      ]
     },
     "execution_count": 93,
     "metadata": {},
     "output_type": "execute_result"
    }
   ],
   "source": [
    "friends['genre']"
   ]
  },
  {
   "cell_type": "code",
   "execution_count": 94,
   "id": "0c7cad44-6fcc-4757-9195-218239e1ce74",
   "metadata": {
    "tags": []
   },
   "outputs": [],
   "source": [
    "friends['no_of_episode'] = 236"
   ]
  },
  {
   "cell_type": "code",
   "execution_count": 95,
   "id": "84c1bec6-7819-4df9-a658-3aaa6801b60f",
   "metadata": {
    "tags": []
   },
   "outputs": [
    {
     "name": "stdout",
     "output_type": "stream",
     "text": [
      "{'name': 'Friends', 'genre': 'sitcom', 'no_of_seasons': 10, 'no_of_episode': 236}\n"
     ]
    }
   ],
   "source": [
    "print(friends)"
   ]
  },
  {
   "cell_type": "code",
   "execution_count": 96,
   "id": "c5a6519c-b06f-46d4-a540-81a2949101aa",
   "metadata": {
    "tags": []
   },
   "outputs": [],
   "source": [
    "friends[14] = 'some_value'"
   ]
  },
  {
   "cell_type": "code",
   "execution_count": 97,
   "id": "94438308-ea9a-4a84-bffb-fff17e3bb543",
   "metadata": {
    "tags": []
   },
   "outputs": [
    {
     "data": {
      "text/plain": [
       "{'name': 'Friends',\n",
       " 'genre': 'sitcom',\n",
       " 'no_of_seasons': 10,\n",
       " 'no_of_episode': 236,\n",
       " 14: 'some_value'}"
      ]
     },
     "execution_count": 97,
     "metadata": {},
     "output_type": "execute_result"
    }
   ],
   "source": [
    "friends"
   ]
  },
  {
   "cell_type": "code",
   "execution_count": 98,
   "id": "2494e252-7d0b-4480-adef-22ae54655f0a",
   "metadata": {
    "tags": []
   },
   "outputs": [
    {
     "name": "stdout",
     "output_type": "stream",
     "text": [
      "{'name': 'Friends', 'genre': 'sitcom', 'no_of_seasons': 10, 'no_of_episode': 236, 14: 'some_value'}\n"
     ]
    }
   ],
   "source": [
    "print(friends)"
   ]
  },
  {
   "cell_type": "markdown",
   "id": "cde3c2e1-23aa-4795-ac2f-12d5609c4fb5",
   "metadata": {},
   "source": [
    "# Control Flow: Conditionals - Lab"
   ]
  },
  {
   "cell_type": "code",
   "execution_count": 106,
   "id": "cd76b32c-8ce8-4d99-983e-d2f1945684ba",
   "metadata": {
    "tags": []
   },
   "outputs": [],
   "source": [
    "number_50 = 170\n",
    "\n",
    "my_number = None\n",
    "\n",
    "if number_50 > 100:\n",
    "    my_number = 100\n",
    "    \n",
    "elif number_50 > 50:\n",
    "    my_number = 50\n",
    "    \n",
    "else:\n",
    "    my_number = 0"
   ]
  },
  {
   "cell_type": "code",
   "execution_count": 107,
   "id": "2b261975-8903-400b-a870-5c1562693613",
   "metadata": {
    "tags": []
   },
   "outputs": [
    {
     "name": "stdout",
     "output_type": "stream",
     "text": [
      "100\n"
     ]
    }
   ],
   "source": [
    "print(my_number)"
   ]
  },
  {
   "cell_type": "code",
   "execution_count": 108,
   "id": "cfb0d578-0380-4941-866a-b44a3c1208af",
   "metadata": {
    "tags": []
   },
   "outputs": [],
   "source": [
    "temprature = 85\n",
    "\n",
    "is_it_hot = None\n",
    "\n",
    "if temprature > 40:\n",
    "    is_it_hot = \"Yes\"\n",
    "    \n",
    "elif temprature > 30:\n",
    "    is_it_hot = \"Fairly\"\n",
    "    \n",
    "elif temprature > 20:\n",
    "    is_it_hot = \"Normal\"\n",
    "    \n",
    "elif temprature > 10:\n",
    "    is_it_hot = \"Moderately Cold\"\n",
    "    \n",
    "else:\n",
    "    is_it_hot = \"Very Cold\""
   ]
  },
  {
   "cell_type": "code",
   "execution_count": 110,
   "id": "2fa51f6c-bdaa-4e3d-99a5-35ea4678a1a4",
   "metadata": {
    "tags": []
   },
   "outputs": [
    {
     "name": "stdout",
     "output_type": "stream",
     "text": [
      "Yes\n"
     ]
    }
   ],
   "source": [
    "print(is_it_hot)"
   ]
  },
  {
   "cell_type": "code",
   "execution_count": 120,
   "id": "dbbe3b32-747a-4ecd-bdda-233a90abab59",
   "metadata": {
    "tags": []
   },
   "outputs": [
    {
     "name": "stdin",
     "output_type": "stream",
     "text": [
      "Enter Temprature:  10\n"
     ]
    },
    {
     "name": "stdout",
     "output_type": "stream",
     "text": [
      "Very Cold\n"
     ]
    }
   ],
   "source": [
    "temprature = int(input(\"Enter Temprature: \"))\n",
    "\n",
    "is_it_hot = None\n",
    "\n",
    "if temprature > 40:\n",
    "    is_it_hot = \"Yes\"\n",
    "    \n",
    "elif temprature > 30:\n",
    "    is_it_hot = \"Fairly\"\n",
    "    \n",
    "elif temprature > 20:\n",
    "    is_it_hot = \"Normal\"\n",
    "    \n",
    "elif temprature > 10:\n",
    "    is_it_hot = \"Moderately Cold\"\n",
    "    \n",
    "else:\n",
    "    is_it_hot = \"Very Cold\"\n",
    "    \n",
    "print(is_it_hot)"
   ]
  },
  {
   "cell_type": "code",
   "execution_count": 130,
   "id": "ff02ec32-65f5-4e81-9c7c-c072f70ec381",
   "metadata": {
    "tags": []
   },
   "outputs": [
    {
     "name": "stdin",
     "output_type": "stream",
     "text": [
      "Enter Day:  5\n"
     ]
    },
    {
     "name": "stdout",
     "output_type": "stream",
     "text": [
      "Thursday\n"
     ]
    }
   ],
   "source": [
    "today = int(input(\"Enter Day: \"))\n",
    "            \n",
    "week_day = None\n",
    "            \n",
    "if today == 1:\n",
    "            weekday = \"Sunday\"\n",
    "            \n",
    "elif today == 2:\n",
    "            weekday = \"Monday\"\n",
    "            \n",
    "elif today == 3:\n",
    "            weekday = \"Tuesday\"\n",
    "            \n",
    "elif today == 4:\n",
    "            weekday = \"Wednesday\"\n",
    "            \n",
    "elif today == 5:\n",
    "            weekday = \"Thursday\"\n",
    "            \n",
    "elif today == 6:\n",
    "            weekday = \"Friday\"\n",
    "            \n",
    "else:\n",
    "            weekday = \"Saturday\"\n",
    "            \n",
    "print(weekday)"
   ]
  },
  {
   "cell_type": "code",
   "execution_count": 124,
   "id": "3e928930-3727-4169-9c0d-f0c3805a36cb",
   "metadata": {
    "tags": []
   },
   "outputs": [
    {
     "ename": "SyntaxError",
     "evalue": "invalid syntax (3275989741.py, line 7)",
     "output_type": "error",
     "traceback": [
      "\u001b[1;36m  Cell \u001b[1;32mIn[124], line 7\u001b[1;36m\u001b[0m\n\u001b[1;33m    if word ends_with \"on\":\u001b[0m\n\u001b[1;37m            ^\u001b[0m\n\u001b[1;31mSyntaxError\u001b[0m\u001b[1;31m:\u001b[0m invalid syntax\n"
     ]
    }
   ],
   "source": [
    "word = str(input(\"Enter Word: \"))\n",
    "\n",
    "sub_word = \"on\"\n",
    "\n",
    "ends_with = None\n",
    "\n",
    "if word ends_with \"on\":\n",
    "    outcome = True\n",
    "    \n",
    "else:\n",
    "    outcome = False\n",
    "    \n",
    "print(outcome)"
   ]
  },
  {
   "cell_type": "code",
   "execution_count": 131,
   "id": "c6d91d0c-6011-43fb-930c-a007376cdbcd",
   "metadata": {
    "tags": []
   },
   "outputs": [
    {
     "name": "stdout",
     "output_type": "stream",
     "text": [
      "Yes it does\n"
     ]
    }
   ],
   "source": [
    "string = \"Python\"\n",
    "\n",
    "sub_string = \"on\"\n",
    "\n",
    "if sub_string in string:\n",
    "    print(\"Yes it does\")\n",
    "else:\n",
    "    print(\"No is doesn't\")"
   ]
  },
  {
   "cell_type": "code",
   "execution_count": 141,
   "id": "ff4e28ee-843d-4535-9c88-feae125f6be2",
   "metadata": {
    "tags": []
   },
   "outputs": [
    {
     "name": "stdin",
     "output_type": "stream",
     "text": [
      "Enter String:  pyhton\n",
      "Enter Substring:  on\n"
     ]
    },
    {
     "name": "stdout",
     "output_type": "stream",
     "text": [
      "complaint\n"
     ]
    }
   ],
   "source": [
    "string = input(\"Enter String: \")\n",
    "sub_string = input(\"Enter Substring: \")\n",
    "\n",
    "outcome = None\n",
    "\n",
    "if sub_string.lower() in string.lower():\n",
    "    print(\"complaint\")\n",
    "    \n",
    "else:\n",
    "    print(\"not complaint\")"
   ]
  },
  {
   "cell_type": "code",
   "execution_count": 142,
   "id": "b50cd043-a297-4df3-b3b9-5ecbb7893b9e",
   "metadata": {
    "tags": []
   },
   "outputs": [
    {
     "name": "stdin",
     "output_type": "stream",
     "text": [
      "Enter String:  pyhton\n",
      "Enter Substring:  om\n"
     ]
    },
    {
     "name": "stdout",
     "output_type": "stream",
     "text": [
      "not complaint\n"
     ]
    }
   ],
   "source": [
    "string = input(\"Enter String: \")\n",
    "sub_string = input(\"Enter Substring: \")\n",
    "\n",
    "outcome = None\n",
    "\n",
    "if string.endswith(sub_string):\n",
    "    print(\"complaint\")\n",
    "    \n",
    "else:\n",
    "    print(\"not complaint\")"
   ]
  },
  {
   "cell_type": "code",
   "execution_count": null,
   "id": "5d763c1e-2724-4ec5-98a4-8710aecc4b60",
   "metadata": {},
   "outputs": [],
   "source": []
  }
 ],
 "metadata": {
  "kernelspec": {
   "display_name": "Python 3 (ipykernel)",
   "language": "python",
   "name": "python3"
  },
  "language_info": {
   "codemirror_mode": {
    "name": "ipython",
    "version": 3
   },
   "file_extension": ".py",
   "mimetype": "text/x-python",
   "name": "python",
   "nbconvert_exporter": "python",
   "pygments_lexer": "ipython3",
   "version": "3.11.3"
  }
 },
 "nbformat": 4,
 "nbformat_minor": 5
}
