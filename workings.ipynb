{
 "cells": [
  {
   "cell_type": "code",
   "execution_count": 1,
   "id": "10f35561-fd03-461e-9234-7b4ba21e706f",
   "metadata": {
    "tags": []
   },
   "outputs": [
    {
     "data": {
      "text/plain": [
       "3"
      ]
     },
     "execution_count": 1,
     "metadata": {},
     "output_type": "execute_result"
    }
   ],
   "source": [
    "1+2"
   ]
  },
  {
   "cell_type": "code",
   "execution_count": 2,
   "id": "b0abd2c5-e6ae-40a0-b11f-80796023a07e",
   "metadata": {
    "tags": []
   },
   "outputs": [
    {
     "data": {
      "text/plain": [
       "'1+2'"
      ]
     },
     "execution_count": 2,
     "metadata": {},
     "output_type": "execute_result"
    }
   ],
   "source": [
    "\"1+2\""
   ]
  },
  {
   "cell_type": "raw",
   "id": "d532aabe-1a70-484d-baf8-053e17a567a3",
   "metadata": {},
   "source": [
    "## Conditions"
   ]
  },
  {
   "cell_type": "markdown",
   "id": "a3cc6aac-5ec7-4ad1-b31f-f5478d62833d",
   "metadata": {},
   "source": [
    "# workings"
   ]
  },
  {
   "cell_type": "markdown",
   "id": "a25550b9-c57a-4f2e-b550-f2571f5b07a1",
   "metadata": {},
   "source": [
    "## How to check if a number is even or odd"
   ]
  },
  {
   "cell_type": "code",
   "execution_count": 1,
   "id": "cfeb6afa-362f-43b5-8651-3f987ae4cd03",
   "metadata": {
    "tags": []
   },
   "outputs": [
    {
     "name": "stdin",
     "output_type": "stream",
     "text": [
      "Enter a number:  5\n"
     ]
    },
    {
     "name": "stdout",
     "output_type": "stream",
     "text": [
      "5 is odd number\n"
     ]
    }
   ],
   "source": [
    "# programme\n",
    "number = int(input(\"Enter a number: \"))\n",
    "\n",
    "if(number % 2) == 0:\n",
    "             print(\"{0} is even number\".format(number))\n",
    "else:\n",
    "             print(\"{0} is odd number\".format(number))"
   ]
  },
  {
   "cell_type": "code",
   "execution_count": 2,
   "id": "2a52819e-0a4b-44ac-8857-f2af3f28d751",
   "metadata": {
    "tags": []
   },
   "outputs": [
    {
     "name": "stdin",
     "output_type": "stream",
     "text": [
      "Enter a year:  2004\n"
     ]
    },
    {
     "name": "stdout",
     "output_type": "stream",
     "text": [
      "Leap Year\n"
     ]
    }
   ],
   "source": [
    "# leap year\n",
    "input_year = int(input(\"Enter a year: \"))\n",
    "def is_leap(year):\n",
    "    if (year % 400 == 0) or (year % 4 == 0 and year % 100 != 0):\n",
    "        return True\n",
    "\n",
    "    return False\n",
    "\n",
    "if is_leap(input_year):\n",
    "    print(\"Leap Year\")\n",
    "else:\n",
    "    print(\"Not Leap Year\")"
   ]
  },
  {
   "cell_type": "code",
   "execution_count": 12,
   "id": "a087bc92-9bb2-4835-98d1-d956a5e85fe4",
   "metadata": {
    "tags": []
   },
   "outputs": [],
   "source": [
    "import calendar"
   ]
  },
  {
   "cell_type": "code",
   "execution_count": 17,
   "id": "5e9922dd-0494-413a-902b-4b3ffb043567",
   "metadata": {
    "tags": []
   },
   "outputs": [
    {
     "name": "stdout",
     "output_type": "stream",
     "text": [
      "Not Leap Year\n"
     ]
    }
   ],
   "source": [
    "if calendar.isleap(input_year):\n",
    "    print(\"Leap Year\")\n",
    "else:\n",
    "    print(\"Not Leap Year\")"
   ]
  },
  {
   "cell_type": "code",
   "execution_count": 1,
   "id": "b06909a7-7a57-4841-a3c3-4001bea39ed4",
   "metadata": {},
   "outputs": [
    {
     "name": "stdin",
     "output_type": "stream",
     "text": [
      "Enter the age:  34\n"
     ]
    },
    {
     "name": "stdout",
     "output_type": "stream",
     "text": [
      "Kes. 800\n"
     ]
    }
   ],
   "source": [
    "#Year vs. Price\n",
    "age = int(input(\"Enter the age: \"))\n",
    "\n",
    "if (age<13):\n",
    "    price = \"Kes. 400\"\n",
    "    print(price)\n",
    "    \n",
    "elif (age>=13) and (age<=17):\n",
    "    price = \"Kes. 600\"\n",
    "    print(price)\n",
    "    \n",
    "elif (age>=18) and (age<=65):\n",
    "    price = \"Kes. 800\"\n",
    "    print(price)\n",
    "    \n",
    "else:\n",
    "    price = \"Kes. 350\"\n",
    "    print(price)"
   ]
  },
  {
   "cell_type": "markdown",
   "id": "d4c5ec80-04bb-4a29-bbd7-d38c8e987211",
   "metadata": {},
   "source": [
    "# Lists\n",
    "## Recap"
   ]
  },
  {
   "cell_type": "code",
   "execution_count": 38,
   "id": "46cec62a-7a05-4896-9e01-a855b5341685",
   "metadata": {
    "tags": []
   },
   "outputs": [
    {
     "data": {
      "text/plain": [
       "['Nairobi', 'Mombasa', 'Kitale', 'Eldoret', 'Lodar', 'Madera']"
      ]
     },
     "execution_count": 38,
     "metadata": {},
     "output_type": "execute_result"
    }
   ],
   "source": [
    "# list examples\n",
    "\n",
    "towns = [\"Nairobi\", \"Mombasa\", \"Kitale\", \"Eldoret\", \"Lodar\", \"Madera\"]\n",
    "count = 1\n",
    "\n",
    "list(towns)"
   ]
  },
  {
   "cell_type": "code",
   "execution_count": 39,
   "id": "3c2071f9-572c-4f03-b210-c9dbd9a298a3",
   "metadata": {
    "tags": []
   },
   "outputs": [
    {
     "name": "stdout",
     "output_type": "stream",
     "text": [
      "KITALE\n"
     ]
    }
   ],
   "source": [
    "print(towns[2].upper())"
   ]
  },
  {
   "cell_type": "code",
   "execution_count": 40,
   "id": "e4072396-1b4b-436b-a0c4-0777a67e7757",
   "metadata": {
    "tags": []
   },
   "outputs": [],
   "source": [
    "towns[4] = \"Lodwar\""
   ]
  },
  {
   "cell_type": "code",
   "execution_count": 41,
   "id": "12dea75d-6789-4412-8f44-1667a72af809",
   "metadata": {
    "tags": []
   },
   "outputs": [],
   "source": [
    "towns[5] = \"Mandera\""
   ]
  },
  {
   "cell_type": "code",
   "execution_count": 42,
   "id": "440f9ad3-aef6-45ef-86fb-85ca5d2919c7",
   "metadata": {
    "tags": []
   },
   "outputs": [
    {
     "name": "stdout",
     "output_type": "stream",
     "text": [
      "['Nairobi', 'Mombasa', 'Kitale', 'Eldoret', 'Lodwar', 'Mandera']\n"
     ]
    }
   ],
   "source": [
    "print(towns)"
   ]
  },
  {
   "cell_type": "code",
   "execution_count": 43,
   "id": "87e021c4-6c1d-4b98-b6ef-bcd999624c3b",
   "metadata": {
    "tags": []
   },
   "outputs": [],
   "source": [
    "towns.append(\"Kisii\")"
   ]
  },
  {
   "cell_type": "code",
   "execution_count": 7,
   "id": "5f9a7f55-2f08-41a8-9e16-6f4ff758d172",
   "metadata": {
    "tags": []
   },
   "outputs": [
    {
     "name": "stdout",
     "output_type": "stream",
     "text": [
      "['Nairobi', 'Mombasa', 'Kitale', 'Eldoret', 'Lodwar', 'Mandera', 'Kisii']\n"
     ]
    }
   ],
   "source": [
    "print(towns)"
   ]
  },
  {
   "cell_type": "code",
   "execution_count": 44,
   "id": "1da821e9-dec9-43c7-b9cf-04539356151b",
   "metadata": {
    "tags": []
   },
   "outputs": [],
   "source": [
    "towns.append(\"Moyale\")\n",
    "towns.append(\"Nakuru\")"
   ]
  },
  {
   "cell_type": "code",
   "execution_count": 11,
   "id": "b68c4ae4-5008-4f03-bee0-481ef3734a6e",
   "metadata": {
    "tags": []
   },
   "outputs": [
    {
     "name": "stdout",
     "output_type": "stream",
     "text": [
      "['Nairobi', 'Mombasa', 'Kitale', 'Eldoret', 'Lodwar', 'Mandera', 'Kisii', 'Moyale', 'Moyale', 'Nakuru']\n"
     ]
    }
   ],
   "source": [
    "print(towns)"
   ]
  },
  {
   "cell_type": "code",
   "execution_count": 45,
   "id": "ddb42532-64b8-4840-95c6-008464b73543",
   "metadata": {
    "tags": []
   },
   "outputs": [],
   "source": [
    "towns.insert(2, \"Kakamega\")"
   ]
  },
  {
   "cell_type": "code",
   "execution_count": 13,
   "id": "9b5f9ef0-323a-4ca0-aac9-57cc4f5cd6ad",
   "metadata": {
    "tags": []
   },
   "outputs": [
    {
     "name": "stdout",
     "output_type": "stream",
     "text": [
      "['Nairobi', 'Mombasa', 'Kakamega', 'Kitale', 'Eldoret', 'Lodwar', 'Mandera', 'Kisii', 'Moyale', 'Moyale', 'Nakuru']\n"
     ]
    }
   ],
   "source": [
    "print(towns)"
   ]
  },
  {
   "cell_type": "markdown",
   "id": "d474cc2a-48fb-40f1-bd79-cbf6fbdac93e",
   "metadata": {},
   "source": [
    "#### *Kirui's question (revisited)*"
   ]
  },
  {
   "cell_type": "markdown",
   "id": "aaae9db7-24c9-4a20-9f04-5288de02bb6d",
   "metadata": {
    "tags": []
   },
   "source": [
    "for town in towns:\n",
    "    count = 1\n",
    "    print(count, town)"
   ]
  },
  {
   "cell_type": "code",
   "execution_count": 47,
   "id": "e890c305-ff9d-4b11-b3bd-a1c67fb9b567",
   "metadata": {
    "tags": []
   },
   "outputs": [
    {
     "name": "stdout",
     "output_type": "stream",
     "text": [
      "1 Nairobi\n",
      "2 Mombasa\n",
      "3 Kakamega\n",
      "4 Kitale\n",
      "5 Eldoret\n",
      "6 Lodwar\n",
      "7 Mandera\n",
      "8 Kisii\n",
      "9 Moyale\n",
      "10 Nakuru\n"
     ]
    }
   ],
   "source": [
    "count = 1\n",
    "for town in towns:\n",
    "    print(count,town)\n",
    "    count += 1"
   ]
  },
  {
   "cell_type": "markdown",
   "id": "45655bba-04a3-4832-aa55-cb97958daf23",
   "metadata": {},
   "source": [
    "### Modifying, adding and removing elements in a list....."
   ]
  },
  {
   "cell_type": "code",
   "execution_count": 49,
   "id": "ad12aa53-d0fa-4e52-bb56-4cad1a675aea",
   "metadata": {
    "tags": []
   },
   "outputs": [
    {
     "data": {
      "text/plain": [
       "'Nakuru'"
      ]
     },
     "execution_count": 49,
     "metadata": {},
     "output_type": "execute_result"
    }
   ],
   "source": [
    "# remove last item using .pop()\n",
    "\n",
    "towns.pop()"
   ]
  },
  {
   "cell_type": "code",
   "execution_count": 51,
   "id": "13cdfeff-c4e6-46f6-a443-52e31b153179",
   "metadata": {
    "tags": []
   },
   "outputs": [
    {
     "name": "stdout",
     "output_type": "stream",
     "text": [
      "['Nairobi', 'Mombasa', 'Kakamega', 'Kitale', 'Eldoret', 'Lodwar', 'Mandera', 'Kisii', 'Moyale']\n"
     ]
    }
   ],
   "source": [
    "print(towns)"
   ]
  },
  {
   "cell_type": "code",
   "execution_count": 52,
   "id": "0de70d1e-e9a3-4451-af6a-5f953665e535",
   "metadata": {
    "tags": []
   },
   "outputs": [
    {
     "data": {
      "text/plain": [
       "'Kakamega'"
      ]
     },
     "execution_count": 52,
     "metadata": {},
     "output_type": "execute_result"
    }
   ],
   "source": [
    "# remove particular item in a list\n",
    "towns.pop(2)"
   ]
  },
  {
   "cell_type": "code",
   "execution_count": 53,
   "id": "f7004c82-c88a-49b0-97fb-39966604a902",
   "metadata": {
    "tags": []
   },
   "outputs": [
    {
     "name": "stdout",
     "output_type": "stream",
     "text": [
      "['Nairobi', 'Mombasa', 'Kitale', 'Eldoret', 'Lodwar', 'Mandera', 'Kisii', 'Moyale']\n"
     ]
    }
   ],
   "source": [
    "print(towns)"
   ]
  },
  {
   "cell_type": "code",
   "execution_count": 54,
   "id": "759cdf7c-6c22-41d3-8671-865bbe354c75",
   "metadata": {
    "tags": []
   },
   "outputs": [],
   "source": [
    "towns.remove(\"Kisii\")"
   ]
  },
  {
   "cell_type": "code",
   "execution_count": 55,
   "id": "a4de3f1e-14e9-4d96-bcf5-959a04104e55",
   "metadata": {
    "tags": []
   },
   "outputs": [
    {
     "name": "stdout",
     "output_type": "stream",
     "text": [
      "['Nairobi', 'Mombasa', 'Kitale', 'Eldoret', 'Lodwar', 'Mandera', 'Moyale']\n"
     ]
    }
   ],
   "source": [
    "print(towns)"
   ]
  },
  {
   "cell_type": "code",
   "execution_count": 56,
   "id": "31ecee99-6487-4662-9442-61a37db72adf",
   "metadata": {
    "tags": []
   },
   "outputs": [],
   "source": [
    "del towns[1]"
   ]
  },
  {
   "cell_type": "code",
   "execution_count": 57,
   "id": "1eeeb854-67ee-4d5e-8fa9-5ae558dae033",
   "metadata": {
    "tags": []
   },
   "outputs": [
    {
     "name": "stdout",
     "output_type": "stream",
     "text": [
      "['Nairobi', 'Kitale', 'Eldoret', 'Lodwar', 'Mandera', 'Moyale']\n"
     ]
    }
   ],
   "source": [
    "print(towns)"
   ]
  },
  {
   "cell_type": "code",
   "execution_count": 58,
   "id": "7bcf9fd4-744c-4d41-8dbd-eae5fac0c116",
   "metadata": {
    "tags": []
   },
   "outputs": [],
   "source": [
    "del towns"
   ]
  },
  {
   "cell_type": "code",
   "execution_count": 59,
   "id": "2344d972-c93f-47d3-b5bc-fa61d63a4fe3",
   "metadata": {
    "tags": []
   },
   "outputs": [
    {
     "ename": "NameError",
     "evalue": "name 'towns' is not defined",
     "output_type": "error",
     "traceback": [
      "\u001b[1;31m---------------------------------------------------------------------------\u001b[0m",
      "\u001b[1;31mNameError\u001b[0m                                 Traceback (most recent call last)",
      "Cell \u001b[1;32mIn[59], line 1\u001b[0m\n\u001b[1;32m----> 1\u001b[0m \u001b[38;5;28mprint\u001b[39m(\u001b[43mtowns\u001b[49m)\n",
      "\u001b[1;31mNameError\u001b[0m: name 'towns' is not defined"
     ]
    }
   ],
   "source": [
    "print(towns)"
   ]
  },
  {
   "cell_type": "code",
   "execution_count": null,
   "id": "ac9a171e-765c-4678-9500-6c9aae45c37f",
   "metadata": {},
   "outputs": [],
   "source": []
  }
 ],
 "metadata": {
  "kernelspec": {
   "display_name": "Python 3 (ipykernel)",
   "language": "python",
   "name": "python3"
  },
  "language_info": {
   "codemirror_mode": {
    "name": "ipython",
    "version": 3
   },
   "file_extension": ".py",
   "mimetype": "text/x-python",
   "name": "python",
   "nbconvert_exporter": "python",
   "pygments_lexer": "ipython3",
   "version": "3.11.3"
  }
 },
 "nbformat": 4,
 "nbformat_minor": 5
}
