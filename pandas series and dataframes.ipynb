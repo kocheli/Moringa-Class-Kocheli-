{
 "cells": [
  {
   "cell_type": "markdown",
   "metadata": {},
   "source": [
    "# Introduction to Pandas Series and DataFrames"
   ]
  },
  {
   "cell_type": "markdown",
   "metadata": {},
   "source": [
    "## Objectives"
   ]
  },
  {
   "cell_type": "markdown",
   "metadata": {},
   "source": [
    "* Understand Pandas Series and DataFrames\n",
    "* Creating Series and DataFrames\n",
    "* Basic Operations with Series \n",
    "* Exploring DataFrame Basics\n",
    "* Selecting Data from DataFrames\n",
    "* Applying Functions to Series and DataFrames"
   ]
  },
  {
   "cell_type": "markdown",
   "metadata": {},
   "source": [
    "## Loading Libraries"
   ]
  },
  {
   "cell_type": "code",
   "execution_count": 5,
   "metadata": {
    "tags": []
   },
   "outputs": [],
   "source": [
    "# numpys - for arithmetic operations and high-level mathematical functions to operate on arrays\n",
    "import numpy as np\n",
    "# pandas - for working with relational or labeled data\n",
    "import pandas as pd"
   ]
  },
  {
   "cell_type": "markdown",
   "metadata": {},
   "source": [
    "## What is a Pandas Series?"
   ]
  },
  {
   "cell_type": "markdown",
   "metadata": {},
   "source": [
    "* **One-Dimensional** labeled Array capable of holding data on any type such as *intergers*, *string*, *float*, *python objects* etc.\n",
    "* A `pandas series` is like a `column` in a table.\n"
   ]
  },
  {
   "cell_type": "markdown",
   "metadata": {},
   "source": [
    "### Key features of a Pandas Series"
   ]
  },
  {
   "cell_type": "markdown",
   "metadata": {},
   "source": [
    "* **Homogeneous Data**: A Series Holds Data of a single data type(integer, float, string etc), ensuring homogeneity within the Series.\n",
    "* **Labeled Index**: Each element in a Series is associated with a label called an *index*. Having unique labels is a common practice, though not strictly required. The labels just need to be hashable types, ie they need to be used as keys in a dictionary. This index allows for easy and efficient data retrieval and manipulation.\n",
    "* **Vectorized Operations**: - Series support vectorized operations, ie you can apply operations to the entire series without the need for explicit loops.\n",
    "* **Alignment of Data**: - When performing operations on a Series, Pandas automatically aligns data based on index labels, which simplifies data manipulation.\n",
    "* **Creation**: - Can be created from a List, NumpyArrays, Dictionary, DataFrame slice and other data sources. "
   ]
  },
  {
   "cell_type": "code",
   "execution_count": 3,
   "metadata": {
    "tags": []
   },
   "outputs": [
    {
     "data": {
      "text/plain": [
       "0    10\n",
       "1    40\n",
       "2    50\n",
       "3    23\n",
       "4    19\n",
       "5    45\n",
       "dtype: int64"
      ]
     },
     "execution_count": 3,
     "metadata": {},
     "output_type": "execute_result"
    }
   ],
   "source": [
    "# example of a series from a list \n",
    "marks = [10, 40, 50, 23, 19, 45]\n",
    "\n",
    "# series\n",
    "marks_series = pd.Series(marks)\n",
    "marks_series"
   ]
  },
  {
   "cell_type": "markdown",
   "metadata": {},
   "source": [
    "## Creating and Displaying"
   ]
  },
  {
   "cell_type": "code",
   "execution_count": 4,
   "metadata": {
    "tags": []
   },
   "outputs": [],
   "source": [
    "# example 1 - creating a series from a list\n",
    "data = [22.5, 44.5, 45.5, 9.9, 8.1]\n",
    "\n",
    "# series\n",
    "list_series = pd.Series(data, name=\"Student Marks\")"
   ]
  },
  {
   "cell_type": "code",
   "execution_count": 5,
   "metadata": {
    "tags": []
   },
   "outputs": [
    {
     "data": {
      "text/plain": [
       "0    22.5\n",
       "1    44.5\n",
       "2    45.5\n",
       "3     9.9\n",
       "4     8.1\n",
       "Name: Student Marks, dtype: float64"
      ]
     },
     "execution_count": 5,
     "metadata": {},
     "output_type": "execute_result"
    }
   ],
   "source": [
    "list_series"
   ]
  },
  {
   "cell_type": "code",
   "execution_count": 9,
   "metadata": {
    "tags": []
   },
   "outputs": [
    {
     "data": {
      "text/plain": [
       "numpy.ndarray"
      ]
     },
     "execution_count": 9,
     "metadata": {},
     "output_type": "execute_result"
    }
   ],
   "source": [
    "# example 2 - creating a series from a NumPy Array\n",
    "data_arr = np.array(data) # created and array from a list\n",
    "\n",
    "type(data_arr)"
   ]
  },
  {
   "cell_type": "code",
   "execution_count": 10,
   "metadata": {
    "tags": []
   },
   "outputs": [
    {
     "data": {
      "text/plain": [
       "0    22.5\n",
       "1    44.5\n",
       "2    45.5\n",
       "3     9.9\n",
       "4     8.1\n",
       "Name: Arrays Series, dtype: float64"
      ]
     },
     "execution_count": 10,
     "metadata": {},
     "output_type": "execute_result"
    }
   ],
   "source": [
    "# series from array\n",
    "arr_series = pd.Series(data_arr, name=\"Arrays Series\")\n",
    "arr_series"
   ]
  },
  {
   "cell_type": "code",
   "execution_count": 11,
   "metadata": {
    "tags": []
   },
   "outputs": [
    {
     "data": {
      "text/plain": [
       "dict"
      ]
     },
     "execution_count": 11,
     "metadata": {},
     "output_type": "execute_result"
    }
   ],
   "source": [
    "# examples 3 - Series from dictionary\n",
    "data_dict = {\n",
    "    \"Tusker\" : 220,\n",
    "    \"Balozi\" : 250,\n",
    "    \"Malt\" : 300,\n",
    "    \"Smirnoff\": 330,\n",
    "    \"Tots\" : 150\n",
    "}\n",
    "\n",
    "type(data_dict)"
   ]
  },
  {
   "cell_type": "code",
   "execution_count": 14,
   "metadata": {
    "tags": []
   },
   "outputs": [
    {
     "data": {
      "text/plain": [
       "Tusker      220\n",
       "Balozi      250\n",
       "Malt        300\n",
       "Smirnoff    330\n",
       "Tots        150\n",
       "Name: Beer Price, dtype: int64"
      ]
     },
     "execution_count": 14,
     "metadata": {},
     "output_type": "execute_result"
    }
   ],
   "source": [
    "dict_series = pd.Series(data_dict, name =\"Beer Price\")\n",
    "dict_series"
   ]
  },
  {
   "cell_type": "code",
   "execution_count": 45,
   "metadata": {
    "tags": []
   },
   "outputs": [
    {
     "data": {
      "text/plain": [
       "300"
      ]
     },
     "execution_count": 45,
     "metadata": {},
     "output_type": "execute_result"
    }
   ],
   "source": [
    "dict_series[\"Malt\"]"
   ]
  },
  {
   "cell_type": "code",
   "execution_count": 18,
   "metadata": {
    "tags": []
   },
   "outputs": [
    {
     "data": {
      "text/plain": [
       "A    1000\n",
       "B    1500\n",
       "C    2000\n",
       "D    4000\n",
       "E    8000\n",
       "Name: Balances, dtype: int64"
      ]
     },
     "execution_count": 18,
     "metadata": {},
     "output_type": "execute_result"
    }
   ],
   "source": [
    "# series with custom index labels\n",
    "type(list_series)\n",
    "balance = [1000, 1500, 2000, 4000, 8000] # data to store in the series\n",
    "custom_label = ['A', 'B', 'C', 'D', 'E'] # custome indexes\n",
    "\n",
    "custom_label_series = pd.Series(data= balance, index= custom_label, name = \"Balances\")\n",
    "custom_label_series"
   ]
  },
  {
   "cell_type": "markdown",
   "metadata": {},
   "source": [
    "## Basic Operations With Series"
   ]
  },
  {
   "cell_type": "code",
   "execution_count": 20,
   "metadata": {
    "tags": []
   },
   "outputs": [
    {
     "data": {
      "text/plain": [
       "Tusker      220\n",
       "Balozi      250\n",
       "Malt        300\n",
       "Smirnoff    330\n",
       "Tots        150\n",
       "Name: Beer Price, dtype: int64"
      ]
     },
     "execution_count": 20,
     "metadata": {},
     "output_type": "execute_result"
    }
   ],
   "source": [
    "dict_series"
   ]
  },
  {
   "cell_type": "code",
   "execution_count": 21,
   "metadata": {
    "tags": []
   },
   "outputs": [
    {
     "name": "stdout",
     "output_type": "stream",
     "text": [
      "330\n"
     ]
    }
   ],
   "source": [
    "print(dict_series[3])"
   ]
  },
  {
   "cell_type": "code",
   "execution_count": 22,
   "metadata": {
    "tags": []
   },
   "outputs": [
    {
     "data": {
      "text/plain": [
       "A    1000\n",
       "B    1500\n",
       "C    2000\n",
       "D    4000\n",
       "E    8000\n",
       "Name: Balances, dtype: int64"
      ]
     },
     "execution_count": 22,
     "metadata": {},
     "output_type": "execute_result"
    }
   ],
   "source": [
    "custom_label_series"
   ]
  },
  {
   "cell_type": "code",
   "execution_count": 23,
   "metadata": {
    "tags": []
   },
   "outputs": [
    {
     "name": "stdout",
     "output_type": "stream",
     "text": [
      "2000\n"
     ]
    }
   ],
   "source": [
    "print(custom_label_series[\"C\"])"
   ]
  },
  {
   "cell_type": "code",
   "execution_count": 48,
   "metadata": {
    "tags": []
   },
   "outputs": [
    {
     "name": "stdout",
     "output_type": "stream",
     "text": [
      "A    1000\n",
      "B    1500\n",
      "C    2000\n",
      "D    4000\n",
      "Name: Balances, dtype: int64\n"
     ]
    }
   ],
   "source": [
    "print(custom_label_series[\"A\":\"D\"])"
   ]
  },
  {
   "cell_type": "code",
   "execution_count": 26,
   "metadata": {
    "tags": []
   },
   "outputs": [
    {
     "data": {
      "text/plain": [
       "A    10.0\n",
       "B    15.0\n",
       "C    20.0\n",
       "D    40.0\n",
       "E    80.0\n",
       "Name: Balances, dtype: float64"
      ]
     },
     "execution_count": 26,
     "metadata": {},
     "output_type": "execute_result"
    }
   ],
   "source": [
    "# Arithmetic calculation\n",
    "# convert balances to percentage\n",
    "percent = custom_label_series/ 100\n",
    "percent"
   ]
  },
  {
   "cell_type": "code",
   "execution_count": 27,
   "metadata": {
    "tags": []
   },
   "outputs": [],
   "source": [
    "# filtering element\n",
    "# values above X\n",
    "x_filter = percent[percent >= 20]"
   ]
  },
  {
   "cell_type": "code",
   "execution_count": 28,
   "metadata": {
    "tags": []
   },
   "outputs": [
    {
     "data": {
      "text/plain": [
       "C    20.0\n",
       "D    40.0\n",
       "E    80.0\n",
       "Name: Balances, dtype: float64"
      ]
     },
     "execution_count": 28,
     "metadata": {},
     "output_type": "execute_result"
    }
   ],
   "source": [
    "x_filter"
   ]
  },
  {
   "cell_type": "code",
   "execution_count": 31,
   "metadata": {
    "tags": []
   },
   "outputs": [
    {
     "data": {
      "text/plain": [
       "A    10.0\n",
       "B    15.0\n",
       "C    20.0\n",
       "D    40.0\n",
       "E    80.0\n",
       "Name: Balances, dtype: float64"
      ]
     },
     "execution_count": 31,
     "metadata": {},
     "output_type": "execute_result"
    }
   ],
   "source": [
    "percent"
   ]
  },
  {
   "cell_type": "code",
   "execution_count": 32,
   "metadata": {
    "tags": []
   },
   "outputs": [
    {
     "data": {
      "text/plain": [
       "33.0"
      ]
     },
     "execution_count": 32,
     "metadata": {},
     "output_type": "execute_result"
    }
   ],
   "source": [
    "# mean\n",
    "mean = percent.mean()\n",
    "mean"
   ]
  },
  {
   "cell_type": "code",
   "execution_count": 34,
   "metadata": {
    "tags": []
   },
   "outputs": [
    {
     "data": {
      "text/plain": [
       "28.635642126552707"
      ]
     },
     "execution_count": 34,
     "metadata": {},
     "output_type": "execute_result"
    }
   ],
   "source": [
    "# std\n",
    "std = percent.std()\n",
    "std"
   ]
  },
  {
   "cell_type": "code",
   "execution_count": 36,
   "metadata": {
    "tags": []
   },
   "outputs": [
    {
     "data": {
      "text/plain": [
       "80.0"
      ]
     },
     "execution_count": 36,
     "metadata": {},
     "output_type": "execute_result"
    }
   ],
   "source": [
    "# max\n",
    "max = percent.max()\n",
    "max"
   ]
  },
  {
   "cell_type": "code",
   "execution_count": 39,
   "metadata": {
    "tags": []
   },
   "outputs": [
    {
     "data": {
      "text/plain": [
       "20.0"
      ]
     },
     "execution_count": 39,
     "metadata": {},
     "output_type": "execute_result"
    }
   ],
   "source": [
    "# median\n",
    "median = percent.median()\n",
    "median"
   ]
  },
  {
   "cell_type": "code",
   "execution_count": 41,
   "metadata": {
    "tags": []
   },
   "outputs": [],
   "source": [
    "# mode\n",
    "mode = percent.mode()"
   ]
  },
  {
   "cell_type": "code",
   "execution_count": 43,
   "metadata": {
    "tags": []
   },
   "outputs": [
    {
     "data": {
      "text/plain": [
       "165.0"
      ]
     },
     "execution_count": 43,
     "metadata": {},
     "output_type": "execute_result"
    }
   ],
   "source": [
    "# summation\n",
    "summation = percent.sum()\n",
    "summation"
   ]
  },
  {
   "cell_type": "markdown",
   "metadata": {},
   "source": [
    "## Applying Functions to a Series "
   ]
  },
  {
   "cell_type": "markdown",
   "metadata": {},
   "source": [
    "### Lambda Functions"
   ]
  },
  {
   "cell_type": "markdown",
   "metadata": {},
   "source": [
    "* Small anonymous function that is not bound to an identifier.\n",
    "* Similar to user defined functions but without a name.\n",
    "* It's simple and straightfoward, requiring only the argument(s) and expression, alongside the keyword `lambda`.\n",
    "* They require only one line of code.\n",
    "\n",
    "```\n",
    "def func_name(parameters):\n",
    "    code block\n",
    "    \n",
    "    return return_value\n",
    "```\n",
    "\n",
    "`func = lamda parameters: return_value`\n",
    "\n",
    "* `lambda` : Keyword that indicates definition of a lambda function.\n",
    "* `parameters`: The input parameters that the lambda function will take.\n",
    "* `return_value`: A single expression that defines the compuation the lambda function performs and its return value"
   ]
  },
  {
   "cell_type": "code",
   "execution_count": 51,
   "metadata": {
    "tags": []
   },
   "outputs": [
    {
     "data": {
      "text/plain": [
       "100"
      ]
     },
     "execution_count": 51,
     "metadata": {},
     "output_type": "execute_result"
    }
   ],
   "source": [
    "# lets compare the two\n",
    "def square(x):\n",
    "    #function to square numbers\n",
    "    out = x ** 2\n",
    "    \n",
    "    return out\n",
    "\n",
    "square(10)"
   ]
  },
  {
   "cell_type": "code",
   "execution_count": 53,
   "metadata": {
    "tags": []
   },
   "outputs": [
    {
     "data": {
      "text/plain": [
       "100"
      ]
     },
     "execution_count": 53,
     "metadata": {},
     "output_type": "execute_result"
    }
   ],
   "source": [
    "# lamda function\n",
    "square_lamda = lambda x: x ** 2\n",
    "square_lamda(10)"
   ]
  },
  {
   "cell_type": "code",
   "execution_count": 56,
   "metadata": {
    "tags": []
   },
   "outputs": [
    {
     "data": {
      "text/plain": [
       "'Hello world'"
      ]
     },
     "execution_count": 56,
     "metadata": {},
     "output_type": "execute_result"
    }
   ],
   "source": [
    "def print_hello():\n",
    "    y = \"Hello world\"\n",
    "    \n",
    "    return y\n",
    "\n",
    "print_hello()"
   ]
  },
  {
   "cell_type": "code",
   "execution_count": 57,
   "metadata": {
    "tags": []
   },
   "outputs": [
    {
     "data": {
      "text/plain": [
       "'Hello World'"
      ]
     },
     "execution_count": 57,
     "metadata": {},
     "output_type": "execute_result"
    }
   ],
   "source": [
    "# lambda function to print hello world\n",
    "message = lambda : \"Hello World\"\n",
    "\n",
    "message()"
   ]
  },
  {
   "cell_type": "code",
   "execution_count": 60,
   "metadata": {
    "tags": []
   },
   "outputs": [
    {
     "data": {
      "text/plain": [
       "'Even'"
      ]
     },
     "execution_count": 60,
     "metadata": {},
     "output_type": "execute_result"
    }
   ],
   "source": [
    "def even_odd(number: int):\n",
    "    \"\"\" check if a number is even or odd \"\"\"\n",
    "    if (number% 2 == 0):\n",
    "        return 'Even'\n",
    "    else:\n",
    "        return 'Odd'\n",
    "    \n",
    "even_odd(78)"
   ]
  },
  {
   "cell_type": "code",
   "execution_count": 64,
   "metadata": {
    "tags": []
   },
   "outputs": [
    {
     "data": {
      "text/plain": [
       "'Odd'"
      ]
     },
     "execution_count": 64,
     "metadata": {},
     "output_type": "execute_result"
    }
   ],
   "source": [
    "even_lamda = lambda number: \"Even\" if (number % 2 == 0) else \"Odd\"\n",
    "even_lamda(55)"
   ]
  },
  {
   "cell_type": "markdown",
   "metadata": {},
   "source": [
    "### Generate Random Numbers"
   ]
  },
  {
   "cell_type": "markdown",
   "metadata": {},
   "source": [
    "* Using `NumPy` library to generate random Numbers."
   ]
  },
  {
   "cell_type": "code",
   "execution_count": 74,
   "metadata": {
    "tags": []
   },
   "outputs": [],
   "source": [
    "# generate random numbers \n",
    "random_numbers = np.random.randint(3, 99, size=120)"
   ]
  },
  {
   "cell_type": "code",
   "execution_count": 81,
   "metadata": {
    "tags": []
   },
   "outputs": [
    {
     "data": {
      "text/plain": [
       "array([52, 98, 87, 93, 92, 22, 84, 70, 35, 67, 28, 54, 54, 93, 63, 90,  4,\n",
       "       98, 72, 34, 55, 45, 31, 40, 12, 18, 17, 37, 90, 25, 13, 45, 96, 61,\n",
       "       55, 43, 13, 91, 33, 32, 42, 45, 72, 61, 30, 30,  9, 33, 98, 62, 70,\n",
       "       82, 86, 14, 35, 41, 63, 16, 89, 63, 62, 87, 26, 66, 59, 38, 50, 56,\n",
       "       58, 62, 24, 75, 98, 66, 46, 28, 86, 19, 41, 70, 46, 48, 73, 60, 68,\n",
       "       72, 67, 67, 87, 73, 79, 50, 64, 89, 48, 68, 33, 82, 51, 69, 24, 61,\n",
       "       41, 95, 74, 38, 53, 11, 90, 89, 73, 52, 77,  4, 40, 89, 10, 66, 82,\n",
       "       35])"
      ]
     },
     "execution_count": 81,
     "metadata": {},
     "output_type": "execute_result"
    }
   ],
   "source": [
    "# display random numbers \n",
    "random_numbers"
   ]
  },
  {
   "cell_type": "code",
   "execution_count": 76,
   "metadata": {
    "tags": []
   },
   "outputs": [
    {
     "data": {
      "text/plain": [
       "numpy.ndarray"
      ]
     },
     "execution_count": 76,
     "metadata": {},
     "output_type": "execute_result"
    }
   ],
   "source": [
    "type(random_numbers)"
   ]
  },
  {
   "cell_type": "code",
   "execution_count": null,
   "metadata": {},
   "outputs": [],
   "source": []
  },
  {
   "cell_type": "code",
   "execution_count": 79,
   "metadata": {
    "tags": []
   },
   "outputs": [
    {
     "data": {
      "text/plain": [
       "0      52\n",
       "1      98\n",
       "2      87\n",
       "3      93\n",
       "4      92\n",
       "       ..\n",
       "115    89\n",
       "116    10\n",
       "117    66\n",
       "118    82\n",
       "119    35\n",
       "Name: Numbers, Length: 120, dtype: int32"
      ]
     },
     "execution_count": 79,
     "metadata": {},
     "output_type": "execute_result"
    }
   ],
   "source": [
    "# create a series \n",
    "numbers = pd.Series(random_numbers, name= \"Numbers\")\n",
    "numbers"
   ]
  },
  {
   "cell_type": "code",
   "execution_count": 80,
   "metadata": {
    "tags": []
   },
   "outputs": [
    {
     "data": {
      "text/plain": [
       "0    52\n",
       "1    98\n",
       "2    87\n",
       "3    93\n",
       "4    92\n",
       "Name: Numbers, dtype: int32"
      ]
     },
     "execution_count": 80,
     "metadata": {},
     "output_type": "execute_result"
    }
   ],
   "source": [
    "# display the first five rows of the series\n",
    "numbers.head()"
   ]
  },
  {
   "cell_type": "code",
   "execution_count": 84,
   "metadata": {
    "tags": []
   },
   "outputs": [
    {
     "data": {
      "text/plain": [
       "0    52\n",
       "1    98\n",
       "2    87\n",
       "Name: Numbers, dtype: int32"
      ]
     },
     "execution_count": 84,
     "metadata": {},
     "output_type": "execute_result"
    }
   ],
   "source": [
    "numbers.head(3)"
   ]
  },
  {
   "cell_type": "code",
   "execution_count": 83,
   "metadata": {
    "tags": []
   },
   "outputs": [
    {
     "data": {
      "text/plain": [
       "115    89\n",
       "116    10\n",
       "117    66\n",
       "118    82\n",
       "119    35\n",
       "Name: Numbers, dtype: int32"
      ]
     },
     "execution_count": 83,
     "metadata": {},
     "output_type": "execute_result"
    }
   ],
   "source": [
    "# display last five rows\n",
    "numbers.tail()"
   ]
  },
  {
   "cell_type": "code",
   "execution_count": 85,
   "metadata": {
    "tags": []
   },
   "outputs": [
    {
     "data": {
      "text/plain": [
       "117    66\n",
       "118    82\n",
       "119    35\n",
       "Name: Numbers, dtype: int32"
      ]
     },
     "execution_count": 85,
     "metadata": {},
     "output_type": "execute_result"
    }
   ],
   "source": [
    "numbers.tail(3)"
   ]
  },
  {
   "cell_type": "markdown",
   "metadata": {},
   "source": [
    "### Using the `apply()` Function in a Series\n",
    "\n",
    "* It's a powerful way to transform and analyze the data within the series.\n",
    "* Above we have generate a series of random numbers, and created a function called `square` that takes in an int, squares it and return the value. Lets apply that function to the series."
   ]
  },
  {
   "cell_type": "code",
   "execution_count": 86,
   "metadata": {
    "tags": []
   },
   "outputs": [
    {
     "data": {
      "text/plain": [
       "16"
      ]
     },
     "execution_count": 86,
     "metadata": {},
     "output_type": "execute_result"
    }
   ],
   "source": [
    "# square the series random numbers \n",
    "square(4)"
   ]
  },
  {
   "cell_type": "code",
   "execution_count": 87,
   "metadata": {
    "tags": []
   },
   "outputs": [
    {
     "data": {
      "text/plain": [
       "0      2704\n",
       "1      9604\n",
       "2      7569\n",
       "3      8649\n",
       "4      8464\n",
       "       ... \n",
       "115    7921\n",
       "116     100\n",
       "117    4356\n",
       "118    6724\n",
       "119    1225\n",
       "Name: Numbers, Length: 120, dtype: int64"
      ]
     },
     "execution_count": 87,
     "metadata": {},
     "output_type": "execute_result"
    }
   ],
   "source": [
    "# square the series random number\n",
    "squared_numbers = numbers.apply(square)\n",
    "squared_numbers"
   ]
  },
  {
   "cell_type": "code",
   "execution_count": 91,
   "metadata": {
    "tags": []
   },
   "outputs": [
    {
     "data": {
      "text/plain": [
       "0      2704\n",
       "1      9604\n",
       "2      7569\n",
       "3      8649\n",
       "4      8464\n",
       "       ... \n",
       "115    7921\n",
       "116     100\n",
       "117    4356\n",
       "118    6724\n",
       "119    1225\n",
       "Name: Squared Numbers, Length: 120, dtype: int64"
      ]
     },
     "execution_count": 91,
     "metadata": {},
     "output_type": "execute_result"
    }
   ],
   "source": [
    "# use .rename to rename the series\n",
    "squared_numbers.rename(\"Squared Numbers\", inplace=True) # inplace = True makes the changes permanent accross the program"
   ]
  },
  {
   "cell_type": "code",
   "execution_count": 89,
   "metadata": {
    "tags": []
   },
   "outputs": [
    {
     "data": {
      "text/plain": [
       "0    2704\n",
       "1    9604\n",
       "2    7569\n",
       "3    8649\n",
       "4    8464\n",
       "Name: Squared Numbers, dtype: int64"
      ]
     },
     "execution_count": 89,
     "metadata": {},
     "output_type": "execute_result"
    }
   ],
   "source": [
    "squared_numbers.head()"
   ]
  },
  {
   "cell_type": "markdown",
   "metadata": {},
   "source": [
    "### `lambda` function with `apply()`"
   ]
  },
  {
   "cell_type": "code",
   "execution_count": 92,
   "metadata": {
    "tags": []
   },
   "outputs": [],
   "source": [
    "# Cube the numbers using lambda and apply\n",
    "cubed_numbers = numbers.apply(lambda j: j **3)"
   ]
  },
  {
   "cell_type": "code",
   "execution_count": 93,
   "metadata": {
    "tags": []
   },
   "outputs": [
    {
     "data": {
      "text/plain": [
       "0    140608\n",
       "1    941192\n",
       "2    658503\n",
       "Name: Numbers, dtype: int64"
      ]
     },
     "execution_count": 93,
     "metadata": {},
     "output_type": "execute_result"
    }
   ],
   "source": [
    "cubed_numbers.head(3)"
   ]
  },
  {
   "cell_type": "code",
   "execution_count": 94,
   "metadata": {
    "tags": []
   },
   "outputs": [
    {
     "data": {
      "text/plain": [
       "0      140608\n",
       "1      941192\n",
       "2      658503\n",
       "3      804357\n",
       "4      778688\n",
       "        ...  \n",
       "115    704969\n",
       "116      1000\n",
       "117    287496\n",
       "118    551368\n",
       "119     42875\n",
       "Name: Cubed Numbers, Length: 120, dtype: int64"
      ]
     },
     "execution_count": 94,
     "metadata": {},
     "output_type": "execute_result"
    }
   ],
   "source": [
    "# rename the series\n",
    "cubed_numbers.rename(\"Cubed Numbers\", inplace=True)"
   ]
  },
  {
   "cell_type": "code",
   "execution_count": 95,
   "metadata": {
    "tags": []
   },
   "outputs": [
    {
     "data": {
      "text/plain": [
       "0    140608\n",
       "1    941192\n",
       "2    658503\n",
       "3    804357\n",
       "4    778688\n",
       "Name: Cubed Numbers, dtype: int64"
      ]
     },
     "execution_count": 95,
     "metadata": {},
     "output_type": "execute_result"
    }
   ],
   "source": [
    "cubed_numbers.head()"
   ]
  },
  {
   "cell_type": "markdown",
   "metadata": {},
   "source": [
    "### Using the `map()` Function in a series"
   ]
  },
  {
   "cell_type": "markdown",
   "metadata": {},
   "source": [
    "* Used to substitute each value in a Series with another value creating a convenient way to transform the values in a Series."
   ]
  },
  {
   "cell_type": "code",
   "execution_count": 96,
   "metadata": {
    "tags": []
   },
   "outputs": [
    {
     "data": {
      "text/plain": [
       "'Underweight'"
      ]
     },
     "execution_count": 96,
     "metadata": {},
     "output_type": "execute_result"
    }
   ],
   "source": [
    "def bmi_value(x):\n",
    "    if x <= 43:\n",
    "        return \"Underweight\"\n",
    "    else:\n",
    "        return \"Overweight\"\n",
    "    \n",
    "bmi_value(30)"
   ]
  },
  {
   "cell_type": "code",
   "execution_count": 97,
   "metadata": {
    "tags": []
   },
   "outputs": [
    {
     "data": {
      "text/plain": [
       "0     Overweight\n",
       "1     Overweight\n",
       "2     Overweight\n",
       "3     Overweight\n",
       "4     Overweight\n",
       "5    Underweight\n",
       "6     Overweight\n",
       "7     Overweight\n",
       "8    Underweight\n",
       "9     Overweight\n",
       "Name: BMI Series, dtype: object"
      ]
     },
     "execution_count": 97,
     "metadata": {},
     "output_type": "execute_result"
    }
   ],
   "source": [
    "# map our random numbers as underweight or overweight\n",
    "bmi_series = numbers.map(bmi_value)\n",
    "bmi_series.rename(\"BMI Series\", inplace=True)\n",
    "bmi_series.head(10)"
   ]
  },
  {
   "cell_type": "markdown",
   "metadata": {},
   "source": [
    "### `lambda` function with `map()`"
   ]
  },
  {
   "cell_type": "code",
   "execution_count": 99,
   "metadata": {
    "tags": []
   },
   "outputs": [
    {
     "data": {
      "text/plain": [
       "0    104\n",
       "1    196\n",
       "2    174\n",
       "3    186\n",
       "4    184\n",
       "Name: Doubled Numbers, dtype: int64"
      ]
     },
     "execution_count": 99,
     "metadata": {},
     "output_type": "execute_result"
    }
   ],
   "source": [
    "# use lamda function with map() to double each number\n",
    "double_number = numbers.map(lambda t: t* 2)\n",
    "double_number.rename(\"Doubled Numbers\", inplace=True)\n",
    "double_number.head(5)"
   ]
  },
  {
   "cell_type": "markdown",
   "metadata": {},
   "source": [
    "### `lamda` function with Conditional Statement"
   ]
  },
  {
   "cell_type": "code",
   "execution_count": 102,
   "metadata": {
    "tags": []
   },
   "outputs": [
    {
     "data": {
      "text/plain": [
       "115     Odd\n",
       "116    Even\n",
       "117    Even\n",
       "118    Even\n",
       "119     Odd\n",
       "Name: Even Odd Series, dtype: object"
      ]
     },
     "execution_count": 102,
     "metadata": {},
     "output_type": "execute_result"
    }
   ],
   "source": [
    "# are the random numbers even or odd\n",
    "even_odd_series = numbers.apply(lambda k: 'Even' if (k % 2 == 0) else 'Odd')\n",
    "even_odd_series.rename(\"Even Odd Series\", inplace=True)\n",
    "even_odd_series.tail(5)"
   ]
  },
  {
   "cell_type": "markdown",
   "metadata": {},
   "source": [
    "## Series to DataFrame "
   ]
  },
  {
   "cell_type": "markdown",
   "metadata": {},
   "source": [
    "* `if` a **Series** is a *table* with a single column, `elif` a **DataFrame** is a *table* with two or more columns."
   ]
  },
  {
   "cell_type": "code",
   "execution_count": 103,
   "metadata": {
    "tags": []
   },
   "outputs": [
    {
     "name": "stdout",
     "output_type": "stream",
     "text": [
      "Numbers\n",
      "Doubled Numbers\n"
     ]
    }
   ],
   "source": [
    "# lets convert all the series we created into a dataframe\n",
    "print(numbers.name)\n",
    "print(double_number.name)"
   ]
  },
  {
   "cell_type": "code",
   "execution_count": 108,
   "metadata": {
    "tags": []
   },
   "outputs": [
    {
     "data": {
      "text/html": [
       "<div>\n",
       "<style scoped>\n",
       "    .dataframe tbody tr th:only-of-type {\n",
       "        vertical-align: middle;\n",
       "    }\n",
       "\n",
       "    .dataframe tbody tr th {\n",
       "        vertical-align: top;\n",
       "    }\n",
       "\n",
       "    .dataframe thead th {\n",
       "        text-align: right;\n",
       "    }\n",
       "</style>\n",
       "<table border=\"1\" class=\"dataframe\">\n",
       "  <thead>\n",
       "    <tr style=\"text-align: right;\">\n",
       "      <th></th>\n",
       "      <th>Numbers</th>\n",
       "      <th>Doubled Numbers</th>\n",
       "      <th>Squared Numbers</th>\n",
       "      <th>Cubed Numbers</th>\n",
       "      <th>BMI Series</th>\n",
       "      <th>Even Odd Series</th>\n",
       "    </tr>\n",
       "  </thead>\n",
       "  <tbody>\n",
       "    <tr>\n",
       "      <th>115</th>\n",
       "      <td>89</td>\n",
       "      <td>178</td>\n",
       "      <td>7921</td>\n",
       "      <td>704969</td>\n",
       "      <td>Overweight</td>\n",
       "      <td>Odd</td>\n",
       "    </tr>\n",
       "    <tr>\n",
       "      <th>116</th>\n",
       "      <td>10</td>\n",
       "      <td>20</td>\n",
       "      <td>100</td>\n",
       "      <td>1000</td>\n",
       "      <td>Underweight</td>\n",
       "      <td>Even</td>\n",
       "    </tr>\n",
       "    <tr>\n",
       "      <th>117</th>\n",
       "      <td>66</td>\n",
       "      <td>132</td>\n",
       "      <td>4356</td>\n",
       "      <td>287496</td>\n",
       "      <td>Overweight</td>\n",
       "      <td>Even</td>\n",
       "    </tr>\n",
       "    <tr>\n",
       "      <th>118</th>\n",
       "      <td>82</td>\n",
       "      <td>164</td>\n",
       "      <td>6724</td>\n",
       "      <td>551368</td>\n",
       "      <td>Overweight</td>\n",
       "      <td>Even</td>\n",
       "    </tr>\n",
       "    <tr>\n",
       "      <th>119</th>\n",
       "      <td>35</td>\n",
       "      <td>70</td>\n",
       "      <td>1225</td>\n",
       "      <td>42875</td>\n",
       "      <td>Underweight</td>\n",
       "      <td>Odd</td>\n",
       "    </tr>\n",
       "  </tbody>\n",
       "</table>\n",
       "</div>"
      ],
      "text/plain": [
       "     Numbers  Doubled Numbers  Squared Numbers  Cubed Numbers   BMI Series  \\\n",
       "115       89              178             7921         704969   Overweight   \n",
       "116       10               20              100           1000  Underweight   \n",
       "117       66              132             4356         287496   Overweight   \n",
       "118       82              164             6724         551368   Overweight   \n",
       "119       35               70             1225          42875  Underweight   \n",
       "\n",
       "    Even Odd Series  \n",
       "115             Odd  \n",
       "116            Even  \n",
       "117            Even  \n",
       "118            Even  \n",
       "119             Odd  "
      ]
     },
     "execution_count": 108,
     "metadata": {},
     "output_type": "execute_result"
    }
   ],
   "source": [
    "test_df = pd.DataFrame({\n",
    "    numbers.name : numbers,\n",
    "    double_number.name : double_number,\n",
    "    squared_numbers.name : squared_numbers,\n",
    "    cubed_numbers.name : cubed_numbers,\n",
    "    bmi_series.name : bmi_series,\n",
    "    even_odd_series.name : even_odd_series\n",
    "})\n",
    "\n",
    "test_df.tail()"
   ]
  },
  {
   "cell_type": "markdown",
   "metadata": {},
   "source": [
    "## Knock Yourself Out!"
   ]
  },
  {
   "cell_type": "markdown",
   "metadata": {},
   "source": [
    "You work as a real estate agent at *MoringaHome Realty*. To assist your clients in making informed decisions about property investment, you decide to analyze property data using Pandas. \n",
    "1. Generate 120 random numbers between  Ksh 4000 and Ksh 20,000 using numpy to represent the prices of the houses. \n",
    "2. Display the first and last 7 houses.\n",
    "3. Create a function that will take in the price of the house and return the category of that house, eg Suburb. The category is of your own series.\n",
    "4. Apply the function created above to the series.\n",
    "6. Apply a lambda function to increase the property prices by 10% due to the new tax laws.\n",
    "7. Apply a custom function to increase the property prices by and additional Ksh 250 for garbage. \n",
    "8. Create a new Series for each step and Finally Combine them all into a DataFrame name 'Moringa_property'."
   ]
  },
  {
   "cell_type": "code",
   "execution_count": 6,
   "metadata": {
    "tags": []
   },
   "outputs": [
    {
     "data": {
      "text/plain": [
       "array([18799, 11450,  8645, 19491,  8610, 18825, 19042,  8896, 18420,\n",
       "       15762,  6756,  7446, 16182, 15753, 17996, 11661, 10829, 17764,\n",
       "       15617, 13092, 16336, 13979, 10125, 10826,  6320,  7740,  6535,\n",
       "       19971, 12783,  4576, 11626, 18856,  5266,  4631, 16191, 11679,\n",
       "       16390,  8477, 10395, 19532, 10212,  7184, 18367, 14009,  4976,\n",
       "       17989, 16992, 12316,  7090,  5316, 12280, 12066, 14694, 17997,\n",
       "       13926,  5674,  6041,  8828, 17799, 12766, 11799, 10489, 17872,\n",
       "       11693, 14352,  7665,  6229, 17912,  8009, 18666, 17674,  5779,\n",
       "       12602, 12657, 17111, 15866, 18252,  8847, 15605,  7503,  9436,\n",
       "        9401,  4371, 10640, 19194, 17867,  4165, 10683,  6653, 16257,\n",
       "        9256, 15857, 12265,  8125, 11243, 16797,  9748, 18485, 12750,\n",
       "       14686,  5541,  8942,  4252, 13092,  7968, 11341,  5638, 14080,\n",
       "        7934, 14468, 13986, 10877, 18806, 19769, 12529, 19227,  7775,\n",
       "       10395,  5190, 16638])"
      ]
     },
     "execution_count": 6,
     "metadata": {},
     "output_type": "execute_result"
    }
   ],
   "source": [
    "# Generate 120 random numbers between Ksh 4000 and Ksh 20,000 using numpy to represent the prices of the houses.\n",
    "rand_houses = np.random.randint(4000, 20000, 120)\n",
    "rand_houses"
   ]
  },
  {
   "cell_type": "code",
   "execution_count": 7,
   "metadata": {
    "tags": []
   },
   "outputs": [
    {
     "data": {
      "text/plain": [
       "0      18799\n",
       "1      11450\n",
       "2       8645\n",
       "3      19491\n",
       "4       8610\n",
       "       ...  \n",
       "115    19227\n",
       "116     7775\n",
       "117    10395\n",
       "118     5190\n",
       "119    16638\n",
       "Name: Available Houses, Length: 120, dtype: int32"
      ]
     },
     "execution_count": 7,
     "metadata": {},
     "output_type": "execute_result"
    }
   ],
   "source": [
    "available_houses = pd.Series(rand_houses, name=\"Available Houses\")\n",
    "available_houses"
   ]
  },
  {
   "cell_type": "code",
   "execution_count": 8,
   "metadata": {
    "tags": []
   },
   "outputs": [
    {
     "data": {
      "text/plain": [
       "0    18799\n",
       "1    11450\n",
       "2     8645\n",
       "3    19491\n",
       "4     8610\n",
       "5    18825\n",
       "6    19042\n",
       "Name: Available Houses, dtype: int32"
      ]
     },
     "execution_count": 8,
     "metadata": {},
     "output_type": "execute_result"
    }
   ],
   "source": [
    "# Display the first and last 7 houses.\n",
    "available_houses.head(7)"
   ]
  },
  {
   "cell_type": "code",
   "execution_count": 9,
   "metadata": {
    "tags": []
   },
   "outputs": [
    {
     "data": {
      "text/plain": [
       "113    19769\n",
       "114    12529\n",
       "115    19227\n",
       "116     7775\n",
       "117    10395\n",
       "118     5190\n",
       "119    16638\n",
       "Name: Available Houses, dtype: int32"
      ]
     },
     "execution_count": 9,
     "metadata": {},
     "output_type": "execute_result"
    }
   ],
   "source": [
    "available_houses.tail(7)"
   ]
  },
  {
   "cell_type": "code",
   "execution_count": 24,
   "metadata": {
    "tags": []
   },
   "outputs": [],
   "source": [
    "# Create a function that will take in the price of the house and return the category of that house, eg Suburb. The category is of your own series.\n",
    "def rent_value(x):\n",
    "    if x <= 10000 and x >= 4000:\n",
    "        return \"Ghetto\"\n",
    "    elif x > 10000 and x <=15000:\n",
    "        return \"Middle Class\"\n",
    "    elif x > 15000 and x <=20000:\n",
    "        return \"Suburb\"\n",
    "    else:\n",
    "        return \"House not Available\"\n",
    "\n",
    "# rent_value = available_houses.apply(lambda x: 'Suburb' if (x >= 30000) else 'Middle Class')\n",
    "    "
   ]
  },
  {
   "cell_type": "code",
   "execution_count": 25,
   "metadata": {
    "tags": []
   },
   "outputs": [],
   "source": [
    "# Apply the function created above to the series.\n",
    "rent_series = available_houses.map(rent_value)"
   ]
  },
  {
   "cell_type": "code",
   "execution_count": 26,
   "metadata": {
    "tags": []
   },
   "outputs": [
    {
     "data": {
      "text/plain": [
       "0          Suburb\n",
       "1    Middle Class\n",
       "2          Ghetto\n",
       "3          Suburb\n",
       "4          Ghetto\n",
       "5          Suburb\n",
       "6          Suburb\n",
       "Name: Rent Range, dtype: object"
      ]
     },
     "execution_count": 26,
     "metadata": {},
     "output_type": "execute_result"
    }
   ],
   "source": [
    "rent_series.rename(\"Rent Range\", inplace=True)\n",
    "rent_series.head(7)"
   ]
  },
  {
   "cell_type": "code",
   "execution_count": 27,
   "metadata": {
    "tags": []
   },
   "outputs": [
    {
     "data": {
      "text/plain": [
       "0      20678.9\n",
       "1      12595.0\n",
       "2       9509.5\n",
       "3      21440.1\n",
       "4       9471.0\n",
       "        ...   \n",
       "115    21149.7\n",
       "116     8552.5\n",
       "117    11434.5\n",
       "118     5709.0\n",
       "119    18301.8\n",
       "Name: Adjusted Rent, Length: 120, dtype: float64"
      ]
     },
     "execution_count": 27,
     "metadata": {},
     "output_type": "execute_result"
    }
   ],
   "source": [
    "# Apply a lambda function to increase the property prices by 10% due to the new tax laws.\n",
    "new_rent = available_houses.apply(lambda r: r * 1.1)\n",
    "new_rent.rename(\"Adjusted Rent\", inplace = True)"
   ]
  },
  {
   "cell_type": "code",
   "execution_count": 28,
   "metadata": {
    "tags": []
   },
   "outputs": [
    {
     "data": {
      "text/plain": [
       "0    20678.9\n",
       "1    12595.0\n",
       "2     9509.5\n",
       "3    21440.1\n",
       "4     9471.0\n",
       "5    20707.5\n",
       "6    20946.2\n",
       "7     9785.6\n",
       "8    20262.0\n",
       "9    17338.2\n",
       "Name: Adjusted Rent, dtype: float64"
      ]
     },
     "execution_count": 28,
     "metadata": {},
     "output_type": "execute_result"
    }
   ],
   "source": [
    "new_rent.head(10)"
   ]
  },
  {
   "cell_type": "code",
   "execution_count": 15,
   "metadata": {
    "tags": []
   },
   "outputs": [],
   "source": [
    "# Apply a custom function to increase the property prices by and additional Ksh 250 for garbage.\n",
    "def garbage_fee(available_houses):\n",
    "    return available_houses + 250"
   ]
  },
  {
   "cell_type": "code",
   "execution_count": 29,
   "metadata": {
    "tags": []
   },
   "outputs": [
    {
     "data": {
      "text/plain": [
       "0    20928.9\n",
       "1    12845.0\n",
       "2     9759.5\n",
       "3    21690.1\n",
       "4     9721.0\n",
       "5    20957.5\n",
       "6    21196.2\n",
       "Name: Rent + Garbage, dtype: float64"
      ]
     },
     "execution_count": 29,
     "metadata": {},
     "output_type": "execute_result"
    }
   ],
   "source": [
    "garbage_series = new_rent.map(garbage_fee)\n",
    "garbage_series.rename(\"Rent + Garbage\", inplace=True)\n",
    "garbage_series.head(7)"
   ]
  },
  {
   "cell_type": "code",
   "execution_count": 30,
   "metadata": {
    "tags": []
   },
   "outputs": [
    {
     "data": {
      "text/plain": [
       "110     8391.6\n",
       "111     6526.2\n",
       "112    11283.6\n",
       "113    11861.4\n",
       "114     7517.4\n",
       "115    11536.2\n",
       "116     4665.0\n",
       "117     6237.0\n",
       "118     3114.0\n",
       "119     9982.8\n",
       "Name: Government Rates, dtype: float64"
      ]
     },
     "execution_count": 30,
     "metadata": {},
     "output_type": "execute_result"
    }
   ],
   "source": [
    "# Create a new Series for each step and Finally Combine them all into a DataFrame name 'Moringa_property'.\n",
    "# Government intervention\n",
    "gov_rent = available_houses.apply(lambda k: k * 0.6)\n",
    "gov_rent.rename(\"Government Rates\", inplace=True)\n",
    "gov_rent.tail(10)"
   ]
  },
  {
   "cell_type": "code",
   "execution_count": 31,
   "metadata": {
    "tags": []
   },
   "outputs": [],
   "source": [
    "# Service charge of Kes. 500 introduced\n",
    "def serv_charge(gov_rent):\n",
    "    return gov_rent + 500"
   ]
  },
  {
   "cell_type": "code",
   "execution_count": 32,
   "metadata": {
    "tags": []
   },
   "outputs": [
    {
     "data": {
      "text/plain": [
       "110     8891.6\n",
       "111     7026.2\n",
       "112    11783.6\n",
       "113    12361.4\n",
       "114     8017.4\n",
       "115    12036.2\n",
       "116     5165.0\n",
       "117     6737.0\n",
       "118     3614.0\n",
       "119    10482.8\n",
       "Name: Goverment & Service, dtype: float64"
      ]
     },
     "execution_count": 32,
     "metadata": {},
     "output_type": "execute_result"
    }
   ],
   "source": [
    "serv_rent = gov_rent.map(serv_charge)\n",
    "serv_rent.rename(\"Goverment & Service\", inplace= True)\n",
    "serv_rent.tail(10)"
   ]
  },
  {
   "cell_type": "code",
   "execution_count": 33,
   "metadata": {
    "tags": []
   },
   "outputs": [],
   "source": [
    "Moringa_Property = pd.DataFrame({\n",
    "    rent_series.name : rent_series,\n",
    "    available_houses.name : available_houses,\n",
    "    new_rent.name : new_rent,\n",
    "    garbage_series.name : garbage_series,\n",
    "    gov_rent.name : gov_rent,\n",
    "    serv_rent.name : serv_rent\n",
    "})"
   ]
  },
  {
   "cell_type": "code",
   "execution_count": 34,
   "metadata": {
    "tags": []
   },
   "outputs": [
    {
     "data": {
      "text/html": [
       "<div>\n",
       "<style scoped>\n",
       "    .dataframe tbody tr th:only-of-type {\n",
       "        vertical-align: middle;\n",
       "    }\n",
       "\n",
       "    .dataframe tbody tr th {\n",
       "        vertical-align: top;\n",
       "    }\n",
       "\n",
       "    .dataframe thead th {\n",
       "        text-align: right;\n",
       "    }\n",
       "</style>\n",
       "<table border=\"1\" class=\"dataframe\">\n",
       "  <thead>\n",
       "    <tr style=\"text-align: right;\">\n",
       "      <th></th>\n",
       "      <th>Rent Range</th>\n",
       "      <th>Available Houses</th>\n",
       "      <th>Adjusted Rent</th>\n",
       "      <th>Rent + Garbage</th>\n",
       "      <th>Government Rates</th>\n",
       "      <th>Goverment &amp; Service</th>\n",
       "    </tr>\n",
       "  </thead>\n",
       "  <tbody>\n",
       "    <tr>\n",
       "      <th>0</th>\n",
       "      <td>Suburb</td>\n",
       "      <td>18799</td>\n",
       "      <td>20678.9</td>\n",
       "      <td>20928.9</td>\n",
       "      <td>11279.4</td>\n",
       "      <td>11779.4</td>\n",
       "    </tr>\n",
       "    <tr>\n",
       "      <th>1</th>\n",
       "      <td>Middle Class</td>\n",
       "      <td>11450</td>\n",
       "      <td>12595.0</td>\n",
       "      <td>12845.0</td>\n",
       "      <td>6870.0</td>\n",
       "      <td>7370.0</td>\n",
       "    </tr>\n",
       "    <tr>\n",
       "      <th>2</th>\n",
       "      <td>Ghetto</td>\n",
       "      <td>8645</td>\n",
       "      <td>9509.5</td>\n",
       "      <td>9759.5</td>\n",
       "      <td>5187.0</td>\n",
       "      <td>5687.0</td>\n",
       "    </tr>\n",
       "    <tr>\n",
       "      <th>3</th>\n",
       "      <td>Suburb</td>\n",
       "      <td>19491</td>\n",
       "      <td>21440.1</td>\n",
       "      <td>21690.1</td>\n",
       "      <td>11694.6</td>\n",
       "      <td>12194.6</td>\n",
       "    </tr>\n",
       "    <tr>\n",
       "      <th>4</th>\n",
       "      <td>Ghetto</td>\n",
       "      <td>8610</td>\n",
       "      <td>9471.0</td>\n",
       "      <td>9721.0</td>\n",
       "      <td>5166.0</td>\n",
       "      <td>5666.0</td>\n",
       "    </tr>\n",
       "    <tr>\n",
       "      <th>5</th>\n",
       "      <td>Suburb</td>\n",
       "      <td>18825</td>\n",
       "      <td>20707.5</td>\n",
       "      <td>20957.5</td>\n",
       "      <td>11295.0</td>\n",
       "      <td>11795.0</td>\n",
       "    </tr>\n",
       "    <tr>\n",
       "      <th>6</th>\n",
       "      <td>Suburb</td>\n",
       "      <td>19042</td>\n",
       "      <td>20946.2</td>\n",
       "      <td>21196.2</td>\n",
       "      <td>11425.2</td>\n",
       "      <td>11925.2</td>\n",
       "    </tr>\n",
       "    <tr>\n",
       "      <th>7</th>\n",
       "      <td>Ghetto</td>\n",
       "      <td>8896</td>\n",
       "      <td>9785.6</td>\n",
       "      <td>10035.6</td>\n",
       "      <td>5337.6</td>\n",
       "      <td>5837.6</td>\n",
       "    </tr>\n",
       "    <tr>\n",
       "      <th>8</th>\n",
       "      <td>Suburb</td>\n",
       "      <td>18420</td>\n",
       "      <td>20262.0</td>\n",
       "      <td>20512.0</td>\n",
       "      <td>11052.0</td>\n",
       "      <td>11552.0</td>\n",
       "    </tr>\n",
       "    <tr>\n",
       "      <th>9</th>\n",
       "      <td>Suburb</td>\n",
       "      <td>15762</td>\n",
       "      <td>17338.2</td>\n",
       "      <td>17588.2</td>\n",
       "      <td>9457.2</td>\n",
       "      <td>9957.2</td>\n",
       "    </tr>\n",
       "  </tbody>\n",
       "</table>\n",
       "</div>"
      ],
      "text/plain": [
       "     Rent Range  Available Houses  Adjusted Rent  Rent + Garbage  \\\n",
       "0        Suburb             18799        20678.9         20928.9   \n",
       "1  Middle Class             11450        12595.0         12845.0   \n",
       "2        Ghetto              8645         9509.5          9759.5   \n",
       "3        Suburb             19491        21440.1         21690.1   \n",
       "4        Ghetto              8610         9471.0          9721.0   \n",
       "5        Suburb             18825        20707.5         20957.5   \n",
       "6        Suburb             19042        20946.2         21196.2   \n",
       "7        Ghetto              8896         9785.6         10035.6   \n",
       "8        Suburb             18420        20262.0         20512.0   \n",
       "9        Suburb             15762        17338.2         17588.2   \n",
       "\n",
       "   Government Rates  Goverment & Service  \n",
       "0           11279.4              11779.4  \n",
       "1            6870.0               7370.0  \n",
       "2            5187.0               5687.0  \n",
       "3           11694.6              12194.6  \n",
       "4            5166.0               5666.0  \n",
       "5           11295.0              11795.0  \n",
       "6           11425.2              11925.2  \n",
       "7            5337.6               5837.6  \n",
       "8           11052.0              11552.0  \n",
       "9            9457.2               9957.2  "
      ]
     },
     "execution_count": 34,
     "metadata": {},
     "output_type": "execute_result"
    }
   ],
   "source": [
    "Moringa_Property.head(10)"
   ]
  },
  {
   "cell_type": "code",
   "execution_count": 35,
   "metadata": {},
   "outputs": [
    {
     "data": {
      "text/html": [
       "<div>\n",
       "<style scoped>\n",
       "    .dataframe tbody tr th:only-of-type {\n",
       "        vertical-align: middle;\n",
       "    }\n",
       "\n",
       "    .dataframe tbody tr th {\n",
       "        vertical-align: top;\n",
       "    }\n",
       "\n",
       "    .dataframe thead th {\n",
       "        text-align: right;\n",
       "    }\n",
       "</style>\n",
       "<table border=\"1\" class=\"dataframe\">\n",
       "  <thead>\n",
       "    <tr style=\"text-align: right;\">\n",
       "      <th></th>\n",
       "      <th>Rent Range</th>\n",
       "      <th>Available Houses</th>\n",
       "      <th>Adjusted Rent</th>\n",
       "      <th>Rent + Garbage</th>\n",
       "      <th>Government Rates</th>\n",
       "      <th>Goverment &amp; Service</th>\n",
       "    </tr>\n",
       "  </thead>\n",
       "  <tbody>\n",
       "    <tr>\n",
       "      <th>110</th>\n",
       "      <td>Middle Class</td>\n",
       "      <td>13986</td>\n",
       "      <td>15384.6</td>\n",
       "      <td>15634.6</td>\n",
       "      <td>8391.6</td>\n",
       "      <td>8891.6</td>\n",
       "    </tr>\n",
       "    <tr>\n",
       "      <th>111</th>\n",
       "      <td>Middle Class</td>\n",
       "      <td>10877</td>\n",
       "      <td>11964.7</td>\n",
       "      <td>12214.7</td>\n",
       "      <td>6526.2</td>\n",
       "      <td>7026.2</td>\n",
       "    </tr>\n",
       "    <tr>\n",
       "      <th>112</th>\n",
       "      <td>Suburb</td>\n",
       "      <td>18806</td>\n",
       "      <td>20686.6</td>\n",
       "      <td>20936.6</td>\n",
       "      <td>11283.6</td>\n",
       "      <td>11783.6</td>\n",
       "    </tr>\n",
       "    <tr>\n",
       "      <th>113</th>\n",
       "      <td>Suburb</td>\n",
       "      <td>19769</td>\n",
       "      <td>21745.9</td>\n",
       "      <td>21995.9</td>\n",
       "      <td>11861.4</td>\n",
       "      <td>12361.4</td>\n",
       "    </tr>\n",
       "    <tr>\n",
       "      <th>114</th>\n",
       "      <td>Middle Class</td>\n",
       "      <td>12529</td>\n",
       "      <td>13781.9</td>\n",
       "      <td>14031.9</td>\n",
       "      <td>7517.4</td>\n",
       "      <td>8017.4</td>\n",
       "    </tr>\n",
       "    <tr>\n",
       "      <th>115</th>\n",
       "      <td>Suburb</td>\n",
       "      <td>19227</td>\n",
       "      <td>21149.7</td>\n",
       "      <td>21399.7</td>\n",
       "      <td>11536.2</td>\n",
       "      <td>12036.2</td>\n",
       "    </tr>\n",
       "    <tr>\n",
       "      <th>116</th>\n",
       "      <td>Ghetto</td>\n",
       "      <td>7775</td>\n",
       "      <td>8552.5</td>\n",
       "      <td>8802.5</td>\n",
       "      <td>4665.0</td>\n",
       "      <td>5165.0</td>\n",
       "    </tr>\n",
       "    <tr>\n",
       "      <th>117</th>\n",
       "      <td>Middle Class</td>\n",
       "      <td>10395</td>\n",
       "      <td>11434.5</td>\n",
       "      <td>11684.5</td>\n",
       "      <td>6237.0</td>\n",
       "      <td>6737.0</td>\n",
       "    </tr>\n",
       "    <tr>\n",
       "      <th>118</th>\n",
       "      <td>Ghetto</td>\n",
       "      <td>5190</td>\n",
       "      <td>5709.0</td>\n",
       "      <td>5959.0</td>\n",
       "      <td>3114.0</td>\n",
       "      <td>3614.0</td>\n",
       "    </tr>\n",
       "    <tr>\n",
       "      <th>119</th>\n",
       "      <td>Suburb</td>\n",
       "      <td>16638</td>\n",
       "      <td>18301.8</td>\n",
       "      <td>18551.8</td>\n",
       "      <td>9982.8</td>\n",
       "      <td>10482.8</td>\n",
       "    </tr>\n",
       "  </tbody>\n",
       "</table>\n",
       "</div>"
      ],
      "text/plain": [
       "       Rent Range  Available Houses  Adjusted Rent  Rent + Garbage  \\\n",
       "110  Middle Class             13986        15384.6         15634.6   \n",
       "111  Middle Class             10877        11964.7         12214.7   \n",
       "112        Suburb             18806        20686.6         20936.6   \n",
       "113        Suburb             19769        21745.9         21995.9   \n",
       "114  Middle Class             12529        13781.9         14031.9   \n",
       "115        Suburb             19227        21149.7         21399.7   \n",
       "116        Ghetto              7775         8552.5          8802.5   \n",
       "117  Middle Class             10395        11434.5         11684.5   \n",
       "118        Ghetto              5190         5709.0          5959.0   \n",
       "119        Suburb             16638        18301.8         18551.8   \n",
       "\n",
       "     Government Rates  Goverment & Service  \n",
       "110            8391.6               8891.6  \n",
       "111            6526.2               7026.2  \n",
       "112           11283.6              11783.6  \n",
       "113           11861.4              12361.4  \n",
       "114            7517.4               8017.4  \n",
       "115           11536.2              12036.2  \n",
       "116            4665.0               5165.0  \n",
       "117            6237.0               6737.0  \n",
       "118            3114.0               3614.0  \n",
       "119            9982.8              10482.8  "
      ]
     },
     "execution_count": 35,
     "metadata": {},
     "output_type": "execute_result"
    }
   ],
   "source": [
    "Moringa_Property.tail(10)"
   ]
  },
  {
   "cell_type": "code",
   "execution_count": null,
   "metadata": {},
   "outputs": [],
   "source": []
  }
 ],
 "metadata": {
  "kernelspec": {
   "display_name": "Python 3 (ipykernel)",
   "language": "python",
   "name": "python3"
  },
  "language_info": {
   "codemirror_mode": {
    "name": "ipython",
    "version": 3
   },
   "file_extension": ".py",
   "mimetype": "text/x-python",
   "name": "python",
   "nbconvert_exporter": "python",
   "pygments_lexer": "ipython3",
   "version": "3.11.3"
  }
 },
 "nbformat": 4,
 "nbformat_minor": 4
}
