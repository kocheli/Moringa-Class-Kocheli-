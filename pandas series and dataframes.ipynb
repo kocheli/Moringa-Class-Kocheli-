{
 "cells": [
  {
   "cell_type": "markdown",
   "metadata": {},
   "source": [
    "# Introduction to Pandas Series and DataFrames"
   ]
  },
  {
   "cell_type": "markdown",
   "metadata": {},
   "source": [
    "## Objectives"
   ]
  },
  {
   "cell_type": "markdown",
   "metadata": {},
   "source": [
    "* Understand Pandas Series and DataFrames\n",
    "* Creating Series and DataFrames\n",
    "* Basic Operations with Series \n",
    "* Exploring DataFrame Basics\n",
    "* Selecting Data from DataFrames\n",
    "* Applying Functions to Series and DataFrames"
   ]
  },
  {
   "cell_type": "markdown",
   "metadata": {},
   "source": [
    "## Loading Libraries"
   ]
  },
  {
   "cell_type": "code",
   "execution_count": 44,
   "metadata": {
    "tags": []
   },
   "outputs": [],
   "source": [
    "# numpys - for arithmetic operations and high-level mathematical functions to operate on arrays\n",
    "import numpy as np\n",
    "# pandas - for working with relational or labeled data\n",
    "import pandas as pd"
   ]
  },
  {
   "cell_type": "markdown",
   "metadata": {},
   "source": [
    "## What is a Pandas Series?"
   ]
  },
  {
   "cell_type": "markdown",
   "metadata": {},
   "source": [
    "* **One-Dimensional** labeled Array capable of holding data on any type such as *intergers*, *string*, *float*, *python objects* etc.\n",
    "* A `pandas series` is like a `column` in a table.\n"
   ]
  },
  {
   "cell_type": "markdown",
   "metadata": {},
   "source": [
    "### Key features of a Pandas Series"
   ]
  },
  {
   "cell_type": "markdown",
   "metadata": {},
   "source": [
    "* **Homogeneous Data**: A Series Holds Data of a single data type(integer, float, string etc), ensuring homogeneity within the Series.\n",
    "* **Labeled Index**: Each element in a Series is associated with a label called an *index*. Having unique labels is a common practice, though not strictly required. The labels just need to be hashable types, ie they need to be used as keys in a dictionary. This index allows for easy and efficient data retrieval and manipulation.\n",
    "* **Vectorized Operations**: - Series support vectorized operations, ie you can apply operations to the entire series without the need for explicit loops.\n",
    "* **Alignment of Data**: - When performing operations on a Series, Pandas automatically aligns data based on index labels, which simplifies data manipulation.\n",
    "* **Creation**: - Can be created from a List, NumpyArrays, Dictionary, DataFrame slice and other data sources. "
   ]
  },
  {
   "cell_type": "code",
   "execution_count": 3,
   "metadata": {
    "tags": []
   },
   "outputs": [
    {
     "data": {
      "text/plain": [
       "0    10\n",
       "1    40\n",
       "2    50\n",
       "3    23\n",
       "4    19\n",
       "5    45\n",
       "dtype: int64"
      ]
     },
     "execution_count": 3,
     "metadata": {},
     "output_type": "execute_result"
    }
   ],
   "source": [
    "# example of a series from a list \n",
    "marks = [10, 40, 50, 23, 19, 45]\n",
    "\n",
    "# series\n",
    "marks_series = pd.Series(marks)\n",
    "marks_series"
   ]
  },
  {
   "cell_type": "markdown",
   "metadata": {},
   "source": [
    "## Creating and Displaying"
   ]
  },
  {
   "cell_type": "code",
   "execution_count": 4,
   "metadata": {
    "tags": []
   },
   "outputs": [],
   "source": [
    "# example 1 - creating a series from a list\n",
    "data = [22.5, 44.5, 45.5, 9.9, 8.1]\n",
    "\n",
    "# series\n",
    "list_series = pd.Series(data, name=\"Student Marks\")"
   ]
  },
  {
   "cell_type": "code",
   "execution_count": 5,
   "metadata": {
    "tags": []
   },
   "outputs": [
    {
     "data": {
      "text/plain": [
       "0    22.5\n",
       "1    44.5\n",
       "2    45.5\n",
       "3     9.9\n",
       "4     8.1\n",
       "Name: Student Marks, dtype: float64"
      ]
     },
     "execution_count": 5,
     "metadata": {},
     "output_type": "execute_result"
    }
   ],
   "source": [
    "list_series"
   ]
  },
  {
   "cell_type": "code",
   "execution_count": 9,
   "metadata": {
    "tags": []
   },
   "outputs": [
    {
     "data": {
      "text/plain": [
       "numpy.ndarray"
      ]
     },
     "execution_count": 9,
     "metadata": {},
     "output_type": "execute_result"
    }
   ],
   "source": [
    "# example 2 - creating a series from a NumPy Array\n",
    "data_arr = np.array(data) # created and array from a list\n",
    "\n",
    "type(data_arr)"
   ]
  },
  {
   "cell_type": "code",
   "execution_count": 10,
   "metadata": {
    "tags": []
   },
   "outputs": [
    {
     "data": {
      "text/plain": [
       "0    22.5\n",
       "1    44.5\n",
       "2    45.5\n",
       "3     9.9\n",
       "4     8.1\n",
       "Name: Arrays Series, dtype: float64"
      ]
     },
     "execution_count": 10,
     "metadata": {},
     "output_type": "execute_result"
    }
   ],
   "source": [
    "# series from array\n",
    "arr_series = pd.Series(data_arr, name=\"Arrays Series\")\n",
    "arr_series"
   ]
  },
  {
   "cell_type": "code",
   "execution_count": 11,
   "metadata": {
    "tags": []
   },
   "outputs": [
    {
     "data": {
      "text/plain": [
       "dict"
      ]
     },
     "execution_count": 11,
     "metadata": {},
     "output_type": "execute_result"
    }
   ],
   "source": [
    "# examples 3 - Series from dictionary\n",
    "data_dict = {\n",
    "    \"Tusker\" : 220,\n",
    "    \"Balozi\" : 250,\n",
    "    \"Malt\" : 300,\n",
    "    \"Smirnoff\": 330,\n",
    "    \"Tots\" : 150\n",
    "}\n",
    "\n",
    "type(data_dict)"
   ]
  },
  {
   "cell_type": "code",
   "execution_count": 14,
   "metadata": {
    "tags": []
   },
   "outputs": [
    {
     "data": {
      "text/plain": [
       "Tusker      220\n",
       "Balozi      250\n",
       "Malt        300\n",
       "Smirnoff    330\n",
       "Tots        150\n",
       "Name: Beer Price, dtype: int64"
      ]
     },
     "execution_count": 14,
     "metadata": {},
     "output_type": "execute_result"
    }
   ],
   "source": [
    "dict_series = pd.Series(data_dict, name =\"Beer Price\")\n",
    "dict_series"
   ]
  },
  {
   "cell_type": "code",
   "execution_count": 45,
   "metadata": {
    "tags": []
   },
   "outputs": [
    {
     "data": {
      "text/plain": [
       "300"
      ]
     },
     "execution_count": 45,
     "metadata": {},
     "output_type": "execute_result"
    }
   ],
   "source": [
    "dict_series[\"Malt\"]"
   ]
  },
  {
   "cell_type": "code",
   "execution_count": 18,
   "metadata": {
    "tags": []
   },
   "outputs": [
    {
     "data": {
      "text/plain": [
       "A    1000\n",
       "B    1500\n",
       "C    2000\n",
       "D    4000\n",
       "E    8000\n",
       "Name: Balances, dtype: int64"
      ]
     },
     "execution_count": 18,
     "metadata": {},
     "output_type": "execute_result"
    }
   ],
   "source": [
    "# series with custom index labels\n",
    "type(list_series)\n",
    "balance = [1000, 1500, 2000, 4000, 8000] # data to store in the series\n",
    "custom_label = ['A', 'B', 'C', 'D', 'E'] # custome indexes\n",
    "\n",
    "custom_label_series = pd.Series(data= balance, index= custom_label, name = \"Balances\")\n",
    "custom_label_series"
   ]
  },
  {
   "cell_type": "markdown",
   "metadata": {},
   "source": [
    "## Basic Operations With Series"
   ]
  },
  {
   "cell_type": "code",
   "execution_count": 20,
   "metadata": {
    "tags": []
   },
   "outputs": [
    {
     "data": {
      "text/plain": [
       "Tusker      220\n",
       "Balozi      250\n",
       "Malt        300\n",
       "Smirnoff    330\n",
       "Tots        150\n",
       "Name: Beer Price, dtype: int64"
      ]
     },
     "execution_count": 20,
     "metadata": {},
     "output_type": "execute_result"
    }
   ],
   "source": [
    "dict_series"
   ]
  },
  {
   "cell_type": "code",
   "execution_count": 21,
   "metadata": {
    "tags": []
   },
   "outputs": [
    {
     "name": "stdout",
     "output_type": "stream",
     "text": [
      "330\n"
     ]
    }
   ],
   "source": [
    "print(dict_series[3])"
   ]
  },
  {
   "cell_type": "code",
   "execution_count": 22,
   "metadata": {
    "tags": []
   },
   "outputs": [
    {
     "data": {
      "text/plain": [
       "A    1000\n",
       "B    1500\n",
       "C    2000\n",
       "D    4000\n",
       "E    8000\n",
       "Name: Balances, dtype: int64"
      ]
     },
     "execution_count": 22,
     "metadata": {},
     "output_type": "execute_result"
    }
   ],
   "source": [
    "custom_label_series"
   ]
  },
  {
   "cell_type": "code",
   "execution_count": 23,
   "metadata": {
    "tags": []
   },
   "outputs": [
    {
     "name": "stdout",
     "output_type": "stream",
     "text": [
      "2000\n"
     ]
    }
   ],
   "source": [
    "print(custom_label_series[\"C\"])"
   ]
  },
  {
   "cell_type": "code",
   "execution_count": 48,
   "metadata": {
    "tags": []
   },
   "outputs": [
    {
     "name": "stdout",
     "output_type": "stream",
     "text": [
      "A    1000\n",
      "B    1500\n",
      "C    2000\n",
      "D    4000\n",
      "Name: Balances, dtype: int64\n"
     ]
    }
   ],
   "source": [
    "print(custom_label_series[\"A\":\"D\"])"
   ]
  },
  {
   "cell_type": "code",
   "execution_count": 26,
   "metadata": {
    "tags": []
   },
   "outputs": [
    {
     "data": {
      "text/plain": [
       "A    10.0\n",
       "B    15.0\n",
       "C    20.0\n",
       "D    40.0\n",
       "E    80.0\n",
       "Name: Balances, dtype: float64"
      ]
     },
     "execution_count": 26,
     "metadata": {},
     "output_type": "execute_result"
    }
   ],
   "source": [
    "# Arithmetic calculation\n",
    "# convert balances to percentage\n",
    "percent = custom_label_series/ 100\n",
    "percent"
   ]
  },
  {
   "cell_type": "code",
   "execution_count": 27,
   "metadata": {
    "tags": []
   },
   "outputs": [],
   "source": [
    "# filtering element\n",
    "# values above X\n",
    "x_filter = percent[percent >= 20]"
   ]
  },
  {
   "cell_type": "code",
   "execution_count": 28,
   "metadata": {
    "tags": []
   },
   "outputs": [
    {
     "data": {
      "text/plain": [
       "C    20.0\n",
       "D    40.0\n",
       "E    80.0\n",
       "Name: Balances, dtype: float64"
      ]
     },
     "execution_count": 28,
     "metadata": {},
     "output_type": "execute_result"
    }
   ],
   "source": [
    "x_filter"
   ]
  },
  {
   "cell_type": "code",
   "execution_count": 31,
   "metadata": {
    "tags": []
   },
   "outputs": [
    {
     "data": {
      "text/plain": [
       "A    10.0\n",
       "B    15.0\n",
       "C    20.0\n",
       "D    40.0\n",
       "E    80.0\n",
       "Name: Balances, dtype: float64"
      ]
     },
     "execution_count": 31,
     "metadata": {},
     "output_type": "execute_result"
    }
   ],
   "source": [
    "percent"
   ]
  },
  {
   "cell_type": "code",
   "execution_count": 32,
   "metadata": {
    "tags": []
   },
   "outputs": [
    {
     "data": {
      "text/plain": [
       "33.0"
      ]
     },
     "execution_count": 32,
     "metadata": {},
     "output_type": "execute_result"
    }
   ],
   "source": [
    "# mean\n",
    "mean = percent.mean()\n",
    "mean"
   ]
  },
  {
   "cell_type": "code",
   "execution_count": 34,
   "metadata": {
    "tags": []
   },
   "outputs": [
    {
     "data": {
      "text/plain": [
       "28.635642126552707"
      ]
     },
     "execution_count": 34,
     "metadata": {},
     "output_type": "execute_result"
    }
   ],
   "source": [
    "# std\n",
    "std = percent.std()\n",
    "std"
   ]
  },
  {
   "cell_type": "code",
   "execution_count": 36,
   "metadata": {
    "tags": []
   },
   "outputs": [
    {
     "data": {
      "text/plain": [
       "80.0"
      ]
     },
     "execution_count": 36,
     "metadata": {},
     "output_type": "execute_result"
    }
   ],
   "source": [
    "# max\n",
    "max = percent.max()\n",
    "max"
   ]
  },
  {
   "cell_type": "code",
   "execution_count": 39,
   "metadata": {
    "tags": []
   },
   "outputs": [
    {
     "data": {
      "text/plain": [
       "20.0"
      ]
     },
     "execution_count": 39,
     "metadata": {},
     "output_type": "execute_result"
    }
   ],
   "source": [
    "# median\n",
    "median = percent.median()\n",
    "median"
   ]
  },
  {
   "cell_type": "code",
   "execution_count": 41,
   "metadata": {
    "tags": []
   },
   "outputs": [],
   "source": [
    "# mode\n",
    "mode = percent.mode()"
   ]
  },
  {
   "cell_type": "code",
   "execution_count": 43,
   "metadata": {
    "tags": []
   },
   "outputs": [
    {
     "data": {
      "text/plain": [
       "165.0"
      ]
     },
     "execution_count": 43,
     "metadata": {},
     "output_type": "execute_result"
    }
   ],
   "source": [
    "# summation\n",
    "summation = percent.sum()\n",
    "summation"
   ]
  },
  {
   "cell_type": "markdown",
   "metadata": {},
   "source": [
    "## Applying Functions to a Series "
   ]
  },
  {
   "cell_type": "markdown",
   "metadata": {},
   "source": [
    "### Lambda Functions"
   ]
  },
  {
   "cell_type": "markdown",
   "metadata": {},
   "source": [
    "* Small anonymous function that is not bound to an identifier.\n",
    "* Similar to user defined functions but without a name.\n",
    "* It's simple and straightfoward, requiring only the argument(s) and expression, alongside the keyword `lambda`.\n",
    "* They require only one line of code.\n",
    "\n",
    "```\n",
    "def func_name(parameters):\n",
    "    code block\n",
    "    \n",
    "    return return_value\n",
    "```\n",
    "\n",
    "`func = lamda parameters: return_value`\n",
    "\n",
    "* `lambda` : Keyword that indicates definition of a lambda function.\n",
    "* `parameters`: The input parameters that the lambda function will take.\n",
    "* `return_value`: A single expression that defines the compuation the lambda function performs and its return value"
   ]
  },
  {
   "cell_type": "code",
   "execution_count": 51,
   "metadata": {
    "tags": []
   },
   "outputs": [
    {
     "data": {
      "text/plain": [
       "100"
      ]
     },
     "execution_count": 51,
     "metadata": {},
     "output_type": "execute_result"
    }
   ],
   "source": [
    "# lets compare the two\n",
    "def square(x):\n",
    "    #function to square numbers\n",
    "    out = x ** 2\n",
    "    \n",
    "    return out\n",
    "\n",
    "square(10)"
   ]
  },
  {
   "cell_type": "code",
   "execution_count": 53,
   "metadata": {
    "tags": []
   },
   "outputs": [
    {
     "data": {
      "text/plain": [
       "100"
      ]
     },
     "execution_count": 53,
     "metadata": {},
     "output_type": "execute_result"
    }
   ],
   "source": [
    "# lamda function\n",
    "square_lamda = lambda x: x ** 2\n",
    "square_lamda(10)"
   ]
  },
  {
   "cell_type": "code",
   "execution_count": 56,
   "metadata": {
    "tags": []
   },
   "outputs": [
    {
     "data": {
      "text/plain": [
       "'Hello world'"
      ]
     },
     "execution_count": 56,
     "metadata": {},
     "output_type": "execute_result"
    }
   ],
   "source": [
    "def print_hello():\n",
    "    y = \"Hello world\"\n",
    "    \n",
    "    return y\n",
    "\n",
    "print_hello()"
   ]
  },
  {
   "cell_type": "code",
   "execution_count": 57,
   "metadata": {
    "tags": []
   },
   "outputs": [
    {
     "data": {
      "text/plain": [
       "'Hello World'"
      ]
     },
     "execution_count": 57,
     "metadata": {},
     "output_type": "execute_result"
    }
   ],
   "source": [
    "# lambda function to print hello world\n",
    "message = lambda : \"Hello World\"\n",
    "\n",
    "message()"
   ]
  },
  {
   "cell_type": "code",
   "execution_count": 60,
   "metadata": {
    "tags": []
   },
   "outputs": [
    {
     "data": {
      "text/plain": [
       "'Even'"
      ]
     },
     "execution_count": 60,
     "metadata": {},
     "output_type": "execute_result"
    }
   ],
   "source": [
    "def even_odd(number: int):\n",
    "    \"\"\" check if a number is even or odd \"\"\"\n",
    "    if (number% 2 == 0):\n",
    "        return 'Even'\n",
    "    else:\n",
    "        return 'Odd'\n",
    "    \n",
    "even_odd(78)"
   ]
  },
  {
   "cell_type": "code",
   "execution_count": 64,
   "metadata": {
    "tags": []
   },
   "outputs": [
    {
     "data": {
      "text/plain": [
       "'Odd'"
      ]
     },
     "execution_count": 64,
     "metadata": {},
     "output_type": "execute_result"
    }
   ],
   "source": [
    "even_lamda = lambda number: \"Even\" if (number % 2 == 0) else \"Odd\"\n",
    "even_lamda(55)"
   ]
  },
  {
   "cell_type": "markdown",
   "metadata": {},
   "source": [
    "### Generate Random Numbers"
   ]
  },
  {
   "cell_type": "markdown",
   "metadata": {},
   "source": [
    "* Using `NumPy` library to generate random Numbers."
   ]
  },
  {
   "cell_type": "code",
   "execution_count": 74,
   "metadata": {
    "tags": []
   },
   "outputs": [],
   "source": [
    "# generate random numbers \n",
    "random_numbers = np.random.randint(3, 99, size=120)"
   ]
  },
  {
   "cell_type": "code",
   "execution_count": 81,
   "metadata": {
    "tags": []
   },
   "outputs": [
    {
     "data": {
      "text/plain": [
       "array([52, 98, 87, 93, 92, 22, 84, 70, 35, 67, 28, 54, 54, 93, 63, 90,  4,\n",
       "       98, 72, 34, 55, 45, 31, 40, 12, 18, 17, 37, 90, 25, 13, 45, 96, 61,\n",
       "       55, 43, 13, 91, 33, 32, 42, 45, 72, 61, 30, 30,  9, 33, 98, 62, 70,\n",
       "       82, 86, 14, 35, 41, 63, 16, 89, 63, 62, 87, 26, 66, 59, 38, 50, 56,\n",
       "       58, 62, 24, 75, 98, 66, 46, 28, 86, 19, 41, 70, 46, 48, 73, 60, 68,\n",
       "       72, 67, 67, 87, 73, 79, 50, 64, 89, 48, 68, 33, 82, 51, 69, 24, 61,\n",
       "       41, 95, 74, 38, 53, 11, 90, 89, 73, 52, 77,  4, 40, 89, 10, 66, 82,\n",
       "       35])"
      ]
     },
     "execution_count": 81,
     "metadata": {},
     "output_type": "execute_result"
    }
   ],
   "source": [
    "# display random numbers \n",
    "random_numbers"
   ]
  },
  {
   "cell_type": "code",
   "execution_count": 76,
   "metadata": {
    "tags": []
   },
   "outputs": [
    {
     "data": {
      "text/plain": [
       "numpy.ndarray"
      ]
     },
     "execution_count": 76,
     "metadata": {},
     "output_type": "execute_result"
    }
   ],
   "source": [
    "type(random_numbers)"
   ]
  },
  {
   "cell_type": "code",
   "execution_count": null,
   "metadata": {},
   "outputs": [],
   "source": []
  },
  {
   "cell_type": "code",
   "execution_count": 79,
   "metadata": {
    "tags": []
   },
   "outputs": [
    {
     "data": {
      "text/plain": [
       "0      52\n",
       "1      98\n",
       "2      87\n",
       "3      93\n",
       "4      92\n",
       "       ..\n",
       "115    89\n",
       "116    10\n",
       "117    66\n",
       "118    82\n",
       "119    35\n",
       "Name: Numbers, Length: 120, dtype: int32"
      ]
     },
     "execution_count": 79,
     "metadata": {},
     "output_type": "execute_result"
    }
   ],
   "source": [
    "# create a series \n",
    "numbers = pd.Series(random_numbers, name= \"Numbers\")\n",
    "numbers"
   ]
  },
  {
   "cell_type": "code",
   "execution_count": 80,
   "metadata": {
    "tags": []
   },
   "outputs": [
    {
     "data": {
      "text/plain": [
       "0    52\n",
       "1    98\n",
       "2    87\n",
       "3    93\n",
       "4    92\n",
       "Name: Numbers, dtype: int32"
      ]
     },
     "execution_count": 80,
     "metadata": {},
     "output_type": "execute_result"
    }
   ],
   "source": [
    "# display the first five rows of the series\n",
    "numbers.head()"
   ]
  },
  {
   "cell_type": "code",
   "execution_count": 84,
   "metadata": {
    "tags": []
   },
   "outputs": [
    {
     "data": {
      "text/plain": [
       "0    52\n",
       "1    98\n",
       "2    87\n",
       "Name: Numbers, dtype: int32"
      ]
     },
     "execution_count": 84,
     "metadata": {},
     "output_type": "execute_result"
    }
   ],
   "source": [
    "numbers.head(3)"
   ]
  },
  {
   "cell_type": "code",
   "execution_count": 83,
   "metadata": {
    "tags": []
   },
   "outputs": [
    {
     "data": {
      "text/plain": [
       "115    89\n",
       "116    10\n",
       "117    66\n",
       "118    82\n",
       "119    35\n",
       "Name: Numbers, dtype: int32"
      ]
     },
     "execution_count": 83,
     "metadata": {},
     "output_type": "execute_result"
    }
   ],
   "source": [
    "# display last five rows\n",
    "numbers.tail()"
   ]
  },
  {
   "cell_type": "code",
   "execution_count": 85,
   "metadata": {
    "tags": []
   },
   "outputs": [
    {
     "data": {
      "text/plain": [
       "117    66\n",
       "118    82\n",
       "119    35\n",
       "Name: Numbers, dtype: int32"
      ]
     },
     "execution_count": 85,
     "metadata": {},
     "output_type": "execute_result"
    }
   ],
   "source": [
    "numbers.tail(3)"
   ]
  },
  {
   "cell_type": "markdown",
   "metadata": {},
   "source": [
    "### Using the `apply()` Function in a Series\n",
    "\n",
    "* It's a powerful way to transform and analyze the data within the series.\n",
    "* Above we have generate a series of random numbers, and created a function called `square` that takes in an int, squares it and return the value. Lets apply that function to the series."
   ]
  },
  {
   "cell_type": "code",
   "execution_count": 86,
   "metadata": {
    "tags": []
   },
   "outputs": [
    {
     "data": {
      "text/plain": [
       "16"
      ]
     },
     "execution_count": 86,
     "metadata": {},
     "output_type": "execute_result"
    }
   ],
   "source": [
    "# square the series random numbers \n",
    "square(4)"
   ]
  },
  {
   "cell_type": "code",
   "execution_count": 87,
   "metadata": {
    "tags": []
   },
   "outputs": [
    {
     "data": {
      "text/plain": [
       "0      2704\n",
       "1      9604\n",
       "2      7569\n",
       "3      8649\n",
       "4      8464\n",
       "       ... \n",
       "115    7921\n",
       "116     100\n",
       "117    4356\n",
       "118    6724\n",
       "119    1225\n",
       "Name: Numbers, Length: 120, dtype: int64"
      ]
     },
     "execution_count": 87,
     "metadata": {},
     "output_type": "execute_result"
    }
   ],
   "source": [
    "# square the series random number\n",
    "squared_numbers = numbers.apply(square)\n",
    "squared_numbers"
   ]
  },
  {
   "cell_type": "code",
   "execution_count": 91,
   "metadata": {
    "tags": []
   },
   "outputs": [
    {
     "data": {
      "text/plain": [
       "0      2704\n",
       "1      9604\n",
       "2      7569\n",
       "3      8649\n",
       "4      8464\n",
       "       ... \n",
       "115    7921\n",
       "116     100\n",
       "117    4356\n",
       "118    6724\n",
       "119    1225\n",
       "Name: Squared Numbers, Length: 120, dtype: int64"
      ]
     },
     "execution_count": 91,
     "metadata": {},
     "output_type": "execute_result"
    }
   ],
   "source": [
    "# use .rename to rename the series\n",
    "squared_numbers.rename(\"Squared Numbers\", inplace=True) # inplace = True makes the changes permanent accross the program"
   ]
  },
  {
   "cell_type": "code",
   "execution_count": 89,
   "metadata": {
    "tags": []
   },
   "outputs": [
    {
     "data": {
      "text/plain": [
       "0    2704\n",
       "1    9604\n",
       "2    7569\n",
       "3    8649\n",
       "4    8464\n",
       "Name: Squared Numbers, dtype: int64"
      ]
     },
     "execution_count": 89,
     "metadata": {},
     "output_type": "execute_result"
    }
   ],
   "source": [
    "squared_numbers.head()"
   ]
  },
  {
   "cell_type": "markdown",
   "metadata": {},
   "source": [
    "### `lambda` function with `apply()`"
   ]
  },
  {
   "cell_type": "code",
   "execution_count": 92,
   "metadata": {
    "tags": []
   },
   "outputs": [],
   "source": [
    "# Cube the numbers using lambda and apply\n",
    "cubed_numbers = numbers.apply(lambda j: j **3)"
   ]
  },
  {
   "cell_type": "code",
   "execution_count": 93,
   "metadata": {
    "tags": []
   },
   "outputs": [
    {
     "data": {
      "text/plain": [
       "0    140608\n",
       "1    941192\n",
       "2    658503\n",
       "Name: Numbers, dtype: int64"
      ]
     },
     "execution_count": 93,
     "metadata": {},
     "output_type": "execute_result"
    }
   ],
   "source": [
    "cubed_numbers.head(3)"
   ]
  },
  {
   "cell_type": "code",
   "execution_count": 94,
   "metadata": {
    "tags": []
   },
   "outputs": [
    {
     "data": {
      "text/plain": [
       "0      140608\n",
       "1      941192\n",
       "2      658503\n",
       "3      804357\n",
       "4      778688\n",
       "        ...  \n",
       "115    704969\n",
       "116      1000\n",
       "117    287496\n",
       "118    551368\n",
       "119     42875\n",
       "Name: Cubed Numbers, Length: 120, dtype: int64"
      ]
     },
     "execution_count": 94,
     "metadata": {},
     "output_type": "execute_result"
    }
   ],
   "source": [
    "# rename the series\n",
    "cubed_numbers.rename(\"Cubed Numbers\", inplace=True)"
   ]
  },
  {
   "cell_type": "code",
   "execution_count": 95,
   "metadata": {
    "tags": []
   },
   "outputs": [
    {
     "data": {
      "text/plain": [
       "0    140608\n",
       "1    941192\n",
       "2    658503\n",
       "3    804357\n",
       "4    778688\n",
       "Name: Cubed Numbers, dtype: int64"
      ]
     },
     "execution_count": 95,
     "metadata": {},
     "output_type": "execute_result"
    }
   ],
   "source": [
    "cubed_numbers.head()"
   ]
  },
  {
   "cell_type": "markdown",
   "metadata": {},
   "source": [
    "### Using the `map()` Function in a series"
   ]
  },
  {
   "cell_type": "markdown",
   "metadata": {},
   "source": [
    "* Used to substitute each value in a Series with another value creating a convenient way to transform the values in a Series."
   ]
  },
  {
   "cell_type": "code",
   "execution_count": 96,
   "metadata": {
    "tags": []
   },
   "outputs": [
    {
     "data": {
      "text/plain": [
       "'Underweight'"
      ]
     },
     "execution_count": 96,
     "metadata": {},
     "output_type": "execute_result"
    }
   ],
   "source": [
    "def bmi_value(x):\n",
    "    if x <= 43:\n",
    "        return \"Underweight\"\n",
    "    else:\n",
    "        return \"Overweight\"\n",
    "    \n",
    "bmi_value(30)"
   ]
  },
  {
   "cell_type": "code",
   "execution_count": 97,
   "metadata": {
    "tags": []
   },
   "outputs": [
    {
     "data": {
      "text/plain": [
       "0     Overweight\n",
       "1     Overweight\n",
       "2     Overweight\n",
       "3     Overweight\n",
       "4     Overweight\n",
       "5    Underweight\n",
       "6     Overweight\n",
       "7     Overweight\n",
       "8    Underweight\n",
       "9     Overweight\n",
       "Name: BMI Series, dtype: object"
      ]
     },
     "execution_count": 97,
     "metadata": {},
     "output_type": "execute_result"
    }
   ],
   "source": [
    "# map our random numbers as underweight or overweight\n",
    "bmi_series = numbers.map(bmi_value)\n",
    "bmi_series.rename(\"BMI Series\", inplace=True)\n",
    "bmi_series.head(10)"
   ]
  },
  {
   "cell_type": "markdown",
   "metadata": {},
   "source": [
    "### `lambda` function with `map()`"
   ]
  },
  {
   "cell_type": "code",
   "execution_count": 99,
   "metadata": {
    "tags": []
   },
   "outputs": [
    {
     "data": {
      "text/plain": [
       "0    104\n",
       "1    196\n",
       "2    174\n",
       "3    186\n",
       "4    184\n",
       "Name: Doubled Numbers, dtype: int64"
      ]
     },
     "execution_count": 99,
     "metadata": {},
     "output_type": "execute_result"
    }
   ],
   "source": [
    "# use lamda function with map() to double each number\n",
    "double_number = numbers.map(lambda t: t* 2)\n",
    "double_number.rename(\"Doubled Numbers\", inplace=True)\n",
    "double_number.head(5)"
   ]
  },
  {
   "cell_type": "markdown",
   "metadata": {},
   "source": [
    "### `lamda` function with Conditional Statement"
   ]
  },
  {
   "cell_type": "code",
   "execution_count": 102,
   "metadata": {
    "tags": []
   },
   "outputs": [
    {
     "data": {
      "text/plain": [
       "115     Odd\n",
       "116    Even\n",
       "117    Even\n",
       "118    Even\n",
       "119     Odd\n",
       "Name: Even Odd Series, dtype: object"
      ]
     },
     "execution_count": 102,
     "metadata": {},
     "output_type": "execute_result"
    }
   ],
   "source": [
    "# are the random numbers even or odd\n",
    "even_odd_series = numbers.apply(lambda k: 'Even' if (k % 2 == 0) else 'Odd')\n",
    "even_odd_series.rename(\"Even Odd Series\", inplace=True)\n",
    "even_odd_series.tail(5)"
   ]
  },
  {
   "cell_type": "markdown",
   "metadata": {},
   "source": [
    "## Series to DataFrame "
   ]
  },
  {
   "cell_type": "markdown",
   "metadata": {},
   "source": [
    "* `if` a **Series** is a *table* with a single column, `elif` a **DataFrame** is a *table* with two or more columns."
   ]
  },
  {
   "cell_type": "code",
   "execution_count": 103,
   "metadata": {
    "tags": []
   },
   "outputs": [
    {
     "name": "stdout",
     "output_type": "stream",
     "text": [
      "Numbers\n",
      "Doubled Numbers\n"
     ]
    }
   ],
   "source": [
    "# lets convert all the series we created into a dataframe\n",
    "print(numbers.name)\n",
    "print(double_number.name)"
   ]
  },
  {
   "cell_type": "code",
   "execution_count": 108,
   "metadata": {
    "tags": []
   },
   "outputs": [
    {
     "data": {
      "text/html": [
       "<div>\n",
       "<style scoped>\n",
       "    .dataframe tbody tr th:only-of-type {\n",
       "        vertical-align: middle;\n",
       "    }\n",
       "\n",
       "    .dataframe tbody tr th {\n",
       "        vertical-align: top;\n",
       "    }\n",
       "\n",
       "    .dataframe thead th {\n",
       "        text-align: right;\n",
       "    }\n",
       "</style>\n",
       "<table border=\"1\" class=\"dataframe\">\n",
       "  <thead>\n",
       "    <tr style=\"text-align: right;\">\n",
       "      <th></th>\n",
       "      <th>Numbers</th>\n",
       "      <th>Doubled Numbers</th>\n",
       "      <th>Squared Numbers</th>\n",
       "      <th>Cubed Numbers</th>\n",
       "      <th>BMI Series</th>\n",
       "      <th>Even Odd Series</th>\n",
       "    </tr>\n",
       "  </thead>\n",
       "  <tbody>\n",
       "    <tr>\n",
       "      <th>115</th>\n",
       "      <td>89</td>\n",
       "      <td>178</td>\n",
       "      <td>7921</td>\n",
       "      <td>704969</td>\n",
       "      <td>Overweight</td>\n",
       "      <td>Odd</td>\n",
       "    </tr>\n",
       "    <tr>\n",
       "      <th>116</th>\n",
       "      <td>10</td>\n",
       "      <td>20</td>\n",
       "      <td>100</td>\n",
       "      <td>1000</td>\n",
       "      <td>Underweight</td>\n",
       "      <td>Even</td>\n",
       "    </tr>\n",
       "    <tr>\n",
       "      <th>117</th>\n",
       "      <td>66</td>\n",
       "      <td>132</td>\n",
       "      <td>4356</td>\n",
       "      <td>287496</td>\n",
       "      <td>Overweight</td>\n",
       "      <td>Even</td>\n",
       "    </tr>\n",
       "    <tr>\n",
       "      <th>118</th>\n",
       "      <td>82</td>\n",
       "      <td>164</td>\n",
       "      <td>6724</td>\n",
       "      <td>551368</td>\n",
       "      <td>Overweight</td>\n",
       "      <td>Even</td>\n",
       "    </tr>\n",
       "    <tr>\n",
       "      <th>119</th>\n",
       "      <td>35</td>\n",
       "      <td>70</td>\n",
       "      <td>1225</td>\n",
       "      <td>42875</td>\n",
       "      <td>Underweight</td>\n",
       "      <td>Odd</td>\n",
       "    </tr>\n",
       "  </tbody>\n",
       "</table>\n",
       "</div>"
      ],
      "text/plain": [
       "     Numbers  Doubled Numbers  Squared Numbers  Cubed Numbers   BMI Series  \\\n",
       "115       89              178             7921         704969   Overweight   \n",
       "116       10               20              100           1000  Underweight   \n",
       "117       66              132             4356         287496   Overweight   \n",
       "118       82              164             6724         551368   Overweight   \n",
       "119       35               70             1225          42875  Underweight   \n",
       "\n",
       "    Even Odd Series  \n",
       "115             Odd  \n",
       "116            Even  \n",
       "117            Even  \n",
       "118            Even  \n",
       "119             Odd  "
      ]
     },
     "execution_count": 108,
     "metadata": {},
     "output_type": "execute_result"
    }
   ],
   "source": [
    "test_df = pd.DataFrame({\n",
    "    numbers.name : numbers,\n",
    "    double_number.name : double_number,\n",
    "    squared_numbers.name : squared_numbers,\n",
    "    cubed_numbers.name : cubed_numbers,\n",
    "    bmi_series.name : bmi_series,\n",
    "    even_odd_series.name : even_odd_series\n",
    "})\n",
    "\n",
    "test_df.tail()"
   ]
  },
  {
   "cell_type": "markdown",
   "metadata": {},
   "source": [
    "## Knock Yourself Out!"
   ]
  },
  {
   "cell_type": "markdown",
   "metadata": {},
   "source": [
    "You work as a real estate agent at *MoringaHome Realty*. To assist your clients in making informed decisions about property investment, you decide to analyze property data using Pandas. \n",
    "1. Generate 120 random numbers between  Ksh 4000 and Ksh 20,000 using numpy to represent the prices of the houses. \n",
    "2. Display the first and last 7 houses.\n",
    "3. Create a function that will take in the price of the house and return the category of that house, eg Suburb. The category is of your own series.\n",
    "4. Apply the function created above to the series.\n",
    "6. Apply a lambda function to increase the property prices by 10% due to the new tax laws.\n",
    "7. Apply a custom function to increase the property prices by and additional Ksh 250 for garbage. \n",
    "8. Create a new Series for each step and Finally Combine them all into a DataFrame name 'Moringa_property'."
   ]
  },
  {
   "cell_type": "code",
   "execution_count": 124,
   "metadata": {
    "tags": []
   },
   "outputs": [
    {
     "data": {
      "text/plain": [
       "array([18728, 10450,  9844, 13198, 19895, 17322,  9746, 18903, 12157,\n",
       "       17933,  7959, 11459, 16648, 11628,  6145, 19359, 13916,  7372,\n",
       "       14715, 11882,  4183,  6148, 10571,  5425,  5664,  4914,  5280,\n",
       "       11301, 18855, 16619,  8044, 16379, 11307, 11584,  4195, 16648,\n",
       "       14286,  6714, 12467,  7583,  5010,  4753,  5277, 15347, 14445,\n",
       "       11902, 19528, 16001, 18200, 15967, 17147,  5600, 10760, 19426,\n",
       "       10233, 11239, 12901, 18985, 15827,  6685, 15291,  8599, 11687,\n",
       "        6761, 11556,  6103,  6615,  6280,  8688, 17593,  9535, 14008,\n",
       "       12360,  4156, 14935,  6687,  8733, 10806,  4087, 13167,  8261,\n",
       "        9028,  4873, 15812,  4406,  5179,  8497, 11235, 16013, 19240,\n",
       "       12572, 18055,  4631, 12185, 14401, 12549, 15019, 12197, 16032,\n",
       "       18073, 13951, 11469,  6965, 15640,  6128, 19667, 11006, 14953,\n",
       "       11745, 16183, 13223, 16183, 15708, 12906,  6094, 18686,  6502,\n",
       "       19377, 18543, 13006])"
      ]
     },
     "execution_count": 124,
     "metadata": {},
     "output_type": "execute_result"
    }
   ],
   "source": [
    "# Generate 120 random numbers between Ksh 4000 and Ksh 20,000 using numpy to represent the prices of the houses.\n",
    "rand_houses = np.random.randint(4000, 20000, 120)\n",
    "rand_houses"
   ]
  },
  {
   "cell_type": "code",
   "execution_count": 125,
   "metadata": {
    "tags": []
   },
   "outputs": [
    {
     "data": {
      "text/plain": [
       "0      18728\n",
       "1      10450\n",
       "2       9844\n",
       "3      13198\n",
       "4      19895\n",
       "       ...  \n",
       "115    18686\n",
       "116     6502\n",
       "117    19377\n",
       "118    18543\n",
       "119    13006\n",
       "Name: Available Houses, Length: 120, dtype: int32"
      ]
     },
     "execution_count": 125,
     "metadata": {},
     "output_type": "execute_result"
    }
   ],
   "source": [
    "available_houses = pd.Series(rand_houses, name=\"Available Houses\")\n",
    "available_houses"
   ]
  },
  {
   "cell_type": "code",
   "execution_count": 126,
   "metadata": {
    "tags": []
   },
   "outputs": [
    {
     "data": {
      "text/plain": [
       "0    18728\n",
       "1    10450\n",
       "2     9844\n",
       "3    13198\n",
       "4    19895\n",
       "5    17322\n",
       "6     9746\n",
       "Name: Available Houses, dtype: int32"
      ]
     },
     "execution_count": 126,
     "metadata": {},
     "output_type": "execute_result"
    }
   ],
   "source": [
    "# Display the first and last 7 houses.\n",
    "available_houses.head(7)"
   ]
  },
  {
   "cell_type": "code",
   "execution_count": 170,
   "metadata": {
    "tags": []
   },
   "outputs": [],
   "source": [
    "# Create a function that will take in the price of the house and return the category of that house, eg Suburb. The category is of your own series.\n",
    "def rent_value(x):\n",
    "    if x <= 25000:\n",
    "        return \"Middle Class\"\n",
    "    elif x > 25000 and x <=40000:\n",
    "        return \"Suburb\"\n",
    "    else:\n",
    "        return \"House not Available\"\n",
    "\n",
    "# rent_value = available_houses.apply(lambda x: 'Suburb' if (x >= 30000) else 'Middle Class')\n",
    "    "
   ]
  },
  {
   "cell_type": "code",
   "execution_count": 171,
   "metadata": {
    "tags": []
   },
   "outputs": [],
   "source": [
    "# Apply the function created above to the series.\n",
    "rent_series = available_houses.map(rent_value)"
   ]
  },
  {
   "cell_type": "code",
   "execution_count": 172,
   "metadata": {
    "tags": []
   },
   "outputs": [
    {
     "data": {
      "text/plain": [
       "0    Middle Class\n",
       "1    Middle Class\n",
       "2    Middle Class\n",
       "3    Middle Class\n",
       "4    Middle Class\n",
       "5    Middle Class\n",
       "6    Middle Class\n",
       "Name: Rent Range, dtype: object"
      ]
     },
     "execution_count": 172,
     "metadata": {},
     "output_type": "execute_result"
    }
   ],
   "source": [
    "rent_series.rename(\"Rent Range\", inplace=True)\n",
    "rent_series.head(7)"
   ]
  },
  {
   "cell_type": "code",
   "execution_count": 173,
   "metadata": {
    "tags": []
   },
   "outputs": [
    {
     "data": {
      "text/plain": [
       "0      20600.8\n",
       "1      11495.0\n",
       "2      10828.4\n",
       "3      14517.8\n",
       "4      21884.5\n",
       "        ...   \n",
       "115    20554.6\n",
       "116     7152.2\n",
       "117    21314.7\n",
       "118    20397.3\n",
       "119    14306.6\n",
       "Name: Adjusted Rent, Length: 120, dtype: float64"
      ]
     },
     "execution_count": 173,
     "metadata": {},
     "output_type": "execute_result"
    }
   ],
   "source": [
    "# Apply a lambda function to increase the property prices by 10% due to the new tax laws.\n",
    "new_rent = available_houses.apply(lambda r: r * 1.1)\n",
    "new_rent.rename(\"Adjusted Rent\", inplace = True)"
   ]
  },
  {
   "cell_type": "code",
   "execution_count": 174,
   "metadata": {
    "tags": []
   },
   "outputs": [
    {
     "data": {
      "text/plain": [
       "0    20600.8\n",
       "1    11495.0\n",
       "2    10828.4\n",
       "3    14517.8\n",
       "4    21884.5\n",
       "5    19054.2\n",
       "6    10720.6\n",
       "7    20793.3\n",
       "8    13372.7\n",
       "9    19726.3\n",
       "Name: Adjusted Rent, dtype: float64"
      ]
     },
     "execution_count": 174,
     "metadata": {},
     "output_type": "execute_result"
    }
   ],
   "source": [
    "new_rent.head(10)"
   ]
  },
  {
   "cell_type": "code",
   "execution_count": 175,
   "metadata": {
    "tags": []
   },
   "outputs": [],
   "source": [
    "# Apply a custom function to increase the property prices by and additional Ksh 250 for garbage.\n",
    "def garbage_fee(available_houses):\n",
    "    return available_houses + 250"
   ]
  },
  {
   "cell_type": "code",
   "execution_count": 176,
   "metadata": {
    "tags": []
   },
   "outputs": [
    {
     "data": {
      "text/plain": [
       "0    20850.8\n",
       "1    11745.0\n",
       "2    11078.4\n",
       "3    14767.8\n",
       "4    22134.5\n",
       "5    19304.2\n",
       "6    10970.6\n",
       "Name: Rent + Garbage, dtype: float64"
      ]
     },
     "execution_count": 176,
     "metadata": {},
     "output_type": "execute_result"
    }
   ],
   "source": [
    "garbage_series = new_rent.map(garbage_fee)\n",
    "garbage_series.rename(\"Rent + Garbage\", inplace=True)\n",
    "garbage_series.head(7)"
   ]
  },
  {
   "cell_type": "code",
   "execution_count": 177,
   "metadata": {
    "tags": []
   },
   "outputs": [
    {
     "data": {
      "text/plain": [
       "110     7933.8\n",
       "111     9709.8\n",
       "112     9424.8\n",
       "113     7743.6\n",
       "114     3656.4\n",
       "115    11211.6\n",
       "116     3901.2\n",
       "117    11626.2\n",
       "118    11125.8\n",
       "119     7803.6\n",
       "Name: Government Rates, dtype: float64"
      ]
     },
     "execution_count": 177,
     "metadata": {},
     "output_type": "execute_result"
    }
   ],
   "source": [
    "# Create a new Series for each step and Finally Combine them all into a DataFrame name 'Moringa_property'.\n",
    "# Government intervention\n",
    "gov_rent = available_houses.apply(lambda k: k * 0.6)\n",
    "gov_rent.rename(\"Government Rates\", inplace=True)\n",
    "gov_rent.tail(10)"
   ]
  },
  {
   "cell_type": "code",
   "execution_count": 178,
   "metadata": {
    "tags": []
   },
   "outputs": [],
   "source": [
    "# Service charge of Kes. 500 introduced\n",
    "def serv_charge(gov_rent):\n",
    "    return gov_rent + 500"
   ]
  },
  {
   "cell_type": "code",
   "execution_count": 179,
   "metadata": {
    "tags": []
   },
   "outputs": [
    {
     "data": {
      "text/plain": [
       "110     8433.8\n",
       "111    10209.8\n",
       "112     9924.8\n",
       "113     8243.6\n",
       "114     4156.4\n",
       "115    11711.6\n",
       "116     4401.2\n",
       "117    12126.2\n",
       "118    11625.8\n",
       "119     8303.6\n",
       "Name: Goverment & Service, dtype: float64"
      ]
     },
     "execution_count": 179,
     "metadata": {},
     "output_type": "execute_result"
    }
   ],
   "source": [
    "serv_rent = gov_rent.map(serv_charge)\n",
    "serv_rent.rename(\"Goverment & Service\", inplace= True)\n",
    "serv_rent.tail(10)"
   ]
  },
  {
   "cell_type": "code",
   "execution_count": 180,
   "metadata": {
    "tags": []
   },
   "outputs": [],
   "source": [
    "Moringa_Property = pd.DataFrame({\n",
    "    rent_series.name : rent_series,\n",
    "    available_houses.name : available_houses,\n",
    "    new_rent.name : new_rent,\n",
    "    garbage_series.name : garbage_series,\n",
    "    gov_rent.name : gov_rent,\n",
    "    serv_rent.name : serv_rent\n",
    "})"
   ]
  },
  {
   "cell_type": "code",
   "execution_count": 185,
   "metadata": {
    "tags": []
   },
   "outputs": [
    {
     "data": {
      "text/html": [
       "<div>\n",
       "<style scoped>\n",
       "    .dataframe tbody tr th:only-of-type {\n",
       "        vertical-align: middle;\n",
       "    }\n",
       "\n",
       "    .dataframe tbody tr th {\n",
       "        vertical-align: top;\n",
       "    }\n",
       "\n",
       "    .dataframe thead th {\n",
       "        text-align: right;\n",
       "    }\n",
       "</style>\n",
       "<table border=\"1\" class=\"dataframe\">\n",
       "  <thead>\n",
       "    <tr style=\"text-align: right;\">\n",
       "      <th></th>\n",
       "      <th>Rent Range</th>\n",
       "      <th>Available Houses</th>\n",
       "      <th>Adjusted Rent</th>\n",
       "      <th>Rent + Garbage</th>\n",
       "      <th>Government Rates</th>\n",
       "      <th>Goverment &amp; Service</th>\n",
       "    </tr>\n",
       "  </thead>\n",
       "  <tbody>\n",
       "    <tr>\n",
       "      <th>0</th>\n",
       "      <td>Middle Class</td>\n",
       "      <td>18728</td>\n",
       "      <td>20600.8</td>\n",
       "      <td>20850.8</td>\n",
       "      <td>11236.8</td>\n",
       "      <td>11736.8</td>\n",
       "    </tr>\n",
       "    <tr>\n",
       "      <th>1</th>\n",
       "      <td>Middle Class</td>\n",
       "      <td>10450</td>\n",
       "      <td>11495.0</td>\n",
       "      <td>11745.0</td>\n",
       "      <td>6270.0</td>\n",
       "      <td>6770.0</td>\n",
       "    </tr>\n",
       "    <tr>\n",
       "      <th>2</th>\n",
       "      <td>Middle Class</td>\n",
       "      <td>9844</td>\n",
       "      <td>10828.4</td>\n",
       "      <td>11078.4</td>\n",
       "      <td>5906.4</td>\n",
       "      <td>6406.4</td>\n",
       "    </tr>\n",
       "    <tr>\n",
       "      <th>3</th>\n",
       "      <td>Middle Class</td>\n",
       "      <td>13198</td>\n",
       "      <td>14517.8</td>\n",
       "      <td>14767.8</td>\n",
       "      <td>7918.8</td>\n",
       "      <td>8418.8</td>\n",
       "    </tr>\n",
       "    <tr>\n",
       "      <th>4</th>\n",
       "      <td>Middle Class</td>\n",
       "      <td>19895</td>\n",
       "      <td>21884.5</td>\n",
       "      <td>22134.5</td>\n",
       "      <td>11937.0</td>\n",
       "      <td>12437.0</td>\n",
       "    </tr>\n",
       "    <tr>\n",
       "      <th>5</th>\n",
       "      <td>Middle Class</td>\n",
       "      <td>17322</td>\n",
       "      <td>19054.2</td>\n",
       "      <td>19304.2</td>\n",
       "      <td>10393.2</td>\n",
       "      <td>10893.2</td>\n",
       "    </tr>\n",
       "    <tr>\n",
       "      <th>6</th>\n",
       "      <td>Middle Class</td>\n",
       "      <td>9746</td>\n",
       "      <td>10720.6</td>\n",
       "      <td>10970.6</td>\n",
       "      <td>5847.6</td>\n",
       "      <td>6347.6</td>\n",
       "    </tr>\n",
       "    <tr>\n",
       "      <th>7</th>\n",
       "      <td>Middle Class</td>\n",
       "      <td>18903</td>\n",
       "      <td>20793.3</td>\n",
       "      <td>21043.3</td>\n",
       "      <td>11341.8</td>\n",
       "      <td>11841.8</td>\n",
       "    </tr>\n",
       "    <tr>\n",
       "      <th>8</th>\n",
       "      <td>Middle Class</td>\n",
       "      <td>12157</td>\n",
       "      <td>13372.7</td>\n",
       "      <td>13622.7</td>\n",
       "      <td>7294.2</td>\n",
       "      <td>7794.2</td>\n",
       "    </tr>\n",
       "    <tr>\n",
       "      <th>9</th>\n",
       "      <td>Middle Class</td>\n",
       "      <td>17933</td>\n",
       "      <td>19726.3</td>\n",
       "      <td>19976.3</td>\n",
       "      <td>10759.8</td>\n",
       "      <td>11259.8</td>\n",
       "    </tr>\n",
       "  </tbody>\n",
       "</table>\n",
       "</div>"
      ],
      "text/plain": [
       "     Rent Range  Available Houses  Adjusted Rent  Rent + Garbage  \\\n",
       "0  Middle Class             18728        20600.8         20850.8   \n",
       "1  Middle Class             10450        11495.0         11745.0   \n",
       "2  Middle Class              9844        10828.4         11078.4   \n",
       "3  Middle Class             13198        14517.8         14767.8   \n",
       "4  Middle Class             19895        21884.5         22134.5   \n",
       "5  Middle Class             17322        19054.2         19304.2   \n",
       "6  Middle Class              9746        10720.6         10970.6   \n",
       "7  Middle Class             18903        20793.3         21043.3   \n",
       "8  Middle Class             12157        13372.7         13622.7   \n",
       "9  Middle Class             17933        19726.3         19976.3   \n",
       "\n",
       "   Government Rates  Goverment & Service  \n",
       "0           11236.8              11736.8  \n",
       "1            6270.0               6770.0  \n",
       "2            5906.4               6406.4  \n",
       "3            7918.8               8418.8  \n",
       "4           11937.0              12437.0  \n",
       "5           10393.2              10893.2  \n",
       "6            5847.6               6347.6  \n",
       "7           11341.8              11841.8  \n",
       "8            7294.2               7794.2  \n",
       "9           10759.8              11259.8  "
      ]
     },
     "execution_count": 185,
     "metadata": {},
     "output_type": "execute_result"
    }
   ],
   "source": [
    "Moringa_Property.head(10)"
   ]
  },
  {
   "cell_type": "code",
   "execution_count": null,
   "metadata": {},
   "outputs": [],
   "source": []
  }
 ],
 "metadata": {
  "kernelspec": {
   "display_name": "Python 3 (ipykernel)",
   "language": "python",
   "name": "python3"
  },
  "language_info": {
   "codemirror_mode": {
    "name": "ipython",
    "version": 3
   },
   "file_extension": ".py",
   "mimetype": "text/x-python",
   "name": "python",
   "nbconvert_exporter": "python",
   "pygments_lexer": "ipython3",
   "version": "3.11.3"
  }
 },
 "nbformat": 4,
 "nbformat_minor": 4
}
